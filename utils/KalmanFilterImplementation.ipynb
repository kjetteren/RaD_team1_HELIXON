{
 "cells": [
  {
   "cell_type": "code",
   "id": "5f3ad70c-b885-4074-9866-defa67f2c51a",
   "metadata": {
    "ExecuteTime": {
     "end_time": "2024-11-18T11:49:21.536744Z",
     "start_time": "2024-11-18T11:49:20.890840Z"
    }
   },
   "source": [
    "import numpy as np\n",
    "import pandas as pd\n",
    "from utils.kalman import KalmanFilter, position_kf, orientation_kf, congruence_transformation"
   ],
   "outputs": [],
   "execution_count": 1
  },
  {
   "metadata": {},
   "cell_type": "markdown",
   "source": "### Construction of the original spiral",
   "id": "4c605709e509523e"
  },
  {
   "cell_type": "code",
   "id": "ffbfdd8d-33fb-415a-a8ce-fe6315f7282a",
   "metadata": {
    "ExecuteTime": {
     "end_time": "2024-11-18T11:49:21.548338Z",
     "start_time": "2024-11-18T11:49:21.540567Z"
    }
   },
   "source": [
    "R = 4.125    # Radius of the spiral (8.25 meter diameter, so radius = 4.125 meters)\n",
    "N = 3.30     # Number of turns\n",
    "H = 13       # Total height (13 meters)\n",
    "T = 1300     # Number of steps (adjustable)\n",
    "\n",
    "# Calculate the spiral points\n",
    "original_spiral = np.array([[-R * np.cos(i * (2 * np.pi * N) / T),  R * np.sin(i * (2 * np.pi * N) / T), (i / T) * H] for i in range(T)])"
   ],
   "outputs": [],
   "execution_count": 2
  },
  {
   "metadata": {},
   "cell_type": "markdown",
   "source": "### Data Upload",
   "id": "746054f9161a2022"
  },
  {
   "cell_type": "code",
   "id": "3707d68c-3f13-4260-baa7-e9f6eef9b512",
   "metadata": {
    "ExecuteTime": {
     "end_time": "2024-11-18T11:49:21.644020Z",
     "start_time": "2024-11-18T11:49:21.606599Z"
    }
   },
   "source": [
    "df = pd.read_csv(\"sensor_data.csv\")\n",
    "df[\"v_x\"] = df[\"omega_x\"]*R\n",
    "df[\"v_y\"] = df[\"omega_y\"]*R\n",
    "df[\"v_z\"] = df[\"omega_z\"]*R\n",
    "df[\"a_x\"] -= df[\"g_x\"]\n",
    "df[\"a_y\"] -= df[\"g_y\"]\n",
    "df[\"a_z\"] -= df[\"g_z\"]\n",
    "df.describe()"
   ],
   "outputs": [
    {
     "data": {
      "text/plain": [
       "               a_x          a_y          a_z          m_x          m_y  \\\n",
       "count  2249.000000  2249.000000  2249.000000  2249.000000  2249.000000   \n",
       "mean     -0.309586    -0.340934    -0.011699     7.683553     8.306203   \n",
       "std       0.657379     0.864585     1.479193    13.114934    14.594034   \n",
       "min      -2.780000    -5.050000    -6.180000   -26.690000   -24.000000   \n",
       "25%      -0.720000    -0.830000    -1.130000    -1.870000    -5.000000   \n",
       "50%      -0.260000    -0.300000    -0.230000    10.500000    10.190000   \n",
       "75%       0.150000     0.190000     1.000000    18.000000    21.370000   \n",
       "max       2.070000     3.030000     8.210000    40.250000    35.190000   \n",
       "\n",
       "               m_z      omega_x      omega_y      omega_z          g_x  \\\n",
       "count  2249.000000  2249.000000  2249.000000  2249.000000  2249.000000   \n",
       "mean    -42.345780     0.178559     1.721120    -8.249311    -0.607443   \n",
       "std       7.405968    23.946769    18.391705    16.056425     0.690841   \n",
       "min     -57.560000  -428.810000  -167.690000  -148.940000    -4.820000   \n",
       "25%     -47.500000    -8.940000    -6.310000   -16.870000    -0.960000   \n",
       "50%     -43.750000     0.750000     2.620000    -8.310000    -0.660000   \n",
       "75%     -37.380000    10.440000    10.810000     0.130000    -0.330000   \n",
       "max     -17.000000   356.440000   171.370000   156.310000     1.600000   \n",
       "\n",
       "               g_y          g_z       Pressure  Temperature          v_x  \\\n",
       "count  2249.000000  2249.000000    2249.000000  2249.000000  2249.000000   \n",
       "mean     -2.130280     9.494522  102719.547750    22.556621     0.736557   \n",
       "std       0.685081     0.215468      51.203239     0.373446    98.780421   \n",
       "min      -6.270000     6.720000  102630.020000    21.960000 -1768.841250   \n",
       "25%      -2.590000     9.390000  102674.150000    22.250000   -36.877500   \n",
       "50%      -2.040000     9.550000  102720.770000    22.510000     3.093750   \n",
       "75%      -1.620000     9.640000  102763.120000    22.840000    43.065000   \n",
       "max      -0.050000     9.770000  102805.970000    23.270000  1470.315000   \n",
       "\n",
       "               v_y          v_z  \n",
       "count  2249.000000  2249.000000  \n",
       "mean      7.099622   -34.028407  \n",
       "std      75.865784    66.232755  \n",
       "min    -691.721250  -614.377500  \n",
       "25%     -26.028750   -69.588750  \n",
       "50%      10.807500   -34.278750  \n",
       "75%      44.591250     0.536250  \n",
       "max     706.901250   644.778750  "
      ],
      "text/html": [
       "<div>\n",
       "<style scoped>\n",
       "    .dataframe tbody tr th:only-of-type {\n",
       "        vertical-align: middle;\n",
       "    }\n",
       "\n",
       "    .dataframe tbody tr th {\n",
       "        vertical-align: top;\n",
       "    }\n",
       "\n",
       "    .dataframe thead th {\n",
       "        text-align: right;\n",
       "    }\n",
       "</style>\n",
       "<table border=\"1\" class=\"dataframe\">\n",
       "  <thead>\n",
       "    <tr style=\"text-align: right;\">\n",
       "      <th></th>\n",
       "      <th>a_x</th>\n",
       "      <th>a_y</th>\n",
       "      <th>a_z</th>\n",
       "      <th>m_x</th>\n",
       "      <th>m_y</th>\n",
       "      <th>m_z</th>\n",
       "      <th>omega_x</th>\n",
       "      <th>omega_y</th>\n",
       "      <th>omega_z</th>\n",
       "      <th>g_x</th>\n",
       "      <th>g_y</th>\n",
       "      <th>g_z</th>\n",
       "      <th>Pressure</th>\n",
       "      <th>Temperature</th>\n",
       "      <th>v_x</th>\n",
       "      <th>v_y</th>\n",
       "      <th>v_z</th>\n",
       "    </tr>\n",
       "  </thead>\n",
       "  <tbody>\n",
       "    <tr>\n",
       "      <th>count</th>\n",
       "      <td>2249.000000</td>\n",
       "      <td>2249.000000</td>\n",
       "      <td>2249.000000</td>\n",
       "      <td>2249.000000</td>\n",
       "      <td>2249.000000</td>\n",
       "      <td>2249.000000</td>\n",
       "      <td>2249.000000</td>\n",
       "      <td>2249.000000</td>\n",
       "      <td>2249.000000</td>\n",
       "      <td>2249.000000</td>\n",
       "      <td>2249.000000</td>\n",
       "      <td>2249.000000</td>\n",
       "      <td>2249.000000</td>\n",
       "      <td>2249.000000</td>\n",
       "      <td>2249.000000</td>\n",
       "      <td>2249.000000</td>\n",
       "      <td>2249.000000</td>\n",
       "    </tr>\n",
       "    <tr>\n",
       "      <th>mean</th>\n",
       "      <td>-0.309586</td>\n",
       "      <td>-0.340934</td>\n",
       "      <td>-0.011699</td>\n",
       "      <td>7.683553</td>\n",
       "      <td>8.306203</td>\n",
       "      <td>-42.345780</td>\n",
       "      <td>0.178559</td>\n",
       "      <td>1.721120</td>\n",
       "      <td>-8.249311</td>\n",
       "      <td>-0.607443</td>\n",
       "      <td>-2.130280</td>\n",
       "      <td>9.494522</td>\n",
       "      <td>102719.547750</td>\n",
       "      <td>22.556621</td>\n",
       "      <td>0.736557</td>\n",
       "      <td>7.099622</td>\n",
       "      <td>-34.028407</td>\n",
       "    </tr>\n",
       "    <tr>\n",
       "      <th>std</th>\n",
       "      <td>0.657379</td>\n",
       "      <td>0.864585</td>\n",
       "      <td>1.479193</td>\n",
       "      <td>13.114934</td>\n",
       "      <td>14.594034</td>\n",
       "      <td>7.405968</td>\n",
       "      <td>23.946769</td>\n",
       "      <td>18.391705</td>\n",
       "      <td>16.056425</td>\n",
       "      <td>0.690841</td>\n",
       "      <td>0.685081</td>\n",
       "      <td>0.215468</td>\n",
       "      <td>51.203239</td>\n",
       "      <td>0.373446</td>\n",
       "      <td>98.780421</td>\n",
       "      <td>75.865784</td>\n",
       "      <td>66.232755</td>\n",
       "    </tr>\n",
       "    <tr>\n",
       "      <th>min</th>\n",
       "      <td>-2.780000</td>\n",
       "      <td>-5.050000</td>\n",
       "      <td>-6.180000</td>\n",
       "      <td>-26.690000</td>\n",
       "      <td>-24.000000</td>\n",
       "      <td>-57.560000</td>\n",
       "      <td>-428.810000</td>\n",
       "      <td>-167.690000</td>\n",
       "      <td>-148.940000</td>\n",
       "      <td>-4.820000</td>\n",
       "      <td>-6.270000</td>\n",
       "      <td>6.720000</td>\n",
       "      <td>102630.020000</td>\n",
       "      <td>21.960000</td>\n",
       "      <td>-1768.841250</td>\n",
       "      <td>-691.721250</td>\n",
       "      <td>-614.377500</td>\n",
       "    </tr>\n",
       "    <tr>\n",
       "      <th>25%</th>\n",
       "      <td>-0.720000</td>\n",
       "      <td>-0.830000</td>\n",
       "      <td>-1.130000</td>\n",
       "      <td>-1.870000</td>\n",
       "      <td>-5.000000</td>\n",
       "      <td>-47.500000</td>\n",
       "      <td>-8.940000</td>\n",
       "      <td>-6.310000</td>\n",
       "      <td>-16.870000</td>\n",
       "      <td>-0.960000</td>\n",
       "      <td>-2.590000</td>\n",
       "      <td>9.390000</td>\n",
       "      <td>102674.150000</td>\n",
       "      <td>22.250000</td>\n",
       "      <td>-36.877500</td>\n",
       "      <td>-26.028750</td>\n",
       "      <td>-69.588750</td>\n",
       "    </tr>\n",
       "    <tr>\n",
       "      <th>50%</th>\n",
       "      <td>-0.260000</td>\n",
       "      <td>-0.300000</td>\n",
       "      <td>-0.230000</td>\n",
       "      <td>10.500000</td>\n",
       "      <td>10.190000</td>\n",
       "      <td>-43.750000</td>\n",
       "      <td>0.750000</td>\n",
       "      <td>2.620000</td>\n",
       "      <td>-8.310000</td>\n",
       "      <td>-0.660000</td>\n",
       "      <td>-2.040000</td>\n",
       "      <td>9.550000</td>\n",
       "      <td>102720.770000</td>\n",
       "      <td>22.510000</td>\n",
       "      <td>3.093750</td>\n",
       "      <td>10.807500</td>\n",
       "      <td>-34.278750</td>\n",
       "    </tr>\n",
       "    <tr>\n",
       "      <th>75%</th>\n",
       "      <td>0.150000</td>\n",
       "      <td>0.190000</td>\n",
       "      <td>1.000000</td>\n",
       "      <td>18.000000</td>\n",
       "      <td>21.370000</td>\n",
       "      <td>-37.380000</td>\n",
       "      <td>10.440000</td>\n",
       "      <td>10.810000</td>\n",
       "      <td>0.130000</td>\n",
       "      <td>-0.330000</td>\n",
       "      <td>-1.620000</td>\n",
       "      <td>9.640000</td>\n",
       "      <td>102763.120000</td>\n",
       "      <td>22.840000</td>\n",
       "      <td>43.065000</td>\n",
       "      <td>44.591250</td>\n",
       "      <td>0.536250</td>\n",
       "    </tr>\n",
       "    <tr>\n",
       "      <th>max</th>\n",
       "      <td>2.070000</td>\n",
       "      <td>3.030000</td>\n",
       "      <td>8.210000</td>\n",
       "      <td>40.250000</td>\n",
       "      <td>35.190000</td>\n",
       "      <td>-17.000000</td>\n",
       "      <td>356.440000</td>\n",
       "      <td>171.370000</td>\n",
       "      <td>156.310000</td>\n",
       "      <td>1.600000</td>\n",
       "      <td>-0.050000</td>\n",
       "      <td>9.770000</td>\n",
       "      <td>102805.970000</td>\n",
       "      <td>23.270000</td>\n",
       "      <td>1470.315000</td>\n",
       "      <td>706.901250</td>\n",
       "      <td>644.778750</td>\n",
       "    </tr>\n",
       "  </tbody>\n",
       "</table>\n",
       "</div>"
      ]
     },
     "execution_count": 3,
     "metadata": {},
     "output_type": "execute_result"
    }
   ],
   "execution_count": 3
  },
  {
   "metadata": {
    "ExecuteTime": {
     "end_time": "2024-11-18T11:49:21.684672Z",
     "start_time": "2024-11-18T11:49:21.683106Z"
    }
   },
   "cell_type": "code",
   "source": "",
   "id": "324bb524789ba66b",
   "outputs": [],
   "execution_count": null
  },
  {
   "cell_type": "markdown",
   "id": "ac6960a0-b6a4-4f84-8dbd-54476609213a",
   "metadata": {},
   "source": [
    "In the very simple terms, Kalman filter is an optimal estimation algorithm. It is used when we cannot really see or measure something directly. In this very case, we are predicting the somebody's position based on the information on their initial position $(x,y,z)^T$. Based on those we are also measuring $(v_x,v_y,v_z)$.\n",
    "\n",
    "The Kalman filter works in two steps:\n",
    "\n",
    "1. **predict**: during this step we are predicting what is going to be the position at the next sample point\n",
    "2. **update**: compares the estimate from **predict** with the measurement and updates it based on that, also the filter keeps the information on the estimate uncertainty\n",
    "\n",
    "And we basically have a while loop with those.\n",
    "\n",
    "    while(walking):\n",
    "        extimate = predict(next position)\n",
    "        update(estimate)"
   ]
  },
  {
   "cell_type": "markdown",
   "id": "8f318eff-d9ad-4216-a110-208e330aa30d",
   "metadata": {},
   "source": [
    "# define parameters\n",
    "- $\\bf{F}$: state transition matrix ($n\\times n$)\n",
    "- $\\vec{x}$: state vector ($n\\times 1$)\n",
    "- $\\bf{P}$: state covariance matrix ($n\\times n$)\n",
    "- $\\bf{Q}$: process noise covariance matrix ($n\\times n$)\n",
    "- $\\bf{H}$: measurement covariance matrix ($m\\times n$)\n",
    "- $\\vec{z}$: measurement vector ($m\\times 1$)\n",
    "- $\\bf{K}$: Kalman Gain Matrix ($n\\times m$)\n",
    "\n",
    "The state vector is vector of positions and measurements. \n",
    "\n",
    "$$\\vec{x}=\\begin{pmatrix} x&y&z&\\text{orientation}&\\text{azimuth}\\end{pmatrix}^T$$\n",
    "\n",
    "The state transition matrix is a description of how our position changes at each sampling instant. This we take from physics, the classic \n",
    "\n",
    "$$\\begin{cases}x(t)=x_0+v(t)\\cdot t\\\\\n",
    "a(t)=x_0+v(t)\\cdot t + \\frac{1}{2}a(t)\\cdot t^2\\end{cases}$$.\n",
    "\n",
    "The rest is basically covariance matrices that help us use the information about the noise and environment to optimise the filter. They also change in each iteration.\n",
    "\n",
    "IMMEDIATELY I APOLOGIZE FOR USING x,y,z TWICE, I'LL FIGURE SOMETHING OUT\n",
    "ONE USE IS FOR DIRECTIONS, THE OTHER USE IS WITH STATE VECTOR, MEASURED OUTPUT VECTOR, AND INPUT VECTOR"
   ]
  },
  {
   "metadata": {
    "ExecuteTime": {
     "end_time": "2024-11-18T11:49:26.142303Z",
     "start_time": "2024-11-18T11:49:26.108138Z"
    }
   },
   "cell_type": "code",
   "source": [
    "n, m = 3, 1\n",
    "position_x = position_kf(n,m)\n",
    "position_y = position_kf(n,m)\n",
    "position_z = position_kf(n,m)\n",
    "\n",
    "predicted_x, predicted_y, predicted_z = [], [], []\n",
    "measurements_x, measurements_y, measurements_z = df['a_x'], df['a_y'], df['a_z']\n",
    "\n",
    "#for ux, uy, uz in zip(measurements_x, measurements_y, measurements_z):\n",
    "for ux in measurements_x:\n",
    "    # flow: read -> predict -> update -> repeat\n",
    "    position_x.predict(ux, position_x.Q)\n",
    "    position_x.y = position_x.x[:m]\n",
    "    predicted_x.append(position_x.y)\n",
    "    position_x.update(position_x.y, position_x.R)"
   ],
   "id": "d076b671b460e0bb",
   "outputs": [
    {
     "name": "stdout",
     "output_type": "stream",
     "text": [
      "(3, 1) times (3, 3) times (1, 3)\n"
     ]
    },
    {
     "ename": "ValueError",
     "evalue": "shapes (3,1) and (3,3) not aligned: 1 (dim 1) != 3 (dim 0)",
     "output_type": "error",
     "traceback": [
      "\u001B[0;31m---------------------------------------------------------------------------\u001B[0m",
      "\u001B[0;31mValueError\u001B[0m                                Traceback (most recent call last)",
      "Cell \u001B[0;32mIn[5], line 15\u001B[0m\n\u001B[1;32m     13\u001B[0m position_x\u001B[38;5;241m.\u001B[39my \u001B[38;5;241m=\u001B[39m position_x\u001B[38;5;241m.\u001B[39mx[:m]\n\u001B[1;32m     14\u001B[0m predicted_x\u001B[38;5;241m.\u001B[39mappend(position_x\u001B[38;5;241m.\u001B[39my)\n\u001B[0;32m---> 15\u001B[0m position_x\u001B[38;5;241m.\u001B[39mupdate(position_x\u001B[38;5;241m.\u001B[39my, position_x\u001B[38;5;241m.\u001B[39mR)\n",
      "File \u001B[0;32m~/Documents/slajdy/research and development/project/RaD_team1_HELIXON/utils/kalman.py:32\u001B[0m, in \u001B[0;36mKalmanFilter.update\u001B[0;34m(self, y, R)\u001B[0m\n\u001B[1;32m     29\u001B[0m \u001B[38;5;28;01mdef\u001B[39;00m \u001B[38;5;21mupdate\u001B[39m(\u001B[38;5;28mself\u001B[39m,y,R):\n\u001B[1;32m     30\u001B[0m     \u001B[38;5;28mprint\u001B[39m(\u001B[38;5;28mself\u001B[39m\u001B[38;5;241m.\u001B[39m_H\u001B[38;5;241m.\u001B[39mshape,\u001B[38;5;124m\"\u001B[39m\u001B[38;5;124mtimes\u001B[39m\u001B[38;5;124m\"\u001B[39m,\u001B[38;5;28mself\u001B[39m\u001B[38;5;241m.\u001B[39m_P\u001B[38;5;241m.\u001B[39mshape,\u001B[38;5;124m\"\u001B[39m\u001B[38;5;124mtimes\u001B[39m\u001B[38;5;124m\"\u001B[39m,\u001B[38;5;28mself\u001B[39m\u001B[38;5;241m.\u001B[39m_H\u001B[38;5;241m.\u001B[39mT\u001B[38;5;241m.\u001B[39mshape)\n\u001B[1;32m     31\u001B[0m     \u001B[38;5;28mself\u001B[39m\u001B[38;5;241m.\u001B[39m_K \u001B[38;5;241m=\u001B[39m np\u001B[38;5;241m.\u001B[39mdot( np\u001B[38;5;241m.\u001B[39mdot(\u001B[38;5;28mself\u001B[39m\u001B[38;5;241m.\u001B[39m_H\u001B[38;5;241m.\u001B[39mT, \u001B[38;5;28mself\u001B[39m\u001B[38;5;241m.\u001B[39m_P),\n\u001B[0;32m---> 32\u001B[0m                       ( congruence_transformation(\u001B[38;5;28mself\u001B[39m\u001B[38;5;241m.\u001B[39m_H, \u001B[38;5;28mself\u001B[39m\u001B[38;5;241m.\u001B[39m_P) \u001B[38;5;241m+\u001B[39m R))\n\u001B[1;32m     33\u001B[0m     \u001B[38;5;28mself\u001B[39m\u001B[38;5;241m.\u001B[39m_x \u001B[38;5;241m+\u001B[39m\u001B[38;5;241m=\u001B[39m np\u001B[38;5;241m.\u001B[39mdot(\u001B[38;5;28mself\u001B[39m\u001B[38;5;241m.\u001B[39m_K, (y \u001B[38;5;241m-\u001B[39m np\u001B[38;5;241m.\u001B[39mdot(\u001B[38;5;28mself\u001B[39m\u001B[38;5;241m.\u001B[39m_H, \u001B[38;5;28mself\u001B[39m\u001B[38;5;241m.\u001B[39m_x)))\n\u001B[1;32m     34\u001B[0m     \u001B[38;5;28mself\u001B[39m\u001B[38;5;241m.\u001B[39m_P \u001B[38;5;241m=\u001B[39m np\u001B[38;5;241m.\u001B[39mdot( (np\u001B[38;5;241m.\u001B[39meye(\u001B[38;5;28mlen\u001B[39m(\u001B[38;5;28mself\u001B[39m\u001B[38;5;241m.\u001B[39m_P)) \u001B[38;5;241m-\u001B[39m np\u001B[38;5;241m.\u001B[39mdot(\u001B[38;5;28mself\u001B[39m\u001B[38;5;241m.\u001B[39m_K, \u001B[38;5;28mself\u001B[39m\u001B[38;5;241m.\u001B[39m_H)), \u001B[38;5;28mself\u001B[39m\u001B[38;5;241m.\u001B[39m_P)\n",
      "File \u001B[0;32m~/Documents/slajdy/research and development/project/RaD_team1_HELIXON/utils/kalman.py:116\u001B[0m, in \u001B[0;36mcongruence_transformation\u001B[0;34m(A, B)\u001B[0m\n\u001B[1;32m    113\u001B[0m \u001B[38;5;28;01mif\u001B[39;00m A\u001B[38;5;241m.\u001B[39mshape[\u001B[38;5;241m1\u001B[39m] \u001B[38;5;241m!=\u001B[39m B\u001B[38;5;241m.\u001B[39mshape[\u001B[38;5;241m0\u001B[39m] \u001B[38;5;241m!=\u001B[39m B\u001B[38;5;241m.\u001B[39mshape[\u001B[38;5;241m1\u001B[39m]:\n\u001B[1;32m    114\u001B[0m     \u001B[38;5;28;01mraise\u001B[39;00m \u001B[38;5;167;01mValueError\u001B[39;00m(\u001B[38;5;124m\"\u001B[39m\u001B[38;5;124mMatrices in congruence transformation have wrong dimensions.\u001B[39m\u001B[38;5;124m\"\u001B[39m)\n\u001B[0;32m--> 116\u001B[0m intermediate \u001B[38;5;241m=\u001B[39m np\u001B[38;5;241m.\u001B[39mdot(A, B)\n\u001B[1;32m    117\u001B[0m \u001B[38;5;28;01mreturn\u001B[39;00m np\u001B[38;5;241m.\u001B[39mdot(intermediate, A\u001B[38;5;241m.\u001B[39mT)\n",
      "\u001B[0;31mValueError\u001B[0m: shapes (3,1) and (3,3) not aligned: 1 (dim 1) != 3 (dim 0)"
     ]
    }
   ],
   "execution_count": 5
  },
  {
   "metadata": {
    "ExecuteTime": {
     "end_time": "2024-11-18T11:49:22.262425929Z",
     "start_time": "2024-11-18T11:47:55.300669Z"
    }
   },
   "cell_type": "code",
   "source": "print(position_x.R.shape)",
   "id": "171ebeda7a954ed2",
   "outputs": [
    {
     "name": "stdout",
     "output_type": "stream",
     "text": [
      "(1,)\n"
     ]
    }
   ],
   "execution_count": 6
  },
  {
   "metadata": {
    "ExecuteTime": {
     "end_time": "2024-11-18T11:49:22.262846069Z",
     "start_time": "2024-11-18T11:47:27.553559Z"
    }
   },
   "cell_type": "code",
   "source": "print(congruence_transformation(position_x.H, position_x.P))",
   "id": "fab109fbded6965f",
   "outputs": [
    {
     "name": "stdout",
     "output_type": "stream",
     "text": [
      "[[0.0001]]\n"
     ]
    }
   ],
   "execution_count": 5
  },
  {
   "metadata": {},
   "cell_type": "code",
   "outputs": [],
   "execution_count": null,
   "source": "",
   "id": "3a8b67bc1f19afe9"
  }
 ],
 "metadata": {
  "kernelspec": {
   "display_name": "Python 3 (ipykernel)",
   "language": "python",
   "name": "python3"
  },
  "language_info": {
   "codemirror_mode": {
    "name": "ipython",
    "version": 3
   },
   "file_extension": ".py",
   "mimetype": "text/x-python",
   "name": "python",
   "nbconvert_exporter": "python",
   "pygments_lexer": "ipython3",
   "version": "3.10.12"
  }
 },
 "nbformat": 4,
 "nbformat_minor": 5
}
