{
 "cells": [
  {
   "cell_type": "code",
   "id": "5f3ad70c-b885-4074-9866-defa67f2c51a",
   "metadata": {
    "ExecuteTime": {
     "end_time": "2024-11-19T13:16:04.749773Z",
     "start_time": "2024-11-19T13:16:04.404732Z"
    }
   },
   "source": [
    "import numpy as np\n",
    "import pandas as pd\n",
    "import matplotlib.pyplot as plt\n",
    "import filterpy.kalman"
   ],
   "outputs": [],
   "execution_count": 9
  },
  {
   "metadata": {},
   "cell_type": "markdown",
   "source": "### Construction of the original spiral",
   "id": "4c605709e509523e"
  },
  {
   "cell_type": "code",
   "id": "ffbfdd8d-33fb-415a-a8ce-fe6315f7282a",
   "metadata": {
    "ExecuteTime": {
     "end_time": "2024-11-19T13:14:15.823283Z",
     "start_time": "2024-11-19T13:14:15.809031Z"
    }
   },
   "source": [
    "R = 4.125    # Radius of the spiral (8.25 meter diameter, so radius = 4.125 meters)\n",
    "N = 3.30     # Number of turns\n",
    "H = 13       # Total height (13 meters)\n",
    "T = 1300     # Number of steps (adjustable)\n",
    "\n",
    "# Calculate the spiral points\n",
    "original_spiral = np.array([[-R * np.cos(i * (2 * np.pi * N) / T),  R * np.sin(i * (2 * np.pi * N) / T), (i / T) * H] for i in range(T)])"
   ],
   "outputs": [],
   "execution_count": 2
  },
  {
   "metadata": {},
   "cell_type": "markdown",
   "source": "### Data Upload",
   "id": "746054f9161a2022"
  },
  {
   "cell_type": "code",
   "id": "3707d68c-3f13-4260-baa7-e9f6eef9b512",
   "metadata": {
    "ExecuteTime": {
     "end_time": "2024-11-19T13:14:17.588208Z",
     "start_time": "2024-11-19T13:14:17.549044Z"
    }
   },
   "source": [
    "df = pd.read_csv(\"sensor_data.csv\")\n",
    "df[\"v_x\"] = df[\"omega_x\"]*R\n",
    "df[\"v_y\"] = df[\"omega_y\"]*R\n",
    "df[\"v_z\"] = df[\"omega_z\"]*R\n",
    "df.head()"
   ],
   "outputs": [
    {
     "data": {
      "text/plain": [
       "    a_x   a_y   a_z    m_x    m_y    m_z  omega_x  omega_y  omega_z   g_x  \\\n",
       "0 -5.20 -3.31  9.24  21.25  -9.19 -38.38    25.06    15.50   -55.13 -3.49   \n",
       "1 -5.41 -2.49  8.24  22.19  -8.88 -38.69    38.06    25.69   -31.62 -3.59   \n",
       "2 -5.07 -2.36  7.31  23.69  -9.69 -37.88     9.38    -9.00     0.06 -3.65   \n",
       "3 -6.35 -0.48  8.99  24.06 -10.88 -35.88    43.25    15.56    -2.75 -3.66   \n",
       "4 -5.54 -1.84  9.93  25.25 -11.56 -35.88    33.44     1.37    -4.00 -3.61   \n",
       "\n",
       "    g_y   g_z   Pressure  Temperature            Timestamp        v_x  \\\n",
       "0 -2.88  8.69  102804.18        23.27  2024-11-12 16:34:33  103.37250   \n",
       "1 -2.74  8.69  102804.01        23.27  2024-11-12 16:34:33  156.99750   \n",
       "2 -2.42  8.76  102804.00        23.27  2024-11-12 16:34:33   38.69250   \n",
       "3 -2.15  8.83  102804.19        23.27  2024-11-12 16:34:33  178.40625   \n",
       "4 -2.57  8.74  102804.32        23.26  2024-11-12 16:34:33  137.94000   \n",
       "\n",
       "         v_y        v_z  \n",
       "0   63.93750 -227.41125  \n",
       "1  105.97125 -130.43250  \n",
       "2  -37.12500    0.24750  \n",
       "3   64.18500  -11.34375  \n",
       "4    5.65125  -16.50000  "
      ],
      "text/html": [
       "<div>\n",
       "<style scoped>\n",
       "    .dataframe tbody tr th:only-of-type {\n",
       "        vertical-align: middle;\n",
       "    }\n",
       "\n",
       "    .dataframe tbody tr th {\n",
       "        vertical-align: top;\n",
       "    }\n",
       "\n",
       "    .dataframe thead th {\n",
       "        text-align: right;\n",
       "    }\n",
       "</style>\n",
       "<table border=\"1\" class=\"dataframe\">\n",
       "  <thead>\n",
       "    <tr style=\"text-align: right;\">\n",
       "      <th></th>\n",
       "      <th>a_x</th>\n",
       "      <th>a_y</th>\n",
       "      <th>a_z</th>\n",
       "      <th>m_x</th>\n",
       "      <th>m_y</th>\n",
       "      <th>m_z</th>\n",
       "      <th>omega_x</th>\n",
       "      <th>omega_y</th>\n",
       "      <th>omega_z</th>\n",
       "      <th>g_x</th>\n",
       "      <th>g_y</th>\n",
       "      <th>g_z</th>\n",
       "      <th>Pressure</th>\n",
       "      <th>Temperature</th>\n",
       "      <th>Timestamp</th>\n",
       "      <th>v_x</th>\n",
       "      <th>v_y</th>\n",
       "      <th>v_z</th>\n",
       "    </tr>\n",
       "  </thead>\n",
       "  <tbody>\n",
       "    <tr>\n",
       "      <th>0</th>\n",
       "      <td>-5.20</td>\n",
       "      <td>-3.31</td>\n",
       "      <td>9.24</td>\n",
       "      <td>21.25</td>\n",
       "      <td>-9.19</td>\n",
       "      <td>-38.38</td>\n",
       "      <td>25.06</td>\n",
       "      <td>15.50</td>\n",
       "      <td>-55.13</td>\n",
       "      <td>-3.49</td>\n",
       "      <td>-2.88</td>\n",
       "      <td>8.69</td>\n",
       "      <td>102804.18</td>\n",
       "      <td>23.27</td>\n",
       "      <td>2024-11-12 16:34:33</td>\n",
       "      <td>103.37250</td>\n",
       "      <td>63.93750</td>\n",
       "      <td>-227.41125</td>\n",
       "    </tr>\n",
       "    <tr>\n",
       "      <th>1</th>\n",
       "      <td>-5.41</td>\n",
       "      <td>-2.49</td>\n",
       "      <td>8.24</td>\n",
       "      <td>22.19</td>\n",
       "      <td>-8.88</td>\n",
       "      <td>-38.69</td>\n",
       "      <td>38.06</td>\n",
       "      <td>25.69</td>\n",
       "      <td>-31.62</td>\n",
       "      <td>-3.59</td>\n",
       "      <td>-2.74</td>\n",
       "      <td>8.69</td>\n",
       "      <td>102804.01</td>\n",
       "      <td>23.27</td>\n",
       "      <td>2024-11-12 16:34:33</td>\n",
       "      <td>156.99750</td>\n",
       "      <td>105.97125</td>\n",
       "      <td>-130.43250</td>\n",
       "    </tr>\n",
       "    <tr>\n",
       "      <th>2</th>\n",
       "      <td>-5.07</td>\n",
       "      <td>-2.36</td>\n",
       "      <td>7.31</td>\n",
       "      <td>23.69</td>\n",
       "      <td>-9.69</td>\n",
       "      <td>-37.88</td>\n",
       "      <td>9.38</td>\n",
       "      <td>-9.00</td>\n",
       "      <td>0.06</td>\n",
       "      <td>-3.65</td>\n",
       "      <td>-2.42</td>\n",
       "      <td>8.76</td>\n",
       "      <td>102804.00</td>\n",
       "      <td>23.27</td>\n",
       "      <td>2024-11-12 16:34:33</td>\n",
       "      <td>38.69250</td>\n",
       "      <td>-37.12500</td>\n",
       "      <td>0.24750</td>\n",
       "    </tr>\n",
       "    <tr>\n",
       "      <th>3</th>\n",
       "      <td>-6.35</td>\n",
       "      <td>-0.48</td>\n",
       "      <td>8.99</td>\n",
       "      <td>24.06</td>\n",
       "      <td>-10.88</td>\n",
       "      <td>-35.88</td>\n",
       "      <td>43.25</td>\n",
       "      <td>15.56</td>\n",
       "      <td>-2.75</td>\n",
       "      <td>-3.66</td>\n",
       "      <td>-2.15</td>\n",
       "      <td>8.83</td>\n",
       "      <td>102804.19</td>\n",
       "      <td>23.27</td>\n",
       "      <td>2024-11-12 16:34:33</td>\n",
       "      <td>178.40625</td>\n",
       "      <td>64.18500</td>\n",
       "      <td>-11.34375</td>\n",
       "    </tr>\n",
       "    <tr>\n",
       "      <th>4</th>\n",
       "      <td>-5.54</td>\n",
       "      <td>-1.84</td>\n",
       "      <td>9.93</td>\n",
       "      <td>25.25</td>\n",
       "      <td>-11.56</td>\n",
       "      <td>-35.88</td>\n",
       "      <td>33.44</td>\n",
       "      <td>1.37</td>\n",
       "      <td>-4.00</td>\n",
       "      <td>-3.61</td>\n",
       "      <td>-2.57</td>\n",
       "      <td>8.74</td>\n",
       "      <td>102804.32</td>\n",
       "      <td>23.26</td>\n",
       "      <td>2024-11-12 16:34:33</td>\n",
       "      <td>137.94000</td>\n",
       "      <td>5.65125</td>\n",
       "      <td>-16.50000</td>\n",
       "    </tr>\n",
       "  </tbody>\n",
       "</table>\n",
       "</div>"
      ]
     },
     "execution_count": 3,
     "metadata": {},
     "output_type": "execute_result"
    }
   ],
   "execution_count": 3
  },
  {
   "metadata": {
    "ExecuteTime": {
     "end_time": "2024-11-19T12:27:06.662702Z",
     "start_time": "2024-11-19T12:27:06.660709Z"
    }
   },
   "cell_type": "code",
   "source": "",
   "id": "324bb524789ba66b",
   "outputs": [],
   "execution_count": null
  },
  {
   "cell_type": "markdown",
   "id": "ac6960a0-b6a4-4f84-8dbd-54476609213a",
   "metadata": {},
   "source": [
    "In the very simple terms, Kalman filter is an optimal estimation algorithm. It is used when we cannot really see or measure something directly. In this very case, we are predicting the somebody's position based on the information on their initial position $(x,y,z)^T$. Based on those we are also measuring $(v_x,v_y,v_z)$.\n",
    "\n",
    "The Kalman filter works in two steps:\n",
    "\n",
    "1. **predict**: during this step we are predicting what is going to be the position at the next sample point\n",
    "2. **update**: compares the estimate from **predict** with the measurement and updates it based on that, also the filter keeps the information on the estimate uncertainty\n",
    "\n",
    "And we basically have a while loop with those.\n",
    "\n",
    "    while(walking):\n",
    "        extimate = predict(next position)\n",
    "        update(estimate)"
   ]
  },
  {
   "metadata": {
    "ExecuteTime": {
     "end_time": "2024-11-19T13:14:19.839185Z",
     "start_time": "2024-11-19T13:14:19.834219Z"
    }
   },
   "cell_type": "code",
   "source": [
    "kf_x = filterpy.kalman.KalmanFilter(dim_x=3,dim_z=1)\n",
    "S, v, ab = 0, 0, 0\n",
    "T, dt = 0, 0\n",
    "kf_x.x = np.array([\n",
    "    [float(S)],\n",
    "    [float(v)],\n",
    "    [float(ab)]\n",
    "])\n",
    "kf_x.F = np.array([\n",
    "    [1, dt, -0.5*T**2],\n",
    "    [0, 1, -T],\n",
    "    [0, 0, T]\n",
    "])\n",
    "kf_x.H = np.array([\n",
    "    [1, 0, 0]\n",
    "])\n",
    "s_std, v_std, ab_std = 0.01, 0.1, 0.02\n",
    "kf_x.P = np.array([\n",
    "    [s_std**2, s_std*v_std, s_std*ab_std],\n",
    "    [v_std*s_std, v_std**2, v_std*ab_std],\n",
    "    [ab_std*s_std, ab_std*v_std, ab_std**2]\n",
    "])\n",
    "Q_std, R_std = 0.01, 0.1\n",
    "kf_x.Q = np.array([\n",
    "    [0.25*T**4 * Q_std**2, 0.5*T**3 * Q_std**2, 0],\n",
    "    [0.5*T**3 * Q_std**2, T**2 * Q_std**2, 0],\n",
    "    [0, 0, 0]\n",
    "])\n",
    "kf_x.R = np.array([[R_std]])"
   ],
   "id": "75a3db0144deb07a",
   "outputs": [],
   "execution_count": 4
  },
  {
   "metadata": {
    "ExecuteTime": {
     "end_time": "2024-11-19T13:14:22.283165Z",
     "start_time": "2024-11-19T13:14:22.276097Z"
    }
   },
   "cell_type": "code",
   "source": [
    "kf_y = filterpy.kalman.KalmanFilter(dim_x=3,dim_z=1)\n",
    "S, v, ab = 0, 0, 0\n",
    "T, dt = 0, 0\n",
    "kf_y.x = np.array([\n",
    "    [float(S)],\n",
    "    [float(v)],\n",
    "    [float(ab)]\n",
    "])\n",
    "kf_y.F = np.array([\n",
    "    [1, dt, -0.5*T**2],\n",
    "    [0, 1, -T],\n",
    "    [0, 0, T]\n",
    "])\n",
    "kf_y.H = np.array([\n",
    "    [1, 0, 0]\n",
    "])\n",
    "s_std, v_std, ab_std = 0.01, 0.1, 0.02\n",
    "kf_y.P = np.array([\n",
    "    [s_std**2, s_std*v_std, s_std*ab_std],\n",
    "    [v_std*s_std, v_std**2, v_std*ab_std],\n",
    "    [ab_std*s_std, ab_std*v_std, ab_std**2]\n",
    "])\n",
    "Q_std, R_std = 0.01, 0.1\n",
    "kf_y.Q = np.array([\n",
    "    [0.25*T**4 * Q_std**2, 0.5*T**3 * Q_std**2, 0],\n",
    "    [0.5*T**3 * Q_std**2, T**2 * Q_std**2, 0],\n",
    "    [0, 0, 0]\n",
    "])\n",
    "kf_y.R = np.array([[R_std]])"
   ],
   "id": "14039fd05ac35e42",
   "outputs": [],
   "execution_count": 5
  },
  {
   "metadata": {
    "ExecuteTime": {
     "end_time": "2024-11-19T13:14:23.361118Z",
     "start_time": "2024-11-19T13:14:23.356218Z"
    }
   },
   "cell_type": "code",
   "source": [
    "kf_z = filterpy.kalman.KalmanFilter(dim_x=3,dim_z=1)\n",
    "S, v, ab = 0, 0, 0\n",
    "T, dt = 0, 0\n",
    "kf_z.x = np.array([\n",
    "    [float(S)],\n",
    "    [float(v)],\n",
    "    [float(ab)]\n",
    "])\n",
    "kf_z.F = np.array([\n",
    "    [1, dt, -0.5*T**2],\n",
    "    [0, 1, -T],\n",
    "    [0, 0, T]\n",
    "])\n",
    "kf_z.H = np.array([\n",
    "    [1, 0, 0]\n",
    "])\n",
    "s_std, v_std, ab_std = 0.01, 0.1, 0.02\n",
    "kf_z.P = np.array([\n",
    "    [s_std**2, s_std*v_std, s_std*ab_std],\n",
    "    [v_std*s_std, v_std**2, v_std*ab_std],\n",
    "    [ab_std*s_std, ab_std*v_std, ab_std**2]\n",
    "])\n",
    "Q_std, R_std = 0.01, 0.1\n",
    "kf_z.Q = np.array([\n",
    "    [0.25*T**4 * Q_std**2, 0.5*T**3 * Q_std**2, 0],\n",
    "    [0.5*T**3 * Q_std**2, T**2 * Q_std**2, 0],\n",
    "    [0, 0, 0]\n",
    "])\n",
    "kf_z.R = np.array([[R_std]])"
   ],
   "id": "f7ee1f9384f5b659",
   "outputs": [],
   "execution_count": 6
  },
  {
   "metadata": {
    "ExecuteTime": {
     "end_time": "2024-11-19T13:15:38.347213Z",
     "start_time": "2024-11-19T13:15:38.130511Z"
    }
   },
   "cell_type": "code",
   "source": [
    "measurements_x, measurements_y, measurements_z = df[\"a_x\"], df[\"a_y\"], df[\"a_z\"]\n",
    "position_x, position_y, position_z = [], [], []\n",
    "\n",
    "for ax,ay,az in zip(measurements_x, measurements_y, measurements_z):\n",
    "    # flow: read -> predict -> update -> repeat\n",
    "    kf_x.predict()\n",
    "    kf_y.predict()\n",
    "    kf_z.predict()\n",
    "    kf_x.update(ax)\n",
    "    kf_y.update(ay)\n",
    "    kf_z.update(az)\n",
    "    position_x.append(kf_x.x[0])\n",
    "    position_y.append(kf_y.x[0])\n",
    "    position_z.append(kf_z.x[1])\n",
    "    \n"
   ],
   "id": "de7d5ef280f23012",
   "outputs": [],
   "execution_count": 7
  },
  {
   "metadata": {
    "ExecuteTime": {
     "end_time": "2024-11-19T13:15:41.088317Z",
     "start_time": "2024-11-19T13:15:41.085438Z"
    }
   },
   "cell_type": "code",
   "source": "print(len(position_x))",
   "id": "f6e2ae9a7b980f86",
   "outputs": [
    {
     "name": "stdout",
     "output_type": "stream",
     "text": [
      "2249\n"
     ]
    }
   ],
   "execution_count": 8
  },
  {
   "metadata": {
    "ExecuteTime": {
     "end_time": "2024-11-19T13:16:26.161746Z",
     "start_time": "2024-11-19T13:16:25.934221Z"
    }
   },
   "cell_type": "code",
   "source": [
    "fig = plt.figure()\n",
    "ax = fig.add_subplot(111, projection='3d')\n",
    "ax.plot(position_x, position_y, position_z, 'y', label='Predicted trajectory')\n",
    "\n",
    "ax.set_xlabel('X axis')\n",
    "ax.set_ylabel('Y axis')\n",
    "ax.set_title('3D Kalman Filter Tracking')\n",
    "ax.legend()\n"
   ],
   "id": "8ad6bc1732283013",
   "outputs": [
    {
     "data": {
      "text/plain": [
       "<matplotlib.legend.Legend at 0x70ccc3453210>"
      ]
     },
     "execution_count": 10,
     "metadata": {},
     "output_type": "execute_result"
    },
    {
     "data": {
      "text/plain": [
       "<Figure size 640x480 with 1 Axes>"
      ],
      "image/png": "[encoded data removed]"
     },
     "metadata": {},
     "output_type": "display_data"
    }
   ],
   "execution_count": 10
  },
  {
   "metadata": {},
   "cell_type": "code",
   "outputs": [],
   "execution_count": null,
   "source": "",
   "id": "f859aeff0bef8479"
  }
 ],
 "metadata": {
  "kernelspec": {
   "display_name": "Python 3 (ipykernel)",
   "language": "python",
   "name": "python3"
  },
  "language_info": {
   "codemirror_mode": {
    "name": "ipython",
    "version": 3
   },
   "file_extension": ".py",
   "mimetype": "text/x-python",
   "name": "python",
   "nbconvert_exporter": "python",
   "pygments_lexer": "ipython3",
   "version": "3.10.12"
  }
 },
 "nbformat": 4,
 "nbformat_minor": 5
}
