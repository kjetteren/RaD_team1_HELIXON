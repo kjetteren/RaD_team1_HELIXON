{
 "cells": [
  {
   "metadata": {
    "ExecuteTime": {
     "end_time": "2024-11-25T10:16:43.924386Z",
     "start_time": "2024-11-25T10:16:43.903386Z"
    }
   },
   "cell_type": "code",
   "source": [
    "import numpy as np\n",
    "from filterpy.kalman import KalmanFilter"
   ],
   "id": "99f87c1aafea6df3",
   "outputs": [],
   "execution_count": 8
  },
  {
   "metadata": {},
   "cell_type": "markdown",
   "source": [
    "# Orientation estimation using extended kalman filter\n",
    "  Based on: X. Yun and E. R. Bachmann, ‘Design, Implementation, and Experimental Results of a Quaternion-Based Kalman Filter for Human Body Motion Tracking’, IEEE Trans. Robot., vol. 22, no. 6, pp. 1216–1227, Dec. 2006, doi: 10.1109/TRO.2006.886270."
   ],
   "id": "f71c2d5197814bd9"
  },
  {
   "cell_type": "code",
   "id": "initial_id",
   "metadata": {
    "collapsed": true,
    "ExecuteTime": {
     "end_time": "2024-11-25T10:07:24.897560Z",
     "start_time": "2024-11-25T10:07:24.881537Z"
    }
   },
   "source": [
    "# this is the Jacobian (linearized version) of the state transition, equation (13)\n",
    "def phi(x, Ts, tau1, tau2, tau3):\n",
    "    return np.array([[np.exp(-Ts/tau1), 0, 0, 0, 0, 0, 0],\n",
    "                    [0, np.exp(-Ts/tau2), 0, 0, 0, 0, 0],\n",
    "                    [0, 0, np.exp(-Ts/tau3), 0, 0, 0, 0],\n",
    "                    [-(x[4]*Ts)/2, -(x[5]*Ts)/2, -(x[6]*Ts)/2, 1, -(x[0]*Ts)/2, -(x[1]*Ts)/2, -(x[2]*Ts)/2],\n",
    "                    [(x[3]*Ts)/2, -(x[6]*Ts)/2, (x[5]*Ts)/2, (x[0]*Ts)/2, 1, (x[2]*Ts)/2, -(x[1]*Ts)/2],\n",
    "                    [(x[6]*Ts)/2, (x[3]*Ts)/2, -(x[4]*Ts)/2, (x[1]*Ts)/2, -(x[2]*Ts)/2, 1, (x[0]*Ts)/2],\n",
    "                    [-(x[5]*Ts)/2, (x[4]*Ts)/2, (x[3]*Ts)/2, (x[2]*Ts)/2, (x[1]*Ts)/2, -(x[0]*Ts)/2, 1]])"
   ],
   "outputs": [],
   "execution_count": 5
  },
  {
   "metadata": {
    "ExecuteTime": {
     "end_time": "2024-11-25T10:16:46.268021Z",
     "start_time": "2024-11-25T10:16:46.246050Z"
    }
   },
   "cell_type": "code",
   "source": [
    "kf = KalmanFilter(dim_x=7, dim_z=7)\n",
    "kf.x = np.array([0., 0., 0., 0., 0., 0., 0.])\n",
    "Ts = 0.04  # 25Hz samples\n",
    "\n",
    "kf.H = np.eye(7)\n",
    "\n",
    "tau1 = 0.5\n",
    "tau2 = 0.5\n",
    "tau3 = 0.5\n",
    "D = 0.4\n",
    "\n",
    "q11 = (D/(2*tau1))*(1 - np.exp(-(2*Ts)/tau1))\n",
    "q22 = (D/(2*tau1))*(1 - np.exp(-(2*Ts)/tau2))\n",
    "q33 = (D/(2*tau1))*(1 - np.exp(-(2*Ts)/tau3))\n",
    "\n",
    "kf.Q = np.array([\n",
    "    [q11, 0, 0, 0, 0, 0, 0],\n",
    "    [0, q22, 0, 0, 0, 0, 0],\n",
    "    [0, 0, q33, 0, 0, 0, 0],\n",
    "    [0, 0, 0, 0, 0, 0, 0],\n",
    "    [0, 0, 0, 0, 0, 0, 0],\n",
    "    [0, 0, 0, 0, 0, 0, 0],\n",
    "    [0, 0, 0, 0, 0, 0, 0]])\n",
    "\n",
    "kf.R =  np.array([\n",
    "    [0.01, 0, 0, 0, 0, 0, 0],\n",
    "    [0, 0.01, 0, 0, 0, 0, 0],\n",
    "    [0, 0, 0.01, 0, 0, 0, 0],\n",
    "    [0, 0, 0, 0.0001, 0, 0, 0],\n",
    "    [0, 0, 0, 0, 0.0001, 0, 0],\n",
    "    [0, 0, 0, 0, 0, 0.0001, 0],\n",
    "    [0, 0, 0, 0, 0, 0, 0.0001]])\n",
    "\n",
    "kf.P *= 1000"
   ],
   "id": "6f9d31f20eba8601",
   "outputs": [],
   "execution_count": 9
  }
 ],
 "metadata": {
  "kernelspec": {
   "display_name": "Python 3",
   "language": "python",
   "name": "python3"
  },
  "language_info": {
   "codemirror_mode": {
    "name": "ipython",
    "version": 2
   },
   "file_extension": ".py",
   "mimetype": "text/x-python",
   "name": "python",
   "nbconvert_exporter": "python",
   "pygments_lexer": "ipython2",
   "version": "2.7.6"
  }
 },
 "nbformat": 4,
 "nbformat_minor": 5
}
