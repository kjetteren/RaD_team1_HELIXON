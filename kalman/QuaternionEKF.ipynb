{
 "cells": [
  {
   "cell_type": "code",
   "id": "99f87c1aafea6df3",
   "metadata": {
    "ExecuteTime": {
     "end_time": "2024-12-12T21:36:08.438175Z",
     "start_time": "2024-12-12T21:36:08.434059Z"
    }
   },
   "source": [
    "from utils.view_plot import *\n",
    "from utils.kalman import *\n",
    "from utils.quaternion import *\n",
    "\n",
    "%matplotlib gtk"
   ],
   "outputs": [
    {
     "name": "stdout",
     "output_type": "stream",
     "text": [
      "Warning: Cannot change to a different GUI toolkit: gtk. Using tk instead.\n"
     ]
    }
   ],
   "execution_count": 9
  },
  {
   "cell_type": "markdown",
   "id": "f71c2d5197814bd9",
   "metadata": {},
   "source": [
    "# Orientation estimation using extended kalman filter\n",
    "  Based on: X. Yun and E. R. Bachmann, ‘Design, Implementation, and Experimental Results of a Quaternion-Based Kalman Filter for Human Body Motion Tracking’, IEEE Trans. Robot., vol. 22, no. 6, pp. 1216–1227, Dec. 2006, doi: 10.1109/TRO.2006.886270.\n",
    "  \n",
    "The state vector contains 3D angular velocity and quaternion: $$\n",
    "\\vec{x} = \\begin{pmatrix} \\omega_x & \\omega_y & \\omega_z & q_1 & q_2 & q_3 & q_4 \\end{pmatrix}^T\n",
    "$$\n"
   ]
  },
  {
   "metadata": {},
   "cell_type": "markdown",
   "source": "### Define EKF",
   "id": "6c9cd4b76004f19f"
  },
  {
   "cell_type": "code",
   "id": "6f9d31f20eba8601",
   "metadata": {
    "ExecuteTime": {
     "end_time": "2024-12-12T21:34:46.301930Z",
     "start_time": "2024-12-12T21:34:46.294463Z"
    }
   },
   "source": [
    "kf = KalmanFilter(dim_x=7,dim_z=7)\n",
    "kf.x = np.array([0,0,0,0,0,0,0])\n",
    "Ts = 0.04  # 25Hz samples\n",
    "\n",
    "kf.H = np.eye(7)\n",
    "\n",
    "tau1 = 0.7\n",
    "tau2 = 0.7\n",
    "tau3 = 0.7\n",
    "D = 0.0000001\n",
    "\n",
    "q11 = (D/(2*tau1))*(1 - np.exp(-(2*Ts)/tau1))\n",
    "q22 = (D/(2*tau1))*(1 - np.exp(-(2*Ts)/tau2))\n",
    "q33 = (D/(2*tau1))*(1 - np.exp(-(2*Ts)/tau3))\n",
    "q_quat = 0.01\n",
    "\n",
    "kf.Q = np.array([\n",
    "    [0.00456651466, -0.00102874117, 0, 0, 0, 0, 0],\n",
    "    [-0.00102874117, 0.00901927163, -0.00104132302, 0, 0, 0, 0],\n",
    "    [0, -0.00104132302, 0.00596346074, 0, 0, 0, 0],\n",
    "    [0, 0, 0, 0, 0, 0, 0],\n",
    "    [0, 0, 0, 0, 0, 0, 0],\n",
    "    [0, 0, 0, 0, 0, 0, 0],\n",
    "    [0, 0, 0, 0, 0, 0, 0]])\n",
    "\n",
    "kf.R =  np.array([\n",
    "    [0.0045610, 0, 0, 0, 0, 0, 0],\n",
    "    [0, 0.00900853, 0, 0, 0, 0, 0],\n",
    "    [0, 0, 0.00595636, 0, 0, 0, 0],\n",
    "    [0, 0, 0, 0.001, 0, 0, 0],\n",
    "    [0, 0, 0, 0, 0.001, 0, 0],\n",
    "    [0, 0, 0, 0, 0, 0.001, 0],\n",
    "    [0, 0, 0, 0, 0, 0, 0.001]])\n",
    "\n",
    "kf.P *= 1000"
   ],
   "outputs": [],
   "execution_count": 2
  },
  {
   "metadata": {},
   "cell_type": "markdown",
   "source": "### Load Data",
   "id": "12b86592596c066c"
  },
  {
   "cell_type": "code",
   "id": "b788d1de8d45d31f",
   "metadata": {
    "ExecuteTime": {
     "end_time": "2024-12-12T21:34:46.354074Z",
     "start_time": "2024-12-12T21:34:46.346967Z"
    }
   },
   "source": [
    "df_stationary = pd.read_csv('../utils/straight.csv')\n",
    "Ax_Bias = df_stationary['a_x'].mean()\n",
    "Ay_Bias = df_stationary['a_y'].mean()\n",
    "Az_Bias = df_stationary['a_z'].mean()\n",
    "Gx_Bias = df_stationary['omega_x'].mean()\n",
    "Gy_Bias = df_stationary['omega_y'].mean()\n",
    "Gz_Bias = df_stationary['omega_z'].mean()"
   ],
   "outputs": [],
   "execution_count": 3
  },
  {
   "cell_type": "code",
   "id": "94ddd04da6fee3bb",
   "metadata": {
    "ExecuteTime": {
     "end_time": "2024-12-12T21:34:46.472907Z",
     "start_time": "2024-12-12T21:34:46.395409Z"
    }
   },
   "source": [
    "predicted_roll=[]\n",
    "predicted_pitch = [] \n",
    "predicted_yaw = []\n",
    "measured_roll = []\n",
    "measured_pitch = []\n",
    "measured_yaw = []\n",
    "\n",
    "df = pd.read_csv('../utils/head_rotation_data/sensor_data_tilting_b.csv')\n",
    "v=np.array([0.0,0,0])\n",
    "for i, row in df.iterrows():\n",
    "    z = [row['Gyro_X']*(np.pi/180),\n",
    "         row['Gyro_Y']*(np.pi/180),\n",
    "         row['Gyro_Z']*(np.pi/180),\n",
    "         row['Quaternion_W'], \n",
    "         row['Quaternion_X'], \n",
    "         row['Quaternion_Y'], \n",
    "         row['Quaternion_Z']]\n",
    "    \n",
    "    z[3:7] = normalize_quaternion(z[3:7])\n",
    "    roll, pitch, yaw = euler_from_quaternion(z[3], z[4], z[5], z[6])\n",
    "    measured_roll.append(roll)\n",
    "    measured_pitch.append(pitch)\n",
    "    measured_yaw.append(yaw)\n",
    "    \n",
    "    kf.F = phi(kf.x, Ts, tau1, tau2, tau3)  \n",
    "    kf.predict()\n",
    "    x = kf.x\n",
    "    roll, pitch, yaw = euler_from_quaternion(x[3], x[4], x[5], x[6])\n",
    "    predicted_roll.append(roll)\n",
    "    predicted_pitch.append(pitch)\n",
    "    predicted_yaw.append(yaw)\n",
    "    kf.update(z)\n",
    "\n",
    "predicted_roll = np.array(predicted_roll)\n",
    "predicted_pitch = np.array(predicted_pitch)\n",
    "predicted_yaw = np.array(predicted_yaw)\n",
    "measured_roll = np.array(measured_roll)\n",
    "measured_pitch = np.array(measured_pitch)\n",
    "measured_yaw = np.array(measured_yaw)"
   ],
   "outputs": [],
   "execution_count": 4
  },
  {
   "cell_type": "code",
   "id": "4baa189a7d4b40f1",
   "metadata": {
    "ExecuteTime": {
     "end_time": "2024-12-12T21:36:13.667577Z",
     "start_time": "2024-12-12T21:36:13.398707Z"
    }
   },
   "source": [
    "plot_roll(predicted_roll, measured_roll)\n",
    "plot_roll(predicted_pitch, measured_pitch)\n",
    "plot_roll(predicted_yaw, measured_yaw)"
   ],
   "outputs": [
    {
     "name": "stderr",
     "output_type": "stream",
     "text": [
      "/home/wiktoria/Documents/slajdy/research and development/project/RaD_team1_HELIXON/kalman/utils/view_plot.py:432: UserWarning: Matplotlib is currently using TkAgg, which is a non-GUI backend, so cannot show the figure.\n",
      "  plt.show()\n"
     ]
    }
   ],
   "execution_count": 10
  },
  {
   "metadata": {},
   "cell_type": "code",
   "outputs": [],
   "execution_count": null,
   "source": "",
   "id": "80071b94bef71eba"
  }
 ],
 "metadata": {
  "kernelspec": {
   "display_name": "RaD_team1_HELIXON",
   "language": "python",
   "name": "python3"
  },
  "language_info": {
   "codemirror_mode": {
    "name": "ipython",
    "version": 3
   },
   "file_extension": ".py",
   "mimetype": "text/x-python",
   "name": "python",
   "nbconvert_exporter": "python",
   "pygments_lexer": "ipython3",
   "version": "3.8.20"
  }
 },
 "nbformat": 4,
 "nbformat_minor": 5
}
