{
 "cells": [
  {
   "metadata": {},
   "cell_type": "markdown",
   "source": [
    "I need this to figure out noise values. The matrices I'm trying to figure out:\n",
    "- process noise covariance matrix $Q$\n",
    "- measurement noise covariance matrix $R$\n",
    "- state covariance matrix $P$"
   ],
   "id": "a04994e62df7af5c"
  },
  {
   "metadata": {
    "ExecuteTime": {
     "end_time": "2024-12-03T16:13:53.098226Z",
     "start_time": "2024-12-03T16:13:53.086193Z"
    }
   },
   "cell_type": "code",
   "source": [
    "import numpy as np\n",
    "import pandas as pd\n",
    "import matplotlib.pyplot as plt\n",
    "import seaborn as sns"
   ],
   "id": "49297e75e3749148",
   "outputs": [],
   "execution_count": 11
  },
  {
   "metadata": {
    "ExecuteTime": {
     "end_time": "2024-12-03T16:13:53.177222Z",
     "start_time": "2024-12-03T16:13:53.130187Z"
    }
   },
   "cell_type": "code",
   "source": [
    "df = pd.read_csv('data/sensor_data_stationary.csv')\n",
    "\n",
    "\n",
    "df.head()"
   ],
   "id": "1233eeaa50f8bf2e",
   "outputs": [
    {
     "data": {
      "text/plain": [
       "   Accel_X  Accel_Y  Accel_Z  Magneto_X  Magneto_Y  Magneto_Z  Gyro_X  Gyro_Y  \\\n",
       "0     0.32     0.18     9.78    12.6875   -15.5625   -39.8750  0.0000  0.1250   \n",
       "1     0.34     0.17     9.77    12.6875   -16.2500   -40.6875  0.0000  0.0625   \n",
       "2     0.32     0.17     9.80    13.0000   -15.5625   -39.8750  0.0625  0.0000   \n",
       "3     0.34     0.17     9.82    12.6875   -15.8750   -40.6875  0.0000 -0.1250   \n",
       "4     0.31     0.19     9.80    12.6875   -15.8750   -40.6875 -0.0625 -0.1250   \n",
       "\n",
       "   Gyro_Z  Gravity_X  Gravity_Y  Gravity_Z  Quaternion_W  Quaternion_X  \\\n",
       "0  0.0000       0.31       0.06        9.8      0.365601      0.016113   \n",
       "1  0.0625       0.31       0.06        9.8      0.365601      0.016113   \n",
       "2  0.0000       0.31       0.06        9.8      0.365601      0.016113   \n",
       "3 -0.0625       0.31       0.06        9.8      0.365601      0.016113   \n",
       "4  0.0625       0.31       0.06        9.8      0.365601      0.016113   \n",
       "\n",
       "   Quaternion_Y  Quaternion_Z       Pressure  Temperature      Time  \n",
       "0     -0.002563      0.930664   83064.851562    23.358643  169828.0  \n",
       "1     -0.002563      0.930664  101695.945312    29.876236  169868.0  \n",
       "2     -0.002563      0.930664  101696.210938    29.899881  169908.0  \n",
       "3     -0.002563      0.930664  101696.289062    29.934338  169948.0  \n",
       "4     -0.002563      0.930664  101695.515625    29.971138  169988.0  "
      ],
      "text/html": [
       "<div>\n",
       "<style scoped>\n",
       "    .dataframe tbody tr th:only-of-type {\n",
       "        vertical-align: middle;\n",
       "    }\n",
       "\n",
       "    .dataframe tbody tr th {\n",
       "        vertical-align: top;\n",
       "    }\n",
       "\n",
       "    .dataframe thead th {\n",
       "        text-align: right;\n",
       "    }\n",
       "</style>\n",
       "<table border=\"1\" class=\"dataframe\">\n",
       "  <thead>\n",
       "    <tr style=\"text-align: right;\">\n",
       "      <th></th>\n",
       "      <th>Accel_X</th>\n",
       "      <th>Accel_Y</th>\n",
       "      <th>Accel_Z</th>\n",
       "      <th>Magneto_X</th>\n",
       "      <th>Magneto_Y</th>\n",
       "      <th>Magneto_Z</th>\n",
       "      <th>Gyro_X</th>\n",
       "      <th>Gyro_Y</th>\n",
       "      <th>Gyro_Z</th>\n",
       "      <th>Gravity_X</th>\n",
       "      <th>Gravity_Y</th>\n",
       "      <th>Gravity_Z</th>\n",
       "      <th>Quaternion_W</th>\n",
       "      <th>Quaternion_X</th>\n",
       "      <th>Quaternion_Y</th>\n",
       "      <th>Quaternion_Z</th>\n",
       "      <th>Pressure</th>\n",
       "      <th>Temperature</th>\n",
       "      <th>Time</th>\n",
       "    </tr>\n",
       "  </thead>\n",
       "  <tbody>\n",
       "    <tr>\n",
       "      <th>0</th>\n",
       "      <td>0.32</td>\n",
       "      <td>0.18</td>\n",
       "      <td>9.78</td>\n",
       "      <td>12.6875</td>\n",
       "      <td>-15.5625</td>\n",
       "      <td>-39.8750</td>\n",
       "      <td>0.0000</td>\n",
       "      <td>0.1250</td>\n",
       "      <td>0.0000</td>\n",
       "      <td>0.31</td>\n",
       "      <td>0.06</td>\n",
       "      <td>9.8</td>\n",
       "      <td>0.365601</td>\n",
       "      <td>0.016113</td>\n",
       "      <td>-0.002563</td>\n",
       "      <td>0.930664</td>\n",
       "      <td>83064.851562</td>\n",
       "      <td>23.358643</td>\n",
       "      <td>169828.0</td>\n",
       "    </tr>\n",
       "    <tr>\n",
       "      <th>1</th>\n",
       "      <td>0.34</td>\n",
       "      <td>0.17</td>\n",
       "      <td>9.77</td>\n",
       "      <td>12.6875</td>\n",
       "      <td>-16.2500</td>\n",
       "      <td>-40.6875</td>\n",
       "      <td>0.0000</td>\n",
       "      <td>0.0625</td>\n",
       "      <td>0.0625</td>\n",
       "      <td>0.31</td>\n",
       "      <td>0.06</td>\n",
       "      <td>9.8</td>\n",
       "      <td>0.365601</td>\n",
       "      <td>0.016113</td>\n",
       "      <td>-0.002563</td>\n",
       "      <td>0.930664</td>\n",
       "      <td>101695.945312</td>\n",
       "      <td>29.876236</td>\n",
       "      <td>169868.0</td>\n",
       "    </tr>\n",
       "    <tr>\n",
       "      <th>2</th>\n",
       "      <td>0.32</td>\n",
       "      <td>0.17</td>\n",
       "      <td>9.80</td>\n",
       "      <td>13.0000</td>\n",
       "      <td>-15.5625</td>\n",
       "      <td>-39.8750</td>\n",
       "      <td>0.0625</td>\n",
       "      <td>0.0000</td>\n",
       "      <td>0.0000</td>\n",
       "      <td>0.31</td>\n",
       "      <td>0.06</td>\n",
       "      <td>9.8</td>\n",
       "      <td>0.365601</td>\n",
       "      <td>0.016113</td>\n",
       "      <td>-0.002563</td>\n",
       "      <td>0.930664</td>\n",
       "      <td>101696.210938</td>\n",
       "      <td>29.899881</td>\n",
       "      <td>169908.0</td>\n",
       "    </tr>\n",
       "    <tr>\n",
       "      <th>3</th>\n",
       "      <td>0.34</td>\n",
       "      <td>0.17</td>\n",
       "      <td>9.82</td>\n",
       "      <td>12.6875</td>\n",
       "      <td>-15.8750</td>\n",
       "      <td>-40.6875</td>\n",
       "      <td>0.0000</td>\n",
       "      <td>-0.1250</td>\n",
       "      <td>-0.0625</td>\n",
       "      <td>0.31</td>\n",
       "      <td>0.06</td>\n",
       "      <td>9.8</td>\n",
       "      <td>0.365601</td>\n",
       "      <td>0.016113</td>\n",
       "      <td>-0.002563</td>\n",
       "      <td>0.930664</td>\n",
       "      <td>101696.289062</td>\n",
       "      <td>29.934338</td>\n",
       "      <td>169948.0</td>\n",
       "    </tr>\n",
       "    <tr>\n",
       "      <th>4</th>\n",
       "      <td>0.31</td>\n",
       "      <td>0.19</td>\n",
       "      <td>9.80</td>\n",
       "      <td>12.6875</td>\n",
       "      <td>-15.8750</td>\n",
       "      <td>-40.6875</td>\n",
       "      <td>-0.0625</td>\n",
       "      <td>-0.1250</td>\n",
       "      <td>0.0625</td>\n",
       "      <td>0.31</td>\n",
       "      <td>0.06</td>\n",
       "      <td>9.8</td>\n",
       "      <td>0.365601</td>\n",
       "      <td>0.016113</td>\n",
       "      <td>-0.002563</td>\n",
       "      <td>0.930664</td>\n",
       "      <td>101695.515625</td>\n",
       "      <td>29.971138</td>\n",
       "      <td>169988.0</td>\n",
       "    </tr>\n",
       "  </tbody>\n",
       "</table>\n",
       "</div>"
      ]
     },
     "execution_count": 12,
     "metadata": {},
     "output_type": "execute_result"
    }
   ],
   "execution_count": 12
  },
  {
   "metadata": {},
   "cell_type": "markdown",
   "source": [
    "## Process Noise Covariance Matrix\n",
    "The diagonal elements contain variances for each state variable and off-diagonal elements contain covariances between different state variables. \n",
    "We can start off with diagonal matrix with small positive values. Consider the maximum expected change in each state variable. Set diagonal elements to (max_change/3)² to cover 99.7% of possible variations. Adjust based on system performance.\n",
    "\n",
    "sources: [how to initialise error covariance matrix and process noise covariance matrix](https://www.researchgate.net/post/How-to-initialize-the-error-covariance-matrix-and-process-noise-covariance-matrix-How-are-they-different-and-in-what-way-they-impact-the-filter)\n",
    "\n"
   ],
   "id": "a154dff6694c58a2"
  },
  {
   "metadata": {
    "ExecuteTime": {
     "end_time": "2024-12-03T16:13:53.790568Z",
     "start_time": "2024-12-03T16:13:53.386187Z"
    }
   },
   "cell_type": "code",
   "source": [
    "measurement_labels = ['Gyro_X','Gyro_Y','Gyro_Z']\n",
    "acc_measurements = np.array(df[measurement_labels]) # each 'column' is a new measurement\n",
    "print(acc_measurements.shape)\n",
    "covariance_matrix = np.cov(acc_measurements, rowvar=False)\n",
    "print(\"Covariance Matrix:\")\n",
    "print(covariance_matrix)\n",
    "\n",
    "sns.heatmap(covariance_matrix, annot=True, fmt='g', xticklabels=measurement_labels, yticklabels=measurement_labels)\n",
    "plt.show()"
   ],
   "id": "b1989d4027c635da",
   "outputs": [
    {
     "name": "stdout",
     "output_type": "stream",
     "text": [
      "(840, 3)\n",
      "Covariance Matrix:\n",
      "[[ 4.56651466e-03 -1.02874117e-03 -6.92057403e-05]\n",
      " [-1.02874117e-03  9.01927163e-03 -1.04132302e-03]\n",
      " [-6.92057403e-05 -1.04132302e-03  5.96346074e-03]]\n"
     ]
    },
    {
     "data": {
      "text/plain": [
       "<Figure size 640x480 with 2 Axes>"
      ],
      "image/png": "[encoded data removed]"
     },
     "metadata": {},
     "output_type": "display_data"
    }
   ],
   "execution_count": 13
  },
  {
   "metadata": {},
   "cell_type": "markdown",
   "source": [
    "### Measurement Noise Covariance Matrix\n",
    "We can use manufacturer-provided accuracy specifications,\n",
    "\n",
    "$$R = \\begin{bmatrix}\n",
    "\\sigma_1^2 &0&0\\\\\n",
    "0&\\sigma_2^2&0\\\\\n",
    "0&0&\\sigma_3^2\\end{bmatrix}$$\n",
    "\n",
    "where $\\sigma_i$ is the sensor's standard deviation. Alternatively,\n",
    "\n",
    "1. Take multiple static measurements\n",
    "2. Calculate variance of measurements\n",
    "3. Use these variances as diagonal elements of R\n",
    "\n"
   ],
   "id": "db0d7df81f394231"
  },
  {
   "metadata": {
    "ExecuteTime": {
     "end_time": "2024-12-03T16:13:53.929570Z",
     "start_time": "2024-12-03T16:13:53.902571Z"
    }
   },
   "cell_type": "code",
   "source": [
    "R_manufactured = np.array([\n",
    "    [0.01, 0, 0],\n",
    "    [0, 0.01, 0],\n",
    "    [0, 0, 0.01]\n",
    "])\n",
    "\n",
    "R_empirical = np.array([\n",
    "    [np.var(df['Gyro_X']), 0, 0,0,0,0,0],\n",
    "    [0, np.var(df['Gyro_Y']), 0,0,0,0,0],\n",
    "    [0, 0, np.var(df['Gyro_Z']),0,0,0,0],\n",
    "    [0, 0, 0 ,np.var(df['Quaternion_W']),0,0,0],\n",
    "    [0, 0, 0, 0, np.var(df['Quaternion_X']),0,0],\n",
    "    [0, 0, 0, 0, 0, np.var(df['Quaternion_Y']), 0],\n",
    "    [0, 0, 0,0,0,0, np.var(df['Quaternion_Z'])]\n",
    "])\n",
    "\n",
    "print(\"Manufacturer-proviced accuracy specifications gives: \\n\",R_manufactured)\n",
    "print(\"Empirically computed variances gives: \\n\",R_empirical)"
   ],
   "id": "1d38aab4598d4a4f",
   "outputs": [
    {
     "name": "stdout",
     "output_type": "stream",
     "text": [
      "Manufacturer-proviced accuracy specifications gives: \n",
      " [[0.01 0.   0.  ]\n",
      " [0.   0.01 0.  ]\n",
      " [0.   0.   0.01]]\n",
      "Empirically computed variances gives: \n",
      " [[0.00456108 0.         0.         0.         0.         0.\n",
      "  0.        ]\n",
      " [0.         0.00900853 0.         0.         0.         0.\n",
      "  0.        ]\n",
      " [0.         0.         0.00595636 0.         0.         0.\n",
      "  0.        ]\n",
      " [0.         0.         0.         0.         0.         0.\n",
      "  0.        ]\n",
      " [0.         0.         0.         0.         0.         0.\n",
      "  0.        ]\n",
      " [0.         0.         0.         0.         0.         0.\n",
      "  0.        ]\n",
      " [0.         0.         0.         0.         0.         0.\n",
      "  0.        ]]\n"
     ]
    }
   ],
   "execution_count": 14
  },
  {
   "metadata": {},
   "cell_type": "markdown",
   "source": [
    "### Initial State Covariance Matrix\n",
    "The most common approach is $$P=p\\begin{bmatrix}1&0&0\\\\0&1&0\\\\0&0&1\\end{bmatrix}$$\n",
    "with $p$ being some large number. Use larger values to indicate high initial uncertainty.\n"
   ],
   "id": "f86165ebea22874d"
  },
  {
   "metadata": {
    "ExecuteTime": {
     "end_time": "2024-12-03T16:13:54.053573Z",
     "start_time": "2024-12-03T16:13:54.048571Z"
    }
   },
   "cell_type": "code",
   "source": "",
   "id": "16bc6070a9fa9bb0",
   "outputs": [],
   "execution_count": null
  }
 ],
 "metadata": {
  "kernelspec": {
   "display_name": "Python 3",
   "language": "python",
   "name": "python3"
  },
  "language_info": {
   "codemirror_mode": {
    "name": "ipython",
    "version": 2
   },
   "file_extension": ".py",
   "mimetype": "text/x-python",
   "name": "python",
   "nbconvert_exporter": "python",
   "pygments_lexer": "ipython2",
   "version": "2.7.6"
  }
 },
 "nbformat": 4,
 "nbformat_minor": 5
}
