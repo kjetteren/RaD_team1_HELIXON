{
 "cells": [
  {
   "cell_type": "markdown",
   "id": "a04994e62df7af5c",
   "metadata": {},
   "source": [
    "I need this to figure out noise values. The matrices I'm trying to figure out:\n",
    "- process noise covariance matrix $Q$\n",
    "- measurement noise covariance matrix $R$\n",
    "- state covariance matrix $P$"
   ]
  },
  {
   "cell_type": "code",
   "id": "49297e75e3749148",
   "metadata": {
    "ExecuteTime": {
     "end_time": "2024-12-12T16:07:45.509449Z",
     "start_time": "2024-12-12T16:07:45.506396Z"
    }
   },
   "source": [
    "import numpy as np\n",
    "import pandas as pd\n",
    "import matplotlib.pyplot as plt\n",
    "import seaborn as sns"
   ],
   "outputs": [],
   "execution_count": 5
  },
  {
   "cell_type": "code",
   "id": "1233eeaa50f8bf2e",
   "metadata": {
    "ExecuteTime": {
     "end_time": "2024-12-12T16:07:45.545760Z",
     "start_time": "2024-12-12T16:07:45.521757Z"
    }
   },
   "source": [
    "df = pd.read_csv('../utils/servo_rotation_data_90/rotation_x.csv')\n",
    "\n",
    "ax, ay, az = df['Accel_X'].to_numpy(), df['Accel_Y'].to_numpy(), df['Accel_Z'].to_numpy()\n",
    "\n",
    "df.head()"
   ],
   "outputs": [
    {
     "data": {
      "text/plain": [
       "   Accel_X  Accel_Y  Accel_Z  Magneto_X  Magneto_Y  Magneto_Z  Gyro_X  Gyro_Y  \\\n",
       "0    -0.45    -0.97     9.76     8.0625   -23.6875   -57.7500  0.0625  0.3125   \n",
       "1    -0.44    -0.97     9.78     8.8750   -24.3750   -57.0000  0.3125 -0.1250   \n",
       "2    -0.49    -1.00     9.76     8.8750   -24.3750   -57.0000 -0.1250  0.2500   \n",
       "3    -0.49    -0.96     9.76     8.0625   -23.2500   -55.7500  0.1250 -0.4375   \n",
       "4    -0.46    -0.97     9.75     7.3750   -24.3750   -57.6875  0.0625 -0.3750   \n",
       "\n",
       "   Gyro_Z  Gravity_X  Gravity_Y  Gravity_Z  Quaternion_W  Quaternion_X  \\\n",
       "0 -0.0625      -0.38      -0.97       9.75      0.109009     -0.024902   \n",
       "1 -0.0625      -0.38      -0.97       9.75      0.109009     -0.024902   \n",
       "2  0.0000      -0.38      -0.97       9.75      0.109009     -0.024902   \n",
       "3 -0.0625      -0.38      -0.97       9.75      0.109009     -0.024902   \n",
       "4  0.1250      -0.38      -0.97       9.75      0.109009     -0.024902   \n",
       "\n",
       "   Quaternion_Y  Quaternion_Z       Pressure  Temperature     Time  \n",
       "0     -0.047485      0.992615  102313.304688    19.044977  84436.0  \n",
       "1     -0.047485      0.992615  102313.914062    19.046999  84476.0  \n",
       "2     -0.047485      0.992615  102313.554688    19.046801  84516.0  \n",
       "3     -0.047485      0.992615  102314.062500    19.048948  84556.0  \n",
       "4     -0.047485      0.992615  102313.312500    19.048264  84596.0  "
      ],
      "text/html": [
       "<div>\n",
       "<style scoped>\n",
       "    .dataframe tbody tr th:only-of-type {\n",
       "        vertical-align: middle;\n",
       "    }\n",
       "\n",
       "    .dataframe tbody tr th {\n",
       "        vertical-align: top;\n",
       "    }\n",
       "\n",
       "    .dataframe thead th {\n",
       "        text-align: right;\n",
       "    }\n",
       "</style>\n",
       "<table border=\"1\" class=\"dataframe\">\n",
       "  <thead>\n",
       "    <tr style=\"text-align: right;\">\n",
       "      <th></th>\n",
       "      <th>Accel_X</th>\n",
       "      <th>Accel_Y</th>\n",
       "      <th>Accel_Z</th>\n",
       "      <th>Magneto_X</th>\n",
       "      <th>Magneto_Y</th>\n",
       "      <th>Magneto_Z</th>\n",
       "      <th>Gyro_X</th>\n",
       "      <th>Gyro_Y</th>\n",
       "      <th>Gyro_Z</th>\n",
       "      <th>Gravity_X</th>\n",
       "      <th>Gravity_Y</th>\n",
       "      <th>Gravity_Z</th>\n",
       "      <th>Quaternion_W</th>\n",
       "      <th>Quaternion_X</th>\n",
       "      <th>Quaternion_Y</th>\n",
       "      <th>Quaternion_Z</th>\n",
       "      <th>Pressure</th>\n",
       "      <th>Temperature</th>\n",
       "      <th>Time</th>\n",
       "    </tr>\n",
       "  </thead>\n",
       "  <tbody>\n",
       "    <tr>\n",
       "      <th>0</th>\n",
       "      <td>-0.45</td>\n",
       "      <td>-0.97</td>\n",
       "      <td>9.76</td>\n",
       "      <td>8.0625</td>\n",
       "      <td>-23.6875</td>\n",
       "      <td>-57.7500</td>\n",
       "      <td>0.0625</td>\n",
       "      <td>0.3125</td>\n",
       "      <td>-0.0625</td>\n",
       "      <td>-0.38</td>\n",
       "      <td>-0.97</td>\n",
       "      <td>9.75</td>\n",
       "      <td>0.109009</td>\n",
       "      <td>-0.024902</td>\n",
       "      <td>-0.047485</td>\n",
       "      <td>0.992615</td>\n",
       "      <td>102313.304688</td>\n",
       "      <td>19.044977</td>\n",
       "      <td>84436.0</td>\n",
       "    </tr>\n",
       "    <tr>\n",
       "      <th>1</th>\n",
       "      <td>-0.44</td>\n",
       "      <td>-0.97</td>\n",
       "      <td>9.78</td>\n",
       "      <td>8.8750</td>\n",
       "      <td>-24.3750</td>\n",
       "      <td>-57.0000</td>\n",
       "      <td>0.3125</td>\n",
       "      <td>-0.1250</td>\n",
       "      <td>-0.0625</td>\n",
       "      <td>-0.38</td>\n",
       "      <td>-0.97</td>\n",
       "      <td>9.75</td>\n",
       "      <td>0.109009</td>\n",
       "      <td>-0.024902</td>\n",
       "      <td>-0.047485</td>\n",
       "      <td>0.992615</td>\n",
       "      <td>102313.914062</td>\n",
       "      <td>19.046999</td>\n",
       "      <td>84476.0</td>\n",
       "    </tr>\n",
       "    <tr>\n",
       "      <th>2</th>\n",
       "      <td>-0.49</td>\n",
       "      <td>-1.00</td>\n",
       "      <td>9.76</td>\n",
       "      <td>8.8750</td>\n",
       "      <td>-24.3750</td>\n",
       "      <td>-57.0000</td>\n",
       "      <td>-0.1250</td>\n",
       "      <td>0.2500</td>\n",
       "      <td>0.0000</td>\n",
       "      <td>-0.38</td>\n",
       "      <td>-0.97</td>\n",
       "      <td>9.75</td>\n",
       "      <td>0.109009</td>\n",
       "      <td>-0.024902</td>\n",
       "      <td>-0.047485</td>\n",
       "      <td>0.992615</td>\n",
       "      <td>102313.554688</td>\n",
       "      <td>19.046801</td>\n",
       "      <td>84516.0</td>\n",
       "    </tr>\n",
       "    <tr>\n",
       "      <th>3</th>\n",
       "      <td>-0.49</td>\n",
       "      <td>-0.96</td>\n",
       "      <td>9.76</td>\n",
       "      <td>8.0625</td>\n",
       "      <td>-23.2500</td>\n",
       "      <td>-55.7500</td>\n",
       "      <td>0.1250</td>\n",
       "      <td>-0.4375</td>\n",
       "      <td>-0.0625</td>\n",
       "      <td>-0.38</td>\n",
       "      <td>-0.97</td>\n",
       "      <td>9.75</td>\n",
       "      <td>0.109009</td>\n",
       "      <td>-0.024902</td>\n",
       "      <td>-0.047485</td>\n",
       "      <td>0.992615</td>\n",
       "      <td>102314.062500</td>\n",
       "      <td>19.048948</td>\n",
       "      <td>84556.0</td>\n",
       "    </tr>\n",
       "    <tr>\n",
       "      <th>4</th>\n",
       "      <td>-0.46</td>\n",
       "      <td>-0.97</td>\n",
       "      <td>9.75</td>\n",
       "      <td>7.3750</td>\n",
       "      <td>-24.3750</td>\n",
       "      <td>-57.6875</td>\n",
       "      <td>0.0625</td>\n",
       "      <td>-0.3750</td>\n",
       "      <td>0.1250</td>\n",
       "      <td>-0.38</td>\n",
       "      <td>-0.97</td>\n",
       "      <td>9.75</td>\n",
       "      <td>0.109009</td>\n",
       "      <td>-0.024902</td>\n",
       "      <td>-0.047485</td>\n",
       "      <td>0.992615</td>\n",
       "      <td>102313.312500</td>\n",
       "      <td>19.048264</td>\n",
       "      <td>84596.0</td>\n",
       "    </tr>\n",
       "  </tbody>\n",
       "</table>\n",
       "</div>"
      ]
     },
     "execution_count": 6,
     "metadata": {},
     "output_type": "execute_result"
    }
   ],
   "execution_count": 6
  },
  {
   "cell_type": "markdown",
   "id": "a154dff6694c58a2",
   "metadata": {},
   "source": [
    "## Process Noise Covariance Matrix\n",
    "The diagonal elements contain variances for each state variable and off-diagonal elements contain covariances between different state variables. \n",
    "We can start off with diagonal matrix with small positive values. Consider the maximum expected change in each state variable. Set diagonal elements to (max_change/3)² to cover 99.7% of possible variations. Adjust based on system performance.\n",
    "\n",
    "sources: [how to initialise error covariance matrix and process noise covariance matrix](https://www.researchgate.net/post/How-to-initialize-the-error-covariance-matrix-and-process-noise-covariance-matrix-How-are-they-different-and-in-what-way-they-impact-the-filter)\n",
    "\n"
   ]
  },
  {
   "cell_type": "code",
   "id": "b1989d4027c635da",
   "metadata": {
    "ExecuteTime": {
     "end_time": "2024-12-12T17:40:31.351990Z",
     "start_time": "2024-12-12T17:40:31.116098Z"
    }
   },
   "source": [
    "gyro_labels = ['Gyro_X','Gyro_Y','Gyro_Z']\n",
    "gyro_measurements = np.array(df[gyro_labels]) # each 'column' is a new measurement\n",
    "print(gyro_measurements.shape)\n",
    "covariance_matrix = np.cov(gyro_measurements, rowvar=False)\n",
    "# print(\"Covariance Matrix:\")\n",
    "# print(covariance_matrix)\n",
    "\n",
    "sns.heatmap(covariance_matrix, annot=True, fmt='g', xticklabels=gyro_labels, yticklabels=gyro_labels)\n",
    "plt.show()"
   ],
   "outputs": [
    {
     "name": "stdout",
     "output_type": "stream",
     "text": [
      "(702, 3)\n"
     ]
    },
    {
     "data": {
      "text/plain": [
       "<Figure size 640x480 with 2 Axes>"
      ],
      "image/png": "[encoded data removed]"
     },
     "metadata": {},
     "output_type": "display_data"
    }
   ],
   "execution_count": 18
  },
  {
   "metadata": {
    "ExecuteTime": {
     "end_time": "2024-12-12T17:40:33.172918Z",
     "start_time": "2024-12-12T17:40:32.976312Z"
    }
   },
   "cell_type": "code",
   "source": [
    "accel_labels = ['Accel_X','Accel_Y','Accel_Z']\n",
    "acc_measurements = np.array(df[accel_labels]) # each 'column' is a new measurement\n",
    "print(acc_measurements.shape)\n",
    "covariance_matrix = np.cov(acc_measurements, rowvar=False)\n",
    "# print(\"Covariance Matrix:\")\n",
    "# print(covariance_matrix)\n",
    "\n",
    "sns.heatmap(covariance_matrix, annot=True, fmt='g', xticklabels=accel_labels, yticklabels=accel_labels)\n",
    "plt.show()"
   ],
   "id": "5991460f1dc341fe",
   "outputs": [
    {
     "name": "stdout",
     "output_type": "stream",
     "text": [
      "(702, 3)\n"
     ]
    },
    {
     "data": {
      "text/plain": [
       "<Figure size 640x480 with 2 Axes>"
      ],
      "image/png": "[encoded data removed]"
     },
     "metadata": {},
     "output_type": "display_data"
    }
   ],
   "execution_count": 19
  },
  {
   "metadata": {
    "ExecuteTime": {
     "end_time": "2024-12-12T17:40:38.189764Z",
     "start_time": "2024-12-12T17:40:37.991983Z"
    }
   },
   "cell_type": "code",
   "source": [
    "magneto_labels = ['Magneto_X','Magneto_Y','Magneto_Z']\n",
    "mag_measurements = np.array(df[magneto_labels]) # each 'column' is a new measurement\n",
    "print(acc_measurements.shape)\n",
    "covariance_matrix = np.cov(mag_measurements, rowvar=False)\n",
    "# print(\"Covariance Matrix:\")\n",
    "# print(covariance_matrix)\n",
    "\n",
    "sns.heatmap(covariance_matrix, annot=True, fmt='g', xticklabels=magneto_labels, yticklabels=magneto_labels)\n",
    "plt.show()"
   ],
   "id": "364352d32fcbaf60",
   "outputs": [
    {
     "name": "stdout",
     "output_type": "stream",
     "text": [
      "(702, 3)\n"
     ]
    },
    {
     "data": {
      "text/plain": [
       "<Figure size 640x480 with 2 Axes>"
      ],
      "image/png": "[encoded data removed]"
     },
     "metadata": {},
     "output_type": "display_data"
    }
   ],
   "execution_count": 20
  },
  {
   "cell_type": "markdown",
   "id": "db0d7df81f394231",
   "metadata": {},
   "source": [
    "### Measurement Noise Covariance Matrix\n",
    "We can use manufacturer-provided accuracy specifications,\n",
    "\n",
    "$$R = \\begin{bmatrix}\n",
    "\\sigma_1^2 &0&0\\\\\n",
    "0&\\sigma_2^2&0\\\\\n",
    "0&0&\\sigma_3^2\\end{bmatrix}$$\n",
    "\n",
    "where $\\sigma_i$ is the sensor's standard deviation. Alternatively,\n",
    "\n",
    "1. Take multiple static measurements\n",
    "2. Calculate variance of measurements\n",
    "3. Use these variances as diagonal elements of R\n",
    "\n"
   ]
  },
  {
   "cell_type": "code",
   "id": "1d38aab4598d4a4f",
   "metadata": {
    "ExecuteTime": {
     "end_time": "2024-12-12T16:15:10.363134Z",
     "start_time": "2024-12-12T16:15:10.355434Z"
    }
   },
   "source": [
    "R_manufactured = np.array([\n",
    "    [0.01, 0, 0],\n",
    "    [0, 0.01, 0],\n",
    "    [0, 0, 0.01]\n",
    "])\n",
    "\n",
    "R_empirical = np.array([\n",
    "    [np.var(ax), 0, 0],\n",
    "    [0, np.var(ay), 0],\n",
    "    [0, 0, np.var(az)]\n",
    "])\n",
    "\n",
    "print(\"Manufacturer-proviced accuracy specifications gives: \\n\",R_manufactured)\n",
    "print(\"Empirically computed variances gives: \\n\",R_empirical)\n",
    "\n",
    "acc = np.array([\n",
    "    df['Accel_X'],\n",
    "    df['Accel_Y'],\n",
    "    df['Accel_Z']\n",
    "]).T\n",
    "mag = np.array([\n",
    "    df['Magneto_X'],\n",
    "    df['Magneto_Y'],\n",
    "    df['Magneto_Z']\n",
    "]).T\n",
    "gyr = np.array([\n",
    "    df['Gyro_X'],\n",
    "    df['Gyro_Y'],\n",
    "    df['Gyro_Z']\n",
    "]).T\n",
    "\n",
    "print(f'variance of acceleromenter is {np.var(acc)}')\n",
    "print(f'variance of magnetometer is {np.var(mag)}')\n",
    "print(f'variance of gyroscope is {np.var(gyr)}')"
   ],
   "outputs": [
    {
     "name": "stdout",
     "output_type": "stream",
     "text": [
      "Manufacturer-proviced accuracy specifications gives: \n",
      " [[0.01 0.   0.  ]\n",
      " [0.   0.01 0.  ]\n",
      " [0.   0.   0.01]]\n",
      "Empirically computed variances gives: \n",
      " [[17.64214508  0.          0.        ]\n",
      " [ 0.          1.27622864  0.        ]\n",
      " [ 0.          0.          7.94922529]]\n",
      "variance of acceleromenter is 33.67835613554157\n",
      "variance of magnetometer is 1037.3438242641218\n",
      "variance of gyroscope is 515.0233073772738\n"
     ]
    }
   ],
   "execution_count": 10
  },
  {
   "cell_type": "markdown",
   "id": "f86165ebea22874d",
   "metadata": {},
   "source": [
    "### Initial State Covariance Matrix\n",
    "The most common approach is $$P=p\\begin{bmatrix}1&0&0\\\\0&1&0\\\\0&0&1\\end{bmatrix}$$\n",
    "with $p$ being some large number. Use larger values to indicate high initial uncertainty.\n"
   ]
  },
  {
   "cell_type": "code",
   "id": "16bc6070a9fa9bb0",
   "metadata": {
    "ExecuteTime": {
     "end_time": "2024-12-12T16:15:14.757755Z",
     "start_time": "2024-12-12T16:15:14.740634Z"
    }
   },
   "source": [
    "import numpy as np\n",
    "from scipy.optimize import curve_fit\n",
    "import matplotlib.pyplot as plt\n",
    "\n",
    "def collect_static_orientation_data(time_duration, sampling_rate):\n",
    "    \"\"\"\n",
    "    Collect orientation data while system is static\n",
    "    Returns: timestamps and concentration parameters\n",
    "    \"\"\"\n",
    "    dt = 1.0 / sampling_rate\n",
    "    timestamps = np.arange(0, time_duration, dt)\n",
    "    return timestamps\n",
    "\n",
    "def estimate_concentration(quaternion_samples):\n",
    "    \"\"\"\n",
    "    Estimate concentration parameter from quaternion samples\n",
    "    \"\"\"\n",
    "    # Calculate scatter matrix\n",
    "    scatter_matrix = np.zeros((4, 4))\n",
    "    for q in quaternion_samples:\n",
    "        scatter_matrix += np.outer(q, q)\n",
    "    scatter_matrix /= len(quaternion_samples)\n",
    "    \n",
    "    # Eigenvalues give information about concentration\n",
    "    eigenvalues = np.linalg.eigvals(scatter_matrix)\n",
    "    # Largest eigenvalue relates to concentration\n",
    "    concentration = -np.log(1 - np.max(eigenvalues))\n",
    "    return concentration\n",
    "\n",
    "def exponential_decay(t, initial_concentration, q):\n",
    "    \"\"\"\n",
    "    Model: Z(t) = Z(0) * exp(-q * t)\n",
    "    \"\"\"\n",
    "    return initial_concentration * np.exp(-q * t)\n",
    "\n",
    "def fit_exponential_decay(timestamps, concentrations):\n",
    "    \"\"\"\n",
    "    Fit exponential decay to concentration data\n",
    "    \"\"\"\n",
    "    popt, pcov = curve_fit(exponential_decay, timestamps, concentrations)\n",
    "    return popt[0], popt[1], pcov  # initial_concentration, q, covariance\n",
    "\n",
    "def measure_process_noise():\n",
    "    # Parameters\n",
    "    duration = 10.0  # seconds\n",
    "    sampling_rate = 100  # Hz\n",
    "    \n",
    "    # Collect data\n",
    "    timestamps = collect_static_orientation_data(duration, sampling_rate)\n",
    "    \n",
    "    # Simulate or collect real quaternion measurements\n",
    "    # This is where you'd interface with your actual sensor\n",
    "    quaternion_samples = []\n",
    "    concentrations = []\n",
    "    \n",
    "    # Calculate concentration parameters over time\n",
    "    for t in timestamps:\n",
    "        # Get quaternion samples for this timestamp\n",
    "        current_samples = get_quaternion_samples(t)  # You need to implement this\n",
    "        concentration = estimate_concentration(current_samples)\n",
    "        concentrations.append(concentration)\n",
    "    \n",
    "    # Fit exponential decay\n",
    "    initial_conc, q, pcov = fit_exponential_decay(timestamps, concentrations)\n",
    "    \n",
    "    # Calculate uncertainty\n",
    "    q_std = np.sqrt(pcov[1,1])\n",
    "    \n",
    "    return q, q_std\n",
    "\n",
    "def plot_results(timestamps, concentrations, initial_conc, q):\n",
    "    plt.figure(figsize=(10, 6))\n",
    "    plt.scatter(timestamps, concentrations, label='Measured')\n",
    "    \n",
    "    # Plot fitted curve\n",
    "    t_fit = np.linspace(timestamps[0], timestamps[-1], 1000)\n",
    "    concentrations_fit = exponential_decay(t_fit, initial_conc, q)\n",
    "    plt.plot(t_fit, concentrations_fit, 'r-', label='Fitted')\n",
    "    \n",
    "    plt.xlabel('Time (s)')\n",
    "    plt.ylabel('Concentration Parameter')\n",
    "    plt.title('Exponential Decay of Concentration Parameters')\n",
    "    plt.legend()\n",
    "    plt.grid(True)\n",
    "    plt.show()\n"
   ],
   "outputs": [],
   "execution_count": 11
  },
  {
   "cell_type": "code",
   "id": "75164e2b",
   "metadata": {
    "ExecuteTime": {
     "end_time": "2024-12-12T16:15:20.566741Z",
     "start_time": "2024-12-12T16:15:20.538270Z"
    }
   },
   "source": [
    "timestamps = collect_static_orientation_data()"
   ],
   "outputs": [
    {
     "ename": "TypeError",
     "evalue": "collect_static_orientation_data() missing 2 required positional arguments: 'time_duration' and 'sampling_rate'",
     "output_type": "error",
     "traceback": [
      "\u001B[0;31m---------------------------------------------------------------------------\u001B[0m",
      "\u001B[0;31mTypeError\u001B[0m                                 Traceback (most recent call last)",
      "Cell \u001B[0;32mIn[12], line 1\u001B[0m\n\u001B[0;32m----> 1\u001B[0m timestamps \u001B[38;5;241m=\u001B[39m \u001B[43mcollect_static_orientation_data\u001B[49m\u001B[43m(\u001B[49m\u001B[43m)\u001B[49m\n",
      "\u001B[0;31mTypeError\u001B[0m: collect_static_orientation_data() missing 2 required positional arguments: 'time_duration' and 'sampling_rate'"
     ]
    }
   ],
   "execution_count": 12
  },
  {
   "metadata": {},
   "cell_type": "code",
   "outputs": [],
   "execution_count": null,
   "source": "",
   "id": "c67ba4f7499929a4"
  }
 ],
 "metadata": {
  "kernelspec": {
   "display_name": "RaD_team1_HELIXON",
   "language": "python",
   "name": "python3"
  },
  "language_info": {
   "codemirror_mode": {
    "name": "ipython",
    "version": 3
   },
   "file_extension": ".py",
   "mimetype": "text/x-python",
   "name": "python",
   "nbconvert_exporter": "python",
   "pygments_lexer": "ipython3",
   "version": "3.8.20"
  }
 },
 "nbformat": 4,
 "nbformat_minor": 5
}
