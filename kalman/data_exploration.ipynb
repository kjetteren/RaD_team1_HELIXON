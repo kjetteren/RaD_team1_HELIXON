{
 "cells": [
  {
   "metadata": {},
   "cell_type": "markdown",
   "source": [
    "I need this to figure out noise values. The matrices I'm trying to figure out:\n",
    "- process noise covariance matrix $Q$\n",
    "- measurement noise covariance matrix $R$\n",
    "- state covariance matrix $P$"
   ],
   "id": "a04994e62df7af5c"
  },
  {
   "metadata": {
    "ExecuteTime": {
     "end_time": "2024-11-24T17:15:31.381660Z",
     "start_time": "2024-11-24T17:15:30.718358Z"
    }
   },
   "cell_type": "code",
   "source": [
    "import numpy as np\n",
    "import pandas as pd\n",
    "import matplotlib.pyplot as plt\n",
    "import seaborn as sns"
   ],
   "id": "49297e75e3749148",
   "outputs": [],
   "execution_count": 14
  },
  {
   "metadata": {
    "ExecuteTime": {
     "end_time": "2024-11-24T17:24:15.038725Z",
     "start_time": "2024-11-24T17:24:15.013232Z"
    }
   },
   "cell_type": "code",
   "source": [
    "df = pd.read_csv('data/sensor_stand_still.csv')\n",
    "\n",
    "ax, ay, az = df['a_x'].to_numpy(), df['a_y'].to_numpy(), df['a_z'].to_numpy()\n",
    "\n",
    "df.head()"
   ],
   "id": "1233eeaa50f8bf2e",
   "outputs": [
    {
     "data": {
      "text/plain": [
       "    a_x   a_y   a_z    m_x    m_y    m_z  omega_x  omega_y  omega_z   g_x  \\\n",
       "0  0.16 -0.07  0.14 -13.56 -23.19 -24.19    -4.87     3.56     3.12 -0.50   \n",
       "1 -0.01  0.07 -0.02 -13.56 -23.19 -24.19    -5.31     2.94     2.50 -0.52   \n",
       "2 -0.26  0.09  0.03 -14.00 -22.50 -22.56    -9.13     0.56     2.94 -0.52   \n",
       "3 -0.06 -0.21  0.88 -13.56 -21.37 -24.56    -8.00    -2.12     4.56 -0.52   \n",
       "4  0.30  0.09 -0.03 -13.56 -21.37 -24.56    -4.94    -5.00     4.37 -0.50   \n",
       "\n",
       "    g_y   g_z  Pressure  Temperature            Timestamp  \n",
       "0 -0.28  9.78  99106.67        24.33  2024-11-19 17:05:33  \n",
       "1 -0.30  9.78  99106.33        24.34  2024-11-19 17:05:33  \n",
       "2 -0.34  9.78  99106.33        24.34  2024-11-19 17:05:33  \n",
       "3 -0.38  9.78  99106.63        24.34  2024-11-19 17:05:33  \n",
       "4 -0.41  9.78  99107.02        24.34  2024-11-19 17:05:33  "
      ],
      "text/html": [
       "<div>\n",
       "<style scoped>\n",
       "    .dataframe tbody tr th:only-of-type {\n",
       "        vertical-align: middle;\n",
       "    }\n",
       "\n",
       "    .dataframe tbody tr th {\n",
       "        vertical-align: top;\n",
       "    }\n",
       "\n",
       "    .dataframe thead th {\n",
       "        text-align: right;\n",
       "    }\n",
       "</style>\n",
       "<table border=\"1\" class=\"dataframe\">\n",
       "  <thead>\n",
       "    <tr style=\"text-align: right;\">\n",
       "      <th></th>\n",
       "      <th>a_x</th>\n",
       "      <th>a_y</th>\n",
       "      <th>a_z</th>\n",
       "      <th>m_x</th>\n",
       "      <th>m_y</th>\n",
       "      <th>m_z</th>\n",
       "      <th>omega_x</th>\n",
       "      <th>omega_y</th>\n",
       "      <th>omega_z</th>\n",
       "      <th>g_x</th>\n",
       "      <th>g_y</th>\n",
       "      <th>g_z</th>\n",
       "      <th>Pressure</th>\n",
       "      <th>Temperature</th>\n",
       "      <th>Timestamp</th>\n",
       "    </tr>\n",
       "  </thead>\n",
       "  <tbody>\n",
       "    <tr>\n",
       "      <th>0</th>\n",
       "      <td>0.16</td>\n",
       "      <td>-0.07</td>\n",
       "      <td>0.14</td>\n",
       "      <td>-13.56</td>\n",
       "      <td>-23.19</td>\n",
       "      <td>-24.19</td>\n",
       "      <td>-4.87</td>\n",
       "      <td>3.56</td>\n",
       "      <td>3.12</td>\n",
       "      <td>-0.50</td>\n",
       "      <td>-0.28</td>\n",
       "      <td>9.78</td>\n",
       "      <td>99106.67</td>\n",
       "      <td>24.33</td>\n",
       "      <td>2024-11-19 17:05:33</td>\n",
       "    </tr>\n",
       "    <tr>\n",
       "      <th>1</th>\n",
       "      <td>-0.01</td>\n",
       "      <td>0.07</td>\n",
       "      <td>-0.02</td>\n",
       "      <td>-13.56</td>\n",
       "      <td>-23.19</td>\n",
       "      <td>-24.19</td>\n",
       "      <td>-5.31</td>\n",
       "      <td>2.94</td>\n",
       "      <td>2.50</td>\n",
       "      <td>-0.52</td>\n",
       "      <td>-0.30</td>\n",
       "      <td>9.78</td>\n",
       "      <td>99106.33</td>\n",
       "      <td>24.34</td>\n",
       "      <td>2024-11-19 17:05:33</td>\n",
       "    </tr>\n",
       "    <tr>\n",
       "      <th>2</th>\n",
       "      <td>-0.26</td>\n",
       "      <td>0.09</td>\n",
       "      <td>0.03</td>\n",
       "      <td>-14.00</td>\n",
       "      <td>-22.50</td>\n",
       "      <td>-22.56</td>\n",
       "      <td>-9.13</td>\n",
       "      <td>0.56</td>\n",
       "      <td>2.94</td>\n",
       "      <td>-0.52</td>\n",
       "      <td>-0.34</td>\n",
       "      <td>9.78</td>\n",
       "      <td>99106.33</td>\n",
       "      <td>24.34</td>\n",
       "      <td>2024-11-19 17:05:33</td>\n",
       "    </tr>\n",
       "    <tr>\n",
       "      <th>3</th>\n",
       "      <td>-0.06</td>\n",
       "      <td>-0.21</td>\n",
       "      <td>0.88</td>\n",
       "      <td>-13.56</td>\n",
       "      <td>-21.37</td>\n",
       "      <td>-24.56</td>\n",
       "      <td>-8.00</td>\n",
       "      <td>-2.12</td>\n",
       "      <td>4.56</td>\n",
       "      <td>-0.52</td>\n",
       "      <td>-0.38</td>\n",
       "      <td>9.78</td>\n",
       "      <td>99106.63</td>\n",
       "      <td>24.34</td>\n",
       "      <td>2024-11-19 17:05:33</td>\n",
       "    </tr>\n",
       "    <tr>\n",
       "      <th>4</th>\n",
       "      <td>0.30</td>\n",
       "      <td>0.09</td>\n",
       "      <td>-0.03</td>\n",
       "      <td>-13.56</td>\n",
       "      <td>-21.37</td>\n",
       "      <td>-24.56</td>\n",
       "      <td>-4.94</td>\n",
       "      <td>-5.00</td>\n",
       "      <td>4.37</td>\n",
       "      <td>-0.50</td>\n",
       "      <td>-0.41</td>\n",
       "      <td>9.78</td>\n",
       "      <td>99107.02</td>\n",
       "      <td>24.34</td>\n",
       "      <td>2024-11-19 17:05:33</td>\n",
       "    </tr>\n",
       "  </tbody>\n",
       "</table>\n",
       "</div>"
      ]
     },
     "execution_count": 16,
     "metadata": {},
     "output_type": "execute_result"
    }
   ],
   "execution_count": 16
  },
  {
   "metadata": {},
   "cell_type": "markdown",
   "source": [
    "## Process Noise Covariance Matrix\n",
    "The diagonal elements contain variances for each state variable and off-diagonal elements contain covariances between different state variables. \n",
    "We can start off with diagonal matrix with small positive values. Consider the maximum expected change in each state variable. Set diagonal elements to (max_change/3)² to cover 99.7% of possible variations. Adjust based on system performance.\n",
    "\n",
    "sources: [how to initialise error covariance matrix and process noise covariance matrix](https://www.researchgate.net/post/How-to-initialize-the-error-covariance-matrix-and-process-noise-covariance-matrix-How-are-they-different-and-in-what-way-they-impact-the-filter)\n",
    "\n"
   ],
   "id": "a154dff6694c58a2"
  },
  {
   "metadata": {
    "ExecuteTime": {
     "end_time": "2024-11-24T17:15:32.668387Z",
     "start_time": "2024-11-24T17:15:32.528165Z"
    }
   },
   "cell_type": "code",
   "source": [
    "measurement_labels = ['a_x','a_y','a_z']\n",
    "acc_measurements = np.array(df[measurement_labels]) # each 'column' is a new measurement\n",
    "print(acc_measurements.shape)\n",
    "covariance_matrix = np.cov(acc_measurements, rowvar=False)\n",
    "print(\"Covariance Matrix:\")\n",
    "print(covariance_matrix)\n",
    "\n",
    "sns.heatmap(covariance_matrix, annot=True, fmt='g', xticklabels=measurement_labels, yticklabels=measurement_labels)\n",
    "plt.show()"
   ],
   "id": "b1989d4027c635da",
   "outputs": [
    {
     "name": "stdout",
     "output_type": "stream",
     "text": [
      "(391, 3)\n",
      "Covariance Matrix:\n",
      "[[ 0.00934245 -0.00444168 -0.00285434]\n",
      " [-0.00444168  0.01570357  0.0005241 ]\n",
      " [-0.00285434  0.0005241   0.02006973]]\n"
     ]
    },
    {
     "data": {
      "text/plain": [
       "<Figure size 640x480 with 2 Axes>"
      ],
      "image/png": "[encoded data removed]"
     },
     "metadata": {},
     "output_type": "display_data"
    }
   ],
   "execution_count": 15
  },
  {
   "metadata": {},
   "cell_type": "markdown",
   "source": [
    "### Measurement Noise Covariance Matrix\n",
    "We can use manufacturer-provided accuracy specifications,\n",
    "\n",
    "$$R = \\begin{bmatrix}\n",
    "\\sigma_1^2 &0&0\\\\\n",
    "0&\\sigma_2^2&0\\\\\n",
    "0&0&\\sigma_3^2\\end{bmatrix}$$\n",
    "\n",
    "where $\\sigma_i$ is the sensor's standard deviation. Alternatively,\n",
    "\n",
    "1. Take multiple static measurements\n",
    "2. Calculate variance of measurements\n",
    "3. Use these variances as diagonal elements of R\n",
    "\n"
   ],
   "id": "db0d7df81f394231"
  },
  {
   "metadata": {
    "ExecuteTime": {
     "end_time": "2024-11-24T17:31:33.930556Z",
     "start_time": "2024-11-24T17:31:33.926712Z"
    }
   },
   "cell_type": "code",
   "source": [
    "R_manufactured = np.array([\n",
    "    [0.01, 0, 0],\n",
    "    [0, 0.01, 0],\n",
    "    [0, 0, 0.01]\n",
    "])\n",
    "\n",
    "R_empirical = np.array([\n",
    "    [np.var(ax), 0, 0],\n",
    "    [0, np.var(ay), 0],\n",
    "    [0, 0, np.var(az)]\n",
    "])\n",
    "\n",
    "print(\"Manufacturer-proviced accuracy specifications gives: \\n\",R_manufactured)\n",
    "print(\"Empirically computed variances gives: \\n\",R_empirical)"
   ],
   "id": "1d38aab4598d4a4f",
   "outputs": [
    {
     "name": "stdout",
     "output_type": "stream",
     "text": [
      "Manufacturer-proviced accuracy specifications gives: \n",
      " [[0.01 0.   0.  ]\n",
      " [0.   0.01 0.  ]\n",
      " [0.   0.   0.01]]\n",
      "Empirically computed variances gives: \n",
      " [[0.00931856 0.         0.        ]\n",
      " [0.         0.01566341 0.        ]\n",
      " [0.         0.         0.0200184 ]]\n"
     ]
    }
   ],
   "execution_count": 20
  },
  {
   "metadata": {},
   "cell_type": "markdown",
   "source": [
    "### Initial State Covariance Matrix\n",
    "The most common approach is $$P=p\\begin{bmatrix}1&0&0\\\\0&1&0\\\\0&0&1\\end{bmatrix}$$\n",
    "with $p$ being some large number. Use larger values to indicate high initial uncertainty.\n"
   ],
   "id": "f86165ebea22874d"
  },
  {
   "metadata": {},
   "cell_type": "code",
   "outputs": [],
   "execution_count": null,
   "source": "",
   "id": "16bc6070a9fa9bb0"
  }
 ],
 "metadata": {
  "kernelspec": {
   "display_name": "Python 3",
   "language": "python",
   "name": "python3"
  },
  "language_info": {
   "codemirror_mode": {
    "name": "ipython",
    "version": 2
   },
   "file_extension": ".py",
   "mimetype": "text/x-python",
   "name": "python",
   "nbconvert_exporter": "python",
   "pygments_lexer": "ipython2",
   "version": "2.7.6"
  }
 },
 "nbformat": 4,
 "nbformat_minor": 5
}
