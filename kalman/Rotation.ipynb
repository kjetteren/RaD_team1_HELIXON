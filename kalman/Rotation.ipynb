{
 "cells": [
  {
   "cell_type": "markdown",
   "metadata": {},
   "source": [
    "Send Help :("
   ]
  },
  {
   "cell_type": "code",
   "execution_count": 9,
   "metadata": {},
   "outputs": [],
   "source": [
    "import os\n",
    "import pandas as pd\n",
    "import numpy as np\n",
    "import matplotlib.pyplot as plt\n",
    "from filterpy.kalman import UnscentedKalmanFilter as UKF\n",
    "from filterpy.kalman import MerweScaledSigmaPoints\n",
    "import view_plot"
   ]
  },
  {
   "cell_type": "code",
   "execution_count": 10,
   "metadata": {},
   "outputs": [
    {
     "name": "stdout",
     "output_type": "stream",
     "text": [
      "Current Working Directory: d:\\SPAI_Lab\\Project\\HELIXON\\RaD_team1_HELIXON\\kalman\n",
      "Found file: d:\\SPAI_Lab\\Project\\HELIXON\\RaD_team1_HELIXON\\kalman\\../utils/stepper_rotation_data/rotation_x.csv\n",
      "Found file: d:\\SPAI_Lab\\Project\\HELIXON\\RaD_team1_HELIXON\\kalman\\../utils/stepper_rotation_data/rotation_y.csv\n",
      "Found file: d:\\SPAI_Lab\\Project\\HELIXON\\RaD_team1_HELIXON\\kalman\\../utils/stepper_rotation_data/rotation_z.csv\n"
     ]
    }
   ],
   "source": [
    "# Checking and printing the current working directory\n",
    "print(f\"Current Working Directory: {os.getcwd()}\")\n",
    "\n",
    "# Define file path relative to the current working directory\n",
    "data_file_path_x = \"../utils/stepper_rotation_data/rotation_x.csv\"\n",
    "data_file_path_y = \"../utils/stepper_rotation_data/rotation_y.csv\"\n",
    "data_file_path_z = \"../utils/stepper_rotation_data/rotation_z.csv\"\n",
    "full_data_file_path_x = os.path.join(os.getcwd(), data_file_path_x)\n",
    "full_data_file_path_y = os.path.join(os.getcwd(), data_file_path_y)\n",
    "full_data_file_path_z = os.path.join(os.getcwd(), data_file_path_z)\n",
    "\n",
    "# Checking if the path exists\n",
    "if not os.path.exists(full_data_file_path_x):\n",
    "    print(f\"File not found: {full_data_file_path_x}\")\n",
    "elif not os.path.exists(full_data_file_path_y):\n",
    "    print(f\"File not found: {full_data_file_path_y}\")\n",
    "elif not os.path.exists(full_data_file_path_z):\n",
    "    print(f\"File not found: {full_data_file_path_z}\")\n",
    "else:\n",
    "    print(f\"Found file: {full_data_file_path_x}\")\n",
    "    print(f\"Found file: {full_data_file_path_y}\")\n",
    "    print(f\"Found file: {full_data_file_path_z}\")\n",
    "\n",
    "def read_csv(file_name):\n",
    "    # Reading the CSV file\n",
    "    sensor_data_df = pd.read_csv(file_name)\n",
    "\n",
    "    # Assuming the dataframe includes columns 'Quaternion_W', 'Quaternion_X', 'Quaternion_Y', 'Quaternion_Z' for quaternions\n",
    "    quaternion_data = sensor_data_df[['Quaternion_W', 'Quaternion_X', 'Quaternion_Y', 'Quaternion_Z']].values\n",
    "\n",
    "    return quaternion_data\n",
    "\n",
    "# Initialize and configure Unscented Kalman Filter (UKF)\n",
    "dim_x = 4\n",
    "dim_z = 4\n",
    "points = MerweScaledSigmaPoints(n=dim_x, alpha=0.1, beta=2.0, kappa=0.0)\n",
    "ukf = UKF(dim_x=dim_x, dim_z=dim_z, fx=lambda x, dt: x, hx=lambda x: x, dt=1/25, points=points)\n",
    "ukf.x = np.array([1, 0, 0, 0])  # Initial state\n",
    "ukf.P *= 0.1  # Initial covariance\n",
    "    \n"
   ]
  },
  {
   "cell_type": "code",
   "execution_count": 11,
   "metadata": {},
   "outputs": [],
   "source": [
    "def quaternion_to_euler_angles(q):\n",
    "    \"\"\"\n",
    "    Convert quaternion to Euler angles (roll, pitch, yaw) in radians.\n",
    "    Quaternion format assumed as [w, x, y, z].\n",
    "    \"\"\"\n",
    "    w, x, y, z = q\n",
    "    # Roll (x-axis rotation)\n",
    "    sinr_cosp = 2 * (w * x + y * z)\n",
    "    cosr_cosp = 1 - 2 * (x * x + y * y)\n",
    "    roll = np.arctan2(sinr_cosp, cosr_cosp)\n",
    "\n",
    "    # Pitch (y-axis rotation)\n",
    "    sinp = 2 * (w * y - z * x)\n",
    "    pitch = np.arcsin(sinp) if abs(sinp) <= 1 else np.pi / 2 * np.sign(sinp)\n",
    "\n",
    "    # Yaw (z-axis rotation)\n",
    "    siny_cosp = 2 * (w * z + x * y)\n",
    "    cosy_cosp = 1 - 2 * (y * y + z * z)\n",
    "    yaw = np.arctan2(siny_cosp, cosy_cosp)\n",
    "\n",
    "    return roll, pitch, yaw\n",
    "\n",
    "\n",
    "def plot_euler_angles_over_time(quaternion_data):\n",
    "    # Initialize lists to store Euler angles over time\n",
    "    rolls = []\n",
    "    pitches = []\n",
    "    yaws = []\n",
    "\n",
    "    for q in quaternion_data:\n",
    "        roll, pitch, yaw = quaternion_to_euler_angles(q)\n",
    "        rolls.append(np.degrees(roll))\n",
    "        pitches.append(np.degrees(pitch))\n",
    "        yaws.append(np.degrees(yaw))\n",
    "\n",
    "    # Plotting Roll\n",
    "    plt.figure(figsize=(10, 6))\n",
    "    plt.plot(rolls, label='Roll', color='r')\n",
    "    plt.title('Roll Over Time')\n",
    "    plt.xlabel('Time Step')\n",
    "    plt.ylabel('Angle (°)')\n",
    "    plt.legend()\n",
    "    plt.grid(True)\n",
    "    plt.show()\n",
    "\n",
    "    # Plotting Pitch\n",
    "    plt.figure(figsize=(10, 6))\n",
    "    plt.plot(pitches, label='Pitch', color='g')\n",
    "    plt.title('Pitch Over Time')\n",
    "    plt.xlabel('Time Step')\n",
    "    plt.ylabel('Angle (°)')\n",
    "    plt.legend()\n",
    "    plt.grid(True)\n",
    "    plt.show()\n",
    "\n",
    "    # Plotting Yaw\n",
    "    plt.figure(figsize=(10, 6))\n",
    "    plt.plot(yaws, label='Yaw', color='b')\n",
    "    plt.title('Yaw Over Time')\n",
    "    plt.xlabel('Time Step')\n",
    "    plt.ylabel('Angle (°)')\n",
    "    plt.legend()\n",
    "    plt.grid(True)\n",
    "    plt.show()\n",
    "\n",
    "\n",
    "def plot_euler_angles_3d(quaternion_data, step):\n",
    "    # Initialize lists to store Euler angles over time\n",
    "    rolls = []\n",
    "    pitches = []\n",
    "    yaws = []\n",
    "\n",
    "    for q in quaternion_data:\n",
    "        roll, pitch, yaw = quaternion_to_euler_angles(q)\n",
    "        rolls.append(roll)\n",
    "        pitches.append(pitch)\n",
    "        yaws.append(yaw)\n",
    "    \n",
    "    plot = view_plot.generate_plot(rolls,pitches,yaws,step)\n",
    "    plot.show()\n"
   ]
  },
  {
   "cell_type": "markdown",
   "metadata": {},
   "source": [
    "DATA X"
   ]
  },
  {
   "cell_type": "code",
   "execution_count": 16,
   "metadata": {},
   "outputs": [
    {
     "data": {
      "application/vnd.plotly.v1+json": {
       "config": {
        "plotlyServerURL": "https://plot.ly"
       },
       "data": [
        {
         "line": {
          "color": "blue",
          "width": 5
         },
         "mode": "lines",
         "name": "Vector",
         "type": "scatter3d",
         "x": [
          0,
          0.5210086446974976
         ],
         "y": [
          0,
          -0.49817081365732474
         ],
         "z": [
          0,
          0.6930915037500283
         ]
        },
        {
         "anchor": "tip",
         "colorscale": [
          [
           0,
           "blue"
          ],
          [
           1,
           "blue"
          ]
         ],
         "name": "Arrowhead",
         "showscale": false,
         "sizemode": "absolute",
         "sizeref": 0.3,
         "type": "cone",
         "u": [
          0.5210086446974976
         ],
         "v": [
          -0.49817081365732474
         ],
         "w": [
          0.6930915037500283
         ],
         "x": [
          0.5210086446974976
         ],
         "y": [
          -0.49817081365732474
         ],
         "z": [
          0.6930915037500283
         ]
        }
       ],
       "frames": [
        {
         "data": [
          {
           "line": {
            "color": "blue",
            "width": 5
           },
           "mode": "lines",
           "type": "scatter3d",
           "x": [
            0,
            0.5210086446974976
           ],
           "y": [
            0,
            -0.49817081365732474
           ],
           "z": [
            0,
            0.6930915037500283
           ]
          },
          {
           "anchor": "tip",
           "colorscale": [
            [
             0,
             "blue"
            ],
            [
             1,
             "blue"
            ]
           ],
           "showscale": false,
           "sizemode": "absolute",
           "sizeref": 0.3,
           "type": "cone",
           "u": [
            0.5210086446974976
           ],
           "v": [
            -0.49817081365732474
           ],
           "w": [
            0.6930915037500283
           ],
           "x": [
            0.5210086446974976
           ],
           "y": [
            -0.49817081365732474
           ],
           "z": [
            0.6930915037500283
           ]
          }
         ],
         "name": "frame0"
        },
        {
         "data": [
          {
           "line": {
            "color": "blue",
            "width": 5
           },
           "mode": "lines",
           "type": "scatter3d",
           "x": [
            0,
            0.6368109533479753
           ],
           "y": [
            0,
            -0.7596775474815339
           ],
           "z": [
            0,
            0.13176431060224347
           ]
          },
          {
           "anchor": "tip",
           "colorscale": [
            [
             0,
             "blue"
            ],
            [
             1,
             "blue"
            ]
           ],
           "showscale": false,
           "sizemode": "absolute",
           "sizeref": 0.3,
           "type": "cone",
           "u": [
            0.6368109533479753
           ],
           "v": [
            -0.7596775474815339
           ],
           "w": [
            0.13176431060224347
           ],
           "x": [
            0.6368109533479753
           ],
           "y": [
            -0.7596775474815339
           ],
           "z": [
            0.13176431060224347
           ]
          }
         ],
         "name": "frame10"
        },
        {
         "data": [
          {
           "line": {
            "color": "blue",
            "width": 5
           },
           "mode": "lines",
           "type": "scatter3d",
           "x": [
            0,
            0.6368090904443323
           ],
           "y": [
            0,
            -0.7596868082661521
           ],
           "z": [
            0,
            0.13171991373307618
           ]
          },
          {
           "anchor": "tip",
           "colorscale": [
            [
             0,
             "blue"
            ],
            [
             1,
             "blue"
            ]
           ],
           "showscale": false,
           "sizemode": "absolute",
           "sizeref": 0.3,
           "type": "cone",
           "u": [
            0.6368090904443323
           ],
           "v": [
            -0.7596868082661521
           ],
           "w": [
            0.13171991373307618
           ],
           "x": [
            0.6368090904443323
           ],
           "y": [
            -0.7596868082661521
           ],
           "z": [
            0.13171991373307618
           ]
          }
         ],
         "name": "frame20"
        },
        {
         "data": [
          {
           "line": {
            "color": "blue",
            "width": 5
           },
           "mode": "lines",
           "type": "scatter3d",
           "x": [
            0,
            0.6368090903211224
           ],
           "y": [
            0,
            -0.7596868088783136
           ],
           "z": [
            0,
            0.13171991079813578
           ]
          },
          {
           "anchor": "tip",
           "colorscale": [
            [
             0,
             "blue"
            ],
            [
             1,
             "blue"
            ]
           ],
           "showscale": false,
           "sizemode": "absolute",
           "sizeref": 0.3,
           "type": "cone",
           "u": [
            0.6368090903211224
           ],
           "v": [
            -0.7596868088783136
           ],
           "w": [
            0.13171991079813578
           ],
           "x": [
            0.6368090903211224
           ],
           "y": [
            -0.7596868088783136
           ],
           "z": [
            0.13171991079813578
           ]
          }
         ],
         "name": "frame30"
        },
        {
         "data": [
          {
           "line": {
            "color": "blue",
            "width": 5
           },
           "mode": "lines",
           "type": "scatter3d",
           "x": [
            0,
            0.6368090903211128
           ],
           "y": [
            0,
            -0.7596868088783568
           ],
           "z": [
            0,
            0.131719910797934
           ]
          },
          {
           "anchor": "tip",
           "colorscale": [
            [
             0,
             "blue"
            ],
            [
             1,
             "blue"
            ]
           ],
           "showscale": false,
           "sizemode": "absolute",
           "sizeref": 0.3,
           "type": "cone",
           "u": [
            0.6368090903211128
           ],
           "v": [
            -0.7596868088783568
           ],
           "w": [
            0.131719910797934
           ],
           "x": [
            0.6368090903211128
           ],
           "y": [
            -0.7596868088783568
           ],
           "z": [
            0.131719910797934
           ]
          }
         ],
         "name": "frame40"
        },
        {
         "data": [
          {
           "line": {
            "color": "blue",
            "width": 5
           },
           "mode": "lines",
           "type": "scatter3d",
           "x": [
            0,
            0.6368090903211163
           ],
           "y": [
            0,
            -0.7596868088783542
           ],
           "z": [
            0,
            0.131719910797933
           ]
          },
          {
           "anchor": "tip",
           "colorscale": [
            [
             0,
             "blue"
            ],
            [
             1,
             "blue"
            ]
           ],
           "showscale": false,
           "sizemode": "absolute",
           "sizeref": 0.3,
           "type": "cone",
           "u": [
            0.6368090903211163
           ],
           "v": [
            -0.7596868088783542
           ],
           "w": [
            0.131719910797933
           ],
           "x": [
            0.6368090903211163
           ],
           "y": [
            -0.7596868088783542
           ],
           "z": [
            0.131719910797933
           ]
          }
         ],
         "name": "frame50"
        },
        {
         "data": [
          {
           "line": {
            "color": "blue",
            "width": 5
           },
           "mode": "lines",
           "type": "scatter3d",
           "x": [
            0,
            0.6368090903211132
           ],
           "y": [
            0,
            -0.7596868088783566
           ],
           "z": [
            0,
            0.13171991079793344
           ]
          },
          {
           "anchor": "tip",
           "colorscale": [
            [
             0,
             "blue"
            ],
            [
             1,
             "blue"
            ]
           ],
           "showscale": false,
           "sizemode": "absolute",
           "sizeref": 0.3,
           "type": "cone",
           "u": [
            0.6368090903211132
           ],
           "v": [
            -0.7596868088783566
           ],
           "w": [
            0.13171991079793344
           ],
           "x": [
            0.6368090903211132
           ],
           "y": [
            -0.7596868088783566
           ],
           "z": [
            0.13171991079793344
           ]
          }
         ],
         "name": "frame60"
        },
        {
         "data": [
          {
           "line": {
            "color": "blue",
            "width": 5
           },
           "mode": "lines",
           "type": "scatter3d",
           "x": [
            0,
            0.6368090903211128
           ],
           "y": [
            0,
            -0.7596868088783568
           ],
           "z": [
            0,
            0.131719910797934
           ]
          },
          {
           "anchor": "tip",
           "colorscale": [
            [
             0,
             "blue"
            ],
            [
             1,
             "blue"
            ]
           ],
           "showscale": false,
           "sizemode": "absolute",
           "sizeref": 0.3,
           "type": "cone",
           "u": [
            0.6368090903211128
           ],
           "v": [
            -0.7596868088783568
           ],
           "w": [
            0.131719910797934
           ],
           "x": [
            0.6368090903211128
           ],
           "y": [
            -0.7596868088783568
           ],
           "z": [
            0.131719910797934
           ]
          }
         ],
         "name": "frame70"
        },
        {
         "data": [
          {
           "line": {
            "color": "blue",
            "width": 5
           },
           "mode": "lines",
           "type": "scatter3d",
           "x": [
            0,
            0.6368090903211163
           ],
           "y": [
            0,
            -0.7596868088783542
           ],
           "z": [
            0,
            0.131719910797933
           ]
          },
          {
           "anchor": "tip",
           "colorscale": [
            [
             0,
             "blue"
            ],
            [
             1,
             "blue"
            ]
           ],
           "showscale": false,
           "sizemode": "absolute",
           "sizeref": 0.3,
           "type": "cone",
           "u": [
            0.6368090903211163
           ],
           "v": [
            -0.7596868088783542
           ],
           "w": [
            0.131719910797933
           ],
           "x": [
            0.6368090903211163
           ],
           "y": [
            -0.7596868088783542
           ],
           "z": [
            0.131719910797933
           ]
          }
         ],
         "name": "frame80"
        },
        {
         "data": [
          {
           "line": {
            "color": "blue",
            "width": 5
           },
           "mode": "lines",
           "type": "scatter3d",
           "x": [
            0,
            0.6368090903211132
           ],
           "y": [
            0,
            -0.7596868088783566
           ],
           "z": [
            0,
            0.13171991079793344
           ]
          },
          {
           "anchor": "tip",
           "colorscale": [
            [
             0,
             "blue"
            ],
            [
             1,
             "blue"
            ]
           ],
           "showscale": false,
           "sizemode": "absolute",
           "sizeref": 0.3,
           "type": "cone",
           "u": [
            0.6368090903211132
           ],
           "v": [
            -0.7596868088783566
           ],
           "w": [
            0.13171991079793344
           ],
           "x": [
            0.6368090903211132
           ],
           "y": [
            -0.7596868088783566
           ],
           "z": [
            0.13171991079793344
           ]
          }
         ],
         "name": "frame90"
        },
        {
         "data": [
          {
           "line": {
            "color": "blue",
            "width": 5
           },
           "mode": "lines",
           "type": "scatter3d",
           "x": [
            0,
            0.6368090903211128
           ],
           "y": [
            0,
            -0.7596868088783568
           ],
           "z": [
            0,
            0.131719910797934
           ]
          },
          {
           "anchor": "tip",
           "colorscale": [
            [
             0,
             "blue"
            ],
            [
             1,
             "blue"
            ]
           ],
           "showscale": false,
           "sizemode": "absolute",
           "sizeref": 0.3,
           "type": "cone",
           "u": [
            0.6368090903211128
           ],
           "v": [
            -0.7596868088783568
           ],
           "w": [
            0.131719910797934
           ],
           "x": [
            0.6368090903211128
           ],
           "y": [
            -0.7596868088783568
           ],
           "z": [
            0.131719910797934
           ]
          }
         ],
         "name": "frame100"
        },
        {
         "data": [
          {
           "line": {
            "color": "blue",
            "width": 5
           },
           "mode": "lines",
           "type": "scatter3d",
           "x": [
            0,
            0.6368090903211163
           ],
           "y": [
            0,
            -0.7596868088783542
           ],
           "z": [
            0,
            0.131719910797933
           ]
          },
          {
           "anchor": "tip",
           "colorscale": [
            [
             0,
             "blue"
            ],
            [
             1,
             "blue"
            ]
           ],
           "showscale": false,
           "sizemode": "absolute",
           "sizeref": 0.3,
           "type": "cone",
           "u": [
            0.6368090903211163
           ],
           "v": [
            -0.7596868088783542
           ],
           "w": [
            0.131719910797933
           ],
           "x": [
            0.6368090903211163
           ],
           "y": [
            -0.7596868088783542
           ],
           "z": [
            0.131719910797933
           ]
          }
         ],
         "name": "frame110"
        },
        {
         "data": [
          {
           "line": {
            "color": "blue",
            "width": 5
           },
           "mode": "lines",
           "type": "scatter3d",
           "x": [
            0,
            0.6368090903211132
           ],
           "y": [
            0,
            -0.7596868088783566
           ],
           "z": [
            0,
            0.13171991079793344
           ]
          },
          {
           "anchor": "tip",
           "colorscale": [
            [
             0,
             "blue"
            ],
            [
             1,
             "blue"
            ]
           ],
           "showscale": false,
           "sizemode": "absolute",
           "sizeref": 0.3,
           "type": "cone",
           "u": [
            0.6368090903211132
           ],
           "v": [
            -0.7596868088783566
           ],
           "w": [
            0.13171991079793344
           ],
           "x": [
            0.6368090903211132
           ],
           "y": [
            -0.7596868088783566
           ],
           "z": [
            0.13171991079793344
           ]
          }
         ],
         "name": "frame120"
        },
        {
         "data": [
          {
           "line": {
            "color": "blue",
            "width": 5
           },
           "mode": "lines",
           "type": "scatter3d",
           "x": [
            0,
            0.6368090903211128
           ],
           "y": [
            0,
            -0.7596868088783568
           ],
           "z": [
            0,
            0.131719910797934
           ]
          },
          {
           "anchor": "tip",
           "colorscale": [
            [
             0,
             "blue"
            ],
            [
             1,
             "blue"
            ]
           ],
           "showscale": false,
           "sizemode": "absolute",
           "sizeref": 0.3,
           "type": "cone",
           "u": [
            0.6368090903211128
           ],
           "v": [
            -0.7596868088783568
           ],
           "w": [
            0.131719910797934
           ],
           "x": [
            0.6368090903211128
           ],
           "y": [
            -0.7596868088783568
           ],
           "z": [
            0.131719910797934
           ]
          }
         ],
         "name": "frame130"
        },
        {
         "data": [
          {
           "line": {
            "color": "blue",
            "width": 5
           },
           "mode": "lines",
           "type": "scatter3d",
           "x": [
            0,
            0.6368090903211163
           ],
           "y": [
            0,
            -0.7596868088783542
           ],
           "z": [
            0,
            0.131719910797933
           ]
          },
          {
           "anchor": "tip",
           "colorscale": [
            [
             0,
             "blue"
            ],
            [
             1,
             "blue"
            ]
           ],
           "showscale": false,
           "sizemode": "absolute",
           "sizeref": 0.3,
           "type": "cone",
           "u": [
            0.6368090903211163
           ],
           "v": [
            -0.7596868088783542
           ],
           "w": [
            0.131719910797933
           ],
           "x": [
            0.6368090903211163
           ],
           "y": [
            -0.7596868088783542
           ],
           "z": [
            0.131719910797933
           ]
          }
         ],
         "name": "frame140"
        },
        {
         "data": [
          {
           "line": {
            "color": "blue",
            "width": 5
           },
           "mode": "lines",
           "type": "scatter3d",
           "x": [
            0,
            0.6368090903211132
           ],
           "y": [
            0,
            -0.7596868088783566
           ],
           "z": [
            0,
            0.13171991079793344
           ]
          },
          {
           "anchor": "tip",
           "colorscale": [
            [
             0,
             "blue"
            ],
            [
             1,
             "blue"
            ]
           ],
           "showscale": false,
           "sizemode": "absolute",
           "sizeref": 0.3,
           "type": "cone",
           "u": [
            0.6368090903211132
           ],
           "v": [
            -0.7596868088783566
           ],
           "w": [
            0.13171991079793344
           ],
           "x": [
            0.6368090903211132
           ],
           "y": [
            -0.7596868088783566
           ],
           "z": [
            0.13171991079793344
           ]
          }
         ],
         "name": "frame150"
        },
        {
         "data": [
          {
           "line": {
            "color": "blue",
            "width": 5
           },
           "mode": "lines",
           "type": "scatter3d",
           "x": [
            0,
            0.6368090903211128
           ],
           "y": [
            0,
            -0.7596868088783568
           ],
           "z": [
            0,
            0.131719910797934
           ]
          },
          {
           "anchor": "tip",
           "colorscale": [
            [
             0,
             "blue"
            ],
            [
             1,
             "blue"
            ]
           ],
           "showscale": false,
           "sizemode": "absolute",
           "sizeref": 0.3,
           "type": "cone",
           "u": [
            0.6368090903211128
           ],
           "v": [
            -0.7596868088783568
           ],
           "w": [
            0.131719910797934
           ],
           "x": [
            0.6368090903211128
           ],
           "y": [
            -0.7596868088783568
           ],
           "z": [
            0.131719910797934
           ]
          }
         ],
         "name": "frame160"
        },
        {
         "data": [
          {
           "line": {
            "color": "blue",
            "width": 5
           },
           "mode": "lines",
           "type": "scatter3d",
           "x": [
            0,
            0.6368090903211163
           ],
           "y": [
            0,
            -0.7596868088783542
           ],
           "z": [
            0,
            0.131719910797933
           ]
          },
          {
           "anchor": "tip",
           "colorscale": [
            [
             0,
             "blue"
            ],
            [
             1,
             "blue"
            ]
           ],
           "showscale": false,
           "sizemode": "absolute",
           "sizeref": 0.3,
           "type": "cone",
           "u": [
            0.6368090903211163
           ],
           "v": [
            -0.7596868088783542
           ],
           "w": [
            0.131719910797933
           ],
           "x": [
            0.6368090903211163
           ],
           "y": [
            -0.7596868088783542
           ],
           "z": [
            0.131719910797933
           ]
          }
         ],
         "name": "frame170"
        },
        {
         "data": [
          {
           "line": {
            "color": "blue",
            "width": 5
           },
           "mode": "lines",
           "type": "scatter3d",
           "x": [
            0,
            0.6368090903211132
           ],
           "y": [
            0,
            -0.7596868088783566
           ],
           "z": [
            0,
            0.13171991079793344
           ]
          },
          {
           "anchor": "tip",
           "colorscale": [
            [
             0,
             "blue"
            ],
            [
             1,
             "blue"
            ]
           ],
           "showscale": false,
           "sizemode": "absolute",
           "sizeref": 0.3,
           "type": "cone",
           "u": [
            0.6368090903211132
           ],
           "v": [
            -0.7596868088783566
           ],
           "w": [
            0.13171991079793344
           ],
           "x": [
            0.6368090903211132
           ],
           "y": [
            -0.7596868088783566
           ],
           "z": [
            0.13171991079793344
           ]
          }
         ],
         "name": "frame180"
        },
        {
         "data": [
          {
           "line": {
            "color": "blue",
            "width": 5
           },
           "mode": "lines",
           "type": "scatter3d",
           "x": [
            0,
            0.6368090903211128
           ],
           "y": [
            0,
            -0.7596868088783568
           ],
           "z": [
            0,
            0.131719910797934
           ]
          },
          {
           "anchor": "tip",
           "colorscale": [
            [
             0,
             "blue"
            ],
            [
             1,
             "blue"
            ]
           ],
           "showscale": false,
           "sizemode": "absolute",
           "sizeref": 0.3,
           "type": "cone",
           "u": [
            0.6368090903211128
           ],
           "v": [
            -0.7596868088783568
           ],
           "w": [
            0.131719910797934
           ],
           "x": [
            0.6368090903211128
           ],
           "y": [
            -0.7596868088783568
           ],
           "z": [
            0.131719910797934
           ]
          }
         ],
         "name": "frame190"
        },
        {
         "data": [
          {
           "line": {
            "color": "blue",
            "width": 5
           },
           "mode": "lines",
           "type": "scatter3d",
           "x": [
            0,
            0.6368090903211163
           ],
           "y": [
            0,
            -0.7596868088783542
           ],
           "z": [
            0,
            0.131719910797933
           ]
          },
          {
           "anchor": "tip",
           "colorscale": [
            [
             0,
             "blue"
            ],
            [
             1,
             "blue"
            ]
           ],
           "showscale": false,
           "sizemode": "absolute",
           "sizeref": 0.3,
           "type": "cone",
           "u": [
            0.6368090903211163
           ],
           "v": [
            -0.7596868088783542
           ],
           "w": [
            0.131719910797933
           ],
           "x": [
            0.6368090903211163
           ],
           "y": [
            -0.7596868088783542
           ],
           "z": [
            0.131719910797933
           ]
          }
         ],
         "name": "frame200"
        },
        {
         "data": [
          {
           "line": {
            "color": "blue",
            "width": 5
           },
           "mode": "lines",
           "type": "scatter3d",
           "x": [
            0,
            0.6368090903211132
           ],
           "y": [
            0,
            -0.7596868088783566
           ],
           "z": [
            0,
            0.13171991079793344
           ]
          },
          {
           "anchor": "tip",
           "colorscale": [
            [
             0,
             "blue"
            ],
            [
             1,
             "blue"
            ]
           ],
           "showscale": false,
           "sizemode": "absolute",
           "sizeref": 0.3,
           "type": "cone",
           "u": [
            0.6368090903211132
           ],
           "v": [
            -0.7596868088783566
           ],
           "w": [
            0.13171991079793344
           ],
           "x": [
            0.6368090903211132
           ],
           "y": [
            -0.7596868088783566
           ],
           "z": [
            0.13171991079793344
           ]
          }
         ],
         "name": "frame210"
        },
        {
         "data": [
          {
           "line": {
            "color": "blue",
            "width": 5
           },
           "mode": "lines",
           "type": "scatter3d",
           "x": [
            0,
            0.6368090903211128
           ],
           "y": [
            0,
            -0.7596868088783568
           ],
           "z": [
            0,
            0.131719910797934
           ]
          },
          {
           "anchor": "tip",
           "colorscale": [
            [
             0,
             "blue"
            ],
            [
             1,
             "blue"
            ]
           ],
           "showscale": false,
           "sizemode": "absolute",
           "sizeref": 0.3,
           "type": "cone",
           "u": [
            0.6368090903211128
           ],
           "v": [
            -0.7596868088783568
           ],
           "w": [
            0.131719910797934
           ],
           "x": [
            0.6368090903211128
           ],
           "y": [
            -0.7596868088783568
           ],
           "z": [
            0.131719910797934
           ]
          }
         ],
         "name": "frame220"
        },
        {
         "data": [
          {
           "line": {
            "color": "blue",
            "width": 5
           },
           "mode": "lines",
           "type": "scatter3d",
           "x": [
            0,
            0.6368090903211163
           ],
           "y": [
            0,
            -0.7596868088783542
           ],
           "z": [
            0,
            0.131719910797933
           ]
          },
          {
           "anchor": "tip",
           "colorscale": [
            [
             0,
             "blue"
            ],
            [
             1,
             "blue"
            ]
           ],
           "showscale": false,
           "sizemode": "absolute",
           "sizeref": 0.3,
           "type": "cone",
           "u": [
            0.6368090903211163
           ],
           "v": [
            -0.7596868088783542
           ],
           "w": [
            0.131719910797933
           ],
           "x": [
            0.6368090903211163
           ],
           "y": [
            -0.7596868088783542
           ],
           "z": [
            0.131719910797933
           ]
          }
         ],
         "name": "frame230"
        },
        {
         "data": [
          {
           "line": {
            "color": "blue",
            "width": 5
           },
           "mode": "lines",
           "type": "scatter3d",
           "x": [
            0,
            0.3542868456590507
           ],
           "y": [
            0,
            -0.9261807114744135
           ],
           "z": [
            0,
            0.12911282153879622
           ]
          },
          {
           "anchor": "tip",
           "colorscale": [
            [
             0,
             "blue"
            ],
            [
             1,
             "blue"
            ]
           ],
           "showscale": false,
           "sizemode": "absolute",
           "sizeref": 0.3,
           "type": "cone",
           "u": [
            0.3542868456590507
           ],
           "v": [
            -0.9261807114744135
           ],
           "w": [
            0.12911282153879622
           ],
           "x": [
            0.3542868456590507
           ],
           "y": [
            -0.9261807114744135
           ],
           "z": [
            0.12911282153879622
           ]
          }
         ],
         "name": "frame240"
        },
        {
         "data": [
          {
           "line": {
            "color": "blue",
            "width": 5
           },
           "mode": "lines",
           "type": "scatter3d",
           "x": [
            0,
            -0.04457272142259014
           ],
           "y": [
            0,
            -0.9912777855367394
           ],
           "z": [
            0,
            0.1240226769843416
           ]
          },
          {
           "anchor": "tip",
           "colorscale": [
            [
             0,
             "blue"
            ],
            [
             1,
             "blue"
            ]
           ],
           "showscale": false,
           "sizemode": "absolute",
           "sizeref": 0.3,
           "type": "cone",
           "u": [
            -0.04457272142259014
           ],
           "v": [
            -0.9912777855367394
           ],
           "w": [
            0.1240226769843416
           ],
           "x": [
            -0.04457272142259014
           ],
           "y": [
            -0.9912777855367394
           ],
           "z": [
            0.1240226769843416
           ]
          }
         ],
         "name": "frame250"
        },
        {
         "data": [
          {
           "line": {
            "color": "blue",
            "width": 5
           },
           "mode": "lines",
           "type": "scatter3d",
           "x": [
            0,
            -0.4242991840317353
           ],
           "y": [
            0,
            -0.8976440893167692
           ],
           "z": [
            0,
            0.1191859527992794
           ]
          },
          {
           "anchor": "tip",
           "colorscale": [
            [
             0,
             "blue"
            ],
            [
             1,
             "blue"
            ]
           ],
           "showscale": false,
           "sizemode": "absolute",
           "sizeref": 0.3,
           "type": "cone",
           "u": [
            -0.4242991840317353
           ],
           "v": [
            -0.8976440893167692
           ],
           "w": [
            0.1191859527992794
           ],
           "x": [
            -0.4242991840317353
           ],
           "y": [
            -0.8976440893167692
           ],
           "z": [
            0.1191859527992794
           ]
          }
         ],
         "name": "frame260"
        },
        {
         "data": [
          {
           "line": {
            "color": "blue",
            "width": 5
           },
           "mode": "lines",
           "type": "scatter3d",
           "x": [
            0,
            -0.7459345054615834
           ],
           "y": [
            0,
            -0.6559370404584414
           ],
           "z": [
            0,
            0.11544831101581371
           ]
          },
          {
           "anchor": "tip",
           "colorscale": [
            [
             0,
             "blue"
            ],
            [
             1,
             "blue"
            ]
           ],
           "showscale": false,
           "sizemode": "absolute",
           "sizeref": 0.3,
           "type": "cone",
           "u": [
            -0.7459345054615834
           ],
           "v": [
            -0.6559370404584414
           ],
           "w": [
            0.11544831101581371
           ],
           "x": [
            -0.7459345054615834
           ],
           "y": [
            -0.6559370404584414
           ],
           "z": [
            0.11544831101581371
           ]
          }
         ],
         "name": "frame270"
        },
        {
         "data": [
          {
           "line": {
            "color": "blue",
            "width": 5
           },
           "mode": "lines",
           "type": "scatter3d",
           "x": [
            0,
            -0.948426271303608
           ],
           "y": [
            0,
            -0.29554597397286
           ],
           "z": [
            0,
            0.11463064672926157
           ]
          },
          {
           "anchor": "tip",
           "colorscale": [
            [
             0,
             "blue"
            ],
            [
             1,
             "blue"
            ]
           ],
           "showscale": false,
           "sizemode": "absolute",
           "sizeref": 0.3,
           "type": "cone",
           "u": [
            -0.948426271303608
           ],
           "v": [
            -0.29554597397286
           ],
           "w": [
            0.11463064672926157
           ],
           "x": [
            -0.948426271303608
           ],
           "y": [
            -0.29554597397286
           ],
           "z": [
            0.11463064672926157
           ]
          }
         ],
         "name": "frame280"
        },
        {
         "data": [
          {
           "line": {
            "color": "blue",
            "width": 5
           },
           "mode": "lines",
           "type": "scatter3d",
           "x": [
            0,
            -0.9851851160537133
           ],
           "y": [
            0,
            0.1261889744961217
           ],
           "z": [
            0,
            0.11613195004756005
           ]
          },
          {
           "anchor": "tip",
           "colorscale": [
            [
             0,
             "blue"
            ],
            [
             1,
             "blue"
            ]
           ],
           "showscale": false,
           "sizemode": "absolute",
           "sizeref": 0.3,
           "type": "cone",
           "u": [
            -0.9851851160537133
           ],
           "v": [
            0.1261889744961217
           ],
           "w": [
            0.11613195004756005
           ],
           "x": [
            -0.9851851160537133
           ],
           "y": [
            0.1261889744961217
           ],
           "z": [
            0.11613195004756005
           ]
          }
         ],
         "name": "frame290"
        },
        {
         "data": [
          {
           "line": {
            "color": "blue",
            "width": 5
           },
           "mode": "lines",
           "type": "scatter3d",
           "x": [
            0,
            -0.8522340940438835
           ],
           "y": [
            0,
            0.5096833724219985
           ],
           "z": [
            0,
            0.11798266324227535
           ]
          },
          {
           "anchor": "tip",
           "colorscale": [
            [
             0,
             "blue"
            ],
            [
             1,
             "blue"
            ]
           ],
           "showscale": false,
           "sizemode": "absolute",
           "sizeref": 0.3,
           "type": "cone",
           "u": [
            -0.8522340940438835
           ],
           "v": [
            0.5096833724219985
           ],
           "w": [
            0.11798266324227535
           ],
           "x": [
            -0.8522340940438835
           ],
           "y": [
            0.5096833724219985
           ],
           "z": [
            0.11798266324227535
           ]
          }
         ],
         "name": "frame300"
        },
        {
         "data": [
          {
           "line": {
            "color": "blue",
            "width": 5
           },
           "mode": "lines",
           "type": "scatter3d",
           "x": [
            0,
            -0.6449573964102961
           ],
           "y": [
            0,
            0.7550024484797511
           ],
           "z": [
            0,
            0.11832691834588141
           ]
          },
          {
           "anchor": "tip",
           "colorscale": [
            [
             0,
             "blue"
            ],
            [
             1,
             "blue"
            ]
           ],
           "showscale": false,
           "sizemode": "absolute",
           "sizeref": 0.3,
           "type": "cone",
           "u": [
            -0.6449573964102961
           ],
           "v": [
            0.7550024484797511
           ],
           "w": [
            0.11832691834588141
           ],
           "x": [
            -0.6449573964102961
           ],
           "y": [
            0.7550024484797511
           ],
           "z": [
            0.11832691834588141
           ]
          }
         ],
         "name": "frame310"
        },
        {
         "data": [
          {
           "line": {
            "color": "blue",
            "width": 5
           },
           "mode": "lines",
           "type": "scatter3d",
           "x": [
            0,
            -0.642589145293708
           ],
           "y": [
            0,
            0.7571892685106715
           ],
           "z": [
            0,
            0.11723310967033024
           ]
          },
          {
           "anchor": "tip",
           "colorscale": [
            [
             0,
             "blue"
            ],
            [
             1,
             "blue"
            ]
           ],
           "showscale": false,
           "sizemode": "absolute",
           "sizeref": 0.3,
           "type": "cone",
           "u": [
            -0.642589145293708
           ],
           "v": [
            0.7571892685106715
           ],
           "w": [
            0.11723310967033024
           ],
           "x": [
            -0.642589145293708
           ],
           "y": [
            0.7571892685106715
           ],
           "z": [
            0.11723310967033024
           ]
          }
         ],
         "name": "frame320"
        },
        {
         "data": [
          {
           "line": {
            "color": "blue",
            "width": 5
           },
           "mode": "lines",
           "type": "scatter3d",
           "x": [
            0,
            -0.6426343192104202
           ],
           "y": [
            0,
            0.7572720898551571
           ],
           "z": [
            0,
            0.11644790122351938
           ]
          },
          {
           "anchor": "tip",
           "colorscale": [
            [
             0,
             "blue"
            ],
            [
             1,
             "blue"
            ]
           ],
           "showscale": false,
           "sizemode": "absolute",
           "sizeref": 0.3,
           "type": "cone",
           "u": [
            -0.6426343192104202
           ],
           "v": [
            0.7572720898551571
           ],
           "w": [
            0.11644790122351938
           ],
           "x": [
            -0.6426343192104202
           ],
           "y": [
            0.7572720898551571
           ],
           "z": [
            0.11644790122351938
           ]
          }
         ],
         "name": "frame330"
        },
        {
         "data": [
          {
           "line": {
            "color": "blue",
            "width": 5
           },
           "mode": "lines",
           "type": "scatter3d",
           "x": [
            0,
            -0.8432619674954515
           ],
           "y": [
            0,
            0.5252579979882832
           ],
           "z": [
            0,
            0.1140758069225924
           ]
          },
          {
           "anchor": "tip",
           "colorscale": [
            [
             0,
             "blue"
            ],
            [
             1,
             "blue"
            ]
           ],
           "showscale": false,
           "sizemode": "absolute",
           "sizeref": 0.3,
           "type": "cone",
           "u": [
            -0.8432619674954515
           ],
           "v": [
            0.5252579979882832
           ],
           "w": [
            0.1140758069225924
           ],
           "x": [
            -0.8432619674954515
           ],
           "y": [
            0.5252579979882832
           ],
           "z": [
            0.1140758069225924
           ]
          }
         ],
         "name": "frame340"
        },
        {
         "data": [
          {
           "line": {
            "color": "blue",
            "width": 5
           },
           "mode": "lines",
           "type": "scatter3d",
           "x": [
            0,
            -0.9833072938300438
           ],
           "y": [
            0,
            0.14411501792589215
           ],
           "z": [
            0,
            0.11107487343614467
           ]
          },
          {
           "anchor": "tip",
           "colorscale": [
            [
             0,
             "blue"
            ],
            [
             1,
             "blue"
            ]
           ],
           "showscale": false,
           "sizemode": "absolute",
           "sizeref": 0.3,
           "type": "cone",
           "u": [
            -0.9833072938300438
           ],
           "v": [
            0.14411501792589215
           ],
           "w": [
            0.11107487343614467
           ],
           "x": [
            -0.9833072938300438
           ],
           "y": [
            0.14411501792589215
           ],
           "z": [
            0.11107487343614467
           ]
          }
         ],
         "name": "frame350"
        },
        {
         "data": [
          {
           "line": {
            "color": "blue",
            "width": 5
           },
           "mode": "lines",
           "type": "scatter3d",
           "x": [
            0,
            -0.9524067547346002
           ],
           "y": [
            0,
            -0.2837873447089264
           ],
           "z": [
            0,
            0.11129293112756247
           ]
          },
          {
           "anchor": "tip",
           "colorscale": [
            [
             0,
             "blue"
            ],
            [
             1,
             "blue"
            ]
           ],
           "showscale": false,
           "sizemode": "absolute",
           "sizeref": 0.3,
           "type": "cone",
           "u": [
            -0.9524067547346002
           ],
           "v": [
            -0.2837873447089264
           ],
           "w": [
            0.11129293112756247
           ],
           "x": [
            -0.9524067547346002
           ],
           "y": [
            -0.2837873447089264
           ],
           "z": [
            0.11129293112756247
           ]
          }
         ],
         "name": "frame360"
        },
        {
         "data": [
          {
           "line": {
            "color": "blue",
            "width": 5
           },
           "mode": "lines",
           "type": "scatter3d",
           "x": [
            0,
            -0.7577471355474739
           ],
           "y": [
            0,
            -0.6424668018192432
           ],
           "z": [
            0,
            0.1142614857673031
           ]
          },
          {
           "anchor": "tip",
           "colorscale": [
            [
             0,
             "blue"
            ],
            [
             1,
             "blue"
            ]
           ],
           "showscale": false,
           "sizemode": "absolute",
           "sizeref": 0.3,
           "type": "cone",
           "u": [
            -0.7577471355474739
           ],
           "v": [
            -0.6424668018192432
           ],
           "w": [
            0.1142614857673031
           ],
           "x": [
            -0.7577471355474739
           ],
           "y": [
            -0.6424668018192432
           ],
           "z": [
            0.1142614857673031
           ]
          }
         ],
         "name": "frame370"
        },
        {
         "data": [
          {
           "line": {
            "color": "blue",
            "width": 5
           },
           "mode": "lines",
           "type": "scatter3d",
           "x": [
            0,
            -0.44532963180075735
           ],
           "y": [
            0,
            -0.8873267435592713
           ],
           "z": [
            0,
            0.11971954395461437
           ]
          },
          {
           "anchor": "tip",
           "colorscale": [
            [
             0,
             "blue"
            ],
            [
             1,
             "blue"
            ]
           ],
           "showscale": false,
           "sizemode": "absolute",
           "sizeref": 0.3,
           "type": "cone",
           "u": [
            -0.44532963180075735
           ],
           "v": [
            -0.8873267435592713
           ],
           "w": [
            0.11971954395461437
           ],
           "x": [
            -0.44532963180075735
           ],
           "y": [
            -0.8873267435592713
           ],
           "z": [
            0.11971954395461437
           ]
          }
         ],
         "name": "frame380"
        },
        {
         "data": [
          {
           "line": {
            "color": "blue",
            "width": 5
           },
           "mode": "lines",
           "type": "scatter3d",
           "x": [
            0,
            -0.051845575602460905
           ],
           "y": [
            0,
            -0.9907084676761936
           ],
           "z": [
            0,
            0.12573292474581965
           ]
          },
          {
           "anchor": "tip",
           "colorscale": [
            [
             0,
             "blue"
            ],
            [
             1,
             "blue"
            ]
           ],
           "showscale": false,
           "sizemode": "absolute",
           "sizeref": 0.3,
           "type": "cone",
           "u": [
            -0.051845575602460905
           ],
           "v": [
            -0.9907084676761936
           ],
           "w": [
            0.12573292474581965
           ],
           "x": [
            -0.051845575602460905
           ],
           "y": [
            -0.9907084676761936
           ],
           "z": [
            0.12573292474581965
           ]
          }
         ],
         "name": "frame390"
        },
        {
         "data": [
          {
           "line": {
            "color": "blue",
            "width": 5
           },
           "mode": "lines",
           "type": "scatter3d",
           "x": [
            0,
            0.3498419068761932
           ],
           "y": [
            0,
            -0.9275315994973758
           ],
           "z": [
            0,
            0.1315133914362675
           ]
          },
          {
           "anchor": "tip",
           "colorscale": [
            [
             0,
             "blue"
            ],
            [
             1,
             "blue"
            ]
           ],
           "showscale": false,
           "sizemode": "absolute",
           "sizeref": 0.3,
           "type": "cone",
           "u": [
            0.3498419068761932
           ],
           "v": [
            -0.9275315994973758
           ],
           "w": [
            0.1315133914362675
           ],
           "x": [
            0.3498419068761932
           ],
           "y": [
            -0.9275315994973758
           ],
           "z": [
            0.1315133914362675
           ]
          }
         ],
         "name": "frame400"
        },
        {
         "data": [
          {
           "line": {
            "color": "blue",
            "width": 5
           },
           "mode": "lines",
           "type": "scatter3d",
           "x": [
            0,
            0.6386142298118643
           ],
           "y": [
            0,
            -0.7577203788896995
           ],
           "z": [
            0,
            0.1342821391587471
           ]
          },
          {
           "anchor": "tip",
           "colorscale": [
            [
             0,
             "blue"
            ],
            [
             1,
             "blue"
            ]
           ],
           "showscale": false,
           "sizemode": "absolute",
           "sizeref": 0.3,
           "type": "cone",
           "u": [
            0.6386142298118643
           ],
           "v": [
            -0.7577203788896995
           ],
           "w": [
            0.1342821391587471
           ],
           "x": [
            0.6386142298118643
           ],
           "y": [
            -0.7577203788896995
           ],
           "z": [
            0.1342821391587471
           ]
          }
         ],
         "name": "frame410"
        },
        {
         "data": [
          {
           "line": {
            "color": "blue",
            "width": 5
           },
           "mode": "lines",
           "type": "scatter3d",
           "x": [
            0,
            0.6404348997003955
           ],
           "y": [
            0,
            -0.7563160183849534
           ],
           "z": [
            0,
            0.13352610074466975
           ]
          },
          {
           "anchor": "tip",
           "colorscale": [
            [
             0,
             "blue"
            ],
            [
             1,
             "blue"
            ]
           ],
           "showscale": false,
           "sizemode": "absolute",
           "sizeref": 0.3,
           "type": "cone",
           "u": [
            0.6404348997003955
           ],
           "v": [
            -0.7563160183849534
           ],
           "w": [
            0.13352610074466975
           ],
           "x": [
            0.6404348997003955
           ],
           "y": [
            -0.7563160183849534
           ],
           "z": [
            0.13352610074466975
           ]
          }
         ],
         "name": "frame420"
        },
        {
         "data": [
          {
           "line": {
            "color": "blue",
            "width": 5
           },
           "mode": "lines",
           "type": "scatter3d",
           "x": [
            0,
            0.6405666873274927
           ],
           "y": [
            0,
            -0.7563169028474344
           ],
           "z": [
            0,
            0.13288740178642366
           ]
          },
          {
           "anchor": "tip",
           "colorscale": [
            [
             0,
             "blue"
            ],
            [
             1,
             "blue"
            ]
           ],
           "showscale": false,
           "sizemode": "absolute",
           "sizeref": 0.3,
           "type": "cone",
           "u": [
            0.6405666873274927
           ],
           "v": [
            -0.7563169028474344
           ],
           "w": [
            0.13288740178642366
           ],
           "x": [
            0.6405666873274927
           ],
           "y": [
            -0.7563169028474344
           ],
           "z": [
            0.13288740178642366
           ]
          }
         ],
         "name": "frame430"
        },
        {
         "data": [
          {
           "line": {
            "color": "blue",
            "width": 5
           },
           "mode": "lines",
           "type": "scatter3d",
           "x": [
            0,
            0.6406623804530762
           ],
           "y": [
            0,
            -0.7562850718692438
           ],
           "z": [
            0,
            0.13260695434226194
           ]
          },
          {
           "anchor": "tip",
           "colorscale": [
            [
             0,
             "blue"
            ],
            [
             1,
             "blue"
            ]
           ],
           "showscale": false,
           "sizemode": "absolute",
           "sizeref": 0.3,
           "type": "cone",
           "u": [
            0.6406623804530762
           ],
           "v": [
            -0.7562850718692438
           ],
           "w": [
            0.13260695434226194
           ],
           "x": [
            0.6406623804530762
           ],
           "y": [
            -0.7562850718692438
           ],
           "z": [
            0.13260695434226194
           ]
          }
         ],
         "name": "frame440"
        },
        {
         "data": [
          {
           "line": {
            "color": "blue",
            "width": 5
           },
           "mode": "lines",
           "type": "scatter3d",
           "x": [
            0,
            0.6406624450602616
           ],
           "y": [
            0,
            -0.7562850363645575
           ],
           "z": [
            0,
            0.13260684469689699
           ]
          },
          {
           "anchor": "tip",
           "colorscale": [
            [
             0,
             "blue"
            ],
            [
             1,
             "blue"
            ]
           ],
           "showscale": false,
           "sizemode": "absolute",
           "sizeref": 0.3,
           "type": "cone",
           "u": [
            0.6406624450602616
           ],
           "v": [
            -0.7562850363645575
           ],
           "w": [
            0.13260684469689699
           ],
           "x": [
            0.6406624450602616
           ],
           "y": [
            -0.7562850363645575
           ],
           "z": [
            0.13260684469689699
           ]
          }
         ],
         "name": "frame450"
        },
        {
         "data": [
          {
           "line": {
            "color": "blue",
            "width": 5
           },
           "mode": "lines",
           "type": "scatter3d",
           "x": [
            0,
            0.6406624450645294
           ],
           "y": [
            0,
            -0.7562850363622133
           ],
           "z": [
            0,
            0.13260684468964973
           ]
          },
          {
           "anchor": "tip",
           "colorscale": [
            [
             0,
             "blue"
            ],
            [
             1,
             "blue"
            ]
           ],
           "showscale": false,
           "sizemode": "absolute",
           "sizeref": 0.3,
           "type": "cone",
           "u": [
            0.6406624450645294
           ],
           "v": [
            -0.7562850363622133
           ],
           "w": [
            0.13260684468964973
           ],
           "x": [
            0.6406624450645294
           ],
           "y": [
            -0.7562850363622133
           ],
           "z": [
            0.13260684468964973
           ]
          }
         ],
         "name": "frame460"
        },
        {
         "data": [
          {
           "line": {
            "color": "blue",
            "width": 5
           },
           "mode": "lines",
           "type": "scatter3d",
           "x": [
            0,
            0.6406624450645324
           ],
           "y": [
            0,
            -0.7562850363622104
           ],
           "z": [
            0,
            0.13260684468965123
           ]
          },
          {
           "anchor": "tip",
           "colorscale": [
            [
             0,
             "blue"
            ],
            [
             1,
             "blue"
            ]
           ],
           "showscale": false,
           "sizemode": "absolute",
           "sizeref": 0.3,
           "type": "cone",
           "u": [
            0.6406624450645324
           ],
           "v": [
            -0.7562850363622104
           ],
           "w": [
            0.13260684468965123
           ],
           "x": [
            0.6406624450645324
           ],
           "y": [
            -0.7562850363622104
           ],
           "z": [
            0.13260684468965123
           ]
          }
         ],
         "name": "frame470"
        },
        {
         "data": [
          {
           "line": {
            "color": "blue",
            "width": 5
           },
           "mode": "lines",
           "type": "scatter3d",
           "x": [
            0,
            0.6406624450645312
           ],
           "y": [
            0,
            -0.756285036362212
           ],
           "z": [
            0,
            0.13260684468965006
           ]
          },
          {
           "anchor": "tip",
           "colorscale": [
            [
             0,
             "blue"
            ],
            [
             1,
             "blue"
            ]
           ],
           "showscale": false,
           "sizemode": "absolute",
           "sizeref": 0.3,
           "type": "cone",
           "u": [
            0.6406624450645312
           ],
           "v": [
            -0.756285036362212
           ],
           "w": [
            0.13260684468965006
           ],
           "x": [
            0.6406624450645312
           ],
           "y": [
            -0.756285036362212
           ],
           "z": [
            0.13260684468965006
           ]
          }
         ],
         "name": "frame480"
        },
        {
         "data": [
          {
           "line": {
            "color": "blue",
            "width": 5
           },
           "mode": "lines",
           "type": "scatter3d",
           "x": [
            0,
            0.6406624450645311
           ],
           "y": [
            0,
            -0.7562850363622113
           ],
           "z": [
            0,
            0.1326068446896525
           ]
          },
          {
           "anchor": "tip",
           "colorscale": [
            [
             0,
             "blue"
            ],
            [
             1,
             "blue"
            ]
           ],
           "showscale": false,
           "sizemode": "absolute",
           "sizeref": 0.3,
           "type": "cone",
           "u": [
            0.6406624450645311
           ],
           "v": [
            -0.7562850363622113
           ],
           "w": [
            0.1326068446896525
           ],
           "x": [
            0.6406624450645311
           ],
           "y": [
            -0.7562850363622113
           ],
           "z": [
            0.1326068446896525
           ]
          }
         ],
         "name": "frame490"
        },
        {
         "data": [
          {
           "line": {
            "color": "blue",
            "width": 5
           },
           "mode": "lines",
           "type": "scatter3d",
           "x": [
            0,
            0.6406624450645335
           ],
           "y": [
            0,
            -0.756285036362209
           ],
           "z": [
            0,
            0.1326068446896565
           ]
          },
          {
           "anchor": "tip",
           "colorscale": [
            [
             0,
             "blue"
            ],
            [
             1,
             "blue"
            ]
           ],
           "showscale": false,
           "sizemode": "absolute",
           "sizeref": 0.3,
           "type": "cone",
           "u": [
            0.6406624450645335
           ],
           "v": [
            -0.756285036362209
           ],
           "w": [
            0.1326068446896565
           ],
           "x": [
            0.6406624450645335
           ],
           "y": [
            -0.756285036362209
           ],
           "z": [
            0.1326068446896565
           ]
          }
         ],
         "name": "frame500"
        },
        {
         "data": [
          {
           "line": {
            "color": "blue",
            "width": 5
           },
           "mode": "lines",
           "type": "scatter3d",
           "x": [
            0,
            0.6406624450645314
           ],
           "y": [
            0,
            -0.7562850363622114
           ],
           "z": [
            0,
            0.132606844689649
           ]
          },
          {
           "anchor": "tip",
           "colorscale": [
            [
             0,
             "blue"
            ],
            [
             1,
             "blue"
            ]
           ],
           "showscale": false,
           "sizemode": "absolute",
           "sizeref": 0.3,
           "type": "cone",
           "u": [
            0.6406624450645314
           ],
           "v": [
            -0.7562850363622114
           ],
           "w": [
            0.132606844689649
           ],
           "x": [
            0.6406624450645314
           ],
           "y": [
            -0.7562850363622114
           ],
           "z": [
            0.132606844689649
           ]
          }
         ],
         "name": "frame510"
        },
        {
         "data": [
          {
           "line": {
            "color": "blue",
            "width": 5
           },
           "mode": "lines",
           "type": "scatter3d",
           "x": [
            0,
            0.6406624450645342
           ],
           "y": [
            0,
            -0.7562850363622095
           ],
           "z": [
            0,
            0.13260684468964817
           ]
          },
          {
           "anchor": "tip",
           "colorscale": [
            [
             0,
             "blue"
            ],
            [
             1,
             "blue"
            ]
           ],
           "showscale": false,
           "sizemode": "absolute",
           "sizeref": 0.3,
           "type": "cone",
           "u": [
            0.6406624450645342
           ],
           "v": [
            -0.7562850363622095
           ],
           "w": [
            0.13260684468964817
           ],
           "x": [
            0.6406624450645342
           ],
           "y": [
            -0.7562850363622095
           ],
           "z": [
            0.13260684468964817
           ]
          }
         ],
         "name": "frame520"
        }
       ],
       "layout": {
        "scene": {
         "xaxis": {
          "range": [
           -1,
           1
          ],
          "title": {
           "text": "X"
          }
         },
         "yaxis": {
          "range": [
           -1,
           1
          ],
          "title": {
           "text": "Y"
          }
         },
         "zaxis": {
          "range": [
           -1,
           1
          ],
          "title": {
           "text": "Z"
          }
         }
        },
        "sliders": [
         {
          "currentvalue": {
           "font": {
            "size": 20
           },
           "prefix": "Time: "
          },
          "pad": {
           "t": 50
          },
          "steps": [
           {
            "args": [
             [
              "frame0"
             ],
             {
              "frame": {
               "duration": 50,
               "redraw": true
              },
              "mode": "immediate"
             }
            ],
            "method": "animate"
           },
           {
            "args": [
             [
              "frame10"
             ],
             {
              "frame": {
               "duration": 50,
               "redraw": true
              },
              "mode": "immediate"
             }
            ],
            "method": "animate"
           },
           {
            "args": [
             [
              "frame20"
             ],
             {
              "frame": {
               "duration": 50,
               "redraw": true
              },
              "mode": "immediate"
             }
            ],
            "method": "animate"
           },
           {
            "args": [
             [
              "frame30"
             ],
             {
              "frame": {
               "duration": 50,
               "redraw": true
              },
              "mode": "immediate"
             }
            ],
            "method": "animate"
           },
           {
            "args": [
             [
              "frame40"
             ],
             {
              "frame": {
               "duration": 50,
               "redraw": true
              },
              "mode": "immediate"
             }
            ],
            "method": "animate"
           },
           {
            "args": [
             [
              "frame50"
             ],
             {
              "frame": {
               "duration": 50,
               "redraw": true
              },
              "mode": "immediate"
             }
            ],
            "method": "animate"
           },
           {
            "args": [
             [
              "frame60"
             ],
             {
              "frame": {
               "duration": 50,
               "redraw": true
              },
              "mode": "immediate"
             }
            ],
            "method": "animate"
           },
           {
            "args": [
             [
              "frame70"
             ],
             {
              "frame": {
               "duration": 50,
               "redraw": true
              },
              "mode": "immediate"
             }
            ],
            "method": "animate"
           },
           {
            "args": [
             [
              "frame80"
             ],
             {
              "frame": {
               "duration": 50,
               "redraw": true
              },
              "mode": "immediate"
             }
            ],
            "method": "animate"
           },
           {
            "args": [
             [
              "frame90"
             ],
             {
              "frame": {
               "duration": 50,
               "redraw": true
              },
              "mode": "immediate"
             }
            ],
            "method": "animate"
           },
           {
            "args": [
             [
              "frame100"
             ],
             {
              "frame": {
               "duration": 50,
               "redraw": true
              },
              "mode": "immediate"
             }
            ],
            "method": "animate"
           },
           {
            "args": [
             [
              "frame110"
             ],
             {
              "frame": {
               "duration": 50,
               "redraw": true
              },
              "mode": "immediate"
             }
            ],
            "method": "animate"
           },
           {
            "args": [
             [
              "frame120"
             ],
             {
              "frame": {
               "duration": 50,
               "redraw": true
              },
              "mode": "immediate"
             }
            ],
            "method": "animate"
           },
           {
            "args": [
             [
              "frame130"
             ],
             {
              "frame": {
               "duration": 50,
               "redraw": true
              },
              "mode": "immediate"
             }
            ],
            "method": "animate"
           },
           {
            "args": [
             [
              "frame140"
             ],
             {
              "frame": {
               "duration": 50,
               "redraw": true
              },
              "mode": "immediate"
             }
            ],
            "method": "animate"
           },
           {
            "args": [
             [
              "frame150"
             ],
             {
              "frame": {
               "duration": 50,
               "redraw": true
              },
              "mode": "immediate"
             }
            ],
            "method": "animate"
           },
           {
            "args": [
             [
              "frame160"
             ],
             {
              "frame": {
               "duration": 50,
               "redraw": true
              },
              "mode": "immediate"
             }
            ],
            "method": "animate"
           },
           {
            "args": [
             [
              "frame170"
             ],
             {
              "frame": {
               "duration": 50,
               "redraw": true
              },
              "mode": "immediate"
             }
            ],
            "method": "animate"
           },
           {
            "args": [
             [
              "frame180"
             ],
             {
              "frame": {
               "duration": 50,
               "redraw": true
              },
              "mode": "immediate"
             }
            ],
            "method": "animate"
           },
           {
            "args": [
             [
              "frame190"
             ],
             {
              "frame": {
               "duration": 50,
               "redraw": true
              },
              "mode": "immediate"
             }
            ],
            "method": "animate"
           },
           {
            "args": [
             [
              "frame200"
             ],
             {
              "frame": {
               "duration": 50,
               "redraw": true
              },
              "mode": "immediate"
             }
            ],
            "method": "animate"
           },
           {
            "args": [
             [
              "frame210"
             ],
             {
              "frame": {
               "duration": 50,
               "redraw": true
              },
              "mode": "immediate"
             }
            ],
            "method": "animate"
           },
           {
            "args": [
             [
              "frame220"
             ],
             {
              "frame": {
               "duration": 50,
               "redraw": true
              },
              "mode": "immediate"
             }
            ],
            "method": "animate"
           },
           {
            "args": [
             [
              "frame230"
             ],
             {
              "frame": {
               "duration": 50,
               "redraw": true
              },
              "mode": "immediate"
             }
            ],
            "method": "animate"
           },
           {
            "args": [
             [
              "frame240"
             ],
             {
              "frame": {
               "duration": 50,
               "redraw": true
              },
              "mode": "immediate"
             }
            ],
            "method": "animate"
           },
           {
            "args": [
             [
              "frame250"
             ],
             {
              "frame": {
               "duration": 50,
               "redraw": true
              },
              "mode": "immediate"
             }
            ],
            "method": "animate"
           },
           {
            "args": [
             [
              "frame260"
             ],
             {
              "frame": {
               "duration": 50,
               "redraw": true
              },
              "mode": "immediate"
             }
            ],
            "method": "animate"
           },
           {
            "args": [
             [
              "frame270"
             ],
             {
              "frame": {
               "duration": 50,
               "redraw": true
              },
              "mode": "immediate"
             }
            ],
            "method": "animate"
           },
           {
            "args": [
             [
              "frame280"
             ],
             {
              "frame": {
               "duration": 50,
               "redraw": true
              },
              "mode": "immediate"
             }
            ],
            "method": "animate"
           },
           {
            "args": [
             [
              "frame290"
             ],
             {
              "frame": {
               "duration": 50,
               "redraw": true
              },
              "mode": "immediate"
             }
            ],
            "method": "animate"
           },
           {
            "args": [
             [
              "frame300"
             ],
             {
              "frame": {
               "duration": 50,
               "redraw": true
              },
              "mode": "immediate"
             }
            ],
            "method": "animate"
           },
           {
            "args": [
             [
              "frame310"
             ],
             {
              "frame": {
               "duration": 50,
               "redraw": true
              },
              "mode": "immediate"
             }
            ],
            "method": "animate"
           },
           {
            "args": [
             [
              "frame320"
             ],
             {
              "frame": {
               "duration": 50,
               "redraw": true
              },
              "mode": "immediate"
             }
            ],
            "method": "animate"
           },
           {
            "args": [
             [
              "frame330"
             ],
             {
              "frame": {
               "duration": 50,
               "redraw": true
              },
              "mode": "immediate"
             }
            ],
            "method": "animate"
           },
           {
            "args": [
             [
              "frame340"
             ],
             {
              "frame": {
               "duration": 50,
               "redraw": true
              },
              "mode": "immediate"
             }
            ],
            "method": "animate"
           },
           {
            "args": [
             [
              "frame350"
             ],
             {
              "frame": {
               "duration": 50,
               "redraw": true
              },
              "mode": "immediate"
             }
            ],
            "method": "animate"
           },
           {
            "args": [
             [
              "frame360"
             ],
             {
              "frame": {
               "duration": 50,
               "redraw": true
              },
              "mode": "immediate"
             }
            ],
            "method": "animate"
           },
           {
            "args": [
             [
              "frame370"
             ],
             {
              "frame": {
               "duration": 50,
               "redraw": true
              },
              "mode": "immediate"
             }
            ],
            "method": "animate"
           },
           {
            "args": [
             [
              "frame380"
             ],
             {
              "frame": {
               "duration": 50,
               "redraw": true
              },
              "mode": "immediate"
             }
            ],
            "method": "animate"
           },
           {
            "args": [
             [
              "frame390"
             ],
             {
              "frame": {
               "duration": 50,
               "redraw": true
              },
              "mode": "immediate"
             }
            ],
            "method": "animate"
           },
           {
            "args": [
             [
              "frame400"
             ],
             {
              "frame": {
               "duration": 50,
               "redraw": true
              },
              "mode": "immediate"
             }
            ],
            "method": "animate"
           },
           {
            "args": [
             [
              "frame410"
             ],
             {
              "frame": {
               "duration": 50,
               "redraw": true
              },
              "mode": "immediate"
             }
            ],
            "method": "animate"
           },
           {
            "args": [
             [
              "frame420"
             ],
             {
              "frame": {
               "duration": 50,
               "redraw": true
              },
              "mode": "immediate"
             }
            ],
            "method": "animate"
           },
           {
            "args": [
             [
              "frame430"
             ],
             {
              "frame": {
               "duration": 50,
               "redraw": true
              },
              "mode": "immediate"
             }
            ],
            "method": "animate"
           },
           {
            "args": [
             [
              "frame440"
             ],
             {
              "frame": {
               "duration": 50,
               "redraw": true
              },
              "mode": "immediate"
             }
            ],
            "method": "animate"
           },
           {
            "args": [
             [
              "frame450"
             ],
             {
              "frame": {
               "duration": 50,
               "redraw": true
              },
              "mode": "immediate"
             }
            ],
            "method": "animate"
           },
           {
            "args": [
             [
              "frame460"
             ],
             {
              "frame": {
               "duration": 50,
               "redraw": true
              },
              "mode": "immediate"
             }
            ],
            "method": "animate"
           },
           {
            "args": [
             [
              "frame470"
             ],
             {
              "frame": {
               "duration": 50,
               "redraw": true
              },
              "mode": "immediate"
             }
            ],
            "method": "animate"
           },
           {
            "args": [
             [
              "frame480"
             ],
             {
              "frame": {
               "duration": 50,
               "redraw": true
              },
              "mode": "immediate"
             }
            ],
            "method": "animate"
           },
           {
            "args": [
             [
              "frame490"
             ],
             {
              "frame": {
               "duration": 50,
               "redraw": true
              },
              "mode": "immediate"
             }
            ],
            "method": "animate"
           },
           {
            "args": [
             [
              "frame500"
             ],
             {
              "frame": {
               "duration": 50,
               "redraw": true
              },
              "mode": "immediate"
             }
            ],
            "method": "animate"
           },
           {
            "args": [
             [
              "frame510"
             ],
             {
              "frame": {
               "duration": 50,
               "redraw": true
              },
              "mode": "immediate"
             }
            ],
            "method": "animate"
           },
           {
            "args": [
             [
              "frame520"
             ],
             {
              "frame": {
               "duration": 50,
               "redraw": true
              },
              "mode": "immediate"
             }
            ],
            "method": "animate"
           }
          ]
         }
        ],
        "template": {
         "data": {
          "candlestick": [
           {
            "decreasing": {
             "line": {
              "color": "#000033"
             }
            },
            "increasing": {
             "line": {
              "color": "#000032"
             }
            },
            "type": "candlestick"
           }
          ],
          "contour": [
           {
            "colorscale": [
             [
              0,
              "#000011"
             ],
             [
              0.1111111111111111,
              "#000012"
             ],
             [
              0.2222222222222222,
              "#000013"
             ],
             [
              0.3333333333333333,
              "#000014"
             ],
             [
              0.4444444444444444,
              "#000015"
             ],
             [
              0.5555555555555556,
              "#000016"
             ],
             [
              0.6666666666666666,
              "#000017"
             ],
             [
              0.7777777777777778,
              "#000018"
             ],
             [
              0.8888888888888888,
              "#000019"
             ],
             [
              1,
              "#000020"
             ]
            ],
            "type": "contour"
           }
          ],
          "contourcarpet": [
           {
            "colorscale": [
             [
              0,
              "#000011"
             ],
             [
              0.1111111111111111,
              "#000012"
             ],
             [
              0.2222222222222222,
              "#000013"
             ],
             [
              0.3333333333333333,
              "#000014"
             ],
             [
              0.4444444444444444,
              "#000015"
             ],
             [
              0.5555555555555556,
              "#000016"
             ],
             [
              0.6666666666666666,
              "#000017"
             ],
             [
              0.7777777777777778,
              "#000018"
             ],
             [
              0.8888888888888888,
              "#000019"
             ],
             [
              1,
              "#000020"
             ]
            ],
            "type": "contourcarpet"
           }
          ],
          "heatmap": [
           {
            "colorscale": [
             [
              0,
              "#000011"
             ],
             [
              0.1111111111111111,
              "#000012"
             ],
             [
              0.2222222222222222,
              "#000013"
             ],
             [
              0.3333333333333333,
              "#000014"
             ],
             [
              0.4444444444444444,
              "#000015"
             ],
             [
              0.5555555555555556,
              "#000016"
             ],
             [
              0.6666666666666666,
              "#000017"
             ],
             [
              0.7777777777777778,
              "#000018"
             ],
             [
              0.8888888888888888,
              "#000019"
             ],
             [
              1,
              "#000020"
             ]
            ],
            "type": "heatmap"
           }
          ],
          "histogram2d": [
           {
            "colorscale": [
             [
              0,
              "#000011"
             ],
             [
              0.1111111111111111,
              "#000012"
             ],
             [
              0.2222222222222222,
              "#000013"
             ],
             [
              0.3333333333333333,
              "#000014"
             ],
             [
              0.4444444444444444,
              "#000015"
             ],
             [
              0.5555555555555556,
              "#000016"
             ],
             [
              0.6666666666666666,
              "#000017"
             ],
             [
              0.7777777777777778,
              "#000018"
             ],
             [
              0.8888888888888888,
              "#000019"
             ],
             [
              1,
              "#000020"
             ]
            ],
            "type": "histogram2d"
           }
          ],
          "icicle": [
           {
            "textfont": {
             "color": "white"
            },
            "type": "icicle"
           }
          ],
          "sankey": [
           {
            "textfont": {
             "color": "#000036"
            },
            "type": "sankey"
           }
          ],
          "scatter": [
           {
            "marker": {
             "line": {
              "width": 0
             }
            },
            "type": "scatter"
           }
          ],
          "table": [
           {
            "cells": {
             "fill": {
              "color": "#000038"
             },
             "font": {
              "color": "#000037"
             },
             "line": {
              "color": "#000039"
             }
            },
            "header": {
             "fill": {
              "color": "#000040"
             },
             "font": {
              "color": "#000036"
             },
             "line": {
              "color": "#000039"
             }
            },
            "type": "table"
           }
          ],
          "waterfall": [
           {
            "connector": {
             "line": {
              "color": "#000036",
              "width": 2
             }
            },
            "decreasing": {
             "marker": {
              "color": "#000033"
             }
            },
            "increasing": {
             "marker": {
              "color": "#000032"
             }
            },
            "totals": {
             "marker": {
              "color": "#000034"
             }
            },
            "type": "waterfall"
           }
          ]
         },
         "layout": {
          "coloraxis": {
           "colorscale": [
            [
             0,
             "#000011"
            ],
            [
             0.1111111111111111,
             "#000012"
            ],
            [
             0.2222222222222222,
             "#000013"
            ],
            [
             0.3333333333333333,
             "#000014"
            ],
            [
             0.4444444444444444,
             "#000015"
            ],
            [
             0.5555555555555556,
             "#000016"
            ],
            [
             0.6666666666666666,
             "#000017"
            ],
            [
             0.7777777777777778,
             "#000018"
            ],
            [
             0.8888888888888888,
             "#000019"
            ],
            [
             1,
             "#000020"
            ]
           ]
          },
          "colorscale": {
           "diverging": [
            [
             0,
             "#000021"
            ],
            [
             0.1,
             "#000022"
            ],
            [
             0.2,
             "#000023"
            ],
            [
             0.3,
             "#000024"
            ],
            [
             0.4,
             "#000025"
            ],
            [
             0.5,
             "#000026"
            ],
            [
             0.6,
             "#000027"
            ],
            [
             0.7,
             "#000028"
            ],
            [
             0.8,
             "#000029"
            ],
            [
             0.9,
             "#000030"
            ],
            [
             1,
             "#000031"
            ]
           ],
           "sequential": [
            [
             0,
             "#000011"
            ],
            [
             0.1111111111111111,
             "#000012"
            ],
            [
             0.2222222222222222,
             "#000013"
            ],
            [
             0.3333333333333333,
             "#000014"
            ],
            [
             0.4444444444444444,
             "#000015"
            ],
            [
             0.5555555555555556,
             "#000016"
            ],
            [
             0.6666666666666666,
             "#000017"
            ],
            [
             0.7777777777777778,
             "#000018"
            ],
            [
             0.8888888888888888,
             "#000019"
            ],
            [
             1,
             "#000020"
            ]
           ],
           "sequentialminus": [
            [
             0,
             "#000011"
            ],
            [
             0.1111111111111111,
             "#000012"
            ],
            [
             0.2222222222222222,
             "#000013"
            ],
            [
             0.3333333333333333,
             "#000014"
            ],
            [
             0.4444444444444444,
             "#000015"
            ],
            [
             0.5555555555555556,
             "#000016"
            ],
            [
             0.6666666666666666,
             "#000017"
            ],
            [
             0.7777777777777778,
             "#000018"
            ],
            [
             0.8888888888888888,
             "#000019"
            ],
            [
             1,
             "#000020"
            ]
           ]
          },
          "colorway": [
           "#000001",
           "#000002",
           "#000003",
           "#000004",
           "#000005",
           "#000006",
           "#000007",
           "#000008",
           "#000009",
           "#000010"
          ]
         }
        },
        "updatemenus": [
         {
          "buttons": [
           {
            "args": [
             null,
             {
              "frame": {
               "duration": 50,
               "redraw": true
              },
              "fromcurrent": true
             }
            ],
            "label": "Play",
            "method": "animate"
           },
           {
            "args": [
             [
              null
             ],
             {
              "frame": {
               "duration": 0,
               "redraw": false
              },
              "mode": "immediate"
             }
            ],
            "label": "Pause",
            "method": "animate"
           }
          ],
          "showactive": false,
          "type": "buttons"
         }
        ]
       }
      }
     },
     "metadata": {},
     "output_type": "display_data"
    }
   ],
   "source": [
    "quaternion_data = read_csv(full_data_file_path_x)\n",
    "# Predict states with UKF\n",
    "predicted_states = []\n",
    "for q in quaternion_data:\n",
    "    q = q / np.linalg.norm(q)\n",
    "    ukf.predict()\n",
    "    ukf.update(q)\n",
    "    predicted_states.append(ukf.x)\n",
    "predicted_states = np.array(predicted_states)\n",
    "\n",
    "plot_euler_angles_3d(predicted_states,10)\n",
    "\n"
   ]
  },
  {
   "cell_type": "markdown",
   "metadata": {},
   "source": [
    "DATA Y"
   ]
  },
  {
   "cell_type": "code",
   "execution_count": null,
   "metadata": {},
   "outputs": [
    {
     "data": {
      "application/vnd.plotly.v1+json": {
       "config": {
        "plotlyServerURL": "https://plot.ly"
       },
       "data": [
        {
         "line": {
          "color": "blue",
          "width": 5
         },
         "mode": "lines",
         "name": "Vector",
         "type": "scatter3d",
         "x": [
          0,
          0.4760075394798745
         ],
         "y": [
          0,
          0.158296754110793
         ],
         "z": [
          0,
          0.8650774300583175
         ]
        },
        {
         "anchor": "tip",
         "colorscale": [
          [
           0,
           "blue"
          ],
          [
           1,
           "blue"
          ]
         ],
         "name": "Arrowhead",
         "showscale": false,
         "sizemode": "absolute",
         "sizeref": 0.3,
         "type": "cone",
         "u": [
          0.4760075394798745
         ],
         "v": [
          0.158296754110793
         ],
         "w": [
          0.8650774300583175
         ],
         "x": [
          0.4760075394798745
         ],
         "y": [
          0.158296754110793
         ],
         "z": [
          0.8650774300583175
         ]
        }
       ],
       "frames": [
        {
         "data": [
          {
           "line": {
            "color": "blue",
            "width": 5
           },
           "mode": "lines",
           "type": "scatter3d",
           "x": [
            0,
            0.4760075394798745
           ],
           "y": [
            0,
            0.158296754110793
           ],
           "z": [
            0,
            0.8650774300583175
           ]
          },
          {
           "anchor": "tip",
           "colorscale": [
            [
             0,
             "blue"
            ],
            [
             1,
             "blue"
            ]
           ],
           "showscale": false,
           "sizemode": "absolute",
           "sizeref": 0.3,
           "type": "cone",
           "u": [
            0.4760075394798745
           ],
           "v": [
            0.158296754110793
           ],
           "w": [
            0.8650774300583175
           ],
           "x": [
            0.4760075394798745
           ],
           "y": [
            0.158296754110793
           ],
           "z": [
            0.8650774300583175
           ]
          }
         ],
         "name": "frame0"
        },
        {
         "data": [
          {
           "line": {
            "color": "blue",
            "width": 5
           },
           "mode": "lines",
           "type": "scatter3d",
           "x": [
            0,
            -0.41564113229794925
           ],
           "y": [
            0,
            0.9064329479662265
           ],
           "z": [
            0,
            -0.07497839677756685
           ]
          },
          {
           "anchor": "tip",
           "colorscale": [
            [
             0,
             "blue"
            ],
            [
             1,
             "blue"
            ]
           ],
           "showscale": false,
           "sizemode": "absolute",
           "sizeref": 0.3,
           "type": "cone",
           "u": [
            -0.41564113229794925
           ],
           "v": [
            0.9064329479662265
           ],
           "w": [
            -0.07497839677756685
           ],
           "x": [
            -0.41564113229794925
           ],
           "y": [
            0.9064329479662265
           ],
           "z": [
            -0.07497839677756685
           ]
          }
         ],
         "name": "frame10"
        },
        {
         "data": [
          {
           "line": {
            "color": "blue",
            "width": 5
           },
           "mode": "lines",
           "type": "scatter3d",
           "x": [
            0,
            -0.41508722193967035
           ],
           "y": [
            0,
            0.9067315143568102
           ],
           "z": [
            0,
            -0.07443493168273058
           ]
          },
          {
           "anchor": "tip",
           "colorscale": [
            [
             0,
             "blue"
            ],
            [
             1,
             "blue"
            ]
           ],
           "showscale": false,
           "sizemode": "absolute",
           "sizeref": 0.3,
           "type": "cone",
           "u": [
            -0.41508722193967035
           ],
           "v": [
            0.9067315143568102
           ],
           "w": [
            -0.07443493168273058
           ],
           "x": [
            -0.41508722193967035
           ],
           "y": [
            0.9067315143568102
           ],
           "z": [
            -0.07443493168273058
           ]
          }
         ],
         "name": "frame20"
        },
        {
         "data": [
          {
           "line": {
            "color": "blue",
            "width": 5
           },
           "mode": "lines",
           "type": "scatter3d",
           "x": [
            0,
            -0.41508718533640254
           ],
           "y": [
            0,
            0.906731534073524
           ],
           "z": [
            0,
            -0.07443489562145136
           ]
          },
          {
           "anchor": "tip",
           "colorscale": [
            [
             0,
             "blue"
            ],
            [
             1,
             "blue"
            ]
           ],
           "showscale": false,
           "sizemode": "absolute",
           "sizeref": 0.3,
           "type": "cone",
           "u": [
            -0.41508718533640254
           ],
           "v": [
            0.906731534073524
           ],
           "w": [
            -0.07443489562145136
           ],
           "x": [
            -0.41508718533640254
           ],
           "y": [
            0.906731534073524
           ],
           "z": [
            -0.07443489562145136
           ]
          }
         ],
         "name": "frame30"
        },
        {
         "data": [
          {
           "line": {
            "color": "blue",
            "width": 5
           },
           "mode": "lines",
           "type": "scatter3d",
           "x": [
            0,
            -0.41511129216863796
           ],
           "y": [
            0,
            0.9067169737626757
           ],
           "z": [
            0,
            -0.07447781283535784
           ]
          },
          {
           "anchor": "tip",
           "colorscale": [
            [
             0,
             "blue"
            ],
            [
             1,
             "blue"
            ]
           ],
           "showscale": false,
           "sizemode": "absolute",
           "sizeref": 0.3,
           "type": "cone",
           "u": [
            -0.41511129216863796
           ],
           "v": [
            0.9067169737626757
           ],
           "w": [
            -0.07447781283535784
           ],
           "x": [
            -0.41511129216863796
           ],
           "y": [
            0.9067169737626757
           ],
           "z": [
            -0.07447781283535784
           ]
          }
         ],
         "name": "frame40"
        },
        {
         "data": [
          {
           "line": {
            "color": "blue",
            "width": 5
           },
           "mode": "lines",
           "type": "scatter3d",
           "x": [
            0,
            -0.4150873009260197
           ],
           "y": [
            0,
            0.9067314621152409
           ],
           "z": [
            0,
            -0.0744351275965133
           ]
          },
          {
           "anchor": "tip",
           "colorscale": [
            [
             0,
             "blue"
            ],
            [
             1,
             "blue"
            ]
           ],
           "showscale": false,
           "sizemode": "absolute",
           "sizeref": 0.3,
           "type": "cone",
           "u": [
            -0.4150873009260197
           ],
           "v": [
            0.9067314621152409
           ],
           "w": [
            -0.0744351275965133
           ],
           "x": [
            -0.4150873009260197
           ],
           "y": [
            0.9067314621152409
           ],
           "z": [
            -0.0744351275965133
           ]
          }
         ],
         "name": "frame50"
        },
        {
         "data": [
          {
           "line": {
            "color": "blue",
            "width": 5
           },
           "mode": "lines",
           "type": "scatter3d",
           "x": [
            0,
            -0.4150871853416531
           ],
           "y": [
            0,
            0.9067315340700552
           ],
           "z": [
            0,
            -0.07443489563443215
           ]
          },
          {
           "anchor": "tip",
           "colorscale": [
            [
             0,
             "blue"
            ],
            [
             1,
             "blue"
            ]
           ],
           "showscale": false,
           "sizemode": "absolute",
           "sizeref": 0.3,
           "type": "cone",
           "u": [
            -0.4150871853416531
           ],
           "v": [
            0.9067315340700552
           ],
           "w": [
            -0.07443489563443215
           ],
           "x": [
            -0.4150871853416531
           ],
           "y": [
            0.9067315340700552
           ],
           "z": [
            -0.07443489563443215
           ]
          }
         ],
         "name": "frame60"
        },
        {
         "data": [
          {
           "line": {
            "color": "blue",
            "width": 5
           },
           "mode": "lines",
           "type": "scatter3d",
           "x": [
            0,
            -0.41476608220724714
           ],
           "y": [
            0,
            0.9068602913847732
           ],
           "z": [
            0,
            -0.07465593720512181
           ]
          },
          {
           "anchor": "tip",
           "colorscale": [
            [
             0,
             "blue"
            ],
            [
             1,
             "blue"
            ]
           ],
           "showscale": false,
           "sizemode": "absolute",
           "sizeref": 0.3,
           "type": "cone",
           "u": [
            -0.41476608220724714
           ],
           "v": [
            0.9068602913847732
           ],
           "w": [
            -0.07465593720512181
           ],
           "x": [
            -0.41476608220724714
           ],
           "y": [
            0.9068602913847732
           ],
           "z": [
            -0.07465593720512181
           ]
          }
         ],
         "name": "frame70"
        },
        {
         "data": [
          {
           "line": {
            "color": "blue",
            "width": 5
           },
           "mode": "lines",
           "type": "scatter3d",
           "x": [
            0,
            -0.41550297212208376
           ],
           "y": [
            0,
            0.906693120028929
           ],
           "z": [
            0,
            -0.07255939808130416
           ]
          },
          {
           "anchor": "tip",
           "colorscale": [
            [
             0,
             "blue"
            ],
            [
             1,
             "blue"
            ]
           ],
           "showscale": false,
           "sizemode": "absolute",
           "sizeref": 0.3,
           "type": "cone",
           "u": [
            -0.41550297212208376
           ],
           "v": [
            0.906693120028929
           ],
           "w": [
            -0.07255939808130416
           ],
           "x": [
            -0.41550297212208376
           ],
           "y": [
            0.906693120028929
           ],
           "z": [
            -0.07255939808130416
           ]
          }
         ],
         "name": "frame80"
        },
        {
         "data": [
          {
           "line": {
            "color": "blue",
            "width": 5
           },
           "mode": "lines",
           "type": "scatter3d",
           "x": [
            0,
            -0.41611791763331935
           ],
           "y": [
            0,
            0.9064309526775367
           ],
           "z": [
            0,
            -0.07231048784652971
           ]
          },
          {
           "anchor": "tip",
           "colorscale": [
            [
             0,
             "blue"
            ],
            [
             1,
             "blue"
            ]
           ],
           "showscale": false,
           "sizemode": "absolute",
           "sizeref": 0.3,
           "type": "cone",
           "u": [
            -0.41611791763331935
           ],
           "v": [
            0.9064309526775367
           ],
           "w": [
            -0.07231048784652971
           ],
           "x": [
            -0.41611791763331935
           ],
           "y": [
            0.9064309526775367
           ],
           "z": [
            -0.07231048784652971
           ]
          }
         ],
         "name": "frame90"
        },
        {
         "data": [
          {
           "line": {
            "color": "blue",
            "width": 5
           },
           "mode": "lines",
           "type": "scatter3d",
           "x": [
            0,
            -0.41567975289595427
           ],
           "y": [
            0,
            0.9065487083606312
           ],
           "z": [
            0,
            -0.07334699995248553
           ]
          },
          {
           "anchor": "tip",
           "colorscale": [
            [
             0,
             "blue"
            ],
            [
             1,
             "blue"
            ]
           ],
           "showscale": false,
           "sizemode": "absolute",
           "sizeref": 0.3,
           "type": "cone",
           "u": [
            -0.41567975289595427
           ],
           "v": [
            0.9065487083606312
           ],
           "w": [
            -0.07334699995248553
           ],
           "x": [
            -0.41567975289595427
           ],
           "y": [
            0.9065487083606312
           ],
           "z": [
            -0.07334699995248553
           ]
          }
         ],
         "name": "frame100"
        },
        {
         "data": [
          {
           "line": {
            "color": "blue",
            "width": 5
           },
           "mode": "lines",
           "type": "scatter3d",
           "x": [
            0,
            -0.4393894658793411
           ],
           "y": [
            0,
            0.8954897549299429
           ],
           "z": [
            0,
            -0.0709577063452485
           ]
          },
          {
           "anchor": "tip",
           "colorscale": [
            [
             0,
             "blue"
            ],
            [
             1,
             "blue"
            ]
           ],
           "showscale": false,
           "sizemode": "absolute",
           "sizeref": 0.3,
           "type": "cone",
           "u": [
            -0.4393894658793411
           ],
           "v": [
            0.8954897549299429
           ],
           "w": [
            -0.0709577063452485
           ],
           "x": [
            -0.4393894658793411
           ],
           "y": [
            0.8954897549299429
           ],
           "z": [
            -0.0709577063452485
           ]
          }
         ],
         "name": "frame110"
        },
        {
         "data": [
          {
           "line": {
            "color": "blue",
            "width": 5
           },
           "mode": "lines",
           "type": "scatter3d",
           "x": [
            0,
            -0.43627792250694725
           ],
           "y": [
            0,
            0.8967074127185497
           ],
           "z": [
            0,
            -0.0746819275904593
           ]
          },
          {
           "anchor": "tip",
           "colorscale": [
            [
             0,
             "blue"
            ],
            [
             1,
             "blue"
            ]
           ],
           "showscale": false,
           "sizemode": "absolute",
           "sizeref": 0.3,
           "type": "cone",
           "u": [
            -0.43627792250694725
           ],
           "v": [
            0.8967074127185497
           ],
           "w": [
            -0.0746819275904593
           ],
           "x": [
            -0.43627792250694725
           ],
           "y": [
            0.8967074127185497
           ],
           "z": [
            -0.0746819275904593
           ]
          }
         ],
         "name": "frame120"
        },
        {
         "data": [
          {
           "line": {
            "color": "blue",
            "width": 5
           },
           "mode": "lines",
           "type": "scatter3d",
           "x": [
            0,
            -0.4363108606650521
           ],
           "y": [
            0,
            0.8966786214524641
           ],
           "z": [
            0,
            -0.0748350365526067
           ]
          },
          {
           "anchor": "tip",
           "colorscale": [
            [
             0,
             "blue"
            ],
            [
             1,
             "blue"
            ]
           ],
           "showscale": false,
           "sizemode": "absolute",
           "sizeref": 0.3,
           "type": "cone",
           "u": [
            -0.4363108606650521
           ],
           "v": [
            0.8966786214524641
           ],
           "w": [
            -0.0748350365526067
           ],
           "x": [
            -0.4363108606650521
           ],
           "y": [
            0.8966786214524641
           ],
           "z": [
            -0.0748350365526067
           ]
          }
         ],
         "name": "frame130"
        },
        {
         "data": [
          {
           "line": {
            "color": "blue",
            "width": 5
           },
           "mode": "lines",
           "type": "scatter3d",
           "x": [
            0,
            -0.4361593508557771
           ],
           "y": [
            0,
            0.896755285944499
           ],
           "z": [
            0,
            -0.07479958416774149
           ]
          },
          {
           "anchor": "tip",
           "colorscale": [
            [
             0,
             "blue"
            ],
            [
             1,
             "blue"
            ]
           ],
           "showscale": false,
           "sizemode": "absolute",
           "sizeref": 0.3,
           "type": "cone",
           "u": [
            -0.4361593508557771
           ],
           "v": [
            0.896755285944499
           ],
           "w": [
            -0.07479958416774149
           ],
           "x": [
            -0.4361593508557771
           ],
           "y": [
            0.896755285944499
           ],
           "z": [
            -0.07479958416774149
           ]
          }
         ],
         "name": "frame140"
        },
        {
         "data": [
          {
           "line": {
            "color": "blue",
            "width": 5
           },
           "mode": "lines",
           "type": "scatter3d",
           "x": [
            0,
            -0.43596993051082444
           ],
           "y": [
            0,
            0.8968322077967291
           ],
           "z": [
            0,
            -0.07498140268647441
           ]
          },
          {
           "anchor": "tip",
           "colorscale": [
            [
             0,
             "blue"
            ],
            [
             1,
             "blue"
            ]
           ],
           "showscale": false,
           "sizemode": "absolute",
           "sizeref": 0.3,
           "type": "cone",
           "u": [
            -0.43596993051082444
           ],
           "v": [
            0.8968322077967291
           ],
           "w": [
            -0.07498140268647441
           ],
           "x": [
            -0.43596993051082444
           ],
           "y": [
            0.8968322077967291
           ],
           "z": [
            -0.07498140268647441
           ]
          }
         ],
         "name": "frame150"
        },
        {
         "data": [
          {
           "line": {
            "color": "blue",
            "width": 5
           },
           "mode": "lines",
           "type": "scatter3d",
           "x": [
            0,
            -0.43596971690890735
           ],
           "y": [
            0,
            0.8968323302232022
           ],
           "z": [
            0,
            -0.07498118033739248
           ]
          },
          {
           "anchor": "tip",
           "colorscale": [
            [
             0,
             "blue"
            ],
            [
             1,
             "blue"
            ]
           ],
           "showscale": false,
           "sizemode": "absolute",
           "sizeref": 0.3,
           "type": "cone",
           "u": [
            -0.43596971690890735
           ],
           "v": [
            0.8968323302232022
           ],
           "w": [
            -0.07498118033739248
           ],
           "x": [
            -0.43596971690890735
           ],
           "y": [
            0.8968323302232022
           ],
           "z": [
            -0.07498118033739248
           ]
          }
         ],
         "name": "frame160"
        },
        {
         "data": [
          {
           "line": {
            "color": "blue",
            "width": 5
           },
           "mode": "lines",
           "type": "scatter3d",
           "x": [
            0,
            -0.2809326364452024
           ],
           "y": [
            0,
            0.9570868693352469
           ],
           "z": [
            0,
            -0.0711447701943296
           ]
          },
          {
           "anchor": "tip",
           "colorscale": [
            [
             0,
             "blue"
            ],
            [
             1,
             "blue"
            ]
           ],
           "showscale": false,
           "sizemode": "absolute",
           "sizeref": 0.3,
           "type": "cone",
           "u": [
            -0.2809326364452024
           ],
           "v": [
            0.9570868693352469
           ],
           "w": [
            -0.0711447701943296
           ],
           "x": [
            -0.2809326364452024
           ],
           "y": [
            0.9570868693352469
           ],
           "z": [
            -0.0711447701943296
           ]
          }
         ],
         "name": "frame170"
        },
        {
         "data": [
          {
           "line": {
            "color": "blue",
            "width": 5
           },
           "mode": "lines",
           "type": "scatter3d",
           "x": [
            0,
            0.12829974709679448
           ],
           "y": [
            0,
            0.9904350858976192
           ],
           "z": [
            0,
            -0.05076923790913057
           ]
          },
          {
           "anchor": "tip",
           "colorscale": [
            [
             0,
             "blue"
            ],
            [
             1,
             "blue"
            ]
           ],
           "showscale": false,
           "sizemode": "absolute",
           "sizeref": 0.3,
           "type": "cone",
           "u": [
            0.12829974709679448
           ],
           "v": [
            0.9904350858976192
           ],
           "w": [
            -0.05076923790913057
           ],
           "x": [
            0.12829974709679448
           ],
           "y": [
            0.9904350858976192
           ],
           "z": [
            -0.05076923790913057
           ]
          }
         ],
         "name": "frame180"
        },
        {
         "data": [
          {
           "line": {
            "color": "blue",
            "width": 5
           },
           "mode": "lines",
           "type": "scatter3d",
           "x": [
            0,
            0.4966978495104535
           ],
           "y": [
            0,
            0.8671715880511341
           ],
           "z": [
            0,
            -0.03612039823375862
           ]
          },
          {
           "anchor": "tip",
           "colorscale": [
            [
             0,
             "blue"
            ],
            [
             1,
             "blue"
            ]
           ],
           "showscale": false,
           "sizemode": "absolute",
           "sizeref": 0.3,
           "type": "cone",
           "u": [
            0.4966978495104535
           ],
           "v": [
            0.8671715880511341
           ],
           "w": [
            -0.03612039823375862
           ],
           "x": [
            0.4966978495104535
           ],
           "y": [
            0.8671715880511341
           ],
           "z": [
            -0.03612039823375862
           ]
          }
         ],
         "name": "frame190"
        },
        {
         "data": [
          {
           "line": {
            "color": "blue",
            "width": 5
           },
           "mode": "lines",
           "type": "scatter3d",
           "x": [
            0,
            0.8026410277770684
           ],
           "y": [
            0,
            0.5961058215833035
           ],
           "z": [
            0,
            -0.020621105777020476
           ]
          },
          {
           "anchor": "tip",
           "colorscale": [
            [
             0,
             "blue"
            ],
            [
             1,
             "blue"
            ]
           ],
           "showscale": false,
           "sizemode": "absolute",
           "sizeref": 0.3,
           "type": "cone",
           "u": [
            0.8026410277770684
           ],
           "v": [
            0.5961058215833035
           ],
           "w": [
            -0.020621105777020476
           ],
           "x": [
            0.8026410277770684
           ],
           "y": [
            0.5961058215833035
           ],
           "z": [
            -0.020621105777020476
           ]
          }
         ],
         "name": "frame200"
        },
        {
         "data": [
          {
           "line": {
            "color": "blue",
            "width": 5
           },
           "mode": "lines",
           "type": "scatter3d",
           "x": [
            0,
            0.9772571930700358
           ],
           "y": [
            0,
            0.21113501934320586
           ],
           "z": [
            0,
            -0.01975809200857881
           ]
          },
          {
           "anchor": "tip",
           "colorscale": [
            [
             0,
             "blue"
            ],
            [
             1,
             "blue"
            ]
           ],
           "showscale": false,
           "sizemode": "absolute",
           "sizeref": 0.3,
           "type": "cone",
           "u": [
            0.9772571930700358
           ],
           "v": [
            0.21113501934320586
           ],
           "w": [
            -0.01975809200857881
           ],
           "x": [
            0.9772571930700358
           ],
           "y": [
            0.21113501934320586
           ],
           "z": [
            -0.01975809200857881
           ]
          }
         ],
         "name": "frame210"
        },
        {
         "data": [
          {
           "line": {
            "color": "blue",
            "width": 5
           },
           "mode": "lines",
           "type": "scatter3d",
           "x": [
            0,
            0.9758468167625489
           ],
           "y": [
            0,
            -0.2169547725006396
           ],
           "z": [
            0,
            -0.025565932480471565
           ]
          },
          {
           "anchor": "tip",
           "colorscale": [
            [
             0,
             "blue"
            ],
            [
             1,
             "blue"
            ]
           ],
           "showscale": false,
           "sizemode": "absolute",
           "sizeref": 0.3,
           "type": "cone",
           "u": [
            0.9758468167625489
           ],
           "v": [
            -0.2169547725006396
           ],
           "w": [
            -0.025565932480471565
           ],
           "x": [
            0.9758468167625489
           ],
           "y": [
            -0.2169547725006396
           ],
           "z": [
            -0.025565932480471565
           ]
          }
         ],
         "name": "frame220"
        },
        {
         "data": [
          {
           "line": {
            "color": "blue",
            "width": 5
           },
           "mode": "lines",
           "type": "scatter3d",
           "x": [
            0,
            0.8032171834563482
           ],
           "y": [
            0,
            -0.5947839031082589
           ],
           "z": [
            0,
            -0.0327759790663249
           ]
          },
          {
           "anchor": "tip",
           "colorscale": [
            [
             0,
             "blue"
            ],
            [
             1,
             "blue"
            ]
           ],
           "showscale": false,
           "sizemode": "absolute",
           "sizeref": 0.3,
           "type": "cone",
           "u": [
            0.8032171834563482
           ],
           "v": [
            -0.5947839031082589
           ],
           "w": [
            -0.0327759790663249
           ],
           "x": [
            0.8032171834563482
           ],
           "y": [
            -0.5947839031082589
           ],
           "z": [
            -0.0327759790663249
           ]
          }
         ],
         "name": "frame230"
        },
        {
         "data": [
          {
           "line": {
            "color": "blue",
            "width": 5
           },
           "mode": "lines",
           "type": "scatter3d",
           "x": [
            0,
            0.5205656513381643
           ],
           "y": [
            0,
            -0.8529107642122025
           ],
           "z": [
            0,
            -0.039428808475906574
           ]
          },
          {
           "anchor": "tip",
           "colorscale": [
            [
             0,
             "blue"
            ],
            [
             1,
             "blue"
            ]
           ],
           "showscale": false,
           "sizemode": "absolute",
           "sizeref": 0.3,
           "type": "cone",
           "u": [
            0.5205656513381643
           ],
           "v": [
            -0.8529107642122025
           ],
           "w": [
            -0.039428808475906574
           ],
           "x": [
            0.5205656513381643
           ],
           "y": [
            -0.8529107642122025
           ],
           "z": [
            -0.039428808475906574
           ]
          }
         ],
         "name": "frame240"
        },
        {
         "data": [
          {
           "line": {
            "color": "blue",
            "width": 5
           },
           "mode": "lines",
           "type": "scatter3d",
           "x": [
            0,
            0.43673947758111764
           ],
           "y": [
            0,
            -0.8985235107099767
           ],
           "z": [
            0,
            -0.043750764834350586
           ]
          },
          {
           "anchor": "tip",
           "colorscale": [
            [
             0,
             "blue"
            ],
            [
             1,
             "blue"
            ]
           ],
           "showscale": false,
           "sizemode": "absolute",
           "sizeref": 0.3,
           "type": "cone",
           "u": [
            0.43673947758111764
           ],
           "v": [
            -0.8985235107099767
           ],
           "w": [
            -0.043750764834350586
           ],
           "x": [
            0.43673947758111764
           ],
           "y": [
            -0.8985235107099767
           ],
           "z": [
            -0.043750764834350586
           ]
          }
         ],
         "name": "frame250"
        },
        {
         "data": [
          {
           "line": {
            "color": "blue",
            "width": 5
           },
           "mode": "lines",
           "type": "scatter3d",
           "x": [
            0,
            0.43622840719642614
           ],
           "y": [
            0,
            -0.8985245176372774
           ],
           "z": [
            0,
            -0.04856406036944738
           ]
          },
          {
           "anchor": "tip",
           "colorscale": [
            [
             0,
             "blue"
            ],
            [
             1,
             "blue"
            ]
           ],
           "showscale": false,
           "sizemode": "absolute",
           "sizeref": 0.3,
           "type": "cone",
           "u": [
            0.43622840719642614
           ],
           "v": [
            -0.8985245176372774
           ],
           "w": [
            -0.04856406036944738
           ],
           "x": [
            0.43622840719642614
           ],
           "y": [
            -0.8985245176372774
           ],
           "z": [
            -0.04856406036944738
           ]
          }
         ],
         "name": "frame260"
        },
        {
         "data": [
          {
           "line": {
            "color": "blue",
            "width": 5
           },
           "mode": "lines",
           "type": "scatter3d",
           "x": [
            0,
            0.5675822376722759
           ],
           "y": [
            0,
            -0.8213175389909272
           ],
           "z": [
            0,
            -0.057340244373556226
           ]
          },
          {
           "anchor": "tip",
           "colorscale": [
            [
             0,
             "blue"
            ],
            [
             1,
             "blue"
            ]
           ],
           "showscale": false,
           "sizemode": "absolute",
           "sizeref": 0.3,
           "type": "cone",
           "u": [
            0.5675822376722759
           ],
           "v": [
            -0.8213175389909272
           ],
           "w": [
            -0.057340244373556226
           ],
           "x": [
            0.5675822376722759
           ],
           "y": [
            -0.8213175389909272
           ],
           "z": [
            -0.057340244373556226
           ]
          }
         ],
         "name": "frame270"
        },
        {
         "data": [
          {
           "line": {
            "color": "blue",
            "width": 5
           },
           "mode": "lines",
           "type": "scatter3d",
           "x": [
            0,
            0.8473526368362826
           ],
           "y": [
            0,
            -0.5268737016498781
           ],
           "z": [
            0,
            -0.06631448828388997
           ]
          },
          {
           "anchor": "tip",
           "colorscale": [
            [
             0,
             "blue"
            ],
            [
             1,
             "blue"
            ]
           ],
           "showscale": false,
           "sizemode": "absolute",
           "sizeref": 0.3,
           "type": "cone",
           "u": [
            0.8473526368362826
           ],
           "v": [
            -0.5268737016498781
           ],
           "w": [
            -0.06631448828388997
           ],
           "x": [
            0.8473526368362826
           ],
           "y": [
            -0.5268737016498781
           ],
           "z": [
            -0.06631448828388997
           ]
          }
         ],
         "name": "frame280"
        },
        {
         "data": [
          {
           "line": {
            "color": "blue",
            "width": 5
           },
           "mode": "lines",
           "type": "scatter3d",
           "x": [
            0,
            0.9885129277512826
           ],
           "y": [
            0,
            -0.13189160565208505
           ],
           "z": [
            0,
            -0.07380241206832239
           ]
          },
          {
           "anchor": "tip",
           "colorscale": [
            [
             0,
             "blue"
            ],
            [
             1,
             "blue"
            ]
           ],
           "showscale": false,
           "sizemode": "absolute",
           "sizeref": 0.3,
           "type": "cone",
           "u": [
            0.9885129277512826
           ],
           "v": [
            -0.13189160565208505
           ],
           "w": [
            -0.07380241206832239
           ],
           "x": [
            0.9885129277512826
           ],
           "y": [
            -0.13189160565208505
           ],
           "z": [
            -0.07380241206832239
           ]
          }
         ],
         "name": "frame290"
        },
        {
         "data": [
          {
           "line": {
            "color": "blue",
            "width": 5
           },
           "mode": "lines",
           "type": "scatter3d",
           "x": [
            0,
            0.950449315007667
           ],
           "y": [
            0,
            0.29915618968403845
           ],
           "z": [
            0,
            -0.08456756928742826
           ]
          },
          {
           "anchor": "tip",
           "colorscale": [
            [
             0,
             "blue"
            ],
            [
             1,
             "blue"
            ]
           ],
           "showscale": false,
           "sizemode": "absolute",
           "sizeref": 0.3,
           "type": "cone",
           "u": [
            0.950449315007667
           ],
           "v": [
            0.29915618968403845
           ],
           "w": [
            -0.08456756928742826
           ],
           "x": [
            0.950449315007667
           ],
           "y": [
            0.29915618968403845
           ],
           "z": [
            -0.08456756928742826
           ]
          }
         ],
         "name": "frame300"
        },
        {
         "data": [
          {
           "line": {
            "color": "blue",
            "width": 5
           },
           "mode": "lines",
           "type": "scatter3d",
           "x": [
            0,
            0.7588931904186764
           ],
           "y": [
            0,
            0.6452217539096445
           ],
           "z": [
            0,
            -0.0881476818635914
           ]
          },
          {
           "anchor": "tip",
           "colorscale": [
            [
             0,
             "blue"
            ],
            [
             1,
             "blue"
            ]
           ],
           "showscale": false,
           "sizemode": "absolute",
           "sizeref": 0.3,
           "type": "cone",
           "u": [
            0.7588931904186764
           ],
           "v": [
            0.6452217539096445
           ],
           "w": [
            -0.0881476818635914
           ],
           "x": [
            0.7588931904186764
           ],
           "y": [
            0.6452217539096445
           ],
           "z": [
            -0.0881476818635914
           ]
          }
         ],
         "name": "frame310"
        },
        {
         "data": [
          {
           "line": {
            "color": "blue",
            "width": 5
           },
           "mode": "lines",
           "type": "scatter3d",
           "x": [
            0,
            0.44298752260036206
           ],
           "y": [
            0,
            0.89114971255733
           ],
           "z": [
            0,
            -0.09805225458591865
           ]
          },
          {
           "anchor": "tip",
           "colorscale": [
            [
             0,
             "blue"
            ],
            [
             1,
             "blue"
            ]
           ],
           "showscale": false,
           "sizemode": "absolute",
           "sizeref": 0.3,
           "type": "cone",
           "u": [
            0.44298752260036206
           ],
           "v": [
            0.89114971255733
           ],
           "w": [
            -0.09805225458591865
           ],
           "x": [
            0.44298752260036206
           ],
           "y": [
            0.89114971255733
           ],
           "z": [
            -0.09805225458591865
           ]
          }
         ],
         "name": "frame320"
        },
        {
         "data": [
          {
           "line": {
            "color": "blue",
            "width": 5
           },
           "mode": "lines",
           "type": "scatter3d",
           "x": [
            0,
            0.042137823043336464
           ],
           "y": [
            0,
            0.993633728615589
           ],
           "z": [
            0,
            -0.10448165976213472
           ]
          },
          {
           "anchor": "tip",
           "colorscale": [
            [
             0,
             "blue"
            ],
            [
             1,
             "blue"
            ]
           ],
           "showscale": false,
           "sizemode": "absolute",
           "sizeref": 0.3,
           "type": "cone",
           "u": [
            0.042137823043336464
           ],
           "v": [
            0.993633728615589
           ],
           "w": [
            -0.10448165976213472
           ],
           "x": [
            0.042137823043336464
           ],
           "y": [
            0.993633728615589
           ],
           "z": [
            -0.10448165976213472
           ]
          }
         ],
         "name": "frame330"
        },
        {
         "data": [
          {
           "line": {
            "color": "blue",
            "width": 5
           },
           "mode": "lines",
           "type": "scatter3d",
           "x": [
            0,
            -0.3703116451000088
           ],
           "y": [
            0,
            0.9228533273734505
           ],
           "z": [
            0,
            -0.10588211208261711
           ]
          },
          {
           "anchor": "tip",
           "colorscale": [
            [
             0,
             "blue"
            ],
            [
             1,
             "blue"
            ]
           ],
           "showscale": false,
           "sizemode": "absolute",
           "sizeref": 0.3,
           "type": "cone",
           "u": [
            -0.3703116451000088
           ],
           "v": [
            0.9228533273734505
           ],
           "w": [
            -0.10588211208261711
           ],
           "x": [
            -0.3703116451000088
           ],
           "y": [
            0.9228533273734505
           ],
           "z": [
            -0.10588211208261711
           ]
          }
         ],
         "name": "frame340"
        },
        {
         "data": [
          {
           "line": {
            "color": "blue",
            "width": 5
           },
           "mode": "lines",
           "type": "scatter3d",
           "x": [
            0,
            -0.43619079612519096
           ],
           "y": [
            0,
            0.8947157865497031
           ],
           "z": [
            0,
            -0.09602734336853
           ]
          },
          {
           "anchor": "tip",
           "colorscale": [
            [
             0,
             "blue"
            ],
            [
             1,
             "blue"
            ]
           ],
           "showscale": false,
           "sizemode": "absolute",
           "sizeref": 0.3,
           "type": "cone",
           "u": [
            -0.43619079612519096
           ],
           "v": [
            0.8947157865497031
           ],
           "w": [
            -0.09602734336853
           ],
           "x": [
            -0.43619079612519096
           ],
           "y": [
            0.8947157865497031
           ],
           "z": [
            -0.09602734336853
           ]
          }
         ],
         "name": "frame350"
        },
        {
         "data": [
          {
           "line": {
            "color": "blue",
            "width": 5
           },
           "mode": "lines",
           "type": "scatter3d",
           "x": [
            0,
            -0.43575859181736476
           ],
           "y": [
            0,
            0.8955645116894315
           ],
           "z": [
            0,
            -0.0898813387740602
           ]
          },
          {
           "anchor": "tip",
           "colorscale": [
            [
             0,
             "blue"
            ],
            [
             1,
             "blue"
            ]
           ],
           "showscale": false,
           "sizemode": "absolute",
           "sizeref": 0.3,
           "type": "cone",
           "u": [
            -0.43575859181736476
           ],
           "v": [
            0.8955645116894315
           ],
           "w": [
            -0.0898813387740602
           ],
           "x": [
            -0.43575859181736476
           ],
           "y": [
            0.8955645116894315
           ],
           "z": [
            -0.0898813387740602
           ]
          }
         ],
         "name": "frame360"
        },
        {
         "data": [
          {
           "line": {
            "color": "blue",
            "width": 5
           },
           "mode": "lines",
           "type": "scatter3d",
           "x": [
            0,
            -0.43547469025866525
           ],
           "y": [
            0,
            0.8960124664814209
           ],
           "z": [
            0,
            -0.08673784672217871
           ]
          },
          {
           "anchor": "tip",
           "colorscale": [
            [
             0,
             "blue"
            ],
            [
             1,
             "blue"
            ]
           ],
           "showscale": false,
           "sizemode": "absolute",
           "sizeref": 0.3,
           "type": "cone",
           "u": [
            -0.43547469025866525
           ],
           "v": [
            0.8960124664814209
           ],
           "w": [
            -0.08673784672217871
           ],
           "x": [
            -0.43547469025866525
           ],
           "y": [
            0.8960124664814209
           ],
           "z": [
            -0.08673784672217871
           ]
          }
         ],
         "name": "frame370"
        },
        {
         "data": [
          {
           "line": {
            "color": "blue",
            "width": 5
           },
           "mode": "lines",
           "type": "scatter3d",
           "x": [
            0,
            -0.4353844721381233
           ],
           "y": [
            0,
            0.896254884405474
           ],
           "z": [
            0,
            -0.0846613465540121
           ]
          },
          {
           "anchor": "tip",
           "colorscale": [
            [
             0,
             "blue"
            ],
            [
             1,
             "blue"
            ]
           ],
           "showscale": false,
           "sizemode": "absolute",
           "sizeref": 0.3,
           "type": "cone",
           "u": [
            -0.4353844721381233
           ],
           "v": [
            0.896254884405474
           ],
           "w": [
            -0.0846613465540121
           ],
           "x": [
            -0.4353844721381233
           ],
           "y": [
            0.896254884405474
           ],
           "z": [
            -0.0846613465540121
           ]
          }
         ],
         "name": "frame380"
        },
        {
         "data": [
          {
           "line": {
            "color": "blue",
            "width": 5
           },
           "mode": "lines",
           "type": "scatter3d",
           "x": [
            0,
            -0.43530783642823656
           ],
           "y": [
            0,
            0.8963762283765457
           ],
           "z": [
            0,
            -0.08376601187597832
           ]
          },
          {
           "anchor": "tip",
           "colorscale": [
            [
             0,
             "blue"
            ],
            [
             1,
             "blue"
            ]
           ],
           "showscale": false,
           "sizemode": "absolute",
           "sizeref": 0.3,
           "type": "cone",
           "u": [
            -0.43530783642823656
           ],
           "v": [
            0.8963762283765457
           ],
           "w": [
            -0.08376601187597832
           ],
           "x": [
            -0.43530783642823656
           ],
           "y": [
            0.8963762283765457
           ],
           "z": [
            -0.08376601187597832
           ]
          }
         ],
         "name": "frame390"
        },
        {
         "data": [
          {
           "line": {
            "color": "blue",
            "width": 5
           },
           "mode": "lines",
           "type": "scatter3d",
           "x": [
            0,
            -0.4353428977400154
           ],
           "y": [
            0,
            0.8963539676822396
           ],
           "z": [
            0,
            -0.08382199000043408
           ]
          },
          {
           "anchor": "tip",
           "colorscale": [
            [
             0,
             "blue"
            ],
            [
             1,
             "blue"
            ]
           ],
           "showscale": false,
           "sizemode": "absolute",
           "sizeref": 0.3,
           "type": "cone",
           "u": [
            -0.4353428977400154
           ],
           "v": [
            0.8963539676822396
           ],
           "w": [
            -0.08382199000043408
           ],
           "x": [
            -0.4353428977400154
           ],
           "y": [
            0.8963539676822396
           ],
           "z": [
            -0.08382199000043408
           ]
          }
         ],
         "name": "frame400"
        },
        {
         "data": [
          {
           "line": {
            "color": "blue",
            "width": 5
           },
           "mode": "lines",
           "type": "scatter3d",
           "x": [
            0,
            -0.43534523871272485
           ],
           "y": [
            0,
            0.8963517013669053
           ],
           "z": [
            0,
            -0.08383406578959754
           ]
          },
          {
           "anchor": "tip",
           "colorscale": [
            [
             0,
             "blue"
            ],
            [
             1,
             "blue"
            ]
           ],
           "showscale": false,
           "sizemode": "absolute",
           "sizeref": 0.3,
           "type": "cone",
           "u": [
            -0.43534523871272485
           ],
           "v": [
            0.8963517013669053
           ],
           "w": [
            -0.08383406578959754
           ],
           "x": [
            -0.43534523871272485
           ],
           "y": [
            0.8963517013669053
           ],
           "z": [
            -0.08383406578959754
           ]
          }
         ],
         "name": "frame410"
        },
        {
         "data": [
          {
           "line": {
            "color": "blue",
            "width": 5
           },
           "mode": "lines",
           "type": "scatter3d",
           "x": [
            0,
            -0.43523060136314257
           ],
           "y": [
            0,
            0.8964130988981593
           ],
           "z": [
            0,
            -0.08377278651731893
           ]
          },
          {
           "anchor": "tip",
           "colorscale": [
            [
             0,
             "blue"
            ],
            [
             1,
             "blue"
            ]
           ],
           "showscale": false,
           "sizemode": "absolute",
           "sizeref": 0.3,
           "type": "cone",
           "u": [
            -0.43523060136314257
           ],
           "v": [
            0.8964130988981593
           ],
           "w": [
            -0.08377278651731893
           ],
           "x": [
            -0.43523060136314257
           ],
           "y": [
            0.8964130988981593
           ],
           "z": [
            -0.08377278651731893
           ]
          }
         ],
         "name": "frame420"
        },
        {
         "data": [
          {
           "line": {
            "color": "blue",
            "width": 5
           },
           "mode": "lines",
           "type": "scatter3d",
           "x": [
            0,
            -0.4352300721540561
           ],
           "y": [
            0,
            0.8964133914216357
           ],
           "z": [
            0,
            -0.08377240579532505
           ]
          },
          {
           "anchor": "tip",
           "colorscale": [
            [
             0,
             "blue"
            ],
            [
             1,
             "blue"
            ]
           ],
           "showscale": false,
           "sizemode": "absolute",
           "sizeref": 0.3,
           "type": "cone",
           "u": [
            -0.4352300721540561
           ],
           "v": [
            0.8964133914216357
           ],
           "w": [
            -0.08377240579532505
           ],
           "x": [
            -0.4352300721540561
           ],
           "y": [
            0.8964133914216357
           ],
           "z": [
            -0.08377240579532505
           ]
          }
         ],
         "name": "frame430"
        },
        {
         "data": [
          {
           "line": {
            "color": "blue",
            "width": 5
           },
           "mode": "lines",
           "type": "scatter3d",
           "x": [
            0,
            -0.4352300721191241
           ],
           "y": [
            0,
            0.896413391440944
           ],
           "z": [
            0,
            -0.08377240577019893
           ]
          },
          {
           "anchor": "tip",
           "colorscale": [
            [
             0,
             "blue"
            ],
            [
             1,
             "blue"
            ]
           ],
           "showscale": false,
           "sizemode": "absolute",
           "sizeref": 0.3,
           "type": "cone",
           "u": [
            -0.4352300721191241
           ],
           "v": [
            0.896413391440944
           ],
           "w": [
            -0.08377240577019893
           ],
           "x": [
            -0.4352300721191241
           ],
           "y": [
            0.896413391440944
           ],
           "z": [
            -0.08377240577019893
           ]
          }
         ],
         "name": "frame440"
        },
        {
         "data": [
          {
           "line": {
            "color": "blue",
            "width": 5
           },
           "mode": "lines",
           "type": "scatter3d",
           "x": [
            0,
            -0.4352300721190529
           ],
           "y": [
            0,
            0.8964133914409843
           ],
           "z": [
            0,
            -0.08377240577013842
           ]
          },
          {
           "anchor": "tip",
           "colorscale": [
            [
             0,
             "blue"
            ],
            [
             1,
             "blue"
            ]
           ],
           "showscale": false,
           "sizemode": "absolute",
           "sizeref": 0.3,
           "type": "cone",
           "u": [
            -0.4352300721190529
           ],
           "v": [
            0.8964133914409843
           ],
           "w": [
            -0.08377240577013842
           ],
           "x": [
            -0.4352300721190529
           ],
           "y": [
            0.8964133914409843
           ],
           "z": [
            -0.08377240577013842
           ]
          }
         ],
         "name": "frame450"
        }
       ],
       "layout": {
        "scene": {
         "xaxis": {
          "range": [
           -1,
           1
          ],
          "title": {
           "text": "X"
          }
         },
         "yaxis": {
          "range": [
           -1,
           1
          ],
          "title": {
           "text": "Y"
          }
         },
         "zaxis": {
          "range": [
           -1,
           1
          ],
          "title": {
           "text": "Z"
          }
         }
        },
        "sliders": [
         {
          "currentvalue": {
           "font": {
            "size": 20
           },
           "prefix": "Time: "
          },
          "pad": {
           "t": 50
          },
          "steps": [
           {
            "args": [
             [
              "frame0"
             ],
             {
              "frame": {
               "duration": 50,
               "redraw": true
              },
              "mode": "immediate"
             }
            ],
            "method": "animate"
           },
           {
            "args": [
             [
              "frame10"
             ],
             {
              "frame": {
               "duration": 50,
               "redraw": true
              },
              "mode": "immediate"
             }
            ],
            "method": "animate"
           },
           {
            "args": [
             [
              "frame20"
             ],
             {
              "frame": {
               "duration": 50,
               "redraw": true
              },
              "mode": "immediate"
             }
            ],
            "method": "animate"
           },
           {
            "args": [
             [
              "frame30"
             ],
             {
              "frame": {
               "duration": 50,
               "redraw": true
              },
              "mode": "immediate"
             }
            ],
            "method": "animate"
           },
           {
            "args": [
             [
              "frame40"
             ],
             {
              "frame": {
               "duration": 50,
               "redraw": true
              },
              "mode": "immediate"
             }
            ],
            "method": "animate"
           },
           {
            "args": [
             [
              "frame50"
             ],
             {
              "frame": {
               "duration": 50,
               "redraw": true
              },
              "mode": "immediate"
             }
            ],
            "method": "animate"
           },
           {
            "args": [
             [
              "frame60"
             ],
             {
              "frame": {
               "duration": 50,
               "redraw": true
              },
              "mode": "immediate"
             }
            ],
            "method": "animate"
           },
           {
            "args": [
             [
              "frame70"
             ],
             {
              "frame": {
               "duration": 50,
               "redraw": true
              },
              "mode": "immediate"
             }
            ],
            "method": "animate"
           },
           {
            "args": [
             [
              "frame80"
             ],
             {
              "frame": {
               "duration": 50,
               "redraw": true
              },
              "mode": "immediate"
             }
            ],
            "method": "animate"
           },
           {
            "args": [
             [
              "frame90"
             ],
             {
              "frame": {
               "duration": 50,
               "redraw": true
              },
              "mode": "immediate"
             }
            ],
            "method": "animate"
           },
           {
            "args": [
             [
              "frame100"
             ],
             {
              "frame": {
               "duration": 50,
               "redraw": true
              },
              "mode": "immediate"
             }
            ],
            "method": "animate"
           },
           {
            "args": [
             [
              "frame110"
             ],
             {
              "frame": {
               "duration": 50,
               "redraw": true
              },
              "mode": "immediate"
             }
            ],
            "method": "animate"
           },
           {
            "args": [
             [
              "frame120"
             ],
             {
              "frame": {
               "duration": 50,
               "redraw": true
              },
              "mode": "immediate"
             }
            ],
            "method": "animate"
           },
           {
            "args": [
             [
              "frame130"
             ],
             {
              "frame": {
               "duration": 50,
               "redraw": true
              },
              "mode": "immediate"
             }
            ],
            "method": "animate"
           },
           {
            "args": [
             [
              "frame140"
             ],
             {
              "frame": {
               "duration": 50,
               "redraw": true
              },
              "mode": "immediate"
             }
            ],
            "method": "animate"
           },
           {
            "args": [
             [
              "frame150"
             ],
             {
              "frame": {
               "duration": 50,
               "redraw": true
              },
              "mode": "immediate"
             }
            ],
            "method": "animate"
           },
           {
            "args": [
             [
              "frame160"
             ],
             {
              "frame": {
               "duration": 50,
               "redraw": true
              },
              "mode": "immediate"
             }
            ],
            "method": "animate"
           },
           {
            "args": [
             [
              "frame170"
             ],
             {
              "frame": {
               "duration": 50,
               "redraw": true
              },
              "mode": "immediate"
             }
            ],
            "method": "animate"
           },
           {
            "args": [
             [
              "frame180"
             ],
             {
              "frame": {
               "duration": 50,
               "redraw": true
              },
              "mode": "immediate"
             }
            ],
            "method": "animate"
           },
           {
            "args": [
             [
              "frame190"
             ],
             {
              "frame": {
               "duration": 50,
               "redraw": true
              },
              "mode": "immediate"
             }
            ],
            "method": "animate"
           },
           {
            "args": [
             [
              "frame200"
             ],
             {
              "frame": {
               "duration": 50,
               "redraw": true
              },
              "mode": "immediate"
             }
            ],
            "method": "animate"
           },
           {
            "args": [
             [
              "frame210"
             ],
             {
              "frame": {
               "duration": 50,
               "redraw": true
              },
              "mode": "immediate"
             }
            ],
            "method": "animate"
           },
           {
            "args": [
             [
              "frame220"
             ],
             {
              "frame": {
               "duration": 50,
               "redraw": true
              },
              "mode": "immediate"
             }
            ],
            "method": "animate"
           },
           {
            "args": [
             [
              "frame230"
             ],
             {
              "frame": {
               "duration": 50,
               "redraw": true
              },
              "mode": "immediate"
             }
            ],
            "method": "animate"
           },
           {
            "args": [
             [
              "frame240"
             ],
             {
              "frame": {
               "duration": 50,
               "redraw": true
              },
              "mode": "immediate"
             }
            ],
            "method": "animate"
           },
           {
            "args": [
             [
              "frame250"
             ],
             {
              "frame": {
               "duration": 50,
               "redraw": true
              },
              "mode": "immediate"
             }
            ],
            "method": "animate"
           },
           {
            "args": [
             [
              "frame260"
             ],
             {
              "frame": {
               "duration": 50,
               "redraw": true
              },
              "mode": "immediate"
             }
            ],
            "method": "animate"
           },
           {
            "args": [
             [
              "frame270"
             ],
             {
              "frame": {
               "duration": 50,
               "redraw": true
              },
              "mode": "immediate"
             }
            ],
            "method": "animate"
           },
           {
            "args": [
             [
              "frame280"
             ],
             {
              "frame": {
               "duration": 50,
               "redraw": true
              },
              "mode": "immediate"
             }
            ],
            "method": "animate"
           },
           {
            "args": [
             [
              "frame290"
             ],
             {
              "frame": {
               "duration": 50,
               "redraw": true
              },
              "mode": "immediate"
             }
            ],
            "method": "animate"
           },
           {
            "args": [
             [
              "frame300"
             ],
             {
              "frame": {
               "duration": 50,
               "redraw": true
              },
              "mode": "immediate"
             }
            ],
            "method": "animate"
           },
           {
            "args": [
             [
              "frame310"
             ],
             {
              "frame": {
               "duration": 50,
               "redraw": true
              },
              "mode": "immediate"
             }
            ],
            "method": "animate"
           },
           {
            "args": [
             [
              "frame320"
             ],
             {
              "frame": {
               "duration": 50,
               "redraw": true
              },
              "mode": "immediate"
             }
            ],
            "method": "animate"
           },
           {
            "args": [
             [
              "frame330"
             ],
             {
              "frame": {
               "duration": 50,
               "redraw": true
              },
              "mode": "immediate"
             }
            ],
            "method": "animate"
           },
           {
            "args": [
             [
              "frame340"
             ],
             {
              "frame": {
               "duration": 50,
               "redraw": true
              },
              "mode": "immediate"
             }
            ],
            "method": "animate"
           },
           {
            "args": [
             [
              "frame350"
             ],
             {
              "frame": {
               "duration": 50,
               "redraw": true
              },
              "mode": "immediate"
             }
            ],
            "method": "animate"
           },
           {
            "args": [
             [
              "frame360"
             ],
             {
              "frame": {
               "duration": 50,
               "redraw": true
              },
              "mode": "immediate"
             }
            ],
            "method": "animate"
           },
           {
            "args": [
             [
              "frame370"
             ],
             {
              "frame": {
               "duration": 50,
               "redraw": true
              },
              "mode": "immediate"
             }
            ],
            "method": "animate"
           },
           {
            "args": [
             [
              "frame380"
             ],
             {
              "frame": {
               "duration": 50,
               "redraw": true
              },
              "mode": "immediate"
             }
            ],
            "method": "animate"
           },
           {
            "args": [
             [
              "frame390"
             ],
             {
              "frame": {
               "duration": 50,
               "redraw": true
              },
              "mode": "immediate"
             }
            ],
            "method": "animate"
           },
           {
            "args": [
             [
              "frame400"
             ],
             {
              "frame": {
               "duration": 50,
               "redraw": true
              },
              "mode": "immediate"
             }
            ],
            "method": "animate"
           },
           {
            "args": [
             [
              "frame410"
             ],
             {
              "frame": {
               "duration": 50,
               "redraw": true
              },
              "mode": "immediate"
             }
            ],
            "method": "animate"
           },
           {
            "args": [
             [
              "frame420"
             ],
             {
              "frame": {
               "duration": 50,
               "redraw": true
              },
              "mode": "immediate"
             }
            ],
            "method": "animate"
           },
           {
            "args": [
             [
              "frame430"
             ],
             {
              "frame": {
               "duration": 50,
               "redraw": true
              },
              "mode": "immediate"
             }
            ],
            "method": "animate"
           },
           {
            "args": [
             [
              "frame440"
             ],
             {
              "frame": {
               "duration": 50,
               "redraw": true
              },
              "mode": "immediate"
             }
            ],
            "method": "animate"
           },
           {
            "args": [
             [
              "frame450"
             ],
             {
              "frame": {
               "duration": 50,
               "redraw": true
              },
              "mode": "immediate"
             }
            ],
            "method": "animate"
           }
          ]
         }
        ],
        "template": {
         "data": {
          "candlestick": [
           {
            "decreasing": {
             "line": {
              "color": "#000033"
             }
            },
            "increasing": {
             "line": {
              "color": "#000032"
             }
            },
            "type": "candlestick"
           }
          ],
          "contour": [
           {
            "colorscale": [
             [
              0,
              "#000011"
             ],
             [
              0.1111111111111111,
              "#000012"
             ],
             [
              0.2222222222222222,
              "#000013"
             ],
             [
              0.3333333333333333,
              "#000014"
             ],
             [
              0.4444444444444444,
              "#000015"
             ],
             [
              0.5555555555555556,
              "#000016"
             ],
             [
              0.6666666666666666,
              "#000017"
             ],
             [
              0.7777777777777778,
              "#000018"
             ],
             [
              0.8888888888888888,
              "#000019"
             ],
             [
              1,
              "#000020"
             ]
            ],
            "type": "contour"
           }
          ],
          "contourcarpet": [
           {
            "colorscale": [
             [
              0,
              "#000011"
             ],
             [
              0.1111111111111111,
              "#000012"
             ],
             [
              0.2222222222222222,
              "#000013"
             ],
             [
              0.3333333333333333,
              "#000014"
             ],
             [
              0.4444444444444444,
              "#000015"
             ],
             [
              0.5555555555555556,
              "#000016"
             ],
             [
              0.6666666666666666,
              "#000017"
             ],
             [
              0.7777777777777778,
              "#000018"
             ],
             [
              0.8888888888888888,
              "#000019"
             ],
             [
              1,
              "#000020"
             ]
            ],
            "type": "contourcarpet"
           }
          ],
          "heatmap": [
           {
            "colorscale": [
             [
              0,
              "#000011"
             ],
             [
              0.1111111111111111,
              "#000012"
             ],
             [
              0.2222222222222222,
              "#000013"
             ],
             [
              0.3333333333333333,
              "#000014"
             ],
             [
              0.4444444444444444,
              "#000015"
             ],
             [
              0.5555555555555556,
              "#000016"
             ],
             [
              0.6666666666666666,
              "#000017"
             ],
             [
              0.7777777777777778,
              "#000018"
             ],
             [
              0.8888888888888888,
              "#000019"
             ],
             [
              1,
              "#000020"
             ]
            ],
            "type": "heatmap"
           }
          ],
          "histogram2d": [
           {
            "colorscale": [
             [
              0,
              "#000011"
             ],
             [
              0.1111111111111111,
              "#000012"
             ],
             [
              0.2222222222222222,
              "#000013"
             ],
             [
              0.3333333333333333,
              "#000014"
             ],
             [
              0.4444444444444444,
              "#000015"
             ],
             [
              0.5555555555555556,
              "#000016"
             ],
             [
              0.6666666666666666,
              "#000017"
             ],
             [
              0.7777777777777778,
              "#000018"
             ],
             [
              0.8888888888888888,
              "#000019"
             ],
             [
              1,
              "#000020"
             ]
            ],
            "type": "histogram2d"
           }
          ],
          "icicle": [
           {
            "textfont": {
             "color": "white"
            },
            "type": "icicle"
           }
          ],
          "sankey": [
           {
            "textfont": {
             "color": "#000036"
            },
            "type": "sankey"
           }
          ],
          "scatter": [
           {
            "marker": {
             "line": {
              "width": 0
             }
            },
            "type": "scatter"
           }
          ],
          "table": [
           {
            "cells": {
             "fill": {
              "color": "#000038"
             },
             "font": {
              "color": "#000037"
             },
             "line": {
              "color": "#000039"
             }
            },
            "header": {
             "fill": {
              "color": "#000040"
             },
             "font": {
              "color": "#000036"
             },
             "line": {
              "color": "#000039"
             }
            },
            "type": "table"
           }
          ],
          "waterfall": [
           {
            "connector": {
             "line": {
              "color": "#000036",
              "width": 2
             }
            },
            "decreasing": {
             "marker": {
              "color": "#000033"
             }
            },
            "increasing": {
             "marker": {
              "color": "#000032"
             }
            },
            "totals": {
             "marker": {
              "color": "#000034"
             }
            },
            "type": "waterfall"
           }
          ]
         },
         "layout": {
          "coloraxis": {
           "colorscale": [
            [
             0,
             "#000011"
            ],
            [
             0.1111111111111111,
             "#000012"
            ],
            [
             0.2222222222222222,
             "#000013"
            ],
            [
             0.3333333333333333,
             "#000014"
            ],
            [
             0.4444444444444444,
             "#000015"
            ],
            [
             0.5555555555555556,
             "#000016"
            ],
            [
             0.6666666666666666,
             "#000017"
            ],
            [
             0.7777777777777778,
             "#000018"
            ],
            [
             0.8888888888888888,
             "#000019"
            ],
            [
             1,
             "#000020"
            ]
           ]
          },
          "colorscale": {
           "diverging": [
            [
             0,
             "#000021"
            ],
            [
             0.1,
             "#000022"
            ],
            [
             0.2,
             "#000023"
            ],
            [
             0.3,
             "#000024"
            ],
            [
             0.4,
             "#000025"
            ],
            [
             0.5,
             "#000026"
            ],
            [
             0.6,
             "#000027"
            ],
            [
             0.7,
             "#000028"
            ],
            [
             0.8,
             "#000029"
            ],
            [
             0.9,
             "#000030"
            ],
            [
             1,
             "#000031"
            ]
           ],
           "sequential": [
            [
             0,
             "#000011"
            ],
            [
             0.1111111111111111,
             "#000012"
            ],
            [
             0.2222222222222222,
             "#000013"
            ],
            [
             0.3333333333333333,
             "#000014"
            ],
            [
             0.4444444444444444,
             "#000015"
            ],
            [
             0.5555555555555556,
             "#000016"
            ],
            [
             0.6666666666666666,
             "#000017"
            ],
            [
             0.7777777777777778,
             "#000018"
            ],
            [
             0.8888888888888888,
             "#000019"
            ],
            [
             1,
             "#000020"
            ]
           ],
           "sequentialminus": [
            [
             0,
             "#000011"
            ],
            [
             0.1111111111111111,
             "#000012"
            ],
            [
             0.2222222222222222,
             "#000013"
            ],
            [
             0.3333333333333333,
             "#000014"
            ],
            [
             0.4444444444444444,
             "#000015"
            ],
            [
             0.5555555555555556,
             "#000016"
            ],
            [
             0.6666666666666666,
             "#000017"
            ],
            [
             0.7777777777777778,
             "#000018"
            ],
            [
             0.8888888888888888,
             "#000019"
            ],
            [
             1,
             "#000020"
            ]
           ]
          },
          "colorway": [
           "#000001",
           "#000002",
           "#000003",
           "#000004",
           "#000005",
           "#000006",
           "#000007",
           "#000008",
           "#000009",
           "#000010"
          ]
         }
        },
        "updatemenus": [
         {
          "buttons": [
           {
            "args": [
             null,
             {
              "frame": {
               "duration": 50,
               "redraw": true
              },
              "fromcurrent": true
             }
            ],
            "label": "Play",
            "method": "animate"
           },
           {
            "args": [
             [
              null
             ],
             {
              "frame": {
               "duration": 0,
               "redraw": false
              },
              "mode": "immediate"
             }
            ],
            "label": "Pause",
            "method": "animate"
           }
          ],
          "showactive": false,
          "type": "buttons"
         }
        ]
       }
      }
     },
     "metadata": {},
     "output_type": "display_data"
    }
   ],
   "source": [
    "\n",
    "quaternion_data = read_csv(full_data_file_path_y)\n",
    "# Predict states with UKF\n",
    "predicted_states = []\n",
    "raw_pitch = []\n",
    "raw_roll = []\n",
    "raw_yaw = []\n",
    "\n",
    "for q in quaternion_data:\n",
    "    q = q / np.linalg.norm(q)\n",
    "    ukf.predict()\n",
    "    ukf.update(q)\n",
    "    predicted_states.append(ukf.x)\n",
    "predicted_states = np.array(predicted_states)\n",
    "\n",
    "roll, pitch, yaw = quaternion_to_euler_angles(q[1], q[2], q[3], q[0])\n",
    "raw_pitch.append(np.degrees(pitch))\n",
    "raw_roll.append(np.degrees(roll))\n",
    "raw_yaw.append(np.degrees(yaw))\n",
    "\n",
    "plot_euler_angles_3d(predicted_states,10)\n"
   ]
  },
  {
   "cell_type": "markdown",
   "metadata": {},
   "source": [
    "DATA Z"
   ]
  },
  {
   "cell_type": "code",
   "execution_count": 14,
   "metadata": {},
   "outputs": [
    {
     "data": {
      "application/vnd.plotly.v1+json": {
       "config": {
        "plotlyServerURL": "https://plot.ly"
       },
       "data": [
        {
         "line": {
          "color": "blue",
          "width": 5
         },
         "mode": "lines",
         "name": "Vector",
         "type": "scatter3d",
         "x": [
          0,
          0.005859803401130348
         ],
         "y": [
          0,
          0.5212977955471674
         ],
         "z": [
          0,
          0.8533547158490213
         ]
        },
        {
         "anchor": "tip",
         "colorscale": [
          [
           0,
           "blue"
          ],
          [
           1,
           "blue"
          ]
         ],
         "name": "Arrowhead",
         "showscale": false,
         "sizemode": "absolute",
         "sizeref": 0.3,
         "type": "cone",
         "u": [
          0.005859803401130348
         ],
         "v": [
          0.5212977955471674
         ],
         "w": [
          0.8533547158490213
         ],
         "x": [
          0.005859803401130348
         ],
         "y": [
          0.5212977955471674
         ],
         "z": [
          0.8533547158490213
         ]
        }
       ],
       "frames": [
        {
         "data": [
          {
           "line": {
            "color": "blue",
            "width": 5
           },
           "mode": "lines",
           "type": "scatter3d",
           "x": [
            0,
            0.005859803401130348
           ],
           "y": [
            0,
            0.5212977955471674
           ],
           "z": [
            0,
            0.8533547158490213
           ]
          },
          {
           "anchor": "tip",
           "colorscale": [
            [
             0,
             "blue"
            ],
            [
             1,
             "blue"
            ]
           ],
           "showscale": false,
           "sizemode": "absolute",
           "sizeref": 0.3,
           "type": "cone",
           "u": [
            0.005859803401130348
           ],
           "v": [
            0.5212977955471674
           ],
           "w": [
            0.8533547158490213
           ],
           "x": [
            0.005859803401130348
           ],
           "y": [
            0.5212977955471674
           ],
           "z": [
            0.8533547158490213
           ]
          }
         ],
         "name": "frame0"
        },
        {
         "data": [
          {
           "line": {
            "color": "blue",
            "width": 5
           },
           "mode": "lines",
           "type": "scatter3d",
           "x": [
            0,
            0.0761625529852125
           ],
           "y": [
            0,
            0.07401222869911322
           ],
           "z": [
            0,
            0.9943447367617353
           ]
          },
          {
           "anchor": "tip",
           "colorscale": [
            [
             0,
             "blue"
            ],
            [
             1,
             "blue"
            ]
           ],
           "showscale": false,
           "sizemode": "absolute",
           "sizeref": 0.3,
           "type": "cone",
           "u": [
            0.0761625529852125
           ],
           "v": [
            0.07401222869911322
           ],
           "w": [
            0.9943447367617353
           ],
           "x": [
            0.0761625529852125
           ],
           "y": [
            0.07401222869911322
           ],
           "z": [
            0.9943447367617353
           ]
          }
         ],
         "name": "frame10"
        },
        {
         "data": [
          {
           "line": {
            "color": "blue",
            "width": 5
           },
           "mode": "lines",
           "type": "scatter3d",
           "x": [
            0,
            0.07617331223000184
           ],
           "y": [
            0,
            0.07397959394675377
           ],
           "z": [
            0,
            0.994346341162567
           ]
          },
          {
           "anchor": "tip",
           "colorscale": [
            [
             0,
             "blue"
            ],
            [
             1,
             "blue"
            ]
           ],
           "showscale": false,
           "sizemode": "absolute",
           "sizeref": 0.3,
           "type": "cone",
           "u": [
            0.07617331223000184
           ],
           "v": [
            0.07397959394675377
           ],
           "w": [
            0.994346341162567
           ],
           "x": [
            0.07617331223000184
           ],
           "y": [
            0.07397959394675377
           ],
           "z": [
            0.994346341162567
           ]
          }
         ],
         "name": "frame20"
        },
        {
         "data": [
          {
           "line": {
            "color": "blue",
            "width": 5
           },
           "mode": "lines",
           "type": "scatter3d",
           "x": [
            0,
            0.07617331294129615
           ],
           "y": [
            0,
            0.073979591789361
           ],
           "z": [
            0,
            0.994346341268588
           ]
          },
          {
           "anchor": "tip",
           "colorscale": [
            [
             0,
             "blue"
            ],
            [
             1,
             "blue"
            ]
           ],
           "showscale": false,
           "sizemode": "absolute",
           "sizeref": 0.3,
           "type": "cone",
           "u": [
            0.07617331294129615
           ],
           "v": [
            0.073979591789361
           ],
           "w": [
            0.994346341268588
           ],
           "x": [
            0.07617331294129615
           ],
           "y": [
            0.073979591789361
           ],
           "z": [
            0.994346341268588
           ]
          }
         ],
         "name": "frame30"
        },
        {
         "data": [
          {
           "line": {
            "color": "blue",
            "width": 5
           },
           "mode": "lines",
           "type": "scatter3d",
           "x": [
            0,
            0.07617331294134205
           ],
           "y": [
            0,
            0.07397959178921792
           ],
           "z": [
            0,
            0.9943463412685951
           ]
          },
          {
           "anchor": "tip",
           "colorscale": [
            [
             0,
             "blue"
            ],
            [
             1,
             "blue"
            ]
           ],
           "showscale": false,
           "sizemode": "absolute",
           "sizeref": 0.3,
           "type": "cone",
           "u": [
            0.07617331294134205
           ],
           "v": [
            0.07397959178921792
           ],
           "w": [
            0.9943463412685951
           ],
           "x": [
            0.07617331294134205
           ],
           "y": [
            0.07397959178921792
           ],
           "z": [
            0.9943463412685951
           ]
          }
         ],
         "name": "frame40"
        },
        {
         "data": [
          {
           "line": {
            "color": "blue",
            "width": 5
           },
           "mode": "lines",
           "type": "scatter3d",
           "x": [
            0,
            0.07617331294134234
           ],
           "y": [
            0,
            0.07397959178921759
           ],
           "z": [
            0,
            0.9943463412685951
           ]
          },
          {
           "anchor": "tip",
           "colorscale": [
            [
             0,
             "blue"
            ],
            [
             1,
             "blue"
            ]
           ],
           "showscale": false,
           "sizemode": "absolute",
           "sizeref": 0.3,
           "type": "cone",
           "u": [
            0.07617331294134234
           ],
           "v": [
            0.07397959178921759
           ],
           "w": [
            0.9943463412685951
           ],
           "x": [
            0.07617331294134234
           ],
           "y": [
            0.07397959178921759
           ],
           "z": [
            0.9943463412685951
           ]
          }
         ],
         "name": "frame50"
        },
        {
         "data": [
          {
           "line": {
            "color": "blue",
            "width": 5
           },
           "mode": "lines",
           "type": "scatter3d",
           "x": [
            0,
            0.07617331294134203
           ],
           "y": [
            0,
            0.07397959178921794
           ],
           "z": [
            0,
            0.9943463412685951
           ]
          },
          {
           "anchor": "tip",
           "colorscale": [
            [
             0,
             "blue"
            ],
            [
             1,
             "blue"
            ]
           ],
           "showscale": false,
           "sizemode": "absolute",
           "sizeref": 0.3,
           "type": "cone",
           "u": [
            0.07617331294134203
           ],
           "v": [
            0.07397959178921794
           ],
           "w": [
            0.9943463412685951
           ],
           "x": [
            0.07617331294134203
           ],
           "y": [
            0.07397959178921794
           ],
           "z": [
            0.9943463412685951
           ]
          }
         ],
         "name": "frame60"
        },
        {
         "data": [
          {
           "line": {
            "color": "blue",
            "width": 5
           },
           "mode": "lines",
           "type": "scatter3d",
           "x": [
            0,
            0.07617331294134205
           ],
           "y": [
            0,
            0.07397959178921791
           ],
           "z": [
            0,
            0.9943463412685951
           ]
          },
          {
           "anchor": "tip",
           "colorscale": [
            [
             0,
             "blue"
            ],
            [
             1,
             "blue"
            ]
           ],
           "showscale": false,
           "sizemode": "absolute",
           "sizeref": 0.3,
           "type": "cone",
           "u": [
            0.07617331294134205
           ],
           "v": [
            0.07397959178921791
           ],
           "w": [
            0.9943463412685951
           ],
           "x": [
            0.07617331294134205
           ],
           "y": [
            0.07397959178921791
           ],
           "z": [
            0.9943463412685951
           ]
          }
         ],
         "name": "frame70"
        },
        {
         "data": [
          {
           "line": {
            "color": "blue",
            "width": 5
           },
           "mode": "lines",
           "type": "scatter3d",
           "x": [
            0,
            0.07617331294134193
           ],
           "y": [
            0,
            0.07397959178921798
           ],
           "z": [
            0,
            0.9943463412685951
           ]
          },
          {
           "anchor": "tip",
           "colorscale": [
            [
             0,
             "blue"
            ],
            [
             1,
             "blue"
            ]
           ],
           "showscale": false,
           "sizemode": "absolute",
           "sizeref": 0.3,
           "type": "cone",
           "u": [
            0.07617331294134193
           ],
           "v": [
            0.07397959178921798
           ],
           "w": [
            0.9943463412685951
           ],
           "x": [
            0.07617331294134193
           ],
           "y": [
            0.07397959178921798
           ],
           "z": [
            0.9943463412685951
           ]
          }
         ],
         "name": "frame80"
        },
        {
         "data": [
          {
           "line": {
            "color": "blue",
            "width": 5
           },
           "mode": "lines",
           "type": "scatter3d",
           "x": [
            0,
            0.07617331294134287
           ],
           "y": [
            0,
            0.07397959178921715
           ],
           "z": [
            0,
            0.9943463412685951
           ]
          },
          {
           "anchor": "tip",
           "colorscale": [
            [
             0,
             "blue"
            ],
            [
             1,
             "blue"
            ]
           ],
           "showscale": false,
           "sizemode": "absolute",
           "sizeref": 0.3,
           "type": "cone",
           "u": [
            0.07617331294134287
           ],
           "v": [
            0.07397959178921715
           ],
           "w": [
            0.9943463412685951
           ],
           "x": [
            0.07617331294134287
           ],
           "y": [
            0.07397959178921715
           ],
           "z": [
            0.9943463412685951
           ]
          }
         ],
         "name": "frame90"
        },
        {
         "data": [
          {
           "line": {
            "color": "blue",
            "width": 5
           },
           "mode": "lines",
           "type": "scatter3d",
           "x": [
            0,
            0.07617331294134247
           ],
           "y": [
            0,
            0.07397959178921751
           ],
           "z": [
            0,
            0.9943463412685951
           ]
          },
          {
           "anchor": "tip",
           "colorscale": [
            [
             0,
             "blue"
            ],
            [
             1,
             "blue"
            ]
           ],
           "showscale": false,
           "sizemode": "absolute",
           "sizeref": 0.3,
           "type": "cone",
           "u": [
            0.07617331294134247
           ],
           "v": [
            0.07397959178921751
           ],
           "w": [
            0.9943463412685951
           ],
           "x": [
            0.07617331294134247
           ],
           "y": [
            0.07397959178921751
           ],
           "z": [
            0.9943463412685951
           ]
          }
         ],
         "name": "frame100"
        },
        {
         "data": [
          {
           "line": {
            "color": "blue",
            "width": 5
           },
           "mode": "lines",
           "type": "scatter3d",
           "x": [
            0,
            0.0761733129413421
           ],
           "y": [
            0,
            0.07397959178921787
           ],
           "z": [
            0,
            0.9943463412685951
           ]
          },
          {
           "anchor": "tip",
           "colorscale": [
            [
             0,
             "blue"
            ],
            [
             1,
             "blue"
            ]
           ],
           "showscale": false,
           "sizemode": "absolute",
           "sizeref": 0.3,
           "type": "cone",
           "u": [
            0.0761733129413421
           ],
           "v": [
            0.07397959178921787
           ],
           "w": [
            0.9943463412685951
           ],
           "x": [
            0.0761733129413421
           ],
           "y": [
            0.07397959178921787
           ],
           "z": [
            0.9943463412685951
           ]
          }
         ],
         "name": "frame110"
        },
        {
         "data": [
          {
           "line": {
            "color": "blue",
            "width": 5
           },
           "mode": "lines",
           "type": "scatter3d",
           "x": [
            0,
            0.07617331294134216
           ],
           "y": [
            0,
            0.0739795917892178
           ],
           "z": [
            0,
            0.9943463412685951
           ]
          },
          {
           "anchor": "tip",
           "colorscale": [
            [
             0,
             "blue"
            ],
            [
             1,
             "blue"
            ]
           ],
           "showscale": false,
           "sizemode": "absolute",
           "sizeref": 0.3,
           "type": "cone",
           "u": [
            0.07617331294134216
           ],
           "v": [
            0.0739795917892178
           ],
           "w": [
            0.9943463412685951
           ],
           "x": [
            0.07617331294134216
           ],
           "y": [
            0.0739795917892178
           ],
           "z": [
            0.9943463412685951
           ]
          }
         ],
         "name": "frame120"
        },
        {
         "data": [
          {
           "line": {
            "color": "blue",
            "width": 5
           },
           "mode": "lines",
           "type": "scatter3d",
           "x": [
            0,
            0.07617331294134244
           ],
           "y": [
            0,
            0.07397959178921755
           ],
           "z": [
            0,
            0.9943463412685951
           ]
          },
          {
           "anchor": "tip",
           "colorscale": [
            [
             0,
             "blue"
            ],
            [
             1,
             "blue"
            ]
           ],
           "showscale": false,
           "sizemode": "absolute",
           "sizeref": 0.3,
           "type": "cone",
           "u": [
            0.07617331294134244
           ],
           "v": [
            0.07397959178921755
           ],
           "w": [
            0.9943463412685951
           ],
           "x": [
            0.07617331294134244
           ],
           "y": [
            0.07397959178921755
           ],
           "z": [
            0.9943463412685951
           ]
          }
         ],
         "name": "frame130"
        },
        {
         "data": [
          {
           "line": {
            "color": "blue",
            "width": 5
           },
           "mode": "lines",
           "type": "scatter3d",
           "x": [
            0,
            0.07617331294134225
           ],
           "y": [
            0,
            0.07397959178921773
           ],
           "z": [
            0,
            0.9943463412685951
           ]
          },
          {
           "anchor": "tip",
           "colorscale": [
            [
             0,
             "blue"
            ],
            [
             1,
             "blue"
            ]
           ],
           "showscale": false,
           "sizemode": "absolute",
           "sizeref": 0.3,
           "type": "cone",
           "u": [
            0.07617331294134225
           ],
           "v": [
            0.07397959178921773
           ],
           "w": [
            0.9943463412685951
           ],
           "x": [
            0.07617331294134225
           ],
           "y": [
            0.07397959178921773
           ],
           "z": [
            0.9943463412685951
           ]
          }
         ],
         "name": "frame140"
        },
        {
         "data": [
          {
           "line": {
            "color": "blue",
            "width": 5
           },
           "mode": "lines",
           "type": "scatter3d",
           "x": [
            0,
            0.07617331294134205
           ],
           "y": [
            0,
            0.07397959178921792
           ],
           "z": [
            0,
            0.9943463412685951
           ]
          },
          {
           "anchor": "tip",
           "colorscale": [
            [
             0,
             "blue"
            ],
            [
             1,
             "blue"
            ]
           ],
           "showscale": false,
           "sizemode": "absolute",
           "sizeref": 0.3,
           "type": "cone",
           "u": [
            0.07617331294134205
           ],
           "v": [
            0.07397959178921792
           ],
           "w": [
            0.9943463412685951
           ],
           "x": [
            0.07617331294134205
           ],
           "y": [
            0.07397959178921792
           ],
           "z": [
            0.9943463412685951
           ]
          }
         ],
         "name": "frame150"
        },
        {
         "data": [
          {
           "line": {
            "color": "blue",
            "width": 5
           },
           "mode": "lines",
           "type": "scatter3d",
           "x": [
            0,
            0.07617331294134234
           ],
           "y": [
            0,
            0.07397959178921759
           ],
           "z": [
            0,
            0.9943463412685951
           ]
          },
          {
           "anchor": "tip",
           "colorscale": [
            [
             0,
             "blue"
            ],
            [
             1,
             "blue"
            ]
           ],
           "showscale": false,
           "sizemode": "absolute",
           "sizeref": 0.3,
           "type": "cone",
           "u": [
            0.07617331294134234
           ],
           "v": [
            0.07397959178921759
           ],
           "w": [
            0.9943463412685951
           ],
           "x": [
            0.07617331294134234
           ],
           "y": [
            0.07397959178921759
           ],
           "z": [
            0.9943463412685951
           ]
          }
         ],
         "name": "frame160"
        },
        {
         "data": [
          {
           "line": {
            "color": "blue",
            "width": 5
           },
           "mode": "lines",
           "type": "scatter3d",
           "x": [
            0,
            0.07617331294134203
           ],
           "y": [
            0,
            0.07397959178921794
           ],
           "z": [
            0,
            0.9943463412685951
           ]
          },
          {
           "anchor": "tip",
           "colorscale": [
            [
             0,
             "blue"
            ],
            [
             1,
             "blue"
            ]
           ],
           "showscale": false,
           "sizemode": "absolute",
           "sizeref": 0.3,
           "type": "cone",
           "u": [
            0.07617331294134203
           ],
           "v": [
            0.07397959178921794
           ],
           "w": [
            0.9943463412685951
           ],
           "x": [
            0.07617331294134203
           ],
           "y": [
            0.07397959178921794
           ],
           "z": [
            0.9943463412685951
           ]
          }
         ],
         "name": "frame170"
        },
        {
         "data": [
          {
           "line": {
            "color": "blue",
            "width": 5
           },
           "mode": "lines",
           "type": "scatter3d",
           "x": [
            0,
            0.07617331294134205
           ],
           "y": [
            0,
            0.07397959178921791
           ],
           "z": [
            0,
            0.9943463412685951
           ]
          },
          {
           "anchor": "tip",
           "colorscale": [
            [
             0,
             "blue"
            ],
            [
             1,
             "blue"
            ]
           ],
           "showscale": false,
           "sizemode": "absolute",
           "sizeref": 0.3,
           "type": "cone",
           "u": [
            0.07617331294134205
           ],
           "v": [
            0.07397959178921791
           ],
           "w": [
            0.9943463412685951
           ],
           "x": [
            0.07617331294134205
           ],
           "y": [
            0.07397959178921791
           ],
           "z": [
            0.9943463412685951
           ]
          }
         ],
         "name": "frame180"
        },
        {
         "data": [
          {
           "line": {
            "color": "blue",
            "width": 5
           },
           "mode": "lines",
           "type": "scatter3d",
           "x": [
            0,
            0.07617331294134193
           ],
           "y": [
            0,
            0.07397959178921798
           ],
           "z": [
            0,
            0.9943463412685951
           ]
          },
          {
           "anchor": "tip",
           "colorscale": [
            [
             0,
             "blue"
            ],
            [
             1,
             "blue"
            ]
           ],
           "showscale": false,
           "sizemode": "absolute",
           "sizeref": 0.3,
           "type": "cone",
           "u": [
            0.07617331294134193
           ],
           "v": [
            0.07397959178921798
           ],
           "w": [
            0.9943463412685951
           ],
           "x": [
            0.07617331294134193
           ],
           "y": [
            0.07397959178921798
           ],
           "z": [
            0.9943463412685951
           ]
          }
         ],
         "name": "frame190"
        },
        {
         "data": [
          {
           "line": {
            "color": "blue",
            "width": 5
           },
           "mode": "lines",
           "type": "scatter3d",
           "x": [
            0,
            0.07617331294134287
           ],
           "y": [
            0,
            0.07397959178921715
           ],
           "z": [
            0,
            0.9943463412685951
           ]
          },
          {
           "anchor": "tip",
           "colorscale": [
            [
             0,
             "blue"
            ],
            [
             1,
             "blue"
            ]
           ],
           "showscale": false,
           "sizemode": "absolute",
           "sizeref": 0.3,
           "type": "cone",
           "u": [
            0.07617331294134287
           ],
           "v": [
            0.07397959178921715
           ],
           "w": [
            0.9943463412685951
           ],
           "x": [
            0.07617331294134287
           ],
           "y": [
            0.07397959178921715
           ],
           "z": [
            0.9943463412685951
           ]
          }
         ],
         "name": "frame200"
        },
        {
         "data": [
          {
           "line": {
            "color": "blue",
            "width": 5
           },
           "mode": "lines",
           "type": "scatter3d",
           "x": [
            0,
            0.07617331294134247
           ],
           "y": [
            0,
            0.07397959178921751
           ],
           "z": [
            0,
            0.9943463412685951
           ]
          },
          {
           "anchor": "tip",
           "colorscale": [
            [
             0,
             "blue"
            ],
            [
             1,
             "blue"
            ]
           ],
           "showscale": false,
           "sizemode": "absolute",
           "sizeref": 0.3,
           "type": "cone",
           "u": [
            0.07617331294134247
           ],
           "v": [
            0.07397959178921751
           ],
           "w": [
            0.9943463412685951
           ],
           "x": [
            0.07617331294134247
           ],
           "y": [
            0.07397959178921751
           ],
           "z": [
            0.9943463412685951
           ]
          }
         ],
         "name": "frame210"
        },
        {
         "data": [
          {
           "line": {
            "color": "blue",
            "width": 5
           },
           "mode": "lines",
           "type": "scatter3d",
           "x": [
            0,
            0.0761733129413421
           ],
           "y": [
            0,
            0.07397959178921787
           ],
           "z": [
            0,
            0.9943463412685951
           ]
          },
          {
           "anchor": "tip",
           "colorscale": [
            [
             0,
             "blue"
            ],
            [
             1,
             "blue"
            ]
           ],
           "showscale": false,
           "sizemode": "absolute",
           "sizeref": 0.3,
           "type": "cone",
           "u": [
            0.0761733129413421
           ],
           "v": [
            0.07397959178921787
           ],
           "w": [
            0.9943463412685951
           ],
           "x": [
            0.0761733129413421
           ],
           "y": [
            0.07397959178921787
           ],
           "z": [
            0.9943463412685951
           ]
          }
         ],
         "name": "frame220"
        },
        {
         "data": [
          {
           "line": {
            "color": "blue",
            "width": 5
           },
           "mode": "lines",
           "type": "scatter3d",
           "x": [
            0,
            0.07617331294134216
           ],
           "y": [
            0,
            0.0739795917892178
           ],
           "z": [
            0,
            0.9943463412685951
           ]
          },
          {
           "anchor": "tip",
           "colorscale": [
            [
             0,
             "blue"
            ],
            [
             1,
             "blue"
            ]
           ],
           "showscale": false,
           "sizemode": "absolute",
           "sizeref": 0.3,
           "type": "cone",
           "u": [
            0.07617331294134216
           ],
           "v": [
            0.0739795917892178
           ],
           "w": [
            0.9943463412685951
           ],
           "x": [
            0.07617331294134216
           ],
           "y": [
            0.0739795917892178
           ],
           "z": [
            0.9943463412685951
           ]
          }
         ],
         "name": "frame230"
        },
        {
         "data": [
          {
           "line": {
            "color": "blue",
            "width": 5
           },
           "mode": "lines",
           "type": "scatter3d",
           "x": [
            0,
            0.07617331294134244
           ],
           "y": [
            0,
            0.07397959178921755
           ],
           "z": [
            0,
            0.9943463412685951
           ]
          },
          {
           "anchor": "tip",
           "colorscale": [
            [
             0,
             "blue"
            ],
            [
             1,
             "blue"
            ]
           ],
           "showscale": false,
           "sizemode": "absolute",
           "sizeref": 0.3,
           "type": "cone",
           "u": [
            0.07617331294134244
           ],
           "v": [
            0.07397959178921755
           ],
           "w": [
            0.9943463412685951
           ],
           "x": [
            0.07617331294134244
           ],
           "y": [
            0.07397959178921755
           ],
           "z": [
            0.9943463412685951
           ]
          }
         ],
         "name": "frame240"
        },
        {
         "data": [
          {
           "line": {
            "color": "blue",
            "width": 5
           },
           "mode": "lines",
           "type": "scatter3d",
           "x": [
            0,
            0.07617331294134225
           ],
           "y": [
            0,
            0.07397959178921773
           ],
           "z": [
            0,
            0.9943463412685951
           ]
          },
          {
           "anchor": "tip",
           "colorscale": [
            [
             0,
             "blue"
            ],
            [
             1,
             "blue"
            ]
           ],
           "showscale": false,
           "sizemode": "absolute",
           "sizeref": 0.3,
           "type": "cone",
           "u": [
            0.07617331294134225
           ],
           "v": [
            0.07397959178921773
           ],
           "w": [
            0.9943463412685951
           ],
           "x": [
            0.07617331294134225
           ],
           "y": [
            0.07397959178921773
           ],
           "z": [
            0.9943463412685951
           ]
          }
         ],
         "name": "frame250"
        },
        {
         "data": [
          {
           "line": {
            "color": "blue",
            "width": 5
           },
           "mode": "lines",
           "type": "scatter3d",
           "x": [
            0,
            0.07617331294134205
           ],
           "y": [
            0,
            0.07397959178921792
           ],
           "z": [
            0,
            0.9943463412685951
           ]
          },
          {
           "anchor": "tip",
           "colorscale": [
            [
             0,
             "blue"
            ],
            [
             1,
             "blue"
            ]
           ],
           "showscale": false,
           "sizemode": "absolute",
           "sizeref": 0.3,
           "type": "cone",
           "u": [
            0.07617331294134205
           ],
           "v": [
            0.07397959178921792
           ],
           "w": [
            0.9943463412685951
           ],
           "x": [
            0.07617331294134205
           ],
           "y": [
            0.07397959178921792
           ],
           "z": [
            0.9943463412685951
           ]
          }
         ],
         "name": "frame260"
        },
        {
         "data": [
          {
           "line": {
            "color": "blue",
            "width": 5
           },
           "mode": "lines",
           "type": "scatter3d",
           "x": [
            0,
            0.07617331294134234
           ],
           "y": [
            0,
            0.07397959178921759
           ],
           "z": [
            0,
            0.9943463412685951
           ]
          },
          {
           "anchor": "tip",
           "colorscale": [
            [
             0,
             "blue"
            ],
            [
             1,
             "blue"
            ]
           ],
           "showscale": false,
           "sizemode": "absolute",
           "sizeref": 0.3,
           "type": "cone",
           "u": [
            0.07617331294134234
           ],
           "v": [
            0.07397959178921759
           ],
           "w": [
            0.9943463412685951
           ],
           "x": [
            0.07617331294134234
           ],
           "y": [
            0.07397959178921759
           ],
           "z": [
            0.9943463412685951
           ]
          }
         ],
         "name": "frame270"
        },
        {
         "data": [
          {
           "line": {
            "color": "blue",
            "width": 5
           },
           "mode": "lines",
           "type": "scatter3d",
           "x": [
            0,
            0.07617331294134203
           ],
           "y": [
            0,
            0.07397959178921794
           ],
           "z": [
            0,
            0.9943463412685951
           ]
          },
          {
           "anchor": "tip",
           "colorscale": [
            [
             0,
             "blue"
            ],
            [
             1,
             "blue"
            ]
           ],
           "showscale": false,
           "sizemode": "absolute",
           "sizeref": 0.3,
           "type": "cone",
           "u": [
            0.07617331294134203
           ],
           "v": [
            0.07397959178921794
           ],
           "w": [
            0.9943463412685951
           ],
           "x": [
            0.07617331294134203
           ],
           "y": [
            0.07397959178921794
           ],
           "z": [
            0.9943463412685951
           ]
          }
         ],
         "name": "frame280"
        },
        {
         "data": [
          {
           "line": {
            "color": "blue",
            "width": 5
           },
           "mode": "lines",
           "type": "scatter3d",
           "x": [
            0,
            0.07617331294134205
           ],
           "y": [
            0,
            0.07397959178921791
           ],
           "z": [
            0,
            0.9943463412685951
           ]
          },
          {
           "anchor": "tip",
           "colorscale": [
            [
             0,
             "blue"
            ],
            [
             1,
             "blue"
            ]
           ],
           "showscale": false,
           "sizemode": "absolute",
           "sizeref": 0.3,
           "type": "cone",
           "u": [
            0.07617331294134205
           ],
           "v": [
            0.07397959178921791
           ],
           "w": [
            0.9943463412685951
           ],
           "x": [
            0.07617331294134205
           ],
           "y": [
            0.07397959178921791
           ],
           "z": [
            0.9943463412685951
           ]
          }
         ],
         "name": "frame290"
        },
        {
         "data": [
          {
           "line": {
            "color": "blue",
            "width": 5
           },
           "mode": "lines",
           "type": "scatter3d",
           "x": [
            0,
            0.07602661300701892
           ],
           "y": [
            0,
            0.07397473348454983
           ],
           "z": [
            0,
            0.9943579299832483
           ]
          },
          {
           "anchor": "tip",
           "colorscale": [
            [
             0,
             "blue"
            ],
            [
             1,
             "blue"
            ]
           ],
           "showscale": false,
           "sizemode": "absolute",
           "sizeref": 0.3,
           "type": "cone",
           "u": [
            0.07602661300701892
           ],
           "v": [
            0.07397473348454983
           ],
           "w": [
            0.9943579299832483
           ],
           "x": [
            0.07602661300701892
           ],
           "y": [
            0.07397473348454983
           ],
           "z": [
            0.9943579299832483
           ]
          }
         ],
         "name": "frame300"
        },
        {
         "data": [
          {
           "line": {
            "color": "blue",
            "width": 5
           },
           "mode": "lines",
           "type": "scatter3d",
           "x": [
            0,
            0.07600155515749914
           ],
           "y": [
            0,
            0.07397390372092526
           ],
           "z": [
            0,
            0.9943599072679516
           ]
          },
          {
           "anchor": "tip",
           "colorscale": [
            [
             0,
             "blue"
            ],
            [
             1,
             "blue"
            ]
           ],
           "showscale": false,
           "sizemode": "absolute",
           "sizeref": 0.3,
           "type": "cone",
           "u": [
            0.07600155515749914
           ],
           "v": [
            0.07397390372092526
           ],
           "w": [
            0.9943599072679516
           ],
           "x": [
            0.07600155515749914
           ],
           "y": [
            0.07397390372092526
           ],
           "z": [
            0.9943599072679516
           ]
          }
         ],
         "name": "frame310"
        },
        {
         "data": [
          {
           "line": {
            "color": "blue",
            "width": 5
           },
           "mode": "lines",
           "type": "scatter3d",
           "x": [
            0,
            0.0759487078123893
           ],
           "y": [
            0,
            0.07402531731336531
           ],
           "z": [
            0,
            0.9943601189600697
           ]
          },
          {
           "anchor": "tip",
           "colorscale": [
            [
             0,
             "blue"
            ],
            [
             1,
             "blue"
            ]
           ],
           "showscale": false,
           "sizemode": "absolute",
           "sizeref": 0.3,
           "type": "cone",
           "u": [
            0.0759487078123893
           ],
           "v": [
            0.07402531731336531
           ],
           "w": [
            0.9943601189600697
           ],
           "x": [
            0.0759487078123893
           ],
           "y": [
            0.07402531731336531
           ],
           "z": [
            0.9943601189600697
           ]
          }
         ],
         "name": "frame320"
        },
        {
         "data": [
          {
           "line": {
            "color": "blue",
            "width": 5
           },
           "mode": "lines",
           "type": "scatter3d",
           "x": [
            0,
            0.07600171267556675
           ],
           "y": [
            0,
            0.07397391245112521
           ],
           "z": [
            0,
            0.9943598945789467
           ]
          },
          {
           "anchor": "tip",
           "colorscale": [
            [
             0,
             "blue"
            ],
            [
             1,
             "blue"
            ]
           ],
           "showscale": false,
           "sizemode": "absolute",
           "sizeref": 0.3,
           "type": "cone",
           "u": [
            0.07600171267556675
           ],
           "v": [
            0.07397391245112521
           ],
           "w": [
            0.9943598945789467
           ],
           "x": [
            0.07600171267556675
           ],
           "y": [
            0.07397391245112521
           ],
           "z": [
            0.9943598945789467
           ]
          }
         ],
         "name": "frame330"
        },
        {
         "data": [
          {
           "line": {
            "color": "blue",
            "width": 5
           },
           "mode": "lines",
           "type": "scatter3d",
           "x": [
            0,
            0.07600155351141095
           ],
           "y": [
            0,
            0.07397390366665157
           ],
           "z": [
            0,
            0.9943599073978038
           ]
          },
          {
           "anchor": "tip",
           "colorscale": [
            [
             0,
             "blue"
            ],
            [
             1,
             "blue"
            ]
           ],
           "showscale": false,
           "sizemode": "absolute",
           "sizeref": 0.3,
           "type": "cone",
           "u": [
            0.07600155351141095
           ],
           "v": [
            0.07397390366665157
           ],
           "w": [
            0.9943599073978038
           ],
           "x": [
            0.07600155351141095
           ],
           "y": [
            0.07397390366665157
           ],
           "z": [
            0.9943599073978038
           ]
          }
         ],
         "name": "frame340"
        },
        {
         "data": [
          {
           "line": {
            "color": "blue",
            "width": 5
           },
           "mode": "lines",
           "type": "scatter3d",
           "x": [
            0,
            0.07600155350088975
           ],
           "y": [
            0,
            0.07397390366606871
           ],
           "z": [
            0,
            0.9943599073986513
           ]
          },
          {
           "anchor": "tip",
           "colorscale": [
            [
             0,
             "blue"
            ],
            [
             1,
             "blue"
            ]
           ],
           "showscale": false,
           "sizemode": "absolute",
           "sizeref": 0.3,
           "type": "cone",
           "u": [
            0.07600155350088975
           ],
           "v": [
            0.07397390366606871
           ],
           "w": [
            0.9943599073986513
           ],
           "x": [
            0.07600155350088975
           ],
           "y": [
            0.07397390366606871
           ],
           "z": [
            0.9943599073986513
           ]
          }
         ],
         "name": "frame350"
        },
        {
         "data": [
          {
           "line": {
            "color": "blue",
            "width": 5
           },
           "mode": "lines",
           "type": "scatter3d",
           "x": [
            0,
            0.09630296152358846
           ],
           "y": [
            0,
            0.03286788242872908
           ],
           "z": [
            0,
            0.9948092490052742
           ]
          },
          {
           "anchor": "tip",
           "colorscale": [
            [
             0,
             "blue"
            ],
            [
             1,
             "blue"
            ]
           ],
           "showscale": false,
           "sizemode": "absolute",
           "sizeref": 0.3,
           "type": "cone",
           "u": [
            0.09630296152358846
           ],
           "v": [
            0.03286788242872908
           ],
           "w": [
            0.9948092490052742
           ],
           "x": [
            0.09630296152358846
           ],
           "y": [
            0.03286788242872908
           ],
           "z": [
            0.9948092490052742
           ]
          }
         ],
         "name": "frame360"
        },
        {
         "data": [
          {
           "line": {
            "color": "blue",
            "width": 5
           },
           "mode": "lines",
           "type": "scatter3d",
           "x": [
            0,
            0.09787716628679924
           ],
           "y": [
            0,
            -0.016183010213299757
           ],
           "z": [
            0,
            0.9950669175990641
           ]
          },
          {
           "anchor": "tip",
           "colorscale": [
            [
             0,
             "blue"
            ],
            [
             1,
             "blue"
            ]
           ],
           "showscale": false,
           "sizemode": "absolute",
           "sizeref": 0.3,
           "type": "cone",
           "u": [
            0.09787716628679924
           ],
           "v": [
            -0.016183010213299757
           ],
           "w": [
            0.9950669175990641
           ],
           "x": [
            0.09787716628679924
           ],
           "y": [
            -0.016183010213299757
           ],
           "z": [
            0.9950669175990641
           ]
          }
         ],
         "name": "frame370"
        },
        {
         "data": [
          {
           "line": {
            "color": "blue",
            "width": 5
           },
           "mode": "lines",
           "type": "scatter3d",
           "x": [
            0,
            0.0809261505641781
           ],
           "y": [
            0,
            -0.05534309534905609
           ],
           "z": [
            0,
            0.9951824455606366
           ]
          },
          {
           "anchor": "tip",
           "colorscale": [
            [
             0,
             "blue"
            ],
            [
             1,
             "blue"
            ]
           ],
           "showscale": false,
           "sizemode": "absolute",
           "sizeref": 0.3,
           "type": "cone",
           "u": [
            0.0809261505641781
           ],
           "v": [
            -0.05534309534905609
           ],
           "w": [
            0.9951824455606366
           ],
           "x": [
            0.0809261505641781
           ],
           "y": [
            -0.05534309534905609
           ],
           "z": [
            0.9951824455606366
           ]
          }
         ],
         "name": "frame380"
        },
        {
         "data": [
          {
           "line": {
            "color": "blue",
            "width": 5
           },
           "mode": "lines",
           "type": "scatter3d",
           "x": [
            0,
            0.049505618829144754
           ],
           "y": [
            0,
            -0.084677782063806
           ],
           "z": [
            0,
            0.9951778066903914
           ]
          },
          {
           "anchor": "tip",
           "colorscale": [
            [
             0,
             "blue"
            ],
            [
             1,
             "blue"
            ]
           ],
           "showscale": false,
           "sizemode": "absolute",
           "sizeref": 0.3,
           "type": "cone",
           "u": [
            0.049505618829144754
           ],
           "v": [
            -0.084677782063806
           ],
           "w": [
            0.9951778066903914
           ],
           "x": [
            0.049505618829144754
           ],
           "y": [
            -0.084677782063806
           ],
           "z": [
            0.9951778066903914
           ]
          }
         ],
         "name": "frame390"
        },
        {
         "data": [
          {
           "line": {
            "color": "blue",
            "width": 5
           },
           "mode": "lines",
           "type": "scatter3d",
           "x": [
            0,
            0.006883222983631306
           ],
           "y": [
            0,
            -0.10030845919728121
           ],
           "z": [
            0,
            0.9949325777432483
           ]
          },
          {
           "anchor": "tip",
           "colorscale": [
            [
             0,
             "blue"
            ],
            [
             1,
             "blue"
            ]
           ],
           "showscale": false,
           "sizemode": "absolute",
           "sizeref": 0.3,
           "type": "cone",
           "u": [
            0.006883222983631306
           ],
           "v": [
            -0.10030845919728121
           ],
           "w": [
            0.9949325777432483
           ],
           "x": [
            0.006883222983631306
           ],
           "y": [
            -0.10030845919728121
           ],
           "z": [
            0.9949325777432483
           ]
          }
         ],
         "name": "frame400"
        },
        {
         "data": [
          {
           "line": {
            "color": "blue",
            "width": 5
           },
           "mode": "lines",
           "type": "scatter3d",
           "x": [
            0,
            -0.0396632388603102
           ],
           "y": [
            0,
            -0.09669746279561707
           ],
           "z": [
            0,
            0.9945232165072873
           ]
          },
          {
           "anchor": "tip",
           "colorscale": [
            [
             0,
             "blue"
            ],
            [
             1,
             "blue"
            ]
           ],
           "showscale": false,
           "sizemode": "absolute",
           "sizeref": 0.3,
           "type": "cone",
           "u": [
            -0.0396632388603102
           ],
           "v": [
            -0.09669746279561707
           ],
           "w": [
            0.9945232165072873
           ],
           "x": [
            -0.0396632388603102
           ],
           "y": [
            -0.09669746279561707
           ],
           "z": [
            0.9945232165072873
           ]
          }
         ],
         "name": "frame410"
        },
        {
         "data": [
          {
           "line": {
            "color": "blue",
            "width": 5
           },
           "mode": "lines",
           "type": "scatter3d",
           "x": [
            0,
            -0.08281788270177057
           ],
           "y": [
            0,
            -0.07339787682642
           ],
           "z": [
            0,
            0.9938581136068516
           ]
          },
          {
           "anchor": "tip",
           "colorscale": [
            [
             0,
             "blue"
            ],
            [
             1,
             "blue"
            ]
           ],
           "showscale": false,
           "sizemode": "absolute",
           "sizeref": 0.3,
           "type": "cone",
           "u": [
            -0.08281788270177057
           ],
           "v": [
            -0.07339787682642
           ],
           "w": [
            0.9938581136068516
           ],
           "x": [
            -0.08281788270177057
           ],
           "y": [
            -0.07339787682642
           ],
           "z": [
            0.9938581136068516
           ]
          }
         ],
         "name": "frame420"
        },
        {
         "data": [
          {
           "line": {
            "color": "blue",
            "width": 5
           },
           "mode": "lines",
           "type": "scatter3d",
           "x": [
            0,
            -0.10256057556882303
           ],
           "y": [
            0,
            -0.05375894070020548
           ],
           "z": [
            0,
            0.993273026228833
           ]
          },
          {
           "anchor": "tip",
           "colorscale": [
            [
             0,
             "blue"
            ],
            [
             1,
             "blue"
            ]
           ],
           "showscale": false,
           "sizemode": "absolute",
           "sizeref": 0.3,
           "type": "cone",
           "u": [
            -0.10256057556882303
           ],
           "v": [
            -0.05375894070020548
           ],
           "w": [
            0.993273026228833
           ],
           "x": [
            -0.10256057556882303
           ],
           "y": [
            -0.05375894070020548
           ],
           "z": [
            0.993273026228833
           ]
          }
         ],
         "name": "frame430"
        },
        {
         "data": [
          {
           "line": {
            "color": "blue",
            "width": 5
           },
           "mode": "lines",
           "type": "scatter3d",
           "x": [
            0,
            -0.10041004925771975
           ],
           "y": [
            0,
            -0.053899530584190294
           ],
           "z": [
            0,
            0.993485109405705
           ]
          },
          {
           "anchor": "tip",
           "colorscale": [
            [
             0,
             "blue"
            ],
            [
             1,
             "blue"
            ]
           ],
           "showscale": false,
           "sizemode": "absolute",
           "sizeref": 0.3,
           "type": "cone",
           "u": [
            -0.10041004925771975
           ],
           "v": [
            -0.053899530584190294
           ],
           "w": [
            0.993485109405705
           ],
           "x": [
            -0.10041004925771975
           ],
           "y": [
            -0.053899530584190294
           ],
           "z": [
            0.993485109405705
           ]
          }
         ],
         "name": "frame440"
        },
        {
         "data": [
          {
           "line": {
            "color": "blue",
            "width": 5
           },
           "mode": "lines",
           "type": "scatter3d",
           "x": [
            0,
            -0.09890121129168533
           ],
           "y": [
            0,
            -0.054129489102854186
           ],
           "z": [
            0,
            0.9936239473837685
           ]
          },
          {
           "anchor": "tip",
           "colorscale": [
            [
             0,
             "blue"
            ],
            [
             1,
             "blue"
            ]
           ],
           "showscale": false,
           "sizemode": "absolute",
           "sizeref": 0.3,
           "type": "cone",
           "u": [
            -0.09890121129168533
           ],
           "v": [
            -0.054129489102854186
           ],
           "w": [
            0.9936239473837685
           ],
           "x": [
            -0.09890121129168533
           ],
           "y": [
            -0.054129489102854186
           ],
           "z": [
            0.9936239473837685
           ]
          }
         ],
         "name": "frame450"
        },
        {
         "data": [
          {
           "line": {
            "color": "blue",
            "width": 5
           },
           "mode": "lines",
           "type": "scatter3d",
           "x": [
            0,
            -0.06828957499364018
           ],
           "y": [
            0,
            -0.08310380485227323
           ],
           "z": [
            0,
            0.9941983160145986
           ]
          },
          {
           "anchor": "tip",
           "colorscale": [
            [
             0,
             "blue"
            ],
            [
             1,
             "blue"
            ]
           ],
           "showscale": false,
           "sizemode": "absolute",
           "sizeref": 0.3,
           "type": "cone",
           "u": [
            -0.06828957499364018
           ],
           "v": [
            -0.08310380485227323
           ],
           "w": [
            0.9941983160145986
           ],
           "x": [
            -0.06828957499364018
           ],
           "y": [
            -0.08310380485227323
           ],
           "z": [
            0.9941983160145986
           ]
          }
         ],
         "name": "frame460"
        },
        {
         "data": [
          {
           "line": {
            "color": "blue",
            "width": 5
           },
           "mode": "lines",
           "type": "scatter3d",
           "x": [
            0,
            -0.017198606905100833
           ],
           "y": [
            0,
            -0.09992359824151105
           ],
           "z": [
            0,
            0.9948464617391936
           ]
          },
          {
           "anchor": "tip",
           "colorscale": [
            [
             0,
             "blue"
            ],
            [
             1,
             "blue"
            ]
           ],
           "showscale": false,
           "sizemode": "absolute",
           "sizeref": 0.3,
           "type": "cone",
           "u": [
            -0.017198606905100833
           ],
           "v": [
            -0.09992359824151105
           ],
           "w": [
            0.9948464617391936
           ],
           "x": [
            -0.017198606905100833
           ],
           "y": [
            -0.09992359824151105
           ],
           "z": [
            0.9948464617391936
           ]
          }
         ],
         "name": "frame470"
        },
        {
         "data": [
          {
           "line": {
            "color": "blue",
            "width": 5
           },
           "mode": "lines",
           "type": "scatter3d",
           "x": [
            0,
            0.03108670745301738
           ],
           "y": [
            0,
            -0.09522370325062077
           ],
           "z": [
            0,
            0.994970382955678
           ]
          },
          {
           "anchor": "tip",
           "colorscale": [
            [
             0,
             "blue"
            ],
            [
             1,
             "blue"
            ]
           ],
           "showscale": false,
           "sizemode": "absolute",
           "sizeref": 0.3,
           "type": "cone",
           "u": [
            0.03108670745301738
           ],
           "v": [
            -0.09522370325062077
           ],
           "w": [
            0.994970382955678
           ],
           "x": [
            0.03108670745301738
           ],
           "y": [
            -0.09522370325062077
           ],
           "z": [
            0.994970382955678
           ]
          }
         ],
         "name": "frame480"
        },
        {
         "data": [
          {
           "line": {
            "color": "blue",
            "width": 5
           },
           "mode": "lines",
           "type": "scatter3d",
           "x": [
            0,
            0.07028344688824542
           ],
           "y": [
            0,
            -0.07399339369577587
           ],
           "z": [
            0,
            0.9947789778553267
           ]
          },
          {
           "anchor": "tip",
           "colorscale": [
            [
             0,
             "blue"
            ],
            [
             1,
             "blue"
            ]
           ],
           "showscale": false,
           "sizemode": "absolute",
           "sizeref": 0.3,
           "type": "cone",
           "u": [
            0.07028344688824542
           ],
           "v": [
            -0.07399339369577587
           ],
           "w": [
            0.9947789778553267
           ],
           "x": [
            0.07028344688824542
           ],
           "y": [
            -0.07399339369577587
           ],
           "z": [
            0.9947789778553267
           ]
          }
         ],
         "name": "frame490"
        },
        {
         "data": [
          {
           "line": {
            "color": "blue",
            "width": 5
           },
           "mode": "lines",
           "type": "scatter3d",
           "x": [
            0,
            0.0976636458971418
           ],
           "y": [
            0,
            -0.038543701671181735
           ],
           "z": [
            0,
            0.9944728228220021
           ]
          },
          {
           "anchor": "tip",
           "colorscale": [
            [
             0,
             "blue"
            ],
            [
             1,
             "blue"
            ]
           ],
           "showscale": false,
           "sizemode": "absolute",
           "sizeref": 0.3,
           "type": "cone",
           "u": [
            0.0976636458971418
           ],
           "v": [
            -0.038543701671181735
           ],
           "w": [
            0.9944728228220021
           ],
           "x": [
            0.0976636458971418
           ],
           "y": [
            -0.038543701671181735
           ],
           "z": [
            0.9944728228220021
           ]
          }
         ],
         "name": "frame500"
        },
        {
         "data": [
          {
           "line": {
            "color": "blue",
            "width": 5
           },
           "mode": "lines",
           "type": "scatter3d",
           "x": [
            0,
            0.10889670914721132
           ],
           "y": [
            0,
            0.0038916888745308756
           ],
           "z": [
            0,
            0.9940454524289174
           ]
          },
          {
           "anchor": "tip",
           "colorscale": [
            [
             0,
             "blue"
            ],
            [
             1,
             "blue"
            ]
           ],
           "showscale": false,
           "sizemode": "absolute",
           "sizeref": 0.3,
           "type": "cone",
           "u": [
            0.10889670914721132
           ],
           "v": [
            0.0038916888745308756
           ],
           "w": [
            0.9940454524289174
           ],
           "x": [
            0.10889670914721132
           ],
           "y": [
            0.0038916888745308756
           ],
           "z": [
            0.9940454524289174
           ]
          }
         ],
         "name": "frame510"
        },
        {
         "data": [
          {
           "line": {
            "color": "blue",
            "width": 5
           },
           "mode": "lines",
           "type": "scatter3d",
           "x": [
            0,
            0.09711944141910275
           ],
           "y": [
            0,
            0.05259106776683563
           ],
           "z": [
            0,
            0.9938822836179271
           ]
          },
          {
           "anchor": "tip",
           "colorscale": [
            [
             0,
             "blue"
            ],
            [
             1,
             "blue"
            ]
           ],
           "showscale": false,
           "sizemode": "absolute",
           "sizeref": 0.3,
           "type": "cone",
           "u": [
            0.09711944141910275
           ],
           "v": [
            0.05259106776683563
           ],
           "w": [
            0.9938822836179271
           ],
           "x": [
            0.09711944141910275
           ],
           "y": [
            0.05259106776683563
           ],
           "z": [
            0.9938822836179271
           ]
          }
         ],
         "name": "frame520"
        },
        {
         "data": [
          {
           "line": {
            "color": "blue",
            "width": 5
           },
           "mode": "lines",
           "type": "scatter3d",
           "x": [
            0,
            0.08004957576882316
           ],
           "y": [
            0,
            0.07847618381528773
           ],
           "z": [
            0,
            0.993696912540751
           ]
          },
          {
           "anchor": "tip",
           "colorscale": [
            [
             0,
             "blue"
            ],
            [
             1,
             "blue"
            ]
           ],
           "showscale": false,
           "sizemode": "absolute",
           "sizeref": 0.3,
           "type": "cone",
           "u": [
            0.08004957576882316
           ],
           "v": [
            0.07847618381528773
           ],
           "w": [
            0.993696912540751
           ],
           "x": [
            0.08004957576882316
           ],
           "y": [
            0.07847618381528773
           ],
           "z": [
            0.993696912540751
           ]
          }
         ],
         "name": "frame530"
        },
        {
         "data": [
          {
           "line": {
            "color": "blue",
            "width": 5
           },
           "mode": "lines",
           "type": "scatter3d",
           "x": [
            0,
            0.0774559457718845
           ],
           "y": [
            0,
            0.07632514597982447
           ],
           "z": [
            0,
            0.9940699414808501
           ]
          },
          {
           "anchor": "tip",
           "colorscale": [
            [
             0,
             "blue"
            ],
            [
             1,
             "blue"
            ]
           ],
           "showscale": false,
           "sizemode": "absolute",
           "sizeref": 0.3,
           "type": "cone",
           "u": [
            0.0774559457718845
           ],
           "v": [
            0.07632514597982447
           ],
           "w": [
            0.9940699414808501
           ],
           "x": [
            0.0774559457718845
           ],
           "y": [
            0.07632514597982447
           ],
           "z": [
            0.9940699414808501
           ]
          }
         ],
         "name": "frame540"
        },
        {
         "data": [
          {
           "line": {
            "color": "blue",
            "width": 5
           },
           "mode": "lines",
           "type": "scatter3d",
           "x": [
            0,
            0.07573944088916107
           ],
           "y": [
            0,
            0.07484649811391611
           ],
           "z": [
            0,
            0.9943146075633611
           ]
          },
          {
           "anchor": "tip",
           "colorscale": [
            [
             0,
             "blue"
            ],
            [
             1,
             "blue"
            ]
           ],
           "showscale": false,
           "sizemode": "absolute",
           "sizeref": 0.3,
           "type": "cone",
           "u": [
            0.07573944088916107
           ],
           "v": [
            0.07484649811391611
           ],
           "w": [
            0.9943146075633611
           ],
           "x": [
            0.07573944088916107
           ],
           "y": [
            0.07484649811391611
           ],
           "z": [
            0.9943146075633611
           ]
          }
         ],
         "name": "frame550"
        },
        {
         "data": [
          {
           "line": {
            "color": "blue",
            "width": 5
           },
           "mode": "lines",
           "type": "scatter3d",
           "x": [
            0,
            0.07525863261878085
           ],
           "y": [
            0,
            0.07433406309015954
           ],
           "z": [
            0,
            0.9943895540887685
           ]
          },
          {
           "anchor": "tip",
           "colorscale": [
            [
             0,
             "blue"
            ],
            [
             1,
             "blue"
            ]
           ],
           "showscale": false,
           "sizemode": "absolute",
           "sizeref": 0.3,
           "type": "cone",
           "u": [
            0.07525863261878085
           ],
           "v": [
            0.07433406309015954
           ],
           "w": [
            0.9943895540887685
           ],
           "x": [
            0.07525863261878085
           ],
           "y": [
            0.07433406309015954
           ],
           "z": [
            0.9943895540887685
           ]
          }
         ],
         "name": "frame560"
        },
        {
         "data": [
          {
           "line": {
            "color": "blue",
            "width": 5
           },
           "mode": "lines",
           "type": "scatter3d",
           "x": [
            0,
            0.07525852805403514
           ],
           "y": [
            0,
            0.07433395106904622
           ],
           "z": [
            0,
            0.9943895703765224
           ]
          },
          {
           "anchor": "tip",
           "colorscale": [
            [
             0,
             "blue"
            ],
            [
             1,
             "blue"
            ]
           ],
           "showscale": false,
           "sizemode": "absolute",
           "sizeref": 0.3,
           "type": "cone",
           "u": [
            0.07525852805403514
           ],
           "v": [
            0.07433395106904622
           ],
           "w": [
            0.9943895703765224
           ],
           "x": [
            0.07525852805403514
           ],
           "y": [
            0.07433395106904622
           ],
           "z": [
            0.9943895703765224
           ]
          }
         ],
         "name": "frame570"
        },
        {
         "data": [
          {
           "line": {
            "color": "blue",
            "width": 5
           },
           "mode": "lines",
           "type": "scatter3d",
           "x": [
            0,
            0.075257354995932
           ],
           "y": [
            0,
            0.07433504454983547
           ],
           "z": [
            0,
            0.9943895774146019
           ]
          },
          {
           "anchor": "tip",
           "colorscale": [
            [
             0,
             "blue"
            ],
            [
             1,
             "blue"
            ]
           ],
           "showscale": false,
           "sizemode": "absolute",
           "sizeref": 0.3,
           "type": "cone",
           "u": [
            0.075257354995932
           ],
           "v": [
            0.07433504454983547
           ],
           "w": [
            0.9943895774146019
           ],
           "x": [
            0.075257354995932
           ],
           "y": [
            0.07433504454983547
           ],
           "z": [
            0.9943895774146019
           ]
          }
         ],
         "name": "frame580"
        },
        {
         "data": [
          {
           "line": {
            "color": "blue",
            "width": 5
           },
           "mode": "lines",
           "type": "scatter3d",
           "x": [
            0,
            0.07520341942553888
           ],
           "y": [
            0,
            0.07438532191126143
           ],
           "z": [
            0,
            0.9943898981741839
           ]
          },
          {
           "anchor": "tip",
           "colorscale": [
            [
             0,
             "blue"
            ],
            [
             1,
             "blue"
            ]
           ],
           "showscale": false,
           "sizemode": "absolute",
           "sizeref": 0.3,
           "type": "cone",
           "u": [
            0.07520341942553888
           ],
           "v": [
            0.07438532191126143
           ],
           "w": [
            0.9943898981741839
           ],
           "x": [
            0.07520341942553888
           ],
           "y": [
            0.07438532191126143
           ],
           "z": [
            0.9943898981741839
           ]
          }
         ],
         "name": "frame590"
        },
        {
         "data": [
          {
           "line": {
            "color": "blue",
            "width": 5
           },
           "mode": "lines",
           "type": "scatter3d",
           "x": [
            0,
            0.0749340852180162
           ],
           "y": [
            0,
            0.07440165788720136
           ],
           "z": [
            0,
            0.9944090084950835
           ]
          },
          {
           "anchor": "tip",
           "colorscale": [
            [
             0,
             "blue"
            ],
            [
             1,
             "blue"
            ]
           ],
           "showscale": false,
           "sizemode": "absolute",
           "sizeref": 0.3,
           "type": "cone",
           "u": [
            0.0749340852180162
           ],
           "v": [
            0.07440165788720136
           ],
           "w": [
            0.9944090084950835
           ],
           "x": [
            0.0749340852180162
           ],
           "y": [
            0.07440165788720136
           ],
           "z": [
            0.9944090084950835
           ]
          }
         ],
         "name": "frame600"
        },
        {
         "data": [
          {
           "line": {
            "color": "blue",
            "width": 5
           },
           "mode": "lines",
           "type": "scatter3d",
           "x": [
            0,
            0.0752288512191697
           ],
           "y": [
            0,
            0.07409062592285165
           ],
           "z": [
            0,
            0.9944099753595614
           ]
          },
          {
           "anchor": "tip",
           "colorscale": [
            [
             0,
             "blue"
            ],
            [
             1,
             "blue"
            ]
           ],
           "showscale": false,
           "sizemode": "absolute",
           "sizeref": 0.3,
           "type": "cone",
           "u": [
            0.0752288512191697
           ],
           "v": [
            0.07409062592285165
           ],
           "w": [
            0.9944099753595614
           ],
           "x": [
            0.0752288512191697
           ],
           "y": [
            0.07409062592285165
           ],
           "z": [
            0.9944099753595614
           ]
          }
         ],
         "name": "frame610"
        },
        {
         "data": [
          {
           "line": {
            "color": "blue",
            "width": 5
           },
           "mode": "lines",
           "type": "scatter3d",
           "x": [
            0,
            0.07365008456348744
           ],
           "y": [
            0,
            0.0737757142466376
           ],
           "z": [
            0,
            0.9945515617760545
           ]
          },
          {
           "anchor": "tip",
           "colorscale": [
            [
             0,
             "blue"
            ],
            [
             1,
             "blue"
            ]
           ],
           "showscale": false,
           "sizemode": "absolute",
           "sizeref": 0.3,
           "type": "cone",
           "u": [
            0.07365008456348744
           ],
           "v": [
            0.0737757142466376
           ],
           "w": [
            0.9945515617760545
           ],
           "x": [
            0.07365008456348744
           ],
           "y": [
            0.0737757142466376
           ],
           "z": [
            0.9945515617760545
           ]
          }
         ],
         "name": "frame620"
        },
        {
         "data": [
          {
           "line": {
            "color": "blue",
            "width": 5
           },
           "mode": "lines",
           "type": "scatter3d",
           "x": [
            0,
            0.07274148582068478
           ],
           "y": [
            0,
            0.07305958557860703
           ],
           "z": [
            0,
            0.9946712890174729
           ]
          },
          {
           "anchor": "tip",
           "colorscale": [
            [
             0,
             "blue"
            ],
            [
             1,
             "blue"
            ]
           ],
           "showscale": false,
           "sizemode": "absolute",
           "sizeref": 0.3,
           "type": "cone",
           "u": [
            0.07274148582068478
           ],
           "v": [
            0.07305958557860703
           ],
           "w": [
            0.9946712890174729
           ],
           "x": [
            0.07274148582068478
           ],
           "y": [
            0.07305958557860703
           ],
           "z": [
            0.9946712890174729
           ]
          }
         ],
         "name": "frame630"
        },
        {
         "data": [
          {
           "line": {
            "color": "blue",
            "width": 5
           },
           "mode": "lines",
           "type": "scatter3d",
           "x": [
            0,
            0.07215722259679792
           ],
           "y": [
            0,
            0.0724350763679456
           ],
           "z": [
            0,
            0.9947595161337669
           ]
          },
          {
           "anchor": "tip",
           "colorscale": [
            [
             0,
             "blue"
            ],
            [
             1,
             "blue"
            ]
           ],
           "showscale": false,
           "sizemode": "absolute",
           "sizeref": 0.3,
           "type": "cone",
           "u": [
            0.07215722259679792
           ],
           "v": [
            0.0724350763679456
           ],
           "w": [
            0.9947595161337669
           ],
           "x": [
            0.07215722259679792
           ],
           "y": [
            0.0724350763679456
           ],
           "z": [
            0.9947595161337669
           ]
          }
         ],
         "name": "frame640"
        },
        {
         "data": [
          {
           "line": {
            "color": "blue",
            "width": 5
           },
           "mode": "lines",
           "type": "scatter3d",
           "x": [
            0,
            0.07214257581061431
           ],
           "y": [
            0,
            0.07241935151284258
           ],
           "z": [
            0,
            0.9947617233699082
           ]
          },
          {
           "anchor": "tip",
           "colorscale": [
            [
             0,
             "blue"
            ],
            [
             1,
             "blue"
            ]
           ],
           "showscale": false,
           "sizemode": "absolute",
           "sizeref": 0.3,
           "type": "cone",
           "u": [
            0.07214257581061431
           ],
           "v": [
            0.07241935151284258
           ],
           "w": [
            0.9947617233699082
           ],
           "x": [
            0.07214257581061431
           ],
           "y": [
            0.07241935151284258
           ],
           "z": [
            0.9947617233699082
           ]
          }
         ],
         "name": "frame650"
        },
        {
         "data": [
          {
           "line": {
            "color": "blue",
            "width": 5
           },
           "mode": "lines",
           "type": "scatter3d",
           "x": [
            0,
            0.07214257484235757
           ],
           "y": [
            0,
            0.07241935047332089
           ],
           "z": [
            0,
            0.9947617235158064
           ]
          },
          {
           "anchor": "tip",
           "colorscale": [
            [
             0,
             "blue"
            ],
            [
             1,
             "blue"
            ]
           ],
           "showscale": false,
           "sizemode": "absolute",
           "sizeref": 0.3,
           "type": "cone",
           "u": [
            0.07214257484235757
           ],
           "v": [
            0.07241935047332089
           ],
           "w": [
            0.9947617235158064
           ],
           "x": [
            0.07214257484235757
           ],
           "y": [
            0.07241935047332089
           ],
           "z": [
            0.9947617235158064
           ]
          }
         ],
         "name": "frame660"
        },
        {
         "data": [
          {
           "line": {
            "color": "blue",
            "width": 5
           },
           "mode": "lines",
           "type": "scatter3d",
           "x": [
            0,
            0.07214257484229285
           ],
           "y": [
            0,
            0.07241935047325354
           ],
           "z": [
            0,
            0.9947617235158158
           ]
          },
          {
           "anchor": "tip",
           "colorscale": [
            [
             0,
             "blue"
            ],
            [
             1,
             "blue"
            ]
           ],
           "showscale": false,
           "sizemode": "absolute",
           "sizeref": 0.3,
           "type": "cone",
           "u": [
            0.07214257484229285
           ],
           "v": [
            0.07241935047325354
           ],
           "w": [
            0.9947617235158158
           ],
           "x": [
            0.07214257484229285
           ],
           "y": [
            0.07241935047325354
           ],
           "z": [
            0.9947617235158158
           ]
          }
         ],
         "name": "frame670"
        }
       ],
       "layout": {
        "scene": {
         "xaxis": {
          "range": [
           -1,
           1
          ],
          "title": {
           "text": "X"
          }
         },
         "yaxis": {
          "range": [
           -1,
           1
          ],
          "title": {
           "text": "Y"
          }
         },
         "zaxis": {
          "range": [
           -1,
           1
          ],
          "title": {
           "text": "Z"
          }
         }
        },
        "sliders": [
         {
          "currentvalue": {
           "font": {
            "size": 20
           },
           "prefix": "Time: "
          },
          "pad": {
           "t": 50
          },
          "steps": [
           {
            "args": [
             [
              "frame0"
             ],
             {
              "frame": {
               "duration": 50,
               "redraw": true
              },
              "mode": "immediate"
             }
            ],
            "method": "animate"
           },
           {
            "args": [
             [
              "frame10"
             ],
             {
              "frame": {
               "duration": 50,
               "redraw": true
              },
              "mode": "immediate"
             }
            ],
            "method": "animate"
           },
           {
            "args": [
             [
              "frame20"
             ],
             {
              "frame": {
               "duration": 50,
               "redraw": true
              },
              "mode": "immediate"
             }
            ],
            "method": "animate"
           },
           {
            "args": [
             [
              "frame30"
             ],
             {
              "frame": {
               "duration": 50,
               "redraw": true
              },
              "mode": "immediate"
             }
            ],
            "method": "animate"
           },
           {
            "args": [
             [
              "frame40"
             ],
             {
              "frame": {
               "duration": 50,
               "redraw": true
              },
              "mode": "immediate"
             }
            ],
            "method": "animate"
           },
           {
            "args": [
             [
              "frame50"
             ],
             {
              "frame": {
               "duration": 50,
               "redraw": true
              },
              "mode": "immediate"
             }
            ],
            "method": "animate"
           },
           {
            "args": [
             [
              "frame60"
             ],
             {
              "frame": {
               "duration": 50,
               "redraw": true
              },
              "mode": "immediate"
             }
            ],
            "method": "animate"
           },
           {
            "args": [
             [
              "frame70"
             ],
             {
              "frame": {
               "duration": 50,
               "redraw": true
              },
              "mode": "immediate"
             }
            ],
            "method": "animate"
           },
           {
            "args": [
             [
              "frame80"
             ],
             {
              "frame": {
               "duration": 50,
               "redraw": true
              },
              "mode": "immediate"
             }
            ],
            "method": "animate"
           },
           {
            "args": [
             [
              "frame90"
             ],
             {
              "frame": {
               "duration": 50,
               "redraw": true
              },
              "mode": "immediate"
             }
            ],
            "method": "animate"
           },
           {
            "args": [
             [
              "frame100"
             ],
             {
              "frame": {
               "duration": 50,
               "redraw": true
              },
              "mode": "immediate"
             }
            ],
            "method": "animate"
           },
           {
            "args": [
             [
              "frame110"
             ],
             {
              "frame": {
               "duration": 50,
               "redraw": true
              },
              "mode": "immediate"
             }
            ],
            "method": "animate"
           },
           {
            "args": [
             [
              "frame120"
             ],
             {
              "frame": {
               "duration": 50,
               "redraw": true
              },
              "mode": "immediate"
             }
            ],
            "method": "animate"
           },
           {
            "args": [
             [
              "frame130"
             ],
             {
              "frame": {
               "duration": 50,
               "redraw": true
              },
              "mode": "immediate"
             }
            ],
            "method": "animate"
           },
           {
            "args": [
             [
              "frame140"
             ],
             {
              "frame": {
               "duration": 50,
               "redraw": true
              },
              "mode": "immediate"
             }
            ],
            "method": "animate"
           },
           {
            "args": [
             [
              "frame150"
             ],
             {
              "frame": {
               "duration": 50,
               "redraw": true
              },
              "mode": "immediate"
             }
            ],
            "method": "animate"
           },
           {
            "args": [
             [
              "frame160"
             ],
             {
              "frame": {
               "duration": 50,
               "redraw": true
              },
              "mode": "immediate"
             }
            ],
            "method": "animate"
           },
           {
            "args": [
             [
              "frame170"
             ],
             {
              "frame": {
               "duration": 50,
               "redraw": true
              },
              "mode": "immediate"
             }
            ],
            "method": "animate"
           },
           {
            "args": [
             [
              "frame180"
             ],
             {
              "frame": {
               "duration": 50,
               "redraw": true
              },
              "mode": "immediate"
             }
            ],
            "method": "animate"
           },
           {
            "args": [
             [
              "frame190"
             ],
             {
              "frame": {
               "duration": 50,
               "redraw": true
              },
              "mode": "immediate"
             }
            ],
            "method": "animate"
           },
           {
            "args": [
             [
              "frame200"
             ],
             {
              "frame": {
               "duration": 50,
               "redraw": true
              },
              "mode": "immediate"
             }
            ],
            "method": "animate"
           },
           {
            "args": [
             [
              "frame210"
             ],
             {
              "frame": {
               "duration": 50,
               "redraw": true
              },
              "mode": "immediate"
             }
            ],
            "method": "animate"
           },
           {
            "args": [
             [
              "frame220"
             ],
             {
              "frame": {
               "duration": 50,
               "redraw": true
              },
              "mode": "immediate"
             }
            ],
            "method": "animate"
           },
           {
            "args": [
             [
              "frame230"
             ],
             {
              "frame": {
               "duration": 50,
               "redraw": true
              },
              "mode": "immediate"
             }
            ],
            "method": "animate"
           },
           {
            "args": [
             [
              "frame240"
             ],
             {
              "frame": {
               "duration": 50,
               "redraw": true
              },
              "mode": "immediate"
             }
            ],
            "method": "animate"
           },
           {
            "args": [
             [
              "frame250"
             ],
             {
              "frame": {
               "duration": 50,
               "redraw": true
              },
              "mode": "immediate"
             }
            ],
            "method": "animate"
           },
           {
            "args": [
             [
              "frame260"
             ],
             {
              "frame": {
               "duration": 50,
               "redraw": true
              },
              "mode": "immediate"
             }
            ],
            "method": "animate"
           },
           {
            "args": [
             [
              "frame270"
             ],
             {
              "frame": {
               "duration": 50,
               "redraw": true
              },
              "mode": "immediate"
             }
            ],
            "method": "animate"
           },
           {
            "args": [
             [
              "frame280"
             ],
             {
              "frame": {
               "duration": 50,
               "redraw": true
              },
              "mode": "immediate"
             }
            ],
            "method": "animate"
           },
           {
            "args": [
             [
              "frame290"
             ],
             {
              "frame": {
               "duration": 50,
               "redraw": true
              },
              "mode": "immediate"
             }
            ],
            "method": "animate"
           },
           {
            "args": [
             [
              "frame300"
             ],
             {
              "frame": {
               "duration": 50,
               "redraw": true
              },
              "mode": "immediate"
             }
            ],
            "method": "animate"
           },
           {
            "args": [
             [
              "frame310"
             ],
             {
              "frame": {
               "duration": 50,
               "redraw": true
              },
              "mode": "immediate"
             }
            ],
            "method": "animate"
           },
           {
            "args": [
             [
              "frame320"
             ],
             {
              "frame": {
               "duration": 50,
               "redraw": true
              },
              "mode": "immediate"
             }
            ],
            "method": "animate"
           },
           {
            "args": [
             [
              "frame330"
             ],
             {
              "frame": {
               "duration": 50,
               "redraw": true
              },
              "mode": "immediate"
             }
            ],
            "method": "animate"
           },
           {
            "args": [
             [
              "frame340"
             ],
             {
              "frame": {
               "duration": 50,
               "redraw": true
              },
              "mode": "immediate"
             }
            ],
            "method": "animate"
           },
           {
            "args": [
             [
              "frame350"
             ],
             {
              "frame": {
               "duration": 50,
               "redraw": true
              },
              "mode": "immediate"
             }
            ],
            "method": "animate"
           },
           {
            "args": [
             [
              "frame360"
             ],
             {
              "frame": {
               "duration": 50,
               "redraw": true
              },
              "mode": "immediate"
             }
            ],
            "method": "animate"
           },
           {
            "args": [
             [
              "frame370"
             ],
             {
              "frame": {
               "duration": 50,
               "redraw": true
              },
              "mode": "immediate"
             }
            ],
            "method": "animate"
           },
           {
            "args": [
             [
              "frame380"
             ],
             {
              "frame": {
               "duration": 50,
               "redraw": true
              },
              "mode": "immediate"
             }
            ],
            "method": "animate"
           },
           {
            "args": [
             [
              "frame390"
             ],
             {
              "frame": {
               "duration": 50,
               "redraw": true
              },
              "mode": "immediate"
             }
            ],
            "method": "animate"
           },
           {
            "args": [
             [
              "frame400"
             ],
             {
              "frame": {
               "duration": 50,
               "redraw": true
              },
              "mode": "immediate"
             }
            ],
            "method": "animate"
           },
           {
            "args": [
             [
              "frame410"
             ],
             {
              "frame": {
               "duration": 50,
               "redraw": true
              },
              "mode": "immediate"
             }
            ],
            "method": "animate"
           },
           {
            "args": [
             [
              "frame420"
             ],
             {
              "frame": {
               "duration": 50,
               "redraw": true
              },
              "mode": "immediate"
             }
            ],
            "method": "animate"
           },
           {
            "args": [
             [
              "frame430"
             ],
             {
              "frame": {
               "duration": 50,
               "redraw": true
              },
              "mode": "immediate"
             }
            ],
            "method": "animate"
           },
           {
            "args": [
             [
              "frame440"
             ],
             {
              "frame": {
               "duration": 50,
               "redraw": true
              },
              "mode": "immediate"
             }
            ],
            "method": "animate"
           },
           {
            "args": [
             [
              "frame450"
             ],
             {
              "frame": {
               "duration": 50,
               "redraw": true
              },
              "mode": "immediate"
             }
            ],
            "method": "animate"
           },
           {
            "args": [
             [
              "frame460"
             ],
             {
              "frame": {
               "duration": 50,
               "redraw": true
              },
              "mode": "immediate"
             }
            ],
            "method": "animate"
           },
           {
            "args": [
             [
              "frame470"
             ],
             {
              "frame": {
               "duration": 50,
               "redraw": true
              },
              "mode": "immediate"
             }
            ],
            "method": "animate"
           },
           {
            "args": [
             [
              "frame480"
             ],
             {
              "frame": {
               "duration": 50,
               "redraw": true
              },
              "mode": "immediate"
             }
            ],
            "method": "animate"
           },
           {
            "args": [
             [
              "frame490"
             ],
             {
              "frame": {
               "duration": 50,
               "redraw": true
              },
              "mode": "immediate"
             }
            ],
            "method": "animate"
           },
           {
            "args": [
             [
              "frame500"
             ],
             {
              "frame": {
               "duration": 50,
               "redraw": true
              },
              "mode": "immediate"
             }
            ],
            "method": "animate"
           },
           {
            "args": [
             [
              "frame510"
             ],
             {
              "frame": {
               "duration": 50,
               "redraw": true
              },
              "mode": "immediate"
             }
            ],
            "method": "animate"
           },
           {
            "args": [
             [
              "frame520"
             ],
             {
              "frame": {
               "duration": 50,
               "redraw": true
              },
              "mode": "immediate"
             }
            ],
            "method": "animate"
           },
           {
            "args": [
             [
              "frame530"
             ],
             {
              "frame": {
               "duration": 50,
               "redraw": true
              },
              "mode": "immediate"
             }
            ],
            "method": "animate"
           },
           {
            "args": [
             [
              "frame540"
             ],
             {
              "frame": {
               "duration": 50,
               "redraw": true
              },
              "mode": "immediate"
             }
            ],
            "method": "animate"
           },
           {
            "args": [
             [
              "frame550"
             ],
             {
              "frame": {
               "duration": 50,
               "redraw": true
              },
              "mode": "immediate"
             }
            ],
            "method": "animate"
           },
           {
            "args": [
             [
              "frame560"
             ],
             {
              "frame": {
               "duration": 50,
               "redraw": true
              },
              "mode": "immediate"
             }
            ],
            "method": "animate"
           },
           {
            "args": [
             [
              "frame570"
             ],
             {
              "frame": {
               "duration": 50,
               "redraw": true
              },
              "mode": "immediate"
             }
            ],
            "method": "animate"
           },
           {
            "args": [
             [
              "frame580"
             ],
             {
              "frame": {
               "duration": 50,
               "redraw": true
              },
              "mode": "immediate"
             }
            ],
            "method": "animate"
           },
           {
            "args": [
             [
              "frame590"
             ],
             {
              "frame": {
               "duration": 50,
               "redraw": true
              },
              "mode": "immediate"
             }
            ],
            "method": "animate"
           },
           {
            "args": [
             [
              "frame600"
             ],
             {
              "frame": {
               "duration": 50,
               "redraw": true
              },
              "mode": "immediate"
             }
            ],
            "method": "animate"
           },
           {
            "args": [
             [
              "frame610"
             ],
             {
              "frame": {
               "duration": 50,
               "redraw": true
              },
              "mode": "immediate"
             }
            ],
            "method": "animate"
           },
           {
            "args": [
             [
              "frame620"
             ],
             {
              "frame": {
               "duration": 50,
               "redraw": true
              },
              "mode": "immediate"
             }
            ],
            "method": "animate"
           },
           {
            "args": [
             [
              "frame630"
             ],
             {
              "frame": {
               "duration": 50,
               "redraw": true
              },
              "mode": "immediate"
             }
            ],
            "method": "animate"
           },
           {
            "args": [
             [
              "frame640"
             ],
             {
              "frame": {
               "duration": 50,
               "redraw": true
              },
              "mode": "immediate"
             }
            ],
            "method": "animate"
           },
           {
            "args": [
             [
              "frame650"
             ],
             {
              "frame": {
               "duration": 50,
               "redraw": true
              },
              "mode": "immediate"
             }
            ],
            "method": "animate"
           },
           {
            "args": [
             [
              "frame660"
             ],
             {
              "frame": {
               "duration": 50,
               "redraw": true
              },
              "mode": "immediate"
             }
            ],
            "method": "animate"
           },
           {
            "args": [
             [
              "frame670"
             ],
             {
              "frame": {
               "duration": 50,
               "redraw": true
              },
              "mode": "immediate"
             }
            ],
            "method": "animate"
           }
          ]
         }
        ],
        "template": {
         "data": {
          "candlestick": [
           {
            "decreasing": {
             "line": {
              "color": "#000033"
             }
            },
            "increasing": {
             "line": {
              "color": "#000032"
             }
            },
            "type": "candlestick"
           }
          ],
          "contour": [
           {
            "colorscale": [
             [
              0,
              "#000011"
             ],
             [
              0.1111111111111111,
              "#000012"
             ],
             [
              0.2222222222222222,
              "#000013"
             ],
             [
              0.3333333333333333,
              "#000014"
             ],
             [
              0.4444444444444444,
              "#000015"
             ],
             [
              0.5555555555555556,
              "#000016"
             ],
             [
              0.6666666666666666,
              "#000017"
             ],
             [
              0.7777777777777778,
              "#000018"
             ],
             [
              0.8888888888888888,
              "#000019"
             ],
             [
              1,
              "#000020"
             ]
            ],
            "type": "contour"
           }
          ],
          "contourcarpet": [
           {
            "colorscale": [
             [
              0,
              "#000011"
             ],
             [
              0.1111111111111111,
              "#000012"
             ],
             [
              0.2222222222222222,
              "#000013"
             ],
             [
              0.3333333333333333,
              "#000014"
             ],
             [
              0.4444444444444444,
              "#000015"
             ],
             [
              0.5555555555555556,
              "#000016"
             ],
             [
              0.6666666666666666,
              "#000017"
             ],
             [
              0.7777777777777778,
              "#000018"
             ],
             [
              0.8888888888888888,
              "#000019"
             ],
             [
              1,
              "#000020"
             ]
            ],
            "type": "contourcarpet"
           }
          ],
          "heatmap": [
           {
            "colorscale": [
             [
              0,
              "#000011"
             ],
             [
              0.1111111111111111,
              "#000012"
             ],
             [
              0.2222222222222222,
              "#000013"
             ],
             [
              0.3333333333333333,
              "#000014"
             ],
             [
              0.4444444444444444,
              "#000015"
             ],
             [
              0.5555555555555556,
              "#000016"
             ],
             [
              0.6666666666666666,
              "#000017"
             ],
             [
              0.7777777777777778,
              "#000018"
             ],
             [
              0.8888888888888888,
              "#000019"
             ],
             [
              1,
              "#000020"
             ]
            ],
            "type": "heatmap"
           }
          ],
          "histogram2d": [
           {
            "colorscale": [
             [
              0,
              "#000011"
             ],
             [
              0.1111111111111111,
              "#000012"
             ],
             [
              0.2222222222222222,
              "#000013"
             ],
             [
              0.3333333333333333,
              "#000014"
             ],
             [
              0.4444444444444444,
              "#000015"
             ],
             [
              0.5555555555555556,
              "#000016"
             ],
             [
              0.6666666666666666,
              "#000017"
             ],
             [
              0.7777777777777778,
              "#000018"
             ],
             [
              0.8888888888888888,
              "#000019"
             ],
             [
              1,
              "#000020"
             ]
            ],
            "type": "histogram2d"
           }
          ],
          "icicle": [
           {
            "textfont": {
             "color": "white"
            },
            "type": "icicle"
           }
          ],
          "sankey": [
           {
            "textfont": {
             "color": "#000036"
            },
            "type": "sankey"
           }
          ],
          "scatter": [
           {
            "marker": {
             "line": {
              "width": 0
             }
            },
            "type": "scatter"
           }
          ],
          "table": [
           {
            "cells": {
             "fill": {
              "color": "#000038"
             },
             "font": {
              "color": "#000037"
             },
             "line": {
              "color": "#000039"
             }
            },
            "header": {
             "fill": {
              "color": "#000040"
             },
             "font": {
              "color": "#000036"
             },
             "line": {
              "color": "#000039"
             }
            },
            "type": "table"
           }
          ],
          "waterfall": [
           {
            "connector": {
             "line": {
              "color": "#000036",
              "width": 2
             }
            },
            "decreasing": {
             "marker": {
              "color": "#000033"
             }
            },
            "increasing": {
             "marker": {
              "color": "#000032"
             }
            },
            "totals": {
             "marker": {
              "color": "#000034"
             }
            },
            "type": "waterfall"
           }
          ]
         },
         "layout": {
          "coloraxis": {
           "colorscale": [
            [
             0,
             "#000011"
            ],
            [
             0.1111111111111111,
             "#000012"
            ],
            [
             0.2222222222222222,
             "#000013"
            ],
            [
             0.3333333333333333,
             "#000014"
            ],
            [
             0.4444444444444444,
             "#000015"
            ],
            [
             0.5555555555555556,
             "#000016"
            ],
            [
             0.6666666666666666,
             "#000017"
            ],
            [
             0.7777777777777778,
             "#000018"
            ],
            [
             0.8888888888888888,
             "#000019"
            ],
            [
             1,
             "#000020"
            ]
           ]
          },
          "colorscale": {
           "diverging": [
            [
             0,
             "#000021"
            ],
            [
             0.1,
             "#000022"
            ],
            [
             0.2,
             "#000023"
            ],
            [
             0.3,
             "#000024"
            ],
            [
             0.4,
             "#000025"
            ],
            [
             0.5,
             "#000026"
            ],
            [
             0.6,
             "#000027"
            ],
            [
             0.7,
             "#000028"
            ],
            [
             0.8,
             "#000029"
            ],
            [
             0.9,
             "#000030"
            ],
            [
             1,
             "#000031"
            ]
           ],
           "sequential": [
            [
             0,
             "#000011"
            ],
            [
             0.1111111111111111,
             "#000012"
            ],
            [
             0.2222222222222222,
             "#000013"
            ],
            [
             0.3333333333333333,
             "#000014"
            ],
            [
             0.4444444444444444,
             "#000015"
            ],
            [
             0.5555555555555556,
             "#000016"
            ],
            [
             0.6666666666666666,
             "#000017"
            ],
            [
             0.7777777777777778,
             "#000018"
            ],
            [
             0.8888888888888888,
             "#000019"
            ],
            [
             1,
             "#000020"
            ]
           ],
           "sequentialminus": [
            [
             0,
             "#000011"
            ],
            [
             0.1111111111111111,
             "#000012"
            ],
            [
             0.2222222222222222,
             "#000013"
            ],
            [
             0.3333333333333333,
             "#000014"
            ],
            [
             0.4444444444444444,
             "#000015"
            ],
            [
             0.5555555555555556,
             "#000016"
            ],
            [
             0.6666666666666666,
             "#000017"
            ],
            [
             0.7777777777777778,
             "#000018"
            ],
            [
             0.8888888888888888,
             "#000019"
            ],
            [
             1,
             "#000020"
            ]
           ]
          },
          "colorway": [
           "#000001",
           "#000002",
           "#000003",
           "#000004",
           "#000005",
           "#000006",
           "#000007",
           "#000008",
           "#000009",
           "#000010"
          ]
         }
        },
        "updatemenus": [
         {
          "buttons": [
           {
            "args": [
             null,
             {
              "frame": {
               "duration": 50,
               "redraw": true
              },
              "fromcurrent": true
             }
            ],
            "label": "Play",
            "method": "animate"
           },
           {
            "args": [
             [
              null
             ],
             {
              "frame": {
               "duration": 0,
               "redraw": false
              },
              "mode": "immediate"
             }
            ],
            "label": "Pause",
            "method": "animate"
           }
          ],
          "showactive": false,
          "type": "buttons"
         }
        ]
       }
      }
     },
     "metadata": {},
     "output_type": "display_data"
    }
   ],
   "source": [
    "\n",
    "quaternion_data = read_csv(full_data_file_path_z)\n",
    "# Predict states with UKF\n",
    "predicted_states = []\n",
    "for q in quaternion_data:\n",
    "    q = q / np.linalg.norm(q)\n",
    "    ukf.predict()\n",
    "    ukf.update(q)\n",
    "    predicted_states.append(ukf.x)\n",
    "predicted_states = np.array(predicted_states)\n",
    "\n",
    "plot_euler_angles_3d(predicted_states,10)"
   ]
  },
  {
   "cell_type": "code",
   "execution_count": 21,
   "metadata": {},
   "outputs": [
    {
     "data": {
      "image/png": "[encoded data removed]",
      "text/plain": [
       "<Figure size 1000x600 with 1 Axes>"
      ]
     },
     "metadata": {},
     "output_type": "display_data"
    },
    {
     "data": {
      "image/png": "[encoded data removed]",
      "text/plain": [
       "<Figure size 1000x600 with 1 Axes>"
      ]
     },
     "metadata": {},
     "output_type": "display_data"
    },
    {
     "data": {
      "image/png": "[encoded data removed]",
      "text/plain": [
       "<Figure size 1000x600 with 1 Axes>"
      ]
     },
     "metadata": {},
     "output_type": "display_data"
    }
   ],
   "source": [
    "def plot_euler_angles_over_time(quaternion_data_measured, quaternion_data_filtered ):\n",
    "    # Initialize lists to store Euler angles over time\n",
    "    rolls = []\n",
    "    pitches = []\n",
    "    yaws = []\n",
    "\n",
    "    raw_rolls = []\n",
    "    raw_pitches = []\n",
    "    raw_yaws = []\n",
    "\n",
    "    for q in quaternion_data_filtered:\n",
    "        roll, pitch, yaw = quaternion_to_euler_angles(q)\n",
    "        rolls.append(np.degrees(roll))\n",
    "        pitches.append(np.degrees(pitch))\n",
    "        yaws.append(np.degrees(yaw))\n",
    "\n",
    "    for q in quaternion_data_measured:\n",
    "        roll, pitch, yaw = quaternion_to_euler_angles(q)\n",
    "        raw_rolls.append(np.degrees(roll))\n",
    "        raw_pitches.append(np.degrees(pitch))\n",
    "        raw_yaws.append(np.degrees(yaw))\n",
    "\n",
    "    # Plotting Roll\n",
    "    plt.figure(figsize=(10, 6))\n",
    "    plt.plot(raw_rolls[15:], label='Measured Roll', color='m')\n",
    "    plt.plot(rolls[15:], label='Filtered Roll', color='r')\n",
    "    plt.title('Roll Over Time')\n",
    "    plt.xlabel('Time Step')\n",
    "    plt.ylabel('Angle (°)')\n",
    "    plt.legend()\n",
    "    plt.grid(True)\n",
    "    plt.show()\n",
    "\n",
    "    # Plotting Pitch\n",
    "    plt.figure(figsize=(10, 6))\n",
    "    plt.plot(raw_pitches[15:], label='Measured Pitch', color='y')\n",
    "    plt.plot(pitches[15:], label='Filtered Pitch', color='g')\n",
    "    plt.title('Pitch Over Time')\n",
    "    plt.xlabel('Time Step')\n",
    "    plt.ylabel('Angle (°)')\n",
    "    plt.legend()\n",
    "    plt.grid(True)\n",
    "    plt.show()\n",
    "\n",
    "    # Plotting Yaw\n",
    "    plt.figure(figsize=(10, 6))\n",
    "    plt.plot(raw_yaws[15:], label='Measured Yaw', color='c')\n",
    "    plt.plot(yaws[15:], label='Filtered Yaw', color='b')\n",
    "    plt.title('Yaw Over Time')\n",
    "    plt.xlabel('Time Step')\n",
    "    plt.ylabel('Angle (°)')\n",
    "    plt.legend()\n",
    "    plt.grid(True)\n",
    "    plt.show()\n",
    "\n",
    "\n",
    "# Visualize Euler angles over time\n",
    "plot_euler_angles_over_time(quaternion_data, predicted_states)"
   ]
  }
 ],
 "metadata": {
  "kernelspec": {
   "display_name": "SPAI",
   "language": "python",
   "name": "python3"
  },
  "language_info": {
   "codemirror_mode": {
    "name": "ipython",
    "version": 3
   },
   "file_extension": ".py",
   "mimetype": "text/x-python",
   "name": "python",
   "nbconvert_exporter": "python",
   "pygments_lexer": "ipython3",
   "version": "3.9.20"
  }
 },
 "nbformat": 4,
 "nbformat_minor": 2
}
