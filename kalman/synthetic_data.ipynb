{
 "cells": [
  {
   "cell_type": "code",
   "id": "initial_id",
   "metadata": {
    "collapsed": true,
    "ExecuteTime": {
     "end_time": "2024-12-10T22:41:28.330499Z",
     "start_time": "2024-12-10T22:41:28.327618Z"
    }
   },
   "source": [
    "import numpy as np\n",
    "import matplotlib.pyplot as plt\n",
    "from mpl_toolkits.mplot3d import Axes3D\n",
    "import quaternion\n",
    "from scipy.spatial.transform import Rotation"
   ],
   "outputs": [],
   "execution_count": 4
  },
  {
   "metadata": {},
   "cell_type": "markdown",
   "source": [
    "1. Make a spiral trajectory in 3D.\n",
    "2. Calculate position, velocity, and acceleration along the spiral.\n",
    "3. Define orientation changes along the paths.\n",
    "4. Generate synthetic accelerometer and gyroscope readings.\n",
    "5. Add realistic noise to make IMU readings more realistic.\n",
    "\n",
    "$$\\omega=\\frac{v}{r}$$\n",
    "\n",
    "$$\\begin{cases}\n",
    "x=R\\cos(\\omega)\\\\\n",
    "y=R\\sin(\\omega)\\\\\n",
    "z=H\\frac{t}{t_0}\n",
    "\\end{cases}$$"
   ],
   "id": "c9083343c6704a8a"
  },
  {
   "metadata": {
    "ExecuteTime": {
     "end_time": "2024-12-10T22:44:09.411209Z",
     "start_time": "2024-12-10T22:44:09.401144Z"
    }
   },
   "cell_type": "code",
   "source": [
    "def make_spiral(t: int, radius: float, height: float, loops: int) -> np.ndarray:\n",
    "    \"\"\"\n",
    "    :param t: number of samples\n",
    "    :param radius: radius of the spiral\n",
    "    :param height: height of the spiral\n",
    "    :param loops: number of loops in the spiral\n",
    "    :return: numpy array shaped (3,t)\n",
    "    \"\"\"\n",
    "    omega = 2 * np.pi * loops / t[-1]\n",
    "    \n",
    "    x = radius * np.cos(omega*t)\n",
    "    y = radius * np.sin(omega*t)\n",
    "    z = height * t/t[-1]\n",
    "    \n",
    "    vx = - radius * omega * np.sin(omega*t)\n",
    "    vy = radius * omega * np.cos(omega*t)\n",
    "    vz = height / t[-1]\n",
    "    \n",
    "    ax = - radius * omega ** 2 * np.sin(omega*t)\n",
    "    ay = - radius * omega ** 2 * np.cos(omega*t)\n",
    "    az = 0\n",
    "    \n",
    "    spiral_data = np.array([\n",
    "        [x,y,z],\n",
    "        [vx,vy,vz],\n",
    "        [ax,ay,az]\n",
    "    ])\n",
    "    \n",
    "    return spiral_data\n",
    "    \n",
    "def make_spiral_quaternions(duration:int, sample_rate:float, radius:float, height:float, loop:int) -> np.array:\n",
    "    \"\"\"\n",
    "    \n",
    "    :param duration: duration of the measurement taking process\n",
    "    :param sample_rate: rate at which we want to capture sample points\n",
    "    :param radius: radius of the spiral\n",
    "    :param height: height of spiral\n",
    "    :param loop: number of revolutions of the spiral\n",
    "    :return: \n",
    "    \"\"\"\n",
    "    t = np.linspace(0, duration, int(duration * sample_rate))\n",
    "    \n",
    "    omega = 2 * np.pi * loop / duration\n",
    "    \n",
    "    x = radius * np.cos(omega * t)\n",
    "    y = radius * np.sin(omega * t)\n",
    "    z = height * t / duration\n",
    "    \n",
    "    dx = -radius * omega * np.sin(omega * t)\n",
    "    dy = radius * omega * np.cos(omega * t)\n",
    "    dz = height / duration * np.ones_like(t)\n",
    "    \n",
    "    tangent = np.column_stack([dx, dy, dz])\n",
    "    tangent = tangent / np.linalg.norm(tangent, axis=1)[:, np.newaxis]\n",
    "    \n",
    "    up = np.tile([0, 0, 1], (len(t), 1))\n",
    "    \n",
    "    right = np.cross(tangent, up)\n",
    "    right = right / np.linalg.norm(right, axis=1)[:, np.newaxis]\n",
    "    \n",
    "    up = np.cross(right, tangent)\n",
    "    \n",
    "    rotation_matrices = np.zeros((len(t), 3, 3))\n",
    "    for i in range(len(t)):\n",
    "        rotation_matrices[i] = np.column_stack([right[i], up[i], tangent[i]])\n",
    "    \n",
    "    r = Rotation.from_matrix(rotation_matrices)\n",
    "    quaternions = r.as_quat()  # Returns (x, y, z, w)\n",
    "    \n",
    "    quaternions = np.column_stack([quaternions[:, 3], quaternions[:, 0], quaternions[:, 1], quaternions[:, 2]])\n",
    "    \n",
    "    noise_std = 0.001  # Adjust noise level as needed\n",
    "    noisy_quaternions = quaternions + np.random.normal(0, noise_std, quaternions.shape)\n",
    "    \n",
    "    noisy_quaternions = noisy_quaternions / np.linalg.norm(noisy_quaternions, axis=1)[:, np.newaxis]\n",
    "    \n",
    "    return {\n",
    "        'time': t,\n",
    "        'position': np.column_stack([x, y, z]),\n",
    "        'quaternions': noisy_quaternions,\n",
    "        'clean_quaternions': quaternions\n",
    "    }\n",
    "        "
   ],
   "id": "60095c8946104d81",
   "outputs": [],
   "execution_count": 5
  },
  {
   "metadata": {
    "ExecuteTime": {
     "end_time": "2024-12-10T22:44:10.456964Z",
     "start_time": "2024-12-10T22:44:10.453896Z"
    }
   },
   "cell_type": "code",
   "source": [
    "def add_noise(data: np.ndarray, noise_std: float) -> np.ndarray:\n",
    "    \"\"\"\n",
    "    \n",
    "    :param data: the data on which we are adding noise\n",
    "    :param noise_std: standard deviation of the noise\n",
    "    :return: \n",
    "    \"\"\"\n",
    "    return data + np.random.normal(scale=noise_std, size=data.shape)"
   ],
   "id": "287168c6537c0629",
   "outputs": [],
   "execution_count": 6
  },
  {
   "metadata": {},
   "cell_type": "code",
   "outputs": [],
   "execution_count": null,
   "source": "",
   "id": "1b8943a5644c7dd6"
  }
 ],
 "metadata": {
  "kernelspec": {
   "display_name": "Python 3",
   "language": "python",
   "name": "python3"
  },
  "language_info": {
   "codemirror_mode": {
    "name": "ipython",
    "version": 2
   },
   "file_extension": ".py",
   "mimetype": "text/x-python",
   "name": "python",
   "nbconvert_exporter": "python",
   "pygments_lexer": "ipython2",
   "version": "2.7.6"
  }
 },
 "nbformat": 4,
 "nbformat_minor": 5
}
