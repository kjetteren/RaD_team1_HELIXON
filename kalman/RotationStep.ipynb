{
 "cells": [
  {
   "cell_type": "markdown",
   "metadata": {},
   "source": [
    "Send Help :("
   ]
  },
  {
   "cell_type": "code",
   "execution_count": 229,
   "metadata": {},
   "outputs": [],
   "source": [
    "import os\n",
    "import pandas as pd\n",
    "import numpy as np\n",
    "import matplotlib.pyplot as plt\n",
    "from filterpy.kalman import UnscentedKalmanFilter as UKF\n",
    "from filterpy.kalman import MerweScaledSigmaPoints\n",
    "import view_plot\n",
    "import math"
   ]
  },
  {
   "cell_type": "code",
   "execution_count": 230,
   "metadata": {},
   "outputs": [
    {
     "name": "stdout",
     "output_type": "stream",
     "text": [
      "Current Working Directory: d:\\SPAI_Lab\\Project\\HELIXON\\RaD_team1_HELIXON\\kalman\n",
      "Found file: d:\\SPAI_Lab\\Project\\HELIXON\\RaD_team1_HELIXON\\kalman\\../utils/stepper_rotation_data/rotation_x.csv\n",
      "Found file: d:\\SPAI_Lab\\Project\\HELIXON\\RaD_team1_HELIXON\\kalman\\../utils/stepper_rotation_data/rotation_y.csv\n",
      "Found file: d:\\SPAI_Lab\\Project\\HELIXON\\RaD_team1_HELIXON\\kalman\\../utils/stepper_rotation_data/rotation_z_step90.csv\n"
     ]
    }
   ],
   "source": [
    "# Checking and printing the current working directory\n",
    "print(f\"Current Working Directory: {os.getcwd()}\")\n",
    "\n",
    "# Define file path relative to the current working directory\n",
    "data_file_path_x = \"../utils/stepper_rotation_data/rotation_x.csv\"\n",
    "data_file_path_y = \"../utils/stepper_rotation_data/rotation_y.csv\"\n",
    "data_file_path_z = \"../utils/stepper_rotation_data/rotation_z_step90.csv\"\n",
    "full_data_file_path_x = os.path.join(os.getcwd(), data_file_path_x)\n",
    "full_data_file_path_y = os.path.join(os.getcwd(), data_file_path_y)\n",
    "full_data_file_path_z = os.path.join(os.getcwd(), data_file_path_z)\n",
    "\n",
    "# Checking if the path exists\n",
    "if not os.path.exists(full_data_file_path_x):\n",
    "    print(f\"File not found: {full_data_file_path_x}\")\n",
    "elif not os.path.exists(full_data_file_path_y):\n",
    "    print(f\"File not found: {full_data_file_path_y}\")\n",
    "elif not os.path.exists(full_data_file_path_z):\n",
    "    print(f\"File not found: {full_data_file_path_z}\")\n",
    "else:\n",
    "    print(f\"Found file: {full_data_file_path_x}\")\n",
    "    print(f\"Found file: {full_data_file_path_y}\")\n",
    "    print(f\"Found file: {full_data_file_path_z}\")\n",
    "\n",
    "def read_csv(file_name):\n",
    "    # Reading the CSV file\n",
    "    sensor_data_df = pd.read_csv(file_name)\n",
    "\n",
    "    # Assuming the dataframe includes columns 'Quaternion_W', 'Quaternion_X', 'Quaternion_Y', 'Quaternion_Z' for quaternions\n",
    "    quaternion_data = sensor_data_df[['Quaternion_W', 'Quaternion_X', 'Quaternion_Y', 'Quaternion_Z']].values\n",
    "\n",
    "    return quaternion_data\n",
    "\n",
    "# Initialize and configure Unscented Kalman Filter (UKF)\n",
    "dim_x = 4\n",
    "dim_z = 4\n",
    "points = MerweScaledSigmaPoints(n=dim_x, alpha=0.1, beta=2.0, kappa=0.0)\n",
    "ukf = UKF(dim_x=dim_x, dim_z=dim_z, fx=lambda x, dt: x, hx=lambda x: x, dt=1/25, points=points)\n",
    "ukf.x = np.array([1, 0, 0, 0])  # Initial state\n",
    "ukf.P *= 0.1  # Initial covariance\n",
    "    \n"
   ]
  },
  {
   "cell_type": "code",
   "execution_count": 231,
   "metadata": {},
   "outputs": [],
   "source": [
    "def quaternion_to_euler_angles(q):\n",
    "    \"\"\"\n",
    "    Convert quaternion to Euler angles (roll, pitch, yaw) in radians.\n",
    "    Quaternion format assumed as [w, x, y, z].\n",
    "    \"\"\"\n",
    "    w, x, y, z = q\n",
    "    # Roll (x-axis rotation)\n",
    "    sinr_cosp = 2 * (w * x + y * z)\n",
    "    cosr_cosp = 1 - 2 * (x * x + y * y)\n",
    "    roll = np.arctan2(sinr_cosp, cosr_cosp)\n",
    "\n",
    "    # Pitch (y-axis rotation)\n",
    "    sinp = 2 * (w * y - z * x)\n",
    "    pitch = np.arcsin(sinp) if abs(sinp) <= 1 else np.pi / 2 * np.sign(sinp)\n",
    "\n",
    "    # Yaw (z-axis rotation)\n",
    "    siny_cosp = 2 * (w * z + x * y)\n",
    "    cosy_cosp = 1 - 2 * (y * y + z * z)\n",
    "    yaw = np.arctan2(siny_cosp, cosy_cosp)\n",
    "\n",
    "    return roll, pitch, yaw\n",
    "\n",
    "def plot_euler_angles_over_time(quaternion_data_measured, quaternion_data_filtered ):\n",
    "    # Initialize lists to store Euler angles over time\n",
    "    rolls = []\n",
    "    pitches = []\n",
    "    yaws = []\n",
    "\n",
    "    raw_rolls = []\n",
    "    raw_pitches = []\n",
    "    raw_yaws = []\n",
    "\n",
    "    for q in quaternion_data_filtered:\n",
    "        roll, pitch, yaw = quaternion_to_euler_angles(q)\n",
    "        rolls.append(np.degrees(roll))\n",
    "        pitches.append(np.degrees(pitch))\n",
    "        yaws.append(np.degrees(yaw))\n",
    "\n",
    "    for q in quaternion_data_measured:\n",
    "        roll, pitch, yaw = quaternion_to_euler_angles(q)\n",
    "        raw_rolls.append(np.degrees(roll))\n",
    "        raw_pitches.append(np.degrees(pitch))\n",
    "        raw_yaws.append(np.degrees(yaw))\n",
    "\n",
    "    # Plotting Roll\n",
    "    plt.figure(figsize=(10, 6))\n",
    "    plt.plot(raw_rolls[15:], label='Measured Roll', color='m')\n",
    "    plt.plot(rolls[15:], label='Filtered Roll', color='r')\n",
    "    plt.title('Roll Over Time')\n",
    "    plt.xlabel('Time Step')\n",
    "    plt.ylabel('Angle (°)')\n",
    "    plt.legend()\n",
    "    plt.grid(True)\n",
    "    plt.show()\n",
    "\n",
    "    # Plotting Pitch\n",
    "    plt.figure(figsize=(10, 6))\n",
    "    plt.plot(raw_pitches[15:], label='Measured Pitch', color='y')\n",
    "    plt.plot(pitches[15:], label='Filtered Pitch', color='g')\n",
    "    plt.title('Pitch Over Time')\n",
    "    plt.xlabel('Time Step')\n",
    "    plt.ylabel('Angle (°)')\n",
    "    plt.legend()\n",
    "    plt.grid(True)\n",
    "    plt.show()\n",
    "\n",
    "    # Plotting Yaw\n",
    "    plt.figure(figsize=(10, 6))\n",
    "    plt.plot(raw_yaws[130:160], label='Measured Yaw', color='c')\n",
    "    plt.plot(yaws[130:160], label='Filtered Yaw', color='b')\n",
    "    plt.axhline(y=90, color='k', linestyle='-', label='y=90')\n",
    "    plt.title('Yaw Over Time')\n",
    "    plt.xlabel('Time Step')\n",
    "    plt.ylabel('Angle (°)')\n",
    "    plt.legend()\n",
    "    plt.grid(True)\n",
    "    plt.show()\n",
    "\n",
    "\n",
    "def plot_euler_angles_3d(quaternion_data, step):\n",
    "    # Initialize lists to store Euler angles over time\n",
    "    rolls = []\n",
    "    pitches = []\n",
    "    yaws = []\n",
    "\n",
    "    for q in quaternion_data:\n",
    "        roll, pitch, yaw = quaternion_to_euler_angles(q)\n",
    "        rolls.append(roll)\n",
    "        pitches.append(pitch)\n",
    "        yaws.append(yaw)\n",
    "    \n",
    "    plot = view_plot.generate_plot(rolls,pitches,yaws,step)\n",
    "    plot.show()\n"
   ]
  },
  {
   "cell_type": "markdown",
   "metadata": {},
   "source": [
    "DATA X"
   ]
  },
  {
   "cell_type": "code",
   "execution_count": null,
   "metadata": {},
   "outputs": [],
   "source": [
    "# quaternion_data = read_csv(full_data_file_path_x)\n",
    "# # Predict states with UKF\n",
    "# predicted_states = []\n",
    "\n",
    "# for q in quaternion_data:\n",
    "#     q = q / np.linalg.norm(q)\n",
    "#     ukf.predict()\n",
    "#     ukf.update(q)\n",
    "#     predicted_states.append(ukf.x)\n",
    "# predicted_states = np.array(predicted_states)\n",
    "\n",
    "# plot_euler_angles_3d(predicted_states,10)\n",
    "# plot_euler_angles_over_time(quaternion_data, predicted_states)\n",
    "#slope starts at sample 232\n"
   ]
  },
  {
   "cell_type": "code",
   "execution_count": null,
   "metadata": {},
   "outputs": [],
   "source": [
    "# quaternion_data = read_csv(full_data_file_path_x)\n",
    "# # Predict states with UKF\n",
    "# predicted_states = []\n",
    "\n",
    "# for q in quaternion_data:\n",
    "#     q = q / np.linalg.norm(q)\n",
    "#     ukf.predict()\n",
    "#     ukf.update(q)\n",
    "#     predicted_states.append(ukf.x)\n",
    "# predicted_states = np.array(predicted_states)\n",
    "\n",
    "# plot_euler_angles_3d(predicted_states,10)\n",
    "# plot_euler_angles_over_time(quaternion_data, predicted_states)\n",
    "#slope starts at sample 232\n"
   ]
  },
  {
   "cell_type": "markdown",
   "metadata": {},
   "source": [
    "DATA Y"
   ]
  },
  {
   "cell_type": "code",
   "execution_count": null,
   "metadata": {},
   "outputs": [
    {
     "data": {
      "application/vnd.plotly.v1+json": {
       "config": {
        "plotlyServerURL": "https://plot.ly"
       },
       "data": [
        {
         "line": {
          "color": "blue",
          "width": 5
         },
         "mode": "lines",
         "name": "Vector",
         "type": "scatter3d",
         "x": [
          0,
          0.4760075394798745
         ],
         "y": [
          0,
          0.158296754110793
         ],
         "z": [
          0,
          0.8650774300583175
         ]
        },
        {
         "anchor": "tip",
         "colorscale": [
          [
           0,
           "blue"
          ],
          [
           1,
           "blue"
          ]
         ],
         "name": "Arrowhead",
         "showscale": false,
         "sizemode": "absolute",
         "sizeref": 0.3,
         "type": "cone",
         "u": [
          0.4760075394798745
         ],
         "v": [
          0.158296754110793
         ],
         "w": [
          0.8650774300583175
         ],
         "x": [
          0.4760075394798745
         ],
         "y": [
          0.158296754110793
         ],
         "z": [
          0.8650774300583175
         ]
        }
       ],
       "frames": [
        {
         "data": [
          {
           "line": {
            "color": "blue",
            "width": 5
           },
           "mode": "lines",
           "type": "scatter3d",
           "x": [
            0,
            0.4760075394798745
           ],
           "y": [
            0,
            0.158296754110793
           ],
           "z": [
            0,
            0.8650774300583175
           ]
          },
          {
           "anchor": "tip",
           "colorscale": [
            [
             0,
             "blue"
            ],
            [
             1,
             "blue"
            ]
           ],
           "showscale": false,
           "sizemode": "absolute",
           "sizeref": 0.3,
           "type": "cone",
           "u": [
            0.4760075394798745
           ],
           "v": [
            0.158296754110793
           ],
           "w": [
            0.8650774300583175
           ],
           "x": [
            0.4760075394798745
           ],
           "y": [
            0.158296754110793
           ],
           "z": [
            0.8650774300583175
           ]
          }
         ],
         "name": "frame0"
        },
        {
         "data": [
          {
           "line": {
            "color": "blue",
            "width": 5
           },
           "mode": "lines",
           "type": "scatter3d",
           "x": [
            0,
            -0.41564113229794925
           ],
           "y": [
            0,
            0.9064329479662265
           ],
           "z": [
            0,
            -0.07497839677756685
           ]
          },
          {
           "anchor": "tip",
           "colorscale": [
            [
             0,
             "blue"
            ],
            [
             1,
             "blue"
            ]
           ],
           "showscale": false,
           "sizemode": "absolute",
           "sizeref": 0.3,
           "type": "cone",
           "u": [
            -0.41564113229794925
           ],
           "v": [
            0.9064329479662265
           ],
           "w": [
            -0.07497839677756685
           ],
           "x": [
            -0.41564113229794925
           ],
           "y": [
            0.9064329479662265
           ],
           "z": [
            -0.07497839677756685
           ]
          }
         ],
         "name": "frame10"
        },
        {
         "data": [
          {
           "line": {
            "color": "blue",
            "width": 5
           },
           "mode": "lines",
           "type": "scatter3d",
           "x": [
            0,
            -0.41508722193967035
           ],
           "y": [
            0,
            0.9067315143568102
           ],
           "z": [
            0,
            -0.07443493168273058
           ]
          },
          {
           "anchor": "tip",
           "colorscale": [
            [
             0,
             "blue"
            ],
            [
             1,
             "blue"
            ]
           ],
           "showscale": false,
           "sizemode": "absolute",
           "sizeref": 0.3,
           "type": "cone",
           "u": [
            -0.41508722193967035
           ],
           "v": [
            0.9067315143568102
           ],
           "w": [
            -0.07443493168273058
           ],
           "x": [
            -0.41508722193967035
           ],
           "y": [
            0.9067315143568102
           ],
           "z": [
            -0.07443493168273058
           ]
          }
         ],
         "name": "frame20"
        },
        {
         "data": [
          {
           "line": {
            "color": "blue",
            "width": 5
           },
           "mode": "lines",
           "type": "scatter3d",
           "x": [
            0,
            -0.41508718533640254
           ],
           "y": [
            0,
            0.906731534073524
           ],
           "z": [
            0,
            -0.07443489562145136
           ]
          },
          {
           "anchor": "tip",
           "colorscale": [
            [
             0,
             "blue"
            ],
            [
             1,
             "blue"
            ]
           ],
           "showscale": false,
           "sizemode": "absolute",
           "sizeref": 0.3,
           "type": "cone",
           "u": [
            -0.41508718533640254
           ],
           "v": [
            0.906731534073524
           ],
           "w": [
            -0.07443489562145136
           ],
           "x": [
            -0.41508718533640254
           ],
           "y": [
            0.906731534073524
           ],
           "z": [
            -0.07443489562145136
           ]
          }
         ],
         "name": "frame30"
        },
        {
         "data": [
          {
           "line": {
            "color": "blue",
            "width": 5
           },
           "mode": "lines",
           "type": "scatter3d",
           "x": [
            0,
            -0.41511129216863796
           ],
           "y": [
            0,
            0.9067169737626757
           ],
           "z": [
            0,
            -0.07447781283535784
           ]
          },
          {
           "anchor": "tip",
           "colorscale": [
            [
             0,
             "blue"
            ],
            [
             1,
             "blue"
            ]
           ],
           "showscale": false,
           "sizemode": "absolute",
           "sizeref": 0.3,
           "type": "cone",
           "u": [
            -0.41511129216863796
           ],
           "v": [
            0.9067169737626757
           ],
           "w": [
            -0.07447781283535784
           ],
           "x": [
            -0.41511129216863796
           ],
           "y": [
            0.9067169737626757
           ],
           "z": [
            -0.07447781283535784
           ]
          }
         ],
         "name": "frame40"
        },
        {
         "data": [
          {
           "line": {
            "color": "blue",
            "width": 5
           },
           "mode": "lines",
           "type": "scatter3d",
           "x": [
            0,
            -0.4150873009260197
           ],
           "y": [
            0,
            0.9067314621152409
           ],
           "z": [
            0,
            -0.0744351275965133
           ]
          },
          {
           "anchor": "tip",
           "colorscale": [
            [
             0,
             "blue"
            ],
            [
             1,
             "blue"
            ]
           ],
           "showscale": false,
           "sizemode": "absolute",
           "sizeref": 0.3,
           "type": "cone",
           "u": [
            -0.4150873009260197
           ],
           "v": [
            0.9067314621152409
           ],
           "w": [
            -0.0744351275965133
           ],
           "x": [
            -0.4150873009260197
           ],
           "y": [
            0.9067314621152409
           ],
           "z": [
            -0.0744351275965133
           ]
          }
         ],
         "name": "frame50"
        },
        {
         "data": [
          {
           "line": {
            "color": "blue",
            "width": 5
           },
           "mode": "lines",
           "type": "scatter3d",
           "x": [
            0,
            -0.4150871853416531
           ],
           "y": [
            0,
            0.9067315340700552
           ],
           "z": [
            0,
            -0.07443489563443215
           ]
          },
          {
           "anchor": "tip",
           "colorscale": [
            [
             0,
             "blue"
            ],
            [
             1,
             "blue"
            ]
           ],
           "showscale": false,
           "sizemode": "absolute",
           "sizeref": 0.3,
           "type": "cone",
           "u": [
            -0.4150871853416531
           ],
           "v": [
            0.9067315340700552
           ],
           "w": [
            -0.07443489563443215
           ],
           "x": [
            -0.4150871853416531
           ],
           "y": [
            0.9067315340700552
           ],
           "z": [
            -0.07443489563443215
           ]
          }
         ],
         "name": "frame60"
        },
        {
         "data": [
          {
           "line": {
            "color": "blue",
            "width": 5
           },
           "mode": "lines",
           "type": "scatter3d",
           "x": [
            0,
            -0.41476608220724714
           ],
           "y": [
            0,
            0.9068602913847732
           ],
           "z": [
            0,
            -0.07465593720512181
           ]
          },
          {
           "anchor": "tip",
           "colorscale": [
            [
             0,
             "blue"
            ],
            [
             1,
             "blue"
            ]
           ],
           "showscale": false,
           "sizemode": "absolute",
           "sizeref": 0.3,
           "type": "cone",
           "u": [
            -0.41476608220724714
           ],
           "v": [
            0.9068602913847732
           ],
           "w": [
            -0.07465593720512181
           ],
           "x": [
            -0.41476608220724714
           ],
           "y": [
            0.9068602913847732
           ],
           "z": [
            -0.07465593720512181
           ]
          }
         ],
         "name": "frame70"
        },
        {
         "data": [
          {
           "line": {
            "color": "blue",
            "width": 5
           },
           "mode": "lines",
           "type": "scatter3d",
           "x": [
            0,
            -0.41550297212208376
           ],
           "y": [
            0,
            0.906693120028929
           ],
           "z": [
            0,
            -0.07255939808130416
           ]
          },
          {
           "anchor": "tip",
           "colorscale": [
            [
             0,
             "blue"
            ],
            [
             1,
             "blue"
            ]
           ],
           "showscale": false,
           "sizemode": "absolute",
           "sizeref": 0.3,
           "type": "cone",
           "u": [
            -0.41550297212208376
           ],
           "v": [
            0.906693120028929
           ],
           "w": [
            -0.07255939808130416
           ],
           "x": [
            -0.41550297212208376
           ],
           "y": [
            0.906693120028929
           ],
           "z": [
            -0.07255939808130416
           ]
          }
         ],
         "name": "frame80"
        },
        {
         "data": [
          {
           "line": {
            "color": "blue",
            "width": 5
           },
           "mode": "lines",
           "type": "scatter3d",
           "x": [
            0,
            -0.41611791763331935
           ],
           "y": [
            0,
            0.9064309526775367
           ],
           "z": [
            0,
            -0.07231048784652971
           ]
          },
          {
           "anchor": "tip",
           "colorscale": [
            [
             0,
             "blue"
            ],
            [
             1,
             "blue"
            ]
           ],
           "showscale": false,
           "sizemode": "absolute",
           "sizeref": 0.3,
           "type": "cone",
           "u": [
            -0.41611791763331935
           ],
           "v": [
            0.9064309526775367
           ],
           "w": [
            -0.07231048784652971
           ],
           "x": [
            -0.41611791763331935
           ],
           "y": [
            0.9064309526775367
           ],
           "z": [
            -0.07231048784652971
           ]
          }
         ],
         "name": "frame90"
        },
        {
         "data": [
          {
           "line": {
            "color": "blue",
            "width": 5
           },
           "mode": "lines",
           "type": "scatter3d",
           "x": [
            0,
            -0.41567975289595427
           ],
           "y": [
            0,
            0.9065487083606312
           ],
           "z": [
            0,
            -0.07334699995248553
           ]
          },
          {
           "anchor": "tip",
           "colorscale": [
            [
             0,
             "blue"
            ],
            [
             1,
             "blue"
            ]
           ],
           "showscale": false,
           "sizemode": "absolute",
           "sizeref": 0.3,
           "type": "cone",
           "u": [
            -0.41567975289595427
           ],
           "v": [
            0.9065487083606312
           ],
           "w": [
            -0.07334699995248553
           ],
           "x": [
            -0.41567975289595427
           ],
           "y": [
            0.9065487083606312
           ],
           "z": [
            -0.07334699995248553
           ]
          }
         ],
         "name": "frame100"
        },
        {
         "data": [
          {
           "line": {
            "color": "blue",
            "width": 5
           },
           "mode": "lines",
           "type": "scatter3d",
           "x": [
            0,
            -0.4393894658793411
           ],
           "y": [
            0,
            0.8954897549299429
           ],
           "z": [
            0,
            -0.0709577063452485
           ]
          },
          {
           "anchor": "tip",
           "colorscale": [
            [
             0,
             "blue"
            ],
            [
             1,
             "blue"
            ]
           ],
           "showscale": false,
           "sizemode": "absolute",
           "sizeref": 0.3,
           "type": "cone",
           "u": [
            -0.4393894658793411
           ],
           "v": [
            0.8954897549299429
           ],
           "w": [
            -0.0709577063452485
           ],
           "x": [
            -0.4393894658793411
           ],
           "y": [
            0.8954897549299429
           ],
           "z": [
            -0.0709577063452485
           ]
          }
         ],
         "name": "frame110"
        },
        {
         "data": [
          {
           "line": {
            "color": "blue",
            "width": 5
           },
           "mode": "lines",
           "type": "scatter3d",
           "x": [
            0,
            -0.43627792250694725
           ],
           "y": [
            0,
            0.8967074127185497
           ],
           "z": [
            0,
            -0.0746819275904593
           ]
          },
          {
           "anchor": "tip",
           "colorscale": [
            [
             0,
             "blue"
            ],
            [
             1,
             "blue"
            ]
           ],
           "showscale": false,
           "sizemode": "absolute",
           "sizeref": 0.3,
           "type": "cone",
           "u": [
            -0.43627792250694725
           ],
           "v": [
            0.8967074127185497
           ],
           "w": [
            -0.0746819275904593
           ],
           "x": [
            -0.43627792250694725
           ],
           "y": [
            0.8967074127185497
           ],
           "z": [
            -0.0746819275904593
           ]
          }
         ],
         "name": "frame120"
        },
        {
         "data": [
          {
           "line": {
            "color": "blue",
            "width": 5
           },
           "mode": "lines",
           "type": "scatter3d",
           "x": [
            0,
            -0.4363108606650521
           ],
           "y": [
            0,
            0.8966786214524641
           ],
           "z": [
            0,
            -0.0748350365526067
           ]
          },
          {
           "anchor": "tip",
           "colorscale": [
            [
             0,
             "blue"
            ],
            [
             1,
             "blue"
            ]
           ],
           "showscale": false,
           "sizemode": "absolute",
           "sizeref": 0.3,
           "type": "cone",
           "u": [
            -0.4363108606650521
           ],
           "v": [
            0.8966786214524641
           ],
           "w": [
            -0.0748350365526067
           ],
           "x": [
            -0.4363108606650521
           ],
           "y": [
            0.8966786214524641
           ],
           "z": [
            -0.0748350365526067
           ]
          }
         ],
         "name": "frame130"
        },
        {
         "data": [
          {
           "line": {
            "color": "blue",
            "width": 5
           },
           "mode": "lines",
           "type": "scatter3d",
           "x": [
            0,
            -0.4361593508557771
           ],
           "y": [
            0,
            0.896755285944499
           ],
           "z": [
            0,
            -0.07479958416774149
           ]
          },
          {
           "anchor": "tip",
           "colorscale": [
            [
             0,
             "blue"
            ],
            [
             1,
             "blue"
            ]
           ],
           "showscale": false,
           "sizemode": "absolute",
           "sizeref": 0.3,
           "type": "cone",
           "u": [
            -0.4361593508557771
           ],
           "v": [
            0.896755285944499
           ],
           "w": [
            -0.07479958416774149
           ],
           "x": [
            -0.4361593508557771
           ],
           "y": [
            0.896755285944499
           ],
           "z": [
            -0.07479958416774149
           ]
          }
         ],
         "name": "frame140"
        },
        {
         "data": [
          {
           "line": {
            "color": "blue",
            "width": 5
           },
           "mode": "lines",
           "type": "scatter3d",
           "x": [
            0,
            -0.43596993051082444
           ],
           "y": [
            0,
            0.8968322077967291
           ],
           "z": [
            0,
            -0.07498140268647441
           ]
          },
          {
           "anchor": "tip",
           "colorscale": [
            [
             0,
             "blue"
            ],
            [
             1,
             "blue"
            ]
           ],
           "showscale": false,
           "sizemode": "absolute",
           "sizeref": 0.3,
           "type": "cone",
           "u": [
            -0.43596993051082444
           ],
           "v": [
            0.8968322077967291
           ],
           "w": [
            -0.07498140268647441
           ],
           "x": [
            -0.43596993051082444
           ],
           "y": [
            0.8968322077967291
           ],
           "z": [
            -0.07498140268647441
           ]
          }
         ],
         "name": "frame150"
        },
        {
         "data": [
          {
           "line": {
            "color": "blue",
            "width": 5
           },
           "mode": "lines",
           "type": "scatter3d",
           "x": [
            0,
            -0.43596971690890735
           ],
           "y": [
            0,
            0.8968323302232022
           ],
           "z": [
            0,
            -0.07498118033739248
           ]
          },
          {
           "anchor": "tip",
           "colorscale": [
            [
             0,
             "blue"
            ],
            [
             1,
             "blue"
            ]
           ],
           "showscale": false,
           "sizemode": "absolute",
           "sizeref": 0.3,
           "type": "cone",
           "u": [
            -0.43596971690890735
           ],
           "v": [
            0.8968323302232022
           ],
           "w": [
            -0.07498118033739248
           ],
           "x": [
            -0.43596971690890735
           ],
           "y": [
            0.8968323302232022
           ],
           "z": [
            -0.07498118033739248
           ]
          }
         ],
         "name": "frame160"
        },
        {
         "data": [
          {
           "line": {
            "color": "blue",
            "width": 5
           },
           "mode": "lines",
           "type": "scatter3d",
           "x": [
            0,
            -0.2809326364452024
           ],
           "y": [
            0,
            0.9570868693352469
           ],
           "z": [
            0,
            -0.0711447701943296
           ]
          },
          {
           "anchor": "tip",
           "colorscale": [
            [
             0,
             "blue"
            ],
            [
             1,
             "blue"
            ]
           ],
           "showscale": false,
           "sizemode": "absolute",
           "sizeref": 0.3,
           "type": "cone",
           "u": [
            -0.2809326364452024
           ],
           "v": [
            0.9570868693352469
           ],
           "w": [
            -0.0711447701943296
           ],
           "x": [
            -0.2809326364452024
           ],
           "y": [
            0.9570868693352469
           ],
           "z": [
            -0.0711447701943296
           ]
          }
         ],
         "name": "frame170"
        },
        {
         "data": [
          {
           "line": {
            "color": "blue",
            "width": 5
           },
           "mode": "lines",
           "type": "scatter3d",
           "x": [
            0,
            0.12829974709679448
           ],
           "y": [
            0,
            0.9904350858976192
           ],
           "z": [
            0,
            -0.05076923790913057
           ]
          },
          {
           "anchor": "tip",
           "colorscale": [
            [
             0,
             "blue"
            ],
            [
             1,
             "blue"
            ]
           ],
           "showscale": false,
           "sizemode": "absolute",
           "sizeref": 0.3,
           "type": "cone",
           "u": [
            0.12829974709679448
           ],
           "v": [
            0.9904350858976192
           ],
           "w": [
            -0.05076923790913057
           ],
           "x": [
            0.12829974709679448
           ],
           "y": [
            0.9904350858976192
           ],
           "z": [
            -0.05076923790913057
           ]
          }
         ],
         "name": "frame180"
        },
        {
         "data": [
          {
           "line": {
            "color": "blue",
            "width": 5
           },
           "mode": "lines",
           "type": "scatter3d",
           "x": [
            0,
            0.4966978495104535
           ],
           "y": [
            0,
            0.8671715880511341
           ],
           "z": [
            0,
            -0.03612039823375862
           ]
          },
          {
           "anchor": "tip",
           "colorscale": [
            [
             0,
             "blue"
            ],
            [
             1,
             "blue"
            ]
           ],
           "showscale": false,
           "sizemode": "absolute",
           "sizeref": 0.3,
           "type": "cone",
           "u": [
            0.4966978495104535
           ],
           "v": [
            0.8671715880511341
           ],
           "w": [
            -0.03612039823375862
           ],
           "x": [
            0.4966978495104535
           ],
           "y": [
            0.8671715880511341
           ],
           "z": [
            -0.03612039823375862
           ]
          }
         ],
         "name": "frame190"
        },
        {
         "data": [
          {
           "line": {
            "color": "blue",
            "width": 5
           },
           "mode": "lines",
           "type": "scatter3d",
           "x": [
            0,
            0.8026410277770684
           ],
           "y": [
            0,
            0.5961058215833035
           ],
           "z": [
            0,
            -0.020621105777020476
           ]
          },
          {
           "anchor": "tip",
           "colorscale": [
            [
             0,
             "blue"
            ],
            [
             1,
             "blue"
            ]
           ],
           "showscale": false,
           "sizemode": "absolute",
           "sizeref": 0.3,
           "type": "cone",
           "u": [
            0.8026410277770684
           ],
           "v": [
            0.5961058215833035
           ],
           "w": [
            -0.020621105777020476
           ],
           "x": [
            0.8026410277770684
           ],
           "y": [
            0.5961058215833035
           ],
           "z": [
            -0.020621105777020476
           ]
          }
         ],
         "name": "frame200"
        },
        {
         "data": [
          {
           "line": {
            "color": "blue",
            "width": 5
           },
           "mode": "lines",
           "type": "scatter3d",
           "x": [
            0,
            0.9772571930700358
           ],
           "y": [
            0,
            0.21113501934320586
           ],
           "z": [
            0,
            -0.01975809200857881
           ]
          },
          {
           "anchor": "tip",
           "colorscale": [
            [
             0,
             "blue"
            ],
            [
             1,
             "blue"
            ]
           ],
           "showscale": false,
           "sizemode": "absolute",
           "sizeref": 0.3,
           "type": "cone",
           "u": [
            0.9772571930700358
           ],
           "v": [
            0.21113501934320586
           ],
           "w": [
            -0.01975809200857881
           ],
           "x": [
            0.9772571930700358
           ],
           "y": [
            0.21113501934320586
           ],
           "z": [
            -0.01975809200857881
           ]
          }
         ],
         "name": "frame210"
        },
        {
         "data": [
          {
           "line": {
            "color": "blue",
            "width": 5
           },
           "mode": "lines",
           "type": "scatter3d",
           "x": [
            0,
            0.9758468167625489
           ],
           "y": [
            0,
            -0.2169547725006396
           ],
           "z": [
            0,
            -0.025565932480471565
           ]
          },
          {
           "anchor": "tip",
           "colorscale": [
            [
             0,
             "blue"
            ],
            [
             1,
             "blue"
            ]
           ],
           "showscale": false,
           "sizemode": "absolute",
           "sizeref": 0.3,
           "type": "cone",
           "u": [
            0.9758468167625489
           ],
           "v": [
            -0.2169547725006396
           ],
           "w": [
            -0.025565932480471565
           ],
           "x": [
            0.9758468167625489
           ],
           "y": [
            -0.2169547725006396
           ],
           "z": [
            -0.025565932480471565
           ]
          }
         ],
         "name": "frame220"
        },
        {
         "data": [
          {
           "line": {
            "color": "blue",
            "width": 5
           },
           "mode": "lines",
           "type": "scatter3d",
           "x": [
            0,
            0.8032171834563482
           ],
           "y": [
            0,
            -0.5947839031082589
           ],
           "z": [
            0,
            -0.0327759790663249
           ]
          },
          {
           "anchor": "tip",
           "colorscale": [
            [
             0,
             "blue"
            ],
            [
             1,
             "blue"
            ]
           ],
           "showscale": false,
           "sizemode": "absolute",
           "sizeref": 0.3,
           "type": "cone",
           "u": [
            0.8032171834563482
           ],
           "v": [
            -0.5947839031082589
           ],
           "w": [
            -0.0327759790663249
           ],
           "x": [
            0.8032171834563482
           ],
           "y": [
            -0.5947839031082589
           ],
           "z": [
            -0.0327759790663249
           ]
          }
         ],
         "name": "frame230"
        },
        {
         "data": [
          {
           "line": {
            "color": "blue",
            "width": 5
           },
           "mode": "lines",
           "type": "scatter3d",
           "x": [
            0,
            0.5205656513381643
           ],
           "y": [
            0,
            -0.8529107642122025
           ],
           "z": [
            0,
            -0.039428808475906574
           ]
          },
          {
           "anchor": "tip",
           "colorscale": [
            [
             0,
             "blue"
            ],
            [
             1,
             "blue"
            ]
           ],
           "showscale": false,
           "sizemode": "absolute",
           "sizeref": 0.3,
           "type": "cone",
           "u": [
            0.5205656513381643
           ],
           "v": [
            -0.8529107642122025
           ],
           "w": [
            -0.039428808475906574
           ],
           "x": [
            0.5205656513381643
           ],
           "y": [
            -0.8529107642122025
           ],
           "z": [
            -0.039428808475906574
           ]
          }
         ],
         "name": "frame240"
        },
        {
         "data": [
          {
           "line": {
            "color": "blue",
            "width": 5
           },
           "mode": "lines",
           "type": "scatter3d",
           "x": [
            0,
            0.43673947758111764
           ],
           "y": [
            0,
            -0.8985235107099767
           ],
           "z": [
            0,
            -0.043750764834350586
           ]
          },
          {
           "anchor": "tip",
           "colorscale": [
            [
             0,
             "blue"
            ],
            [
             1,
             "blue"
            ]
           ],
           "showscale": false,
           "sizemode": "absolute",
           "sizeref": 0.3,
           "type": "cone",
           "u": [
            0.43673947758111764
           ],
           "v": [
            -0.8985235107099767
           ],
           "w": [
            -0.043750764834350586
           ],
           "x": [
            0.43673947758111764
           ],
           "y": [
            -0.8985235107099767
           ],
           "z": [
            -0.043750764834350586
           ]
          }
         ],
         "name": "frame250"
        },
        {
         "data": [
          {
           "line": {
            "color": "blue",
            "width": 5
           },
           "mode": "lines",
           "type": "scatter3d",
           "x": [
            0,
            0.43622840719642614
           ],
           "y": [
            0,
            -0.8985245176372774
           ],
           "z": [
            0,
            -0.04856406036944738
           ]
          },
          {
           "anchor": "tip",
           "colorscale": [
            [
             0,
             "blue"
            ],
            [
             1,
             "blue"
            ]
           ],
           "showscale": false,
           "sizemode": "absolute",
           "sizeref": 0.3,
           "type": "cone",
           "u": [
            0.43622840719642614
           ],
           "v": [
            -0.8985245176372774
           ],
           "w": [
            -0.04856406036944738
           ],
           "x": [
            0.43622840719642614
           ],
           "y": [
            -0.8985245176372774
           ],
           "z": [
            -0.04856406036944738
           ]
          }
         ],
         "name": "frame260"
        },
        {
         "data": [
          {
           "line": {
            "color": "blue",
            "width": 5
           },
           "mode": "lines",
           "type": "scatter3d",
           "x": [
            0,
            0.5675822376722759
           ],
           "y": [
            0,
            -0.8213175389909272
           ],
           "z": [
            0,
            -0.057340244373556226
           ]
          },
          {
           "anchor": "tip",
           "colorscale": [
            [
             0,
             "blue"
            ],
            [
             1,
             "blue"
            ]
           ],
           "showscale": false,
           "sizemode": "absolute",
           "sizeref": 0.3,
           "type": "cone",
           "u": [
            0.5675822376722759
           ],
           "v": [
            -0.8213175389909272
           ],
           "w": [
            -0.057340244373556226
           ],
           "x": [
            0.5675822376722759
           ],
           "y": [
            -0.8213175389909272
           ],
           "z": [
            -0.057340244373556226
           ]
          }
         ],
         "name": "frame270"
        },
        {
         "data": [
          {
           "line": {
            "color": "blue",
            "width": 5
           },
           "mode": "lines",
           "type": "scatter3d",
           "x": [
            0,
            0.8473526368362826
           ],
           "y": [
            0,
            -0.5268737016498781
           ],
           "z": [
            0,
            -0.06631448828388997
           ]
          },
          {
           "anchor": "tip",
           "colorscale": [
            [
             0,
             "blue"
            ],
            [
             1,
             "blue"
            ]
           ],
           "showscale": false,
           "sizemode": "absolute",
           "sizeref": 0.3,
           "type": "cone",
           "u": [
            0.8473526368362826
           ],
           "v": [
            -0.5268737016498781
           ],
           "w": [
            -0.06631448828388997
           ],
           "x": [
            0.8473526368362826
           ],
           "y": [
            -0.5268737016498781
           ],
           "z": [
            -0.06631448828388997
           ]
          }
         ],
         "name": "frame280"
        },
        {
         "data": [
          {
           "line": {
            "color": "blue",
            "width": 5
           },
           "mode": "lines",
           "type": "scatter3d",
           "x": [
            0,
            0.9885129277512826
           ],
           "y": [
            0,
            -0.13189160565208505
           ],
           "z": [
            0,
            -0.07380241206832239
           ]
          },
          {
           "anchor": "tip",
           "colorscale": [
            [
             0,
             "blue"
            ],
            [
             1,
             "blue"
            ]
           ],
           "showscale": false,
           "sizemode": "absolute",
           "sizeref": 0.3,
           "type": "cone",
           "u": [
            0.9885129277512826
           ],
           "v": [
            -0.13189160565208505
           ],
           "w": [
            -0.07380241206832239
           ],
           "x": [
            0.9885129277512826
           ],
           "y": [
            -0.13189160565208505
           ],
           "z": [
            -0.07380241206832239
           ]
          }
         ],
         "name": "frame290"
        },
        {
         "data": [
          {
           "line": {
            "color": "blue",
            "width": 5
           },
           "mode": "lines",
           "type": "scatter3d",
           "x": [
            0,
            0.950449315007667
           ],
           "y": [
            0,
            0.29915618968403845
           ],
           "z": [
            0,
            -0.08456756928742826
           ]
          },
          {
           "anchor": "tip",
           "colorscale": [
            [
             0,
             "blue"
            ],
            [
             1,
             "blue"
            ]
           ],
           "showscale": false,
           "sizemode": "absolute",
           "sizeref": 0.3,
           "type": "cone",
           "u": [
            0.950449315007667
           ],
           "v": [
            0.29915618968403845
           ],
           "w": [
            -0.08456756928742826
           ],
           "x": [
            0.950449315007667
           ],
           "y": [
            0.29915618968403845
           ],
           "z": [
            -0.08456756928742826
           ]
          }
         ],
         "name": "frame300"
        },
        {
         "data": [
          {
           "line": {
            "color": "blue",
            "width": 5
           },
           "mode": "lines",
           "type": "scatter3d",
           "x": [
            0,
            0.7588931904186764
           ],
           "y": [
            0,
            0.6452217539096445
           ],
           "z": [
            0,
            -0.0881476818635914
           ]
          },
          {
           "anchor": "tip",
           "colorscale": [
            [
             0,
             "blue"
            ],
            [
             1,
             "blue"
            ]
           ],
           "showscale": false,
           "sizemode": "absolute",
           "sizeref": 0.3,
           "type": "cone",
           "u": [
            0.7588931904186764
           ],
           "v": [
            0.6452217539096445
           ],
           "w": [
            -0.0881476818635914
           ],
           "x": [
            0.7588931904186764
           ],
           "y": [
            0.6452217539096445
           ],
           "z": [
            -0.0881476818635914
           ]
          }
         ],
         "name": "frame310"
        },
        {
         "data": [
          {
           "line": {
            "color": "blue",
            "width": 5
           },
           "mode": "lines",
           "type": "scatter3d",
           "x": [
            0,
            0.44298752260036206
           ],
           "y": [
            0,
            0.89114971255733
           ],
           "z": [
            0,
            -0.09805225458591865
           ]
          },
          {
           "anchor": "tip",
           "colorscale": [
            [
             0,
             "blue"
            ],
            [
             1,
             "blue"
            ]
           ],
           "showscale": false,
           "sizemode": "absolute",
           "sizeref": 0.3,
           "type": "cone",
           "u": [
            0.44298752260036206
           ],
           "v": [
            0.89114971255733
           ],
           "w": [
            -0.09805225458591865
           ],
           "x": [
            0.44298752260036206
           ],
           "y": [
            0.89114971255733
           ],
           "z": [
            -0.09805225458591865
           ]
          }
         ],
         "name": "frame320"
        },
        {
         "data": [
          {
           "line": {
            "color": "blue",
            "width": 5
           },
           "mode": "lines",
           "type": "scatter3d",
           "x": [
            0,
            0.042137823043336464
           ],
           "y": [
            0,
            0.993633728615589
           ],
           "z": [
            0,
            -0.10448165976213472
           ]
          },
          {
           "anchor": "tip",
           "colorscale": [
            [
             0,
             "blue"
            ],
            [
             1,
             "blue"
            ]
           ],
           "showscale": false,
           "sizemode": "absolute",
           "sizeref": 0.3,
           "type": "cone",
           "u": [
            0.042137823043336464
           ],
           "v": [
            0.993633728615589
           ],
           "w": [
            -0.10448165976213472
           ],
           "x": [
            0.042137823043336464
           ],
           "y": [
            0.993633728615589
           ],
           "z": [
            -0.10448165976213472
           ]
          }
         ],
         "name": "frame330"
        },
        {
         "data": [
          {
           "line": {
            "color": "blue",
            "width": 5
           },
           "mode": "lines",
           "type": "scatter3d",
           "x": [
            0,
            -0.3703116451000088
           ],
           "y": [
            0,
            0.9228533273734505
           ],
           "z": [
            0,
            -0.10588211208261711
           ]
          },
          {
           "anchor": "tip",
           "colorscale": [
            [
             0,
             "blue"
            ],
            [
             1,
             "blue"
            ]
           ],
           "showscale": false,
           "sizemode": "absolute",
           "sizeref": 0.3,
           "type": "cone",
           "u": [
            -0.3703116451000088
           ],
           "v": [
            0.9228533273734505
           ],
           "w": [
            -0.10588211208261711
           ],
           "x": [
            -0.3703116451000088
           ],
           "y": [
            0.9228533273734505
           ],
           "z": [
            -0.10588211208261711
           ]
          }
         ],
         "name": "frame340"
        },
        {
         "data": [
          {
           "line": {
            "color": "blue",
            "width": 5
           },
           "mode": "lines",
           "type": "scatter3d",
           "x": [
            0,
            -0.43619079612519096
           ],
           "y": [
            0,
            0.8947157865497031
           ],
           "z": [
            0,
            -0.09602734336853
           ]
          },
          {
           "anchor": "tip",
           "colorscale": [
            [
             0,
             "blue"
            ],
            [
             1,
             "blue"
            ]
           ],
           "showscale": false,
           "sizemode": "absolute",
           "sizeref": 0.3,
           "type": "cone",
           "u": [
            -0.43619079612519096
           ],
           "v": [
            0.8947157865497031
           ],
           "w": [
            -0.09602734336853
           ],
           "x": [
            -0.43619079612519096
           ],
           "y": [
            0.8947157865497031
           ],
           "z": [
            -0.09602734336853
           ]
          }
         ],
         "name": "frame350"
        },
        {
         "data": [
          {
           "line": {
            "color": "blue",
            "width": 5
           },
           "mode": "lines",
           "type": "scatter3d",
           "x": [
            0,
            -0.43575859181736476
           ],
           "y": [
            0,
            0.8955645116894315
           ],
           "z": [
            0,
            -0.0898813387740602
           ]
          },
          {
           "anchor": "tip",
           "colorscale": [
            [
             0,
             "blue"
            ],
            [
             1,
             "blue"
            ]
           ],
           "showscale": false,
           "sizemode": "absolute",
           "sizeref": 0.3,
           "type": "cone",
           "u": [
            -0.43575859181736476
           ],
           "v": [
            0.8955645116894315
           ],
           "w": [
            -0.0898813387740602
           ],
           "x": [
            -0.43575859181736476
           ],
           "y": [
            0.8955645116894315
           ],
           "z": [
            -0.0898813387740602
           ]
          }
         ],
         "name": "frame360"
        },
        {
         "data": [
          {
           "line": {
            "color": "blue",
            "width": 5
           },
           "mode": "lines",
           "type": "scatter3d",
           "x": [
            0,
            -0.43547469025866525
           ],
           "y": [
            0,
            0.8960124664814209
           ],
           "z": [
            0,
            -0.08673784672217871
           ]
          },
          {
           "anchor": "tip",
           "colorscale": [
            [
             0,
             "blue"
            ],
            [
             1,
             "blue"
            ]
           ],
           "showscale": false,
           "sizemode": "absolute",
           "sizeref": 0.3,
           "type": "cone",
           "u": [
            -0.43547469025866525
           ],
           "v": [
            0.8960124664814209
           ],
           "w": [
            -0.08673784672217871
           ],
           "x": [
            -0.43547469025866525
           ],
           "y": [
            0.8960124664814209
           ],
           "z": [
            -0.08673784672217871
           ]
          }
         ],
         "name": "frame370"
        },
        {
         "data": [
          {
           "line": {
            "color": "blue",
            "width": 5
           },
           "mode": "lines",
           "type": "scatter3d",
           "x": [
            0,
            -0.4353844721381233
           ],
           "y": [
            0,
            0.896254884405474
           ],
           "z": [
            0,
            -0.0846613465540121
           ]
          },
          {
           "anchor": "tip",
           "colorscale": [
            [
             0,
             "blue"
            ],
            [
             1,
             "blue"
            ]
           ],
           "showscale": false,
           "sizemode": "absolute",
           "sizeref": 0.3,
           "type": "cone",
           "u": [
            -0.4353844721381233
           ],
           "v": [
            0.896254884405474
           ],
           "w": [
            -0.0846613465540121
           ],
           "x": [
            -0.4353844721381233
           ],
           "y": [
            0.896254884405474
           ],
           "z": [
            -0.0846613465540121
           ]
          }
         ],
         "name": "frame380"
        },
        {
         "data": [
          {
           "line": {
            "color": "blue",
            "width": 5
           },
           "mode": "lines",
           "type": "scatter3d",
           "x": [
            0,
            -0.43530783642823656
           ],
           "y": [
            0,
            0.8963762283765457
           ],
           "z": [
            0,
            -0.08376601187597832
           ]
          },
          {
           "anchor": "tip",
           "colorscale": [
            [
             0,
             "blue"
            ],
            [
             1,
             "blue"
            ]
           ],
           "showscale": false,
           "sizemode": "absolute",
           "sizeref": 0.3,
           "type": "cone",
           "u": [
            -0.43530783642823656
           ],
           "v": [
            0.8963762283765457
           ],
           "w": [
            -0.08376601187597832
           ],
           "x": [
            -0.43530783642823656
           ],
           "y": [
            0.8963762283765457
           ],
           "z": [
            -0.08376601187597832
           ]
          }
         ],
         "name": "frame390"
        },
        {
         "data": [
          {
           "line": {
            "color": "blue",
            "width": 5
           },
           "mode": "lines",
           "type": "scatter3d",
           "x": [
            0,
            -0.4353428977400154
           ],
           "y": [
            0,
            0.8963539676822396
           ],
           "z": [
            0,
            -0.08382199000043408
           ]
          },
          {
           "anchor": "tip",
           "colorscale": [
            [
             0,
             "blue"
            ],
            [
             1,
             "blue"
            ]
           ],
           "showscale": false,
           "sizemode": "absolute",
           "sizeref": 0.3,
           "type": "cone",
           "u": [
            -0.4353428977400154
           ],
           "v": [
            0.8963539676822396
           ],
           "w": [
            -0.08382199000043408
           ],
           "x": [
            -0.4353428977400154
           ],
           "y": [
            0.8963539676822396
           ],
           "z": [
            -0.08382199000043408
           ]
          }
         ],
         "name": "frame400"
        },
        {
         "data": [
          {
           "line": {
            "color": "blue",
            "width": 5
           },
           "mode": "lines",
           "type": "scatter3d",
           "x": [
            0,
            -0.43534523871272485
           ],
           "y": [
            0,
            0.8963517013669053
           ],
           "z": [
            0,
            -0.08383406578959754
           ]
          },
          {
           "anchor": "tip",
           "colorscale": [
            [
             0,
             "blue"
            ],
            [
             1,
             "blue"
            ]
           ],
           "showscale": false,
           "sizemode": "absolute",
           "sizeref": 0.3,
           "type": "cone",
           "u": [
            -0.43534523871272485
           ],
           "v": [
            0.8963517013669053
           ],
           "w": [
            -0.08383406578959754
           ],
           "x": [
            -0.43534523871272485
           ],
           "y": [
            0.8963517013669053
           ],
           "z": [
            -0.08383406578959754
           ]
          }
         ],
         "name": "frame410"
        },
        {
         "data": [
          {
           "line": {
            "color": "blue",
            "width": 5
           },
           "mode": "lines",
           "type": "scatter3d",
           "x": [
            0,
            -0.43523060136314257
           ],
           "y": [
            0,
            0.8964130988981593
           ],
           "z": [
            0,
            -0.08377278651731893
           ]
          },
          {
           "anchor": "tip",
           "colorscale": [
            [
             0,
             "blue"
            ],
            [
             1,
             "blue"
            ]
           ],
           "showscale": false,
           "sizemode": "absolute",
           "sizeref": 0.3,
           "type": "cone",
           "u": [
            -0.43523060136314257
           ],
           "v": [
            0.8964130988981593
           ],
           "w": [
            -0.08377278651731893
           ],
           "x": [
            -0.43523060136314257
           ],
           "y": [
            0.8964130988981593
           ],
           "z": [
            -0.08377278651731893
           ]
          }
         ],
         "name": "frame420"
        },
        {
         "data": [
          {
           "line": {
            "color": "blue",
            "width": 5
           },
           "mode": "lines",
           "type": "scatter3d",
           "x": [
            0,
            -0.4352300721540561
           ],
           "y": [
            0,
            0.8964133914216357
           ],
           "z": [
            0,
            -0.08377240579532505
           ]
          },
          {
           "anchor": "tip",
           "colorscale": [
            [
             0,
             "blue"
            ],
            [
             1,
             "blue"
            ]
           ],
           "showscale": false,
           "sizemode": "absolute",
           "sizeref": 0.3,
           "type": "cone",
           "u": [
            -0.4352300721540561
           ],
           "v": [
            0.8964133914216357
           ],
           "w": [
            -0.08377240579532505
           ],
           "x": [
            -0.4352300721540561
           ],
           "y": [
            0.8964133914216357
           ],
           "z": [
            -0.08377240579532505
           ]
          }
         ],
         "name": "frame430"
        },
        {
         "data": [
          {
           "line": {
            "color": "blue",
            "width": 5
           },
           "mode": "lines",
           "type": "scatter3d",
           "x": [
            0,
            -0.4352300721191241
           ],
           "y": [
            0,
            0.896413391440944
           ],
           "z": [
            0,
            -0.08377240577019893
           ]
          },
          {
           "anchor": "tip",
           "colorscale": [
            [
             0,
             "blue"
            ],
            [
             1,
             "blue"
            ]
           ],
           "showscale": false,
           "sizemode": "absolute",
           "sizeref": 0.3,
           "type": "cone",
           "u": [
            -0.4352300721191241
           ],
           "v": [
            0.896413391440944
           ],
           "w": [
            -0.08377240577019893
           ],
           "x": [
            -0.4352300721191241
           ],
           "y": [
            0.896413391440944
           ],
           "z": [
            -0.08377240577019893
           ]
          }
         ],
         "name": "frame440"
        },
        {
         "data": [
          {
           "line": {
            "color": "blue",
            "width": 5
           },
           "mode": "lines",
           "type": "scatter3d",
           "x": [
            0,
            -0.4352300721190529
           ],
           "y": [
            0,
            0.8964133914409843
           ],
           "z": [
            0,
            -0.08377240577013842
           ]
          },
          {
           "anchor": "tip",
           "colorscale": [
            [
             0,
             "blue"
            ],
            [
             1,
             "blue"
            ]
           ],
           "showscale": false,
           "sizemode": "absolute",
           "sizeref": 0.3,
           "type": "cone",
           "u": [
            -0.4352300721190529
           ],
           "v": [
            0.8964133914409843
           ],
           "w": [
            -0.08377240577013842
           ],
           "x": [
            -0.4352300721190529
           ],
           "y": [
            0.8964133914409843
           ],
           "z": [
            -0.08377240577013842
           ]
          }
         ],
         "name": "frame450"
        }
       ],
       "layout": {
        "scene": {
         "xaxis": {
          "range": [
           -1,
           1
          ],
          "title": {
           "text": "X"
          }
         },
         "yaxis": {
          "range": [
           -1,
           1
          ],
          "title": {
           "text": "Y"
          }
         },
         "zaxis": {
          "range": [
           -1,
           1
          ],
          "title": {
           "text": "Z"
          }
         }
        },
        "sliders": [
         {
          "currentvalue": {
           "font": {
            "size": 20
           },
           "prefix": "Time: "
          },
          "pad": {
           "t": 50
          },
          "steps": [
           {
            "args": [
             [
              "frame0"
             ],
             {
              "frame": {
               "duration": 50,
               "redraw": true
              },
              "mode": "immediate"
             }
            ],
            "method": "animate"
           },
           {
            "args": [
             [
              "frame10"
             ],
             {
              "frame": {
               "duration": 50,
               "redraw": true
              },
              "mode": "immediate"
             }
            ],
            "method": "animate"
           },
           {
            "args": [
             [
              "frame20"
             ],
             {
              "frame": {
               "duration": 50,
               "redraw": true
              },
              "mode": "immediate"
             }
            ],
            "method": "animate"
           },
           {
            "args": [
             [
              "frame30"
             ],
             {
              "frame": {
               "duration": 50,
               "redraw": true
              },
              "mode": "immediate"
             }
            ],
            "method": "animate"
           },
           {
            "args": [
             [
              "frame40"
             ],
             {
              "frame": {
               "duration": 50,
               "redraw": true
              },
              "mode": "immediate"
             }
            ],
            "method": "animate"
           },
           {
            "args": [
             [
              "frame50"
             ],
             {
              "frame": {
               "duration": 50,
               "redraw": true
              },
              "mode": "immediate"
             }
            ],
            "method": "animate"
           },
           {
            "args": [
             [
              "frame60"
             ],
             {
              "frame": {
               "duration": 50,
               "redraw": true
              },
              "mode": "immediate"
             }
            ],
            "method": "animate"
           },
           {
            "args": [
             [
              "frame70"
             ],
             {
              "frame": {
               "duration": 50,
               "redraw": true
              },
              "mode": "immediate"
             }
            ],
            "method": "animate"
           },
           {
            "args": [
             [
              "frame80"
             ],
             {
              "frame": {
               "duration": 50,
               "redraw": true
              },
              "mode": "immediate"
             }
            ],
            "method": "animate"
           },
           {
            "args": [
             [
              "frame90"
             ],
             {
              "frame": {
               "duration": 50,
               "redraw": true
              },
              "mode": "immediate"
             }
            ],
            "method": "animate"
           },
           {
            "args": [
             [
              "frame100"
             ],
             {
              "frame": {
               "duration": 50,
               "redraw": true
              },
              "mode": "immediate"
             }
            ],
            "method": "animate"
           },
           {
            "args": [
             [
              "frame110"
             ],
             {
              "frame": {
               "duration": 50,
               "redraw": true
              },
              "mode": "immediate"
             }
            ],
            "method": "animate"
           },
           {
            "args": [
             [
              "frame120"
             ],
             {
              "frame": {
               "duration": 50,
               "redraw": true
              },
              "mode": "immediate"
             }
            ],
            "method": "animate"
           },
           {
            "args": [
             [
              "frame130"
             ],
             {
              "frame": {
               "duration": 50,
               "redraw": true
              },
              "mode": "immediate"
             }
            ],
            "method": "animate"
           },
           {
            "args": [
             [
              "frame140"
             ],
             {
              "frame": {
               "duration": 50,
               "redraw": true
              },
              "mode": "immediate"
             }
            ],
            "method": "animate"
           },
           {
            "args": [
             [
              "frame150"
             ],
             {
              "frame": {
               "duration": 50,
               "redraw": true
              },
              "mode": "immediate"
             }
            ],
            "method": "animate"
           },
           {
            "args": [
             [
              "frame160"
             ],
             {
              "frame": {
               "duration": 50,
               "redraw": true
              },
              "mode": "immediate"
             }
            ],
            "method": "animate"
           },
           {
            "args": [
             [
              "frame170"
             ],
             {
              "frame": {
               "duration": 50,
               "redraw": true
              },
              "mode": "immediate"
             }
            ],
            "method": "animate"
           },
           {
            "args": [
             [
              "frame180"
             ],
             {
              "frame": {
               "duration": 50,
               "redraw": true
              },
              "mode": "immediate"
             }
            ],
            "method": "animate"
           },
           {
            "args": [
             [
              "frame190"
             ],
             {
              "frame": {
               "duration": 50,
               "redraw": true
              },
              "mode": "immediate"
             }
            ],
            "method": "animate"
           },
           {
            "args": [
             [
              "frame200"
             ],
             {
              "frame": {
               "duration": 50,
               "redraw": true
              },
              "mode": "immediate"
             }
            ],
            "method": "animate"
           },
           {
            "args": [
             [
              "frame210"
             ],
             {
              "frame": {
               "duration": 50,
               "redraw": true
              },
              "mode": "immediate"
             }
            ],
            "method": "animate"
           },
           {
            "args": [
             [
              "frame220"
             ],
             {
              "frame": {
               "duration": 50,
               "redraw": true
              },
              "mode": "immediate"
             }
            ],
            "method": "animate"
           },
           {
            "args": [
             [
              "frame230"
             ],
             {
              "frame": {
               "duration": 50,
               "redraw": true
              },
              "mode": "immediate"
             }
            ],
            "method": "animate"
           },
           {
            "args": [
             [
              "frame240"
             ],
             {
              "frame": {
               "duration": 50,
               "redraw": true
              },
              "mode": "immediate"
             }
            ],
            "method": "animate"
           },
           {
            "args": [
             [
              "frame250"
             ],
             {
              "frame": {
               "duration": 50,
               "redraw": true
              },
              "mode": "immediate"
             }
            ],
            "method": "animate"
           },
           {
            "args": [
             [
              "frame260"
             ],
             {
              "frame": {
               "duration": 50,
               "redraw": true
              },
              "mode": "immediate"
             }
            ],
            "method": "animate"
           },
           {
            "args": [
             [
              "frame270"
             ],
             {
              "frame": {
               "duration": 50,
               "redraw": true
              },
              "mode": "immediate"
             }
            ],
            "method": "animate"
           },
           {
            "args": [
             [
              "frame280"
             ],
             {
              "frame": {
               "duration": 50,
               "redraw": true
              },
              "mode": "immediate"
             }
            ],
            "method": "animate"
           },
           {
            "args": [
             [
              "frame290"
             ],
             {
              "frame": {
               "duration": 50,
               "redraw": true
              },
              "mode": "immediate"
             }
            ],
            "method": "animate"
           },
           {
            "args": [
             [
              "frame300"
             ],
             {
              "frame": {
               "duration": 50,
               "redraw": true
              },
              "mode": "immediate"
             }
            ],
            "method": "animate"
           },
           {
            "args": [
             [
              "frame310"
             ],
             {
              "frame": {
               "duration": 50,
               "redraw": true
              },
              "mode": "immediate"
             }
            ],
            "method": "animate"
           },
           {
            "args": [
             [
              "frame320"
             ],
             {
              "frame": {
               "duration": 50,
               "redraw": true
              },
              "mode": "immediate"
             }
            ],
            "method": "animate"
           },
           {
            "args": [
             [
              "frame330"
             ],
             {
              "frame": {
               "duration": 50,
               "redraw": true
              },
              "mode": "immediate"
             }
            ],
            "method": "animate"
           },
           {
            "args": [
             [
              "frame340"
             ],
             {
              "frame": {
               "duration": 50,
               "redraw": true
              },
              "mode": "immediate"
             }
            ],
            "method": "animate"
           },
           {
            "args": [
             [
              "frame350"
             ],
             {
              "frame": {
               "duration": 50,
               "redraw": true
              },
              "mode": "immediate"
             }
            ],
            "method": "animate"
           },
           {
            "args": [
             [
              "frame360"
             ],
             {
              "frame": {
               "duration": 50,
               "redraw": true
              },
              "mode": "immediate"
             }
            ],
            "method": "animate"
           },
           {
            "args": [
             [
              "frame370"
             ],
             {
              "frame": {
               "duration": 50,
               "redraw": true
              },
              "mode": "immediate"
             }
            ],
            "method": "animate"
           },
           {
            "args": [
             [
              "frame380"
             ],
             {
              "frame": {
               "duration": 50,
               "redraw": true
              },
              "mode": "immediate"
             }
            ],
            "method": "animate"
           },
           {
            "args": [
             [
              "frame390"
             ],
             {
              "frame": {
               "duration": 50,
               "redraw": true
              },
              "mode": "immediate"
             }
            ],
            "method": "animate"
           },
           {
            "args": [
             [
              "frame400"
             ],
             {
              "frame": {
               "duration": 50,
               "redraw": true
              },
              "mode": "immediate"
             }
            ],
            "method": "animate"
           },
           {
            "args": [
             [
              "frame410"
             ],
             {
              "frame": {
               "duration": 50,
               "redraw": true
              },
              "mode": "immediate"
             }
            ],
            "method": "animate"
           },
           {
            "args": [
             [
              "frame420"
             ],
             {
              "frame": {
               "duration": 50,
               "redraw": true
              },
              "mode": "immediate"
             }
            ],
            "method": "animate"
           },
           {
            "args": [
             [
              "frame430"
             ],
             {
              "frame": {
               "duration": 50,
               "redraw": true
              },
              "mode": "immediate"
             }
            ],
            "method": "animate"
           },
           {
            "args": [
             [
              "frame440"
             ],
             {
              "frame": {
               "duration": 50,
               "redraw": true
              },
              "mode": "immediate"
             }
            ],
            "method": "animate"
           },
           {
            "args": [
             [
              "frame450"
             ],
             {
              "frame": {
               "duration": 50,
               "redraw": true
              },
              "mode": "immediate"
             }
            ],
            "method": "animate"
           }
          ]
         }
        ],
        "template": {
         "data": {
          "candlestick": [
           {
            "decreasing": {
             "line": {
              "color": "#000033"
             }
            },
            "increasing": {
             "line": {
              "color": "#000032"
             }
            },
            "type": "candlestick"
           }
          ],
          "contour": [
           {
            "colorscale": [
             [
              0,
              "#000011"
             ],
             [
              0.1111111111111111,
              "#000012"
             ],
             [
              0.2222222222222222,
              "#000013"
             ],
             [
              0.3333333333333333,
              "#000014"
             ],
             [
              0.4444444444444444,
              "#000015"
             ],
             [
              0.5555555555555556,
              "#000016"
             ],
             [
              0.6666666666666666,
              "#000017"
             ],
             [
              0.7777777777777778,
              "#000018"
             ],
             [
              0.8888888888888888,
              "#000019"
             ],
             [
              1,
              "#000020"
             ]
            ],
            "type": "contour"
           }
          ],
          "contourcarpet": [
           {
            "colorscale": [
             [
              0,
              "#000011"
             ],
             [
              0.1111111111111111,
              "#000012"
             ],
             [
              0.2222222222222222,
              "#000013"
             ],
             [
              0.3333333333333333,
              "#000014"
             ],
             [
              0.4444444444444444,
              "#000015"
             ],
             [
              0.5555555555555556,
              "#000016"
             ],
             [
              0.6666666666666666,
              "#000017"
             ],
             [
              0.7777777777777778,
              "#000018"
             ],
             [
              0.8888888888888888,
              "#000019"
             ],
             [
              1,
              "#000020"
             ]
            ],
            "type": "contourcarpet"
           }
          ],
          "heatmap": [
           {
            "colorscale": [
             [
              0,
              "#000011"
             ],
             [
              0.1111111111111111,
              "#000012"
             ],
             [
              0.2222222222222222,
              "#000013"
             ],
             [
              0.3333333333333333,
              "#000014"
             ],
             [
              0.4444444444444444,
              "#000015"
             ],
             [
              0.5555555555555556,
              "#000016"
             ],
             [
              0.6666666666666666,
              "#000017"
             ],
             [
              0.7777777777777778,
              "#000018"
             ],
             [
              0.8888888888888888,
              "#000019"
             ],
             [
              1,
              "#000020"
             ]
            ],
            "type": "heatmap"
           }
          ],
          "histogram2d": [
           {
            "colorscale": [
             [
              0,
              "#000011"
             ],
             [
              0.1111111111111111,
              "#000012"
             ],
             [
              0.2222222222222222,
              "#000013"
             ],
             [
              0.3333333333333333,
              "#000014"
             ],
             [
              0.4444444444444444,
              "#000015"
             ],
             [
              0.5555555555555556,
              "#000016"
             ],
             [
              0.6666666666666666,
              "#000017"
             ],
             [
              0.7777777777777778,
              "#000018"
             ],
             [
              0.8888888888888888,
              "#000019"
             ],
             [
              1,
              "#000020"
             ]
            ],
            "type": "histogram2d"
           }
          ],
          "icicle": [
           {
            "textfont": {
             "color": "white"
            },
            "type": "icicle"
           }
          ],
          "sankey": [
           {
            "textfont": {
             "color": "#000036"
            },
            "type": "sankey"
           }
          ],
          "scatter": [
           {
            "marker": {
             "line": {
              "width": 0
             }
            },
            "type": "scatter"
           }
          ],
          "table": [
           {
            "cells": {
             "fill": {
              "color": "#000038"
             },
             "font": {
              "color": "#000037"
             },
             "line": {
              "color": "#000039"
             }
            },
            "header": {
             "fill": {
              "color": "#000040"
             },
             "font": {
              "color": "#000036"
             },
             "line": {
              "color": "#000039"
             }
            },
            "type": "table"
           }
          ],
          "waterfall": [
           {
            "connector": {
             "line": {
              "color": "#000036",
              "width": 2
             }
            },
            "decreasing": {
             "marker": {
              "color": "#000033"
             }
            },
            "increasing": {
             "marker": {
              "color": "#000032"
             }
            },
            "totals": {
             "marker": {
              "color": "#000034"
             }
            },
            "type": "waterfall"
           }
          ]
         },
         "layout": {
          "coloraxis": {
           "colorscale": [
            [
             0,
             "#000011"
            ],
            [
             0.1111111111111111,
             "#000012"
            ],
            [
             0.2222222222222222,
             "#000013"
            ],
            [
             0.3333333333333333,
             "#000014"
            ],
            [
             0.4444444444444444,
             "#000015"
            ],
            [
             0.5555555555555556,
             "#000016"
            ],
            [
             0.6666666666666666,
             "#000017"
            ],
            [
             0.7777777777777778,
             "#000018"
            ],
            [
             0.8888888888888888,
             "#000019"
            ],
            [
             1,
             "#000020"
            ]
           ]
          },
          "colorscale": {
           "diverging": [
            [
             0,
             "#000021"
            ],
            [
             0.1,
             "#000022"
            ],
            [
             0.2,
             "#000023"
            ],
            [
             0.3,
             "#000024"
            ],
            [
             0.4,
             "#000025"
            ],
            [
             0.5,
             "#000026"
            ],
            [
             0.6,
             "#000027"
            ],
            [
             0.7,
             "#000028"
            ],
            [
             0.8,
             "#000029"
            ],
            [
             0.9,
             "#000030"
            ],
            [
             1,
             "#000031"
            ]
           ],
           "sequential": [
            [
             0,
             "#000011"
            ],
            [
             0.1111111111111111,
             "#000012"
            ],
            [
             0.2222222222222222,
             "#000013"
            ],
            [
             0.3333333333333333,
             "#000014"
            ],
            [
             0.4444444444444444,
             "#000015"
            ],
            [
             0.5555555555555556,
             "#000016"
            ],
            [
             0.6666666666666666,
             "#000017"
            ],
            [
             0.7777777777777778,
             "#000018"
            ],
            [
             0.8888888888888888,
             "#000019"
            ],
            [
             1,
             "#000020"
            ]
           ],
           "sequentialminus": [
            [
             0,
             "#000011"
            ],
            [
             0.1111111111111111,
             "#000012"
            ],
            [
             0.2222222222222222,
             "#000013"
            ],
            [
             0.3333333333333333,
             "#000014"
            ],
            [
             0.4444444444444444,
             "#000015"
            ],
            [
             0.5555555555555556,
             "#000016"
            ],
            [
             0.6666666666666666,
             "#000017"
            ],
            [
             0.7777777777777778,
             "#000018"
            ],
            [
             0.8888888888888888,
             "#000019"
            ],
            [
             1,
             "#000020"
            ]
           ]
          },
          "colorway": [
           "#000001",
           "#000002",
           "#000003",
           "#000004",
           "#000005",
           "#000006",
           "#000007",
           "#000008",
           "#000009",
           "#000010"
          ]
         }
        },
        "updatemenus": [
         {
          "buttons": [
           {
            "args": [
             null,
             {
              "frame": {
               "duration": 50,
               "redraw": true
              },
              "fromcurrent": true
             }
            ],
            "label": "Play",
            "method": "animate"
           },
           {
            "args": [
             [
              null
             ],
             {
              "frame": {
               "duration": 0,
               "redraw": false
              },
              "mode": "immediate"
             }
            ],
            "label": "Pause",
            "method": "animate"
           }
          ],
          "showactive": false,
          "type": "buttons"
         }
        ]
       }
      }
     },
     "metadata": {},
     "output_type": "display_data"
    },
    {
     "data": {
      "image/png": "[encoded data removed]",
      "text/plain": [
       "<Figure size 1000x600 with 1 Axes>"
      ]
     },
     "metadata": {},
     "output_type": "display_data"
    },
    {
     "data": {
      "image/png": "[encoded data removed]",
      "text/plain": [
       "<Figure size 1000x600 with 1 Axes>"
      ]
     },
     "metadata": {},
     "output_type": "display_data"
    },
    {
     "data": {
      "image/png": "[encoded data removed]",
      "text/plain": [
       "<Figure size 1000x600 with 1 Axes>"
      ]
     },
     "metadata": {},
     "output_type": "display_data"
    }
   ],
   "source": [
    "\n",
    "# quaternion_data = read_csv(full_data_file_path_y)\n",
    "# # Predict states with UKF\n",
    "# predicted_states = []\n",
    "\n",
    "# for q in quaternion_data:\n",
    "#     q = q / np.linalg.norm(q)\n",
    "#     ukf.predict()\n",
    "#     ukf.update(q)\n",
    "#     predicted_states.append(ukf.x)\n",
    "# predicted_states = np.array(predicted_states)\n",
    "\n",
    "# plot_euler_angles_3d(predicted_states,10)\n",
    "# plot_euler_angles_over_time(quaternion_data, predicted_states)\n"
   ]
  },
  {
   "cell_type": "markdown",
   "metadata": {},
   "source": [
    "DATA Z"
   ]
  },
  {
   "cell_type": "code",
   "execution_count": 234,
   "metadata": {},
   "outputs": [
    {
     "data": {
      "application/vnd.plotly.v1+json": {
       "config": {
        "plotlyServerURL": "https://plot.ly"
       },
       "data": [
        {
         "line": {
          "color": "blue",
          "width": 5
         },
         "mode": "lines",
         "name": "Vector",
         "type": "scatter3d",
         "x": [
          0,
          -0.04692064750169958
         ],
         "y": [
          0,
          0.44873267174048426
         ],
         "z": [
          0,
          0.8924334384987309
         ]
        },
        {
         "anchor": "tip",
         "colorscale": [
          [
           0,
           "blue"
          ],
          [
           1,
           "blue"
          ]
         ],
         "name": "Arrowhead",
         "showscale": false,
         "sizemode": "absolute",
         "sizeref": 0.3,
         "type": "cone",
         "u": [
          -0.04692064750169958
         ],
         "v": [
          0.44873267174048426
         ],
         "w": [
          0.8924334384987309
         ],
         "x": [
          -0.04692064750169958
         ],
         "y": [
          0.44873267174048426
         ],
         "z": [
          0.8924334384987309
         ]
        }
       ],
       "frames": [
        {
         "data": [
          {
           "line": {
            "color": "blue",
            "width": 5
           },
           "mode": "lines",
           "type": "scatter3d",
           "x": [
            0,
            -0.04692064750169958
           ],
           "y": [
            0,
            0.44873267174048426
           ],
           "z": [
            0,
            0.8924334384987309
           ]
          },
          {
           "anchor": "tip",
           "colorscale": [
            [
             0,
             "blue"
            ],
            [
             1,
             "blue"
            ]
           ],
           "showscale": false,
           "sizemode": "absolute",
           "sizeref": 0.3,
           "type": "cone",
           "u": [
            -0.04692064750169958
           ],
           "v": [
            0.44873267174048426
           ],
           "w": [
            0.8924334384987309
           ],
           "x": [
            -0.04692064750169958
           ],
           "y": [
            0.44873267174048426
           ],
           "z": [
            0.8924334384987309
           ]
          }
         ],
         "name": "frame0"
        },
        {
         "data": [
          {
           "line": {
            "color": "blue",
            "width": 5
           },
           "mode": "lines",
           "type": "scatter3d",
           "x": [
            0,
            -0.04694050855249321
           ],
           "y": [
            0,
            -0.0872262267178812
           ],
           "z": [
            0,
            0.9950819936213269
           ]
          },
          {
           "anchor": "tip",
           "colorscale": [
            [
             0,
             "blue"
            ],
            [
             1,
             "blue"
            ]
           ],
           "showscale": false,
           "sizemode": "absolute",
           "sizeref": 0.3,
           "type": "cone",
           "u": [
            -0.04694050855249321
           ],
           "v": [
            -0.0872262267178812
           ],
           "w": [
            0.9950819936213269
           ],
           "x": [
            -0.04694050855249321
           ],
           "y": [
            -0.0872262267178812
           ],
           "z": [
            0.9950819936213269
           ]
          }
         ],
         "name": "frame10"
        },
        {
         "data": [
          {
           "line": {
            "color": "blue",
            "width": 5
           },
           "mode": "lines",
           "type": "scatter3d",
           "x": [
            0,
            -0.046932864327893946
           ],
           "y": [
            0,
            -0.08726613806325904
           ],
           "z": [
            0,
            0.9950788548620173
           ]
          },
          {
           "anchor": "tip",
           "colorscale": [
            [
             0,
             "blue"
            ],
            [
             1,
             "blue"
            ]
           ],
           "showscale": false,
           "sizemode": "absolute",
           "sizeref": 0.3,
           "type": "cone",
           "u": [
            -0.046932864327893946
           ],
           "v": [
            -0.08726613806325904
           ],
           "w": [
            0.9950788548620173
           ],
           "x": [
            -0.046932864327893946
           ],
           "y": [
            -0.08726613806325904
           ],
           "z": [
            0.9950788548620173
           ]
          }
         ],
         "name": "frame20"
        },
        {
         "data": [
          {
           "line": {
            "color": "blue",
            "width": 5
           },
           "mode": "lines",
           "type": "scatter3d",
           "x": [
            0,
            -0.04720768047849273
           ],
           "y": [
            0,
            -0.08712604758632884
           ],
           "z": [
            0,
            0.9950781309705409
           ]
          },
          {
           "anchor": "tip",
           "colorscale": [
            [
             0,
             "blue"
            ],
            [
             1,
             "blue"
            ]
           ],
           "showscale": false,
           "sizemode": "absolute",
           "sizeref": 0.3,
           "type": "cone",
           "u": [
            -0.04720768047849273
           ],
           "v": [
            -0.08712604758632884
           ],
           "w": [
            0.9950781309705409
           ],
           "x": [
            -0.04720768047849273
           ],
           "y": [
            -0.08712604758632884
           ],
           "z": [
            0.9950781309705409
           ]
          }
         ],
         "name": "frame30"
        },
        {
         "data": [
          {
           "line": {
            "color": "blue",
            "width": 5
           },
           "mode": "lines",
           "type": "scatter3d",
           "x": [
            0,
            -0.04734936636583835
           ],
           "y": [
            0,
            -0.08716785987669624
           ],
           "z": [
            0,
            0.9950677372467014
           ]
          },
          {
           "anchor": "tip",
           "colorscale": [
            [
             0,
             "blue"
            ],
            [
             1,
             "blue"
            ]
           ],
           "showscale": false,
           "sizemode": "absolute",
           "sizeref": 0.3,
           "type": "cone",
           "u": [
            -0.04734936636583835
           ],
           "v": [
            -0.08716785987669624
           ],
           "w": [
            0.9950677372467014
           ],
           "x": [
            -0.04734936636583835
           ],
           "y": [
            -0.08716785987669624
           ],
           "z": [
            0.9950677372467014
           ]
          }
         ],
         "name": "frame40"
        },
        {
         "data": [
          {
           "line": {
            "color": "blue",
            "width": 5
           },
           "mode": "lines",
           "type": "scatter3d",
           "x": [
            0,
            -0.04761000234817268
           ],
           "y": [
            0,
            -0.08717055954249754
           ],
           "z": [
            0,
            0.9950550644187763
           ]
          },
          {
           "anchor": "tip",
           "colorscale": [
            [
             0,
             "blue"
            ],
            [
             1,
             "blue"
            ]
           ],
           "showscale": false,
           "sizemode": "absolute",
           "sizeref": 0.3,
           "type": "cone",
           "u": [
            -0.04761000234817268
           ],
           "v": [
            -0.08717055954249754
           ],
           "w": [
            0.9950550644187763
           ],
           "x": [
            -0.04761000234817268
           ],
           "y": [
            -0.08717055954249754
           ],
           "z": [
            0.9950550644187763
           ]
          }
         ],
         "name": "frame50"
        },
        {
         "data": [
          {
           "line": {
            "color": "blue",
            "width": 5
           },
           "mode": "lines",
           "type": "scatter3d",
           "x": [
            0,
            -0.04771395433942421
           ],
           "y": [
            0,
            -0.08717926240181595
           ],
           "z": [
            0,
            0.9950493227817256
           ]
          },
          {
           "anchor": "tip",
           "colorscale": [
            [
             0,
             "blue"
            ],
            [
             1,
             "blue"
            ]
           ],
           "showscale": false,
           "sizemode": "absolute",
           "sizeref": 0.3,
           "type": "cone",
           "u": [
            -0.04771395433942421
           ],
           "v": [
            -0.08717926240181595
           ],
           "w": [
            0.9950493227817256
           ],
           "x": [
            -0.04771395433942421
           ],
           "y": [
            -0.08717926240181595
           ],
           "z": [
            0.9950493227817256
           ]
          }
         ],
         "name": "frame60"
        },
        {
         "data": [
          {
           "line": {
            "color": "blue",
            "width": 5
           },
           "mode": "lines",
           "type": "scatter3d",
           "x": [
            0,
            -0.04805663959553713
           ],
           "y": [
            0,
            -0.08717746132372768
           ],
           "z": [
            0,
            0.9950329892159028
           ]
          },
          {
           "anchor": "tip",
           "colorscale": [
            [
             0,
             "blue"
            ],
            [
             1,
             "blue"
            ]
           ],
           "showscale": false,
           "sizemode": "absolute",
           "sizeref": 0.3,
           "type": "cone",
           "u": [
            -0.04805663959553713
           ],
           "v": [
            -0.08717746132372768
           ],
           "w": [
            0.9950329892159028
           ],
           "x": [
            -0.04805663959553713
           ],
           "y": [
            -0.08717746132372768
           ],
           "z": [
            0.9950329892159028
           ]
          }
         ],
         "name": "frame70"
        },
        {
         "data": [
          {
           "line": {
            "color": "blue",
            "width": 5
           },
           "mode": "lines",
           "type": "scatter3d",
           "x": [
            0,
            -0.048058214606860675
           ],
           "y": [
            0,
            -0.08717805339481818
           ],
           "z": [
            0,
            0.9950328612739839
           ]
          },
          {
           "anchor": "tip",
           "colorscale": [
            [
             0,
             "blue"
            ],
            [
             1,
             "blue"
            ]
           ],
           "showscale": false,
           "sizemode": "absolute",
           "sizeref": 0.3,
           "type": "cone",
           "u": [
            -0.048058214606860675
           ],
           "v": [
            -0.08717805339481818
           ],
           "w": [
            0.9950328612739839
           ],
           "x": [
            -0.048058214606860675
           ],
           "y": [
            -0.08717805339481818
           ],
           "z": [
            0.9950328612739839
           ]
          }
         ],
         "name": "frame80"
        },
        {
         "data": [
          {
           "line": {
            "color": "blue",
            "width": 5
           },
           "mode": "lines",
           "type": "scatter3d",
           "x": [
            0,
            -0.04805821471097929
           ],
           "y": [
            0,
            -0.08717805343395608
           ],
           "z": [
            0,
            0.9950328612655263
           ]
          },
          {
           "anchor": "tip",
           "colorscale": [
            [
             0,
             "blue"
            ],
            [
             1,
             "blue"
            ]
           ],
           "showscale": false,
           "sizemode": "absolute",
           "sizeref": 0.3,
           "type": "cone",
           "u": [
            -0.04805821471097929
           ],
           "v": [
            -0.08717805343395608
           ],
           "w": [
            0.9950328612655263
           ],
           "x": [
            -0.04805821471097929
           ],
           "y": [
            -0.08717805343395608
           ],
           "z": [
            0.9950328612655263
           ]
          }
         ],
         "name": "frame90"
        },
        {
         "data": [
          {
           "line": {
            "color": "blue",
            "width": 5
           },
           "mode": "lines",
           "type": "scatter3d",
           "x": [
            0,
            -0.048058214710987285
           ],
           "y": [
            0,
            -0.08717805343395868
           ],
           "z": [
            0,
            0.9950328612655257
           ]
          },
          {
           "anchor": "tip",
           "colorscale": [
            [
             0,
             "blue"
            ],
            [
             1,
             "blue"
            ]
           ],
           "showscale": false,
           "sizemode": "absolute",
           "sizeref": 0.3,
           "type": "cone",
           "u": [
            -0.048058214710987285
           ],
           "v": [
            -0.08717805343395868
           ],
           "w": [
            0.9950328612655257
           ],
           "x": [
            -0.048058214710987285
           ],
           "y": [
            -0.08717805343395868
           ],
           "z": [
            0.9950328612655257
           ]
          }
         ],
         "name": "frame100"
        },
        {
         "data": [
          {
           "line": {
            "color": "blue",
            "width": 5
           },
           "mode": "lines",
           "type": "scatter3d",
           "x": [
            0,
            -0.04805821471098669
           ],
           "y": [
            0,
            -0.08717805343395968
           ],
           "z": [
            0,
            0.9950328612655255
           ]
          },
          {
           "anchor": "tip",
           "colorscale": [
            [
             0,
             "blue"
            ],
            [
             1,
             "blue"
            ]
           ],
           "showscale": false,
           "sizemode": "absolute",
           "sizeref": 0.3,
           "type": "cone",
           "u": [
            -0.04805821471098669
           ],
           "v": [
            -0.08717805343395968
           ],
           "w": [
            0.9950328612655255
           ],
           "x": [
            -0.04805821471098669
           ],
           "y": [
            -0.08717805343395968
           ],
           "z": [
            0.9950328612655255
           ]
          }
         ],
         "name": "frame110"
        },
        {
         "data": [
          {
           "line": {
            "color": "blue",
            "width": 5
           },
           "mode": "lines",
           "type": "scatter3d",
           "x": [
            0,
            -0.048236116446465124
           ],
           "y": [
            0,
            -0.08715715123171808
           ],
           "z": [
            0,
            0.9950260841100272
           ]
          },
          {
           "anchor": "tip",
           "colorscale": [
            [
             0,
             "blue"
            ],
            [
             1,
             "blue"
            ]
           ],
           "showscale": false,
           "sizemode": "absolute",
           "sizeref": 0.3,
           "type": "cone",
           "u": [
            -0.048236116446465124
           ],
           "v": [
            -0.08715715123171808
           ],
           "w": [
            0.9950260841100272
           ],
           "x": [
            -0.048236116446465124
           ],
           "y": [
            -0.08715715123171808
           ],
           "z": [
            0.9950260841100272
           ]
          }
         ],
         "name": "frame120"
        },
        {
         "data": [
          {
           "line": {
            "color": "blue",
            "width": 5
           },
           "mode": "lines",
           "type": "scatter3d",
           "x": [
            0,
            -0.04814438209273121
           ],
           "y": [
            0,
            -0.08709187979020094
           ],
           "z": [
            0,
            0.9950362420271524
           ]
          },
          {
           "anchor": "tip",
           "colorscale": [
            [
             0,
             "blue"
            ],
            [
             1,
             "blue"
            ]
           ],
           "showscale": false,
           "sizemode": "absolute",
           "sizeref": 0.3,
           "type": "cone",
           "u": [
            -0.04814438209273121
           ],
           "v": [
            -0.08709187979020094
           ],
           "w": [
            0.9950362420271524
           ],
           "x": [
            -0.04814438209273121
           ],
           "y": [
            -0.08709187979020094
           ],
           "z": [
            0.9950362420271524
           ]
          }
         ],
         "name": "frame130"
        },
        {
         "data": [
          {
           "line": {
            "color": "blue",
            "width": 5
           },
           "mode": "lines",
           "type": "scatter3d",
           "x": [
            0,
            -0.05676026049282768
           ],
           "y": [
            0,
            -0.08206092716625835
           ],
           "z": [
            0,
            0.995009686918374
           ]
          },
          {
           "anchor": "tip",
           "colorscale": [
            [
             0,
             "blue"
            ],
            [
             1,
             "blue"
            ]
           ],
           "showscale": false,
           "sizemode": "absolute",
           "sizeref": 0.3,
           "type": "cone",
           "u": [
            -0.05676026049282768
           ],
           "v": [
            -0.08206092716625835
           ],
           "w": [
            0.995009686918374
           ],
           "x": [
            -0.05676026049282768
           ],
           "y": [
            -0.08206092716625835
           ],
           "z": [
            0.995009686918374
           ]
          }
         ],
         "name": "frame140"
        },
        {
         "data": [
          {
           "line": {
            "color": "blue",
            "width": 5
           },
           "mode": "lines",
           "type": "scatter3d",
           "x": [
            0,
            -0.056204078088830975
           ],
           "y": [
            0,
            -0.08345926681307081
           ],
           "z": [
            0,
            0.994924948118806
           ]
          },
          {
           "anchor": "tip",
           "colorscale": [
            [
             0,
             "blue"
            ],
            [
             1,
             "blue"
            ]
           ],
           "showscale": false,
           "sizemode": "absolute",
           "sizeref": 0.3,
           "type": "cone",
           "u": [
            -0.056204078088830975
           ],
           "v": [
            -0.08345926681307081
           ],
           "w": [
            0.994924948118806
           ],
           "x": [
            -0.056204078088830975
           ],
           "y": [
            -0.08345926681307081
           ],
           "z": [
            0.994924948118806
           ]
          }
         ],
         "name": "frame150"
        },
        {
         "data": [
          {
           "line": {
            "color": "blue",
            "width": 5
           },
           "mode": "lines",
           "type": "scatter3d",
           "x": [
            0,
            -0.060457068160673574
           ],
           "y": [
            0,
            -0.08010275222244037
           ],
           "z": [
            0,
            0.9949515023335589
           ]
          },
          {
           "anchor": "tip",
           "colorscale": [
            [
             0,
             "blue"
            ],
            [
             1,
             "blue"
            ]
           ],
           "showscale": false,
           "sizemode": "absolute",
           "sizeref": 0.3,
           "type": "cone",
           "u": [
            -0.060457068160673574
           ],
           "v": [
            -0.08010275222244037
           ],
           "w": [
            0.9949515023335589
           ],
           "x": [
            -0.060457068160673574
           ],
           "y": [
            -0.08010275222244037
           ],
           "z": [
            0.9949515023335589
           ]
          }
         ],
         "name": "frame160"
        },
        {
         "data": [
          {
           "line": {
            "color": "blue",
            "width": 5
           },
           "mode": "lines",
           "type": "scatter3d",
           "x": [
            0,
            -0.06523072719309941
           ],
           "y": [
            0,
            -0.07559950771640522
           ],
           "z": [
            0,
            0.9950023450539681
           ]
          },
          {
           "anchor": "tip",
           "colorscale": [
            [
             0,
             "blue"
            ],
            [
             1,
             "blue"
            ]
           ],
           "showscale": false,
           "sizemode": "absolute",
           "sizeref": 0.3,
           "type": "cone",
           "u": [
            -0.06523072719309941
           ],
           "v": [
            -0.07559950771640522
           ],
           "w": [
            0.9950023450539681
           ],
           "x": [
            -0.06523072719309941
           ],
           "y": [
            -0.07559950771640522
           ],
           "z": [
            0.9950023450539681
           ]
          }
         ],
         "name": "frame170"
        },
        {
         "data": [
          {
           "line": {
            "color": "blue",
            "width": 5
           },
           "mode": "lines",
           "type": "scatter3d",
           "x": [
            0,
            -0.06497726865188018
           ],
           "y": [
            0,
            -0.07747019864973066
           ],
           "z": [
            0,
            0.9948750287748269
           ]
          },
          {
           "anchor": "tip",
           "colorscale": [
            [
             0,
             "blue"
            ],
            [
             1,
             "blue"
            ]
           ],
           "showscale": false,
           "sizemode": "absolute",
           "sizeref": 0.3,
           "type": "cone",
           "u": [
            -0.06497726865188018
           ],
           "v": [
            -0.07747019864973066
           ],
           "w": [
            0.9948750287748269
           ],
           "x": [
            -0.06497726865188018
           ],
           "y": [
            -0.07747019864973066
           ],
           "z": [
            0.9948750287748269
           ]
          }
         ],
         "name": "frame180"
        },
        {
         "data": [
          {
           "line": {
            "color": "blue",
            "width": 5
           },
           "mode": "lines",
           "type": "scatter3d",
           "x": [
            0,
            -0.06954368888530647
           ],
           "y": [
            0,
            -0.07457975256371774
           ],
           "z": [
            0,
            0.994787181181864
           ]
          },
          {
           "anchor": "tip",
           "colorscale": [
            [
             0,
             "blue"
            ],
            [
             1,
             "blue"
            ]
           ],
           "showscale": false,
           "sizemode": "absolute",
           "sizeref": 0.3,
           "type": "cone",
           "u": [
            -0.06954368888530647
           ],
           "v": [
            -0.07457975256371774
           ],
           "w": [
            0.994787181181864
           ],
           "x": [
            -0.06954368888530647
           ],
           "y": [
            -0.07457975256371774
           ],
           "z": [
            0.994787181181864
           ]
          }
         ],
         "name": "frame190"
        },
        {
         "data": [
          {
           "line": {
            "color": "blue",
            "width": 5
           },
           "mode": "lines",
           "type": "scatter3d",
           "x": [
            0,
            -0.07560977995906523
           ],
           "y": [
            0,
            -0.0689173960745456
           ],
           "z": [
            0,
            0.9947530114017478
           ]
          },
          {
           "anchor": "tip",
           "colorscale": [
            [
             0,
             "blue"
            ],
            [
             1,
             "blue"
            ]
           ],
           "showscale": false,
           "sizemode": "absolute",
           "sizeref": 0.3,
           "type": "cone",
           "u": [
            -0.07560977995906523
           ],
           "v": [
            -0.0689173960745456
           ],
           "w": [
            0.9947530114017478
           ],
           "x": [
            -0.07560977995906523
           ],
           "y": [
            -0.0689173960745456
           ],
           "z": [
            0.9947530114017478
           ]
          }
         ],
         "name": "frame200"
        },
        {
         "data": [
          {
           "line": {
            "color": "blue",
            "width": 5
           },
           "mode": "lines",
           "type": "scatter3d",
           "x": [
            0,
            -0.07494285104112544
           ],
           "y": [
            0,
            -0.06939013612747039
           ],
           "z": [
            0,
            0.9947706158135347
           ]
          },
          {
           "anchor": "tip",
           "colorscale": [
            [
             0,
             "blue"
            ],
            [
             1,
             "blue"
            ]
           ],
           "showscale": false,
           "sizemode": "absolute",
           "sizeref": 0.3,
           "type": "cone",
           "u": [
            -0.07494285104112544
           ],
           "v": [
            -0.06939013612747039
           ],
           "w": [
            0.9947706158135347
           ],
           "x": [
            -0.07494285104112544
           ],
           "y": [
            -0.06939013612747039
           ],
           "z": [
            0.9947706158135347
           ]
          }
         ],
         "name": "frame210"
        },
        {
         "data": [
          {
           "line": {
            "color": "blue",
            "width": 5
           },
           "mode": "lines",
           "type": "scatter3d",
           "x": [
            0,
            -0.07848850242527915
           ],
           "y": [
            0,
            -0.06582645261060963
           ],
           "z": [
            0,
            0.9947393794978361
           ]
          },
          {
           "anchor": "tip",
           "colorscale": [
            [
             0,
             "blue"
            ],
            [
             1,
             "blue"
            ]
           ],
           "showscale": false,
           "sizemode": "absolute",
           "sizeref": 0.3,
           "type": "cone",
           "u": [
            -0.07848850242527915
           ],
           "v": [
            -0.06582645261060963
           ],
           "w": [
            0.9947393794978361
           ],
           "x": [
            -0.07848850242527915
           ],
           "y": [
            -0.06582645261060963
           ],
           "z": [
            0.9947393794978361
           ]
          }
         ],
         "name": "frame220"
        },
        {
         "data": [
          {
           "line": {
            "color": "blue",
            "width": 5
           },
           "mode": "lines",
           "type": "scatter3d",
           "x": [
            0,
            -0.08264531459207265
           ],
           "y": [
            0,
            -0.06101809823194598
           ],
           "z": [
            0,
            0.9947092759515885
           ]
          },
          {
           "anchor": "tip",
           "colorscale": [
            [
             0,
             "blue"
            ],
            [
             1,
             "blue"
            ]
           ],
           "showscale": false,
           "sizemode": "absolute",
           "sizeref": 0.3,
           "type": "cone",
           "u": [
            -0.08264531459207265
           ],
           "v": [
            -0.06101809823194598
           ],
           "w": [
            0.9947092759515885
           ],
           "x": [
            -0.08264531459207265
           ],
           "y": [
            -0.06101809823194598
           ],
           "z": [
            0.9947092759515885
           ]
          }
         ],
         "name": "frame230"
        },
        {
         "data": [
          {
           "line": {
            "color": "blue",
            "width": 5
           },
           "mode": "lines",
           "type": "scatter3d",
           "x": [
            0,
            -0.08234605376229606
           ],
           "y": [
            0,
            -0.05655309886812011
           ],
           "z": [
            0,
            0.9949979268512019
           ]
          },
          {
           "anchor": "tip",
           "colorscale": [
            [
             0,
             "blue"
            ],
            [
             1,
             "blue"
            ]
           ],
           "showscale": false,
           "sizemode": "absolute",
           "sizeref": 0.3,
           "type": "cone",
           "u": [
            -0.08234605376229606
           ],
           "v": [
            -0.05655309886812011
           ],
           "w": [
            0.9949979268512019
           ],
           "x": [
            -0.08234605376229606
           ],
           "y": [
            -0.05655309886812011
           ],
           "z": [
            0.9949979268512019
           ]
          }
         ],
         "name": "frame240"
        },
        {
         "data": [
          {
           "line": {
            "color": "blue",
            "width": 5
           },
           "mode": "lines",
           "type": "scatter3d",
           "x": [
            0,
            -0.0866971640591009
           ],
           "y": [
            0,
            -0.055304778267086706
           ],
           "z": [
            0,
            0.9946984383444751
           ]
          },
          {
           "anchor": "tip",
           "colorscale": [
            [
             0,
             "blue"
            ],
            [
             1,
             "blue"
            ]
           ],
           "showscale": false,
           "sizemode": "absolute",
           "sizeref": 0.3,
           "type": "cone",
           "u": [
            -0.0866971640591009
           ],
           "v": [
            -0.055304778267086706
           ],
           "w": [
            0.9946984383444751
           ],
           "x": [
            -0.0866971640591009
           ],
           "y": [
            -0.055304778267086706
           ],
           "z": [
            0.9946984383444751
           ]
          }
         ],
         "name": "frame250"
        },
        {
         "data": [
          {
           "line": {
            "color": "blue",
            "width": 5
           },
           "mode": "lines",
           "type": "scatter3d",
           "x": [
            0,
            -0.08938701488727226
           ],
           "y": [
            0,
            -0.048235512027123395
           ],
           "z": [
            0,
            0.9948282751053188
           ]
          },
          {
           "anchor": "tip",
           "colorscale": [
            [
             0,
             "blue"
            ],
            [
             1,
             "blue"
            ]
           ],
           "showscale": false,
           "sizemode": "absolute",
           "sizeref": 0.3,
           "type": "cone",
           "u": [
            -0.08938701488727226
           ],
           "v": [
            -0.048235512027123395
           ],
           "w": [
            0.9948282751053188
           ],
           "x": [
            -0.08938701488727226
           ],
           "y": [
            -0.048235512027123395
           ],
           "z": [
            0.9948282751053188
           ]
          }
         ],
         "name": "frame260"
        },
        {
         "data": [
          {
           "line": {
            "color": "blue",
            "width": 5
           },
           "mode": "lines",
           "type": "scatter3d",
           "x": [
            0,
            -0.09221226852331292
           ],
           "y": [
            0,
            -0.039935241659602695
           ],
           "z": [
            0,
            0.9949382262268213
           ]
          },
          {
           "anchor": "tip",
           "colorscale": [
            [
             0,
             "blue"
            ],
            [
             1,
             "blue"
            ]
           ],
           "showscale": false,
           "sizemode": "absolute",
           "sizeref": 0.3,
           "type": "cone",
           "u": [
            -0.09221226852331292
           ],
           "v": [
            -0.039935241659602695
           ],
           "w": [
            0.9949382262268213
           ],
           "x": [
            -0.09221226852331292
           ],
           "y": [
            -0.039935241659602695
           ],
           "z": [
            0.9949382262268213
           ]
          }
         ],
         "name": "frame270"
        },
        {
         "data": [
          {
           "line": {
            "color": "blue",
            "width": 5
           },
           "mode": "lines",
           "type": "scatter3d",
           "x": [
            0,
            -0.09265422078502066
           ],
           "y": [
            0,
            -0.0433426163197793
           ],
           "z": [
            0,
            0.9947545491131351
           ]
          },
          {
           "anchor": "tip",
           "colorscale": [
            [
             0,
             "blue"
            ],
            [
             1,
             "blue"
            ]
           ],
           "showscale": false,
           "sizemode": "absolute",
           "sizeref": 0.3,
           "type": "cone",
           "u": [
            -0.09265422078502066
           ],
           "v": [
            -0.0433426163197793
           ],
           "w": [
            0.9947545491131351
           ],
           "x": [
            -0.09265422078502066
           ],
           "y": [
            -0.0433426163197793
           ],
           "z": [
            0.9947545491131351
           ]
          }
         ],
         "name": "frame280"
        },
        {
         "data": [
          {
           "line": {
            "color": "blue",
            "width": 5
           },
           "mode": "lines",
           "type": "scatter3d",
           "x": [
            0,
            -0.09589545064396938
           ],
           "y": [
            0,
            -0.03629688883627641
           ],
           "z": [
            0,
            0.9947294096419372
           ]
          },
          {
           "anchor": "tip",
           "colorscale": [
            [
             0,
             "blue"
            ],
            [
             1,
             "blue"
            ]
           ],
           "showscale": false,
           "sizemode": "absolute",
           "sizeref": 0.3,
           "type": "cone",
           "u": [
            -0.09589545064396938
           ],
           "v": [
            -0.03629688883627641
           ],
           "w": [
            0.9947294096419372
           ],
           "x": [
            -0.09589545064396938
           ],
           "y": [
            -0.03629688883627641
           ],
           "z": [
            0.9947294096419372
           ]
          }
         ],
         "name": "frame290"
        },
        {
         "data": [
          {
           "line": {
            "color": "blue",
            "width": 5
           },
           "mode": "lines",
           "type": "scatter3d",
           "x": [
            0,
            -0.0987417284959559
           ],
           "y": [
            0,
            -0.02745136391024886
           ],
           "z": [
            0,
            0.9947343834778699
           ]
          },
          {
           "anchor": "tip",
           "colorscale": [
            [
             0,
             "blue"
            ],
            [
             1,
             "blue"
            ]
           ],
           "showscale": false,
           "sizemode": "absolute",
           "sizeref": 0.3,
           "type": "cone",
           "u": [
            -0.0987417284959559
           ],
           "v": [
            -0.02745136391024886
           ],
           "w": [
            0.9947343834778699
           ],
           "x": [
            -0.0987417284959559
           ],
           "y": [
            -0.02745136391024886
           ],
           "z": [
            0.9947343834778699
           ]
          }
         ],
         "name": "frame300"
        },
        {
         "data": [
          {
           "line": {
            "color": "blue",
            "width": 5
           },
           "mode": "lines",
           "type": "scatter3d",
           "x": [
            0,
            -0.09864650297317969
           ],
           "y": [
            0,
            -0.028278683697395637
           ],
           "z": [
            0,
            0.9947206560132875
           ]
          },
          {
           "anchor": "tip",
           "colorscale": [
            [
             0,
             "blue"
            ],
            [
             1,
             "blue"
            ]
           ],
           "showscale": false,
           "sizemode": "absolute",
           "sizeref": 0.3,
           "type": "cone",
           "u": [
            -0.09864650297317969
           ],
           "v": [
            -0.028278683697395637
           ],
           "w": [
            0.9947206560132875
           ],
           "x": [
            -0.09864650297317969
           ],
           "y": [
            -0.028278683697395637
           ],
           "z": [
            0.9947206560132875
           ]
          }
         ],
         "name": "frame310"
        },
        {
         "data": [
          {
           "line": {
            "color": "blue",
            "width": 5
           },
           "mode": "lines",
           "type": "scatter3d",
           "x": [
            0,
            -0.09988735823452556
           ],
           "y": [
            0,
            -0.020814319234341936
           ],
           "z": [
            0,
            0.994781021019068
           ]
          },
          {
           "anchor": "tip",
           "colorscale": [
            [
             0,
             "blue"
            ],
            [
             1,
             "blue"
            ]
           ],
           "showscale": false,
           "sizemode": "absolute",
           "sizeref": 0.3,
           "type": "cone",
           "u": [
            -0.09988735823452556
           ],
           "v": [
            -0.020814319234341936
           ],
           "w": [
            0.994781021019068
           ],
           "x": [
            -0.09988735823452556
           ],
           "y": [
            -0.020814319234341936
           ],
           "z": [
            0.994781021019068
           ]
          }
         ],
         "name": "frame320"
        },
        {
         "data": [
          {
           "line": {
            "color": "blue",
            "width": 5
           },
           "mode": "lines",
           "type": "scatter3d",
           "x": [
            0,
            -0.10020224095864626
           ],
           "y": [
            0,
            -0.012455381475725454
           ],
           "z": [
            0,
            0.9948891266765154
           ]
          },
          {
           "anchor": "tip",
           "colorscale": [
            [
             0,
             "blue"
            ],
            [
             1,
             "blue"
            ]
           ],
           "showscale": false,
           "sizemode": "absolute",
           "sizeref": 0.3,
           "type": "cone",
           "u": [
            -0.10020224095864626
           ],
           "v": [
            -0.012455381475725454
           ],
           "w": [
            0.9948891266765154
           ],
           "x": [
            -0.10020224095864626
           ],
           "y": [
            -0.012455381475725454
           ],
           "z": [
            0.9948891266765154
           ]
          }
         ],
         "name": "frame330"
        },
        {
         "data": [
          {
           "line": {
            "color": "blue",
            "width": 5
           },
           "mode": "lines",
           "type": "scatter3d",
           "x": [
            0,
            -0.10081947708747974
           ],
           "y": [
            0,
            -0.011863448684381984
           ],
           "z": [
            0,
            0.9948340020451252
           ]
          },
          {
           "anchor": "tip",
           "colorscale": [
            [
             0,
             "blue"
            ],
            [
             1,
             "blue"
            ]
           ],
           "showscale": false,
           "sizemode": "absolute",
           "sizeref": 0.3,
           "type": "cone",
           "u": [
            -0.10081947708747974
           ],
           "v": [
            -0.011863448684381984
           ],
           "w": [
            0.9948340020451252
           ],
           "x": [
            -0.10081947708747974
           ],
           "y": [
            -0.011863448684381984
           ],
           "z": [
            0.9948340020451252
           ]
          }
         ],
         "name": "frame340"
        },
        {
         "data": [
          {
           "line": {
            "color": "blue",
            "width": 5
           },
           "mode": "lines",
           "type": "scatter3d",
           "x": [
            0,
            -0.10125457102226865
           ],
           "y": [
            0,
            -0.005751359397555747
           ],
           "z": [
            0,
            0.9948439242977646
           ]
          },
          {
           "anchor": "tip",
           "colorscale": [
            [
             0,
             "blue"
            ],
            [
             1,
             "blue"
            ]
           ],
           "showscale": false,
           "sizemode": "absolute",
           "sizeref": 0.3,
           "type": "cone",
           "u": [
            -0.10125457102226865
           ],
           "v": [
            -0.005751359397555747
           ],
           "w": [
            0.9948439242977646
           ],
           "x": [
            -0.10125457102226865
           ],
           "y": [
            -0.005751359397555747
           ],
           "z": [
            0.9948439242977646
           ]
          }
         ],
         "name": "frame350"
        },
        {
         "data": [
          {
           "line": {
            "color": "blue",
            "width": 5
           },
           "mode": "lines",
           "type": "scatter3d",
           "x": [
            0,
            -0.10058727296534284
           ],
           "y": [
            0,
            0.0017444038406966948
           ],
           "z": [
            0,
            0.9949267096488245
           ]
          },
          {
           "anchor": "tip",
           "colorscale": [
            [
             0,
             "blue"
            ],
            [
             1,
             "blue"
            ]
           ],
           "showscale": false,
           "sizemode": "absolute",
           "sizeref": 0.3,
           "type": "cone",
           "u": [
            -0.10058727296534284
           ],
           "v": [
            0.0017444038406966948
           ],
           "w": [
            0.9949267096488245
           ],
           "x": [
            -0.10058727296534284
           ],
           "y": [
            0.0017444038406966948
           ],
           "z": [
            0.9949267096488245
           ]
          }
         ],
         "name": "frame360"
        },
        {
         "data": [
          {
           "line": {
            "color": "blue",
            "width": 5
           },
           "mode": "lines",
           "type": "scatter3d",
           "x": [
            0,
            -0.10073900059108785
           ],
           "y": [
            0,
            0.002081838065779624
           ],
           "z": [
            0,
            0.9949107094157631
           ]
          },
          {
           "anchor": "tip",
           "colorscale": [
            [
             0,
             "blue"
            ],
            [
             1,
             "blue"
            ]
           ],
           "showscale": false,
           "sizemode": "absolute",
           "sizeref": 0.3,
           "type": "cone",
           "u": [
            -0.10073900059108785
           ],
           "v": [
            0.002081838065779624
           ],
           "w": [
            0.9949107094157631
           ],
           "x": [
            -0.10073900059108785
           ],
           "y": [
            0.002081838065779624
           ],
           "z": [
            0.9949107094157631
           ]
          }
         ],
         "name": "frame370"
        },
        {
         "data": [
          {
           "line": {
            "color": "blue",
            "width": 5
           },
           "mode": "lines",
           "type": "scatter3d",
           "x": [
            0,
            -0.10012374121165661
           ],
           "y": [
            0,
            0.010497314440347724
           ],
           "z": [
            0,
            0.9949196162682298
           ]
          },
          {
           "anchor": "tip",
           "colorscale": [
            [
             0,
             "blue"
            ],
            [
             1,
             "blue"
            ]
           ],
           "showscale": false,
           "sizemode": "absolute",
           "sizeref": 0.3,
           "type": "cone",
           "u": [
            -0.10012374121165661
           ],
           "v": [
            0.010497314440347724
           ],
           "w": [
            0.9949196162682298
           ],
           "x": [
            -0.10012374121165661
           ],
           "y": [
            0.010497314440347724
           ],
           "z": [
            0.9949196162682298
           ]
          }
         ],
         "name": "frame380"
        },
        {
         "data": [
          {
           "line": {
            "color": "blue",
            "width": 5
           },
           "mode": "lines",
           "type": "scatter3d",
           "x": [
            0,
            -0.09872258353594814
           ],
           "y": [
            0,
            0.017334989832703426
           ],
           "z": [
            0,
            0.9949639941362138
           ]
          },
          {
           "anchor": "tip",
           "colorscale": [
            [
             0,
             "blue"
            ],
            [
             1,
             "blue"
            ]
           ],
           "showscale": false,
           "sizemode": "absolute",
           "sizeref": 0.3,
           "type": "cone",
           "u": [
            -0.09872258353594814
           ],
           "v": [
            0.017334989832703426
           ],
           "w": [
            0.9949639941362138
           ],
           "x": [
            -0.09872258353594814
           ],
           "y": [
            0.017334989832703426
           ],
           "z": [
            0.9949639941362138
           ]
          }
         ],
         "name": "frame390"
        },
        {
         "data": [
          {
           "line": {
            "color": "blue",
            "width": 5
           },
           "mode": "lines",
           "type": "scatter3d",
           "x": [
            0,
            -0.0994340826923383
           ],
           "y": [
            0,
            0.0181390026841236
           ],
           "z": [
            0,
            0.9948788065793535
           ]
          },
          {
           "anchor": "tip",
           "colorscale": [
            [
             0,
             "blue"
            ],
            [
             1,
             "blue"
            ]
           ],
           "showscale": false,
           "sizemode": "absolute",
           "sizeref": 0.3,
           "type": "cone",
           "u": [
            -0.0994340826923383
           ],
           "v": [
            0.0181390026841236
           ],
           "w": [
            0.9948788065793535
           ],
           "x": [
            -0.0994340826923383
           ],
           "y": [
            0.0181390026841236
           ],
           "z": [
            0.9948788065793535
           ]
          }
         ],
         "name": "frame400"
        },
        {
         "data": [
          {
           "line": {
            "color": "blue",
            "width": 5
           },
           "mode": "lines",
           "type": "scatter3d",
           "x": [
            0,
            -0.09971741894981537
           ],
           "y": [
            0,
            0.01886675967756976
           ],
           "z": [
            0,
            0.9948369121304538
           ]
          },
          {
           "anchor": "tip",
           "colorscale": [
            [
             0,
             "blue"
            ],
            [
             1,
             "blue"
            ]
           ],
           "showscale": false,
           "sizemode": "absolute",
           "sizeref": 0.3,
           "type": "cone",
           "u": [
            -0.09971741894981537
           ],
           "v": [
            0.01886675967756976
           ],
           "w": [
            0.9948369121304538
           ],
           "x": [
            -0.09971741894981537
           ],
           "y": [
            0.01886675967756976
           ],
           "z": [
            0.9948369121304538
           ]
          }
         ],
         "name": "frame410"
        },
        {
         "data": [
          {
           "line": {
            "color": "blue",
            "width": 5
           },
           "mode": "lines",
           "type": "scatter3d",
           "x": [
            0,
            -0.09984571872093304
           ],
           "y": [
            0,
            0.0191337912347378
           ],
           "z": [
            0,
            0.9948189435701785
           ]
          },
          {
           "anchor": "tip",
           "colorscale": [
            [
             0,
             "blue"
            ],
            [
             1,
             "blue"
            ]
           ],
           "showscale": false,
           "sizemode": "absolute",
           "sizeref": 0.3,
           "type": "cone",
           "u": [
            -0.09984571872093304
           ],
           "v": [
            0.0191337912347378
           ],
           "w": [
            0.9948189435701785
           ],
           "x": [
            -0.09984571872093304
           ],
           "y": [
            0.0191337912347378
           ],
           "z": [
            0.9948189435701785
           ]
          }
         ],
         "name": "frame420"
        },
        {
         "data": [
          {
           "line": {
            "color": "blue",
            "width": 5
           },
           "mode": "lines",
           "type": "scatter3d",
           "x": [
            0,
            -0.10242602276731026
           ],
           "y": [
            0,
            0.011873497357020556
           ],
           "z": [
            0,
            0.9946697592269421
           ]
          },
          {
           "anchor": "tip",
           "colorscale": [
            [
             0,
             "blue"
            ],
            [
             1,
             "blue"
            ]
           ],
           "showscale": false,
           "sizemode": "absolute",
           "sizeref": 0.3,
           "type": "cone",
           "u": [
            -0.10242602276731026
           ],
           "v": [
            0.011873497357020556
           ],
           "w": [
            0.9946697592269421
           ],
           "x": [
            -0.10242602276731026
           ],
           "y": [
            0.011873497357020556
           ],
           "z": [
            0.9946697592269421
           ]
          }
         ],
         "name": "frame430"
        },
        {
         "data": [
          {
           "line": {
            "color": "blue",
            "width": 5
           },
           "mode": "lines",
           "type": "scatter3d",
           "x": [
            0,
            -0.1027043254003002
           ],
           "y": [
            0,
            0.007201638852588324
           ],
           "z": [
            0,
            0.9946858589232616
           ]
          },
          {
           "anchor": "tip",
           "colorscale": [
            [
             0,
             "blue"
            ],
            [
             1,
             "blue"
            ]
           ],
           "showscale": false,
           "sizemode": "absolute",
           "sizeref": 0.3,
           "type": "cone",
           "u": [
            -0.1027043254003002
           ],
           "v": [
            0.007201638852588324
           ],
           "w": [
            0.9946858589232616
           ],
           "x": [
            -0.1027043254003002
           ],
           "y": [
            0.007201638852588324
           ],
           "z": [
            0.9946858589232616
           ]
          }
         ],
         "name": "frame440"
        },
        {
         "data": [
          {
           "line": {
            "color": "blue",
            "width": 5
           },
           "mode": "lines",
           "type": "scatter3d",
           "x": [
            0,
            -0.10451278274920463
           ],
           "y": [
            0,
            0.00524069472866385
           ],
           "z": [
            0,
            0.9945097351764732
           ]
          },
          {
           "anchor": "tip",
           "colorscale": [
            [
             0,
             "blue"
            ],
            [
             1,
             "blue"
            ]
           ],
           "showscale": false,
           "sizemode": "absolute",
           "sizeref": 0.3,
           "type": "cone",
           "u": [
            -0.10451278274920463
           ],
           "v": [
            0.00524069472866385
           ],
           "w": [
            0.9945097351764732
           ],
           "x": [
            -0.10451278274920463
           ],
           "y": [
            0.00524069472866385
           ],
           "z": [
            0.9945097351764732
           ]
          }
         ],
         "name": "frame450"
        },
        {
         "data": [
          {
           "line": {
            "color": "blue",
            "width": 5
           },
           "mode": "lines",
           "type": "scatter3d",
           "x": [
            0,
            -0.10545484089186923
           ],
           "y": [
            0,
            0.0002089924803040412
           ],
           "z": [
            0,
            0.9944240709348369
           ]
          },
          {
           "anchor": "tip",
           "colorscale": [
            [
             0,
             "blue"
            ],
            [
             1,
             "blue"
            ]
           ],
           "showscale": false,
           "sizemode": "absolute",
           "sizeref": 0.3,
           "type": "cone",
           "u": [
            -0.10545484089186923
           ],
           "v": [
            0.0002089924803040412
           ],
           "w": [
            0.9944240709348369
           ],
           "x": [
            -0.10545484089186923
           ],
           "y": [
            0.0002089924803040412
           ],
           "z": [
            0.9944240709348369
           ]
          }
         ],
         "name": "frame460"
        },
        {
         "data": [
          {
           "line": {
            "color": "blue",
            "width": 5
           },
           "mode": "lines",
           "type": "scatter3d",
           "x": [
            0,
            -0.10384774365939153
           ],
           "y": [
            0,
            -0.005039312823382257
           ],
           "z": [
            0,
            0.9945804399158075
           ]
          },
          {
           "anchor": "tip",
           "colorscale": [
            [
             0,
             "blue"
            ],
            [
             1,
             "blue"
            ]
           ],
           "showscale": false,
           "sizemode": "absolute",
           "sizeref": 0.3,
           "type": "cone",
           "u": [
            -0.10384774365939153
           ],
           "v": [
            -0.005039312823382257
           ],
           "w": [
            0.9945804399158075
           ],
           "x": [
            -0.10384774365939153
           ],
           "y": [
            -0.005039312823382257
           ],
           "z": [
            0.9945804399158075
           ]
          }
         ],
         "name": "frame470"
        },
        {
         "data": [
          {
           "line": {
            "color": "blue",
            "width": 5
           },
           "mode": "lines",
           "type": "scatter3d",
           "x": [
            0,
            -0.10619285717986318
           ],
           "y": [
            0,
            -0.005509157991635464
           ],
           "z": [
            0,
            0.9943302903272133
           ]
          },
          {
           "anchor": "tip",
           "colorscale": [
            [
             0,
             "blue"
            ],
            [
             1,
             "blue"
            ]
           ],
           "showscale": false,
           "sizemode": "absolute",
           "sizeref": 0.3,
           "type": "cone",
           "u": [
            -0.10619285717986318
           ],
           "v": [
            -0.005509157991635464
           ],
           "w": [
            0.9943302903272133
           ],
           "x": [
            -0.10619285717986318
           ],
           "y": [
            -0.005509157991635464
           ],
           "z": [
            0.9943302903272133
           ]
          }
         ],
         "name": "frame480"
        },
        {
         "data": [
          {
           "line": {
            "color": "blue",
            "width": 5
           },
           "mode": "lines",
           "type": "scatter3d",
           "x": [
            0,
            -0.10591587829692983
           ],
           "y": [
            0,
            -0.011527523335956354
           ],
           "z": [
            0,
            0.9943082735904035
           ]
          },
          {
           "anchor": "tip",
           "colorscale": [
            [
             0,
             "blue"
            ],
            [
             1,
             "blue"
            ]
           ],
           "showscale": false,
           "sizemode": "absolute",
           "sizeref": 0.3,
           "type": "cone",
           "u": [
            -0.10591587829692983
           ],
           "v": [
            -0.011527523335956354
           ],
           "w": [
            0.9943082735904035
           ],
           "x": [
            -0.10591587829692983
           ],
           "y": [
            -0.011527523335956354
           ],
           "z": [
            0.9943082735904035
           ]
          }
         ],
         "name": "frame490"
        },
        {
         "data": [
          {
           "line": {
            "color": "blue",
            "width": 5
           },
           "mode": "lines",
           "type": "scatter3d",
           "x": [
            0,
            -0.10309357329803986
           ],
           "y": [
            0,
            -0.017508970026732757
           ],
           "z": [
            0,
            0.994517546910684
           ]
          },
          {
           "anchor": "tip",
           "colorscale": [
            [
             0,
             "blue"
            ],
            [
             1,
             "blue"
            ]
           ],
           "showscale": false,
           "sizemode": "absolute",
           "sizeref": 0.3,
           "type": "cone",
           "u": [
            -0.10309357329803986
           ],
           "v": [
            -0.017508970026732757
           ],
           "w": [
            0.994517546910684
           ],
           "x": [
            -0.10309357329803986
           ],
           "y": [
            -0.017508970026732757
           ],
           "z": [
            0.994517546910684
           ]
          }
         ],
         "name": "frame500"
        },
        {
         "data": [
          {
           "line": {
            "color": "blue",
            "width": 5
           },
           "mode": "lines",
           "type": "scatter3d",
           "x": [
            0,
            -0.1049811515413155
           ],
           "y": [
            0,
            -0.018936431827575567
           ],
           "z": [
            0,
            0.9942939049248464
           ]
          },
          {
           "anchor": "tip",
           "colorscale": [
            [
             0,
             "blue"
            ],
            [
             1,
             "blue"
            ]
           ],
           "showscale": false,
           "sizemode": "absolute",
           "sizeref": 0.3,
           "type": "cone",
           "u": [
            -0.1049811515413155
           ],
           "v": [
            -0.018936431827575567
           ],
           "w": [
            0.9942939049248464
           ],
           "x": [
            -0.1049811515413155
           ],
           "y": [
            -0.018936431827575567
           ],
           "z": [
            0.9942939049248464
           ]
          }
         ],
         "name": "frame510"
        },
        {
         "data": [
          {
           "line": {
            "color": "blue",
            "width": 5
           },
           "mode": "lines",
           "type": "scatter3d",
           "x": [
            0,
            -0.103651874065771
           ],
           "y": [
            0,
            -0.02509292134014114
           ],
           "z": [
            0,
            0.9942970553618627
           ]
          },
          {
           "anchor": "tip",
           "colorscale": [
            [
             0,
             "blue"
            ],
            [
             1,
             "blue"
            ]
           ],
           "showscale": false,
           "sizemode": "absolute",
           "sizeref": 0.3,
           "type": "cone",
           "u": [
            -0.103651874065771
           ],
           "v": [
            -0.02509292134014114
           ],
           "w": [
            0.9942970553618627
           ],
           "x": [
            -0.103651874065771
           ],
           "y": [
            -0.02509292134014114
           ],
           "z": [
            0.9942970553618627
           ]
          }
         ],
         "name": "frame520"
        },
        {
         "data": [
          {
           "line": {
            "color": "blue",
            "width": 5
           },
           "mode": "lines",
           "type": "scatter3d",
           "x": [
            0,
            -0.10114003433642552
           ],
           "y": [
            0,
            -0.03254425987542513
           ],
           "z": [
            0,
            0.9943397631612587
           ]
          },
          {
           "anchor": "tip",
           "colorscale": [
            [
             0,
             "blue"
            ],
            [
             1,
             "blue"
            ]
           ],
           "showscale": false,
           "sizemode": "absolute",
           "sizeref": 0.3,
           "type": "cone",
           "u": [
            -0.10114003433642552
           ],
           "v": [
            -0.03254425987542513
           ],
           "w": [
            0.9943397631612587
           ],
           "x": [
            -0.10114003433642552
           ],
           "y": [
            -0.03254425987542513
           ],
           "z": [
            0.9943397631612587
           ]
          }
         ],
         "name": "frame530"
        },
        {
         "data": [
          {
           "line": {
            "color": "blue",
            "width": 5
           },
           "mode": "lines",
           "type": "scatter3d",
           "x": [
            0,
            -0.10184215837827522
           ],
           "y": [
            0,
            -0.03144003853551319
           ],
           "z": [
            0,
            0.9943036250329874
           ]
          },
          {
           "anchor": "tip",
           "colorscale": [
            [
             0,
             "blue"
            ],
            [
             1,
             "blue"
            ]
           ],
           "showscale": false,
           "sizemode": "absolute",
           "sizeref": 0.3,
           "type": "cone",
           "u": [
            -0.10184215837827522
           ],
           "v": [
            -0.03144003853551319
           ],
           "w": [
            0.9943036250329874
           ],
           "x": [
            -0.10184215837827522
           ],
           "y": [
            -0.03144003853551319
           ],
           "z": [
            0.9943036250329874
           ]
          }
         ],
         "name": "frame540"
        },
        {
         "data": [
          {
           "line": {
            "color": "blue",
            "width": 5
           },
           "mode": "lines",
           "type": "scatter3d",
           "x": [
            0,
            -0.09894343457007587
           ],
           "y": [
            0,
            -0.038266692789837006
           ],
           "z": [
            0,
            0.9943570068030929
           ]
          },
          {
           "anchor": "tip",
           "colorscale": [
            [
             0,
             "blue"
            ],
            [
             1,
             "blue"
            ]
           ],
           "showscale": false,
           "sizemode": "absolute",
           "sizeref": 0.3,
           "type": "cone",
           "u": [
            -0.09894343457007587
           ],
           "v": [
            -0.038266692789837006
           ],
           "w": [
            0.9943570068030929
           ],
           "x": [
            -0.09894343457007587
           ],
           "y": [
            -0.038266692789837006
           ],
           "z": [
            0.9943570068030929
           ]
          }
         ],
         "name": "frame550"
        },
        {
         "data": [
          {
           "line": {
            "color": "blue",
            "width": 5
           },
           "mode": "lines",
           "type": "scatter3d",
           "x": [
            0,
            -0.0967465301206185
           ],
           "y": [
            0,
            -0.043173329147671344
           ],
           "z": [
            0,
            0.9943722504977333
           ]
          },
          {
           "anchor": "tip",
           "colorscale": [
            [
             0,
             "blue"
            ],
            [
             1,
             "blue"
            ]
           ],
           "showscale": false,
           "sizemode": "absolute",
           "sizeref": 0.3,
           "type": "cone",
           "u": [
            -0.0967465301206185
           ],
           "v": [
            -0.043173329147671344
           ],
           "w": [
            0.9943722504977333
           ],
           "x": [
            -0.0967465301206185
           ],
           "y": [
            -0.043173329147671344
           ],
           "z": [
            0.9943722504977333
           ]
          }
         ],
         "name": "frame560"
        },
        {
         "data": [
          {
           "line": {
            "color": "blue",
            "width": 5
           },
           "mode": "lines",
           "type": "scatter3d",
           "x": [
            0,
            -0.09409978719001881
           ],
           "y": [
            0,
            -0.04747781354282534
           ],
           "z": [
            0,
            0.9944300313606714
           ]
          },
          {
           "anchor": "tip",
           "colorscale": [
            [
             0,
             "blue"
            ],
            [
             1,
             "blue"
            ]
           ],
           "showscale": false,
           "sizemode": "absolute",
           "sizeref": 0.3,
           "type": "cone",
           "u": [
            -0.09409978719001881
           ],
           "v": [
            -0.04747781354282534
           ],
           "w": [
            0.9944300313606714
           ],
           "x": [
            -0.09409978719001881
           ],
           "y": [
            -0.04747781354282534
           ],
           "z": [
            0.9944300313606714
           ]
          }
         ],
         "name": "frame570"
        },
        {
         "data": [
          {
           "line": {
            "color": "blue",
            "width": 5
           },
           "mode": "lines",
           "type": "scatter3d",
           "x": [
            0,
            -0.09289766699614592
           ],
           "y": [
            0,
            -0.05043862806820848
           ],
           "z": [
            0,
            0.9943972889470639
           ]
          },
          {
           "anchor": "tip",
           "colorscale": [
            [
             0,
             "blue"
            ],
            [
             1,
             "blue"
            ]
           ],
           "showscale": false,
           "sizemode": "absolute",
           "sizeref": 0.3,
           "type": "cone",
           "u": [
            -0.09289766699614592
           ],
           "v": [
            -0.05043862806820848
           ],
           "w": [
            0.9943972889470639
           ],
           "x": [
            -0.09289766699614592
           ],
           "y": [
            -0.05043862806820848
           ],
           "z": [
            0.9943972889470639
           ]
          }
         ],
         "name": "frame580"
        },
        {
         "data": [
          {
           "line": {
            "color": "blue",
            "width": 5
           },
           "mode": "lines",
           "type": "scatter3d",
           "x": [
            0,
            -0.08742820044336846
           ],
           "y": [
            0,
            -0.05694962734483228
           ],
           "z": [
            0,
            0.9945416279435062
           ]
          },
          {
           "anchor": "tip",
           "colorscale": [
            [
             0,
             "blue"
            ],
            [
             1,
             "blue"
            ]
           ],
           "showscale": false,
           "sizemode": "absolute",
           "sizeref": 0.3,
           "type": "cone",
           "u": [
            -0.08742820044336846
           ],
           "v": [
            -0.05694962734483228
           ],
           "w": [
            0.9945416279435062
           ],
           "x": [
            -0.08742820044336846
           ],
           "y": [
            -0.05694962734483228
           ],
           "z": [
            0.9945416279435062
           ]
          }
         ],
         "name": "frame590"
        },
        {
         "data": [
          {
           "line": {
            "color": "blue",
            "width": 5
           },
           "mode": "lines",
           "type": "scatter3d",
           "x": [
            0,
            -0.08223107469727031
           ],
           "y": [
            0,
            -0.062287830142750654
           ],
           "z": [
            0,
            0.9946649066747253
           ]
          },
          {
           "anchor": "tip",
           "colorscale": [
            [
             0,
             "blue"
            ],
            [
             1,
             "blue"
            ]
           ],
           "showscale": false,
           "sizemode": "absolute",
           "sizeref": 0.3,
           "type": "cone",
           "u": [
            -0.08223107469727031
           ],
           "v": [
            -0.062287830142750654
           ],
           "w": [
            0.9946649066747253
           ],
           "x": [
            -0.08223107469727031
           ],
           "y": [
            -0.062287830142750654
           ],
           "z": [
            0.9946649066747253
           ]
          }
         ],
         "name": "frame600"
        },
        {
         "data": [
          {
           "line": {
            "color": "blue",
            "width": 5
           },
           "mode": "lines",
           "type": "scatter3d",
           "x": [
            0,
            -0.08217767405699578
           ],
           "y": [
            0,
            -0.062362205153944326
           ],
           "z": [
            0,
            0.994664659699398
           ]
          },
          {
           "anchor": "tip",
           "colorscale": [
            [
             0,
             "blue"
            ],
            [
             1,
             "blue"
            ]
           ],
           "showscale": false,
           "sizemode": "absolute",
           "sizeref": 0.3,
           "type": "cone",
           "u": [
            -0.08217767405699578
           ],
           "v": [
            -0.062362205153944326
           ],
           "w": [
            0.994664659699398
           ],
           "x": [
            -0.08217767405699578
           ],
           "y": [
            -0.062362205153944326
           ],
           "z": [
            0.994664659699398
           ]
          }
         ],
         "name": "frame610"
        },
        {
         "data": [
          {
           "line": {
            "color": "blue",
            "width": 5
           },
           "mode": "lines",
           "type": "scatter3d",
           "x": [
            0,
            -0.07713399919655559
           ],
           "y": [
            0,
            -0.067311669685795
           ],
           "z": [
            0,
            0.9947459400731706
           ]
          },
          {
           "anchor": "tip",
           "colorscale": [
            [
             0,
             "blue"
            ],
            [
             1,
             "blue"
            ]
           ],
           "showscale": false,
           "sizemode": "absolute",
           "sizeref": 0.3,
           "type": "cone",
           "u": [
            -0.07713399919655559
           ],
           "v": [
            -0.067311669685795
           ],
           "w": [
            0.9947459400731706
           ],
           "x": [
            -0.07713399919655559
           ],
           "y": [
            -0.067311669685795
           ],
           "z": [
            0.9947459400731706
           ]
          }
         ],
         "name": "frame620"
        },
        {
         "data": [
          {
           "line": {
            "color": "blue",
            "width": 5
           },
           "mode": "lines",
           "type": "scatter3d",
           "x": [
            0,
            -0.06808426784392982
           ],
           "y": [
            0,
            -0.0730560275824233
           ],
           "z": [
            0,
            0.9950011805550948
           ]
          },
          {
           "anchor": "tip",
           "colorscale": [
            [
             0,
             "blue"
            ],
            [
             1,
             "blue"
            ]
           ],
           "showscale": false,
           "sizemode": "absolute",
           "sizeref": 0.3,
           "type": "cone",
           "u": [
            -0.06808426784392982
           ],
           "v": [
            -0.0730560275824233
           ],
           "w": [
            0.9950011805550948
           ],
           "x": [
            -0.06808426784392982
           ],
           "y": [
            -0.0730560275824233
           ],
           "z": [
            0.9950011805550948
           ]
          }
         ],
         "name": "frame630"
        },
        {
         "data": [
          {
           "line": {
            "color": "blue",
            "width": 5
           },
           "mode": "lines",
           "type": "scatter3d",
           "x": [
            0,
            -0.06964043210944545
           ],
           "y": [
            0,
            -0.07270402147100168
           ],
           "z": [
            0,
            0.9949192607832831
           ]
          },
          {
           "anchor": "tip",
           "colorscale": [
            [
             0,
             "blue"
            ],
            [
             1,
             "blue"
            ]
           ],
           "showscale": false,
           "sizemode": "absolute",
           "sizeref": 0.3,
           "type": "cone",
           "u": [
            -0.06964043210944545
           ],
           "v": [
            -0.07270402147100168
           ],
           "w": [
            0.9949192607832831
           ],
           "x": [
            -0.06964043210944545
           ],
           "y": [
            -0.07270402147100168
           ],
           "z": [
            0.9949192607832831
           ]
          }
         ],
         "name": "frame640"
        },
        {
         "data": [
          {
           "line": {
            "color": "blue",
            "width": 5
           },
           "mode": "lines",
           "type": "scatter3d",
           "x": [
            0,
            -0.0641487445838493
           ],
           "y": [
            0,
            -0.07620673575949201
           ],
           "z": [
            0,
            0.9950263674864093
           ]
          },
          {
           "anchor": "tip",
           "colorscale": [
            [
             0,
             "blue"
            ],
            [
             1,
             "blue"
            ]
           ],
           "showscale": false,
           "sizemode": "absolute",
           "sizeref": 0.3,
           "type": "cone",
           "u": [
            -0.0641487445838493
           ],
           "v": [
            -0.07620673575949201
           ],
           "w": [
            0.9950263674864093
           ],
           "x": [
            -0.0641487445838493
           ],
           "y": [
            -0.07620673575949201
           ],
           "z": [
            0.9950263674864093
           ]
          }
         ],
         "name": "frame650"
        },
        {
         "data": [
          {
           "line": {
            "color": "blue",
            "width": 5
           },
           "mode": "lines",
           "type": "scatter3d",
           "x": [
            0,
            -0.05116474448432037
           ],
           "y": [
            0,
            -0.08091463812622664
           ],
           "z": [
            0,
            0.9954069470617314
           ]
          },
          {
           "anchor": "tip",
           "colorscale": [
            [
             0,
             "blue"
            ],
            [
             1,
             "blue"
            ]
           ],
           "showscale": false,
           "sizemode": "absolute",
           "sizeref": 0.3,
           "type": "cone",
           "u": [
            -0.05116474448432037
           ],
           "v": [
            -0.08091463812622664
           ],
           "w": [
            0.9954069470617314
           ],
           "x": [
            -0.05116474448432037
           ],
           "y": [
            -0.08091463812622664
           ],
           "z": [
            0.9954069470617314
           ]
          }
         ],
         "name": "frame660"
        },
        {
         "data": [
          {
           "line": {
            "color": "blue",
            "width": 5
           },
           "mode": "lines",
           "type": "scatter3d",
           "x": [
            0,
            -0.057332991553556444
           ],
           "y": [
            0,
            -0.08086723004255657
           ],
           "z": [
            0,
            0.9950745797098648
           ]
          },
          {
           "anchor": "tip",
           "colorscale": [
            [
             0,
             "blue"
            ],
            [
             1,
             "blue"
            ]
           ],
           "showscale": false,
           "sizemode": "absolute",
           "sizeref": 0.3,
           "type": "cone",
           "u": [
            -0.057332991553556444
           ],
           "v": [
            -0.08086723004255657
           ],
           "w": [
            0.9950745797098648
           ],
           "x": [
            -0.057332991553556444
           ],
           "y": [
            -0.08086723004255657
           ],
           "z": [
            0.9950745797098648
           ]
          }
         ],
         "name": "frame670"
        },
        {
         "data": [
          {
           "line": {
            "color": "blue",
            "width": 5
           },
           "mode": "lines",
           "type": "scatter3d",
           "x": [
            0,
            -0.05031092128248501
           ],
           "y": [
            0,
            -0.08390929082814447
           ],
           "z": [
            0,
            0.9952025131160118
           ]
          },
          {
           "anchor": "tip",
           "colorscale": [
            [
             0,
             "blue"
            ],
            [
             1,
             "blue"
            ]
           ],
           "showscale": false,
           "sizemode": "absolute",
           "sizeref": 0.3,
           "type": "cone",
           "u": [
            -0.05031092128248501
           ],
           "v": [
            -0.08390929082814447
           ],
           "w": [
            0.9952025131160118
           ],
           "x": [
            -0.05031092128248501
           ],
           "y": [
            -0.08390929082814447
           ],
           "z": [
            0.9952025131160118
           ]
          }
         ],
         "name": "frame680"
        },
        {
         "data": [
          {
           "line": {
            "color": "blue",
            "width": 5
           },
           "mode": "lines",
           "type": "scatter3d",
           "x": [
            0,
            -0.049156341100564035
           ],
           "y": [
            0,
            -0.08433119982311055
           ],
           "z": [
            0,
            0.9952245489667142
           ]
          },
          {
           "anchor": "tip",
           "colorscale": [
            [
             0,
             "blue"
            ],
            [
             1,
             "blue"
            ]
           ],
           "showscale": false,
           "sizemode": "absolute",
           "sizeref": 0.3,
           "type": "cone",
           "u": [
            -0.049156341100564035
           ],
           "v": [
            -0.08433119982311055
           ],
           "w": [
            0.9952245489667142
           ],
           "x": [
            -0.049156341100564035
           ],
           "y": [
            -0.08433119982311055
           ],
           "z": [
            0.9952245489667142
           ]
          }
         ],
         "name": "frame690"
        },
        {
         "data": [
          {
           "line": {
            "color": "blue",
            "width": 5
           },
           "mode": "lines",
           "type": "scatter3d",
           "x": [
            0,
            -0.048302520421716275
           ],
           "y": [
            0,
            -0.08464765011263861
           ],
           "z": [
            0,
            0.9952394896964842
           ]
          },
          {
           "anchor": "tip",
           "colorscale": [
            [
             0,
             "blue"
            ],
            [
             1,
             "blue"
            ]
           ],
           "showscale": false,
           "sizemode": "absolute",
           "sizeref": 0.3,
           "type": "cone",
           "u": [
            -0.048302520421716275
           ],
           "v": [
            -0.08464765011263861
           ],
           "w": [
            0.9952394896964842
           ],
           "x": [
            -0.048302520421716275
           ],
           "y": [
            -0.08464765011263861
           ],
           "z": [
            0.9952394896964842
           ]
          }
         ],
         "name": "frame700"
        },
        {
         "data": [
          {
           "line": {
            "color": "blue",
            "width": 5
           },
           "mode": "lines",
           "type": "scatter3d",
           "x": [
            0,
            -0.04817561589596117
           ],
           "y": [
            0,
            -0.08459931665535003
           ],
           "z": [
            0,
            0.9952497503915751
           ]
          },
          {
           "anchor": "tip",
           "colorscale": [
            [
             0,
             "blue"
            ],
            [
             1,
             "blue"
            ]
           ],
           "showscale": false,
           "sizemode": "absolute",
           "sizeref": 0.3,
           "type": "cone",
           "u": [
            -0.04817561589596117
           ],
           "v": [
            -0.08459931665535003
           ],
           "w": [
            0.9952497503915751
           ],
           "x": [
            -0.04817561589596117
           ],
           "y": [
            -0.08459931665535003
           ],
           "z": [
            0.9952497503915751
           ]
          }
         ],
         "name": "frame710"
        },
        {
         "data": [
          {
           "line": {
            "color": "blue",
            "width": 5
           },
           "mode": "lines",
           "type": "scatter3d",
           "x": [
            0,
            -0.04817560750664146
           ],
           "y": [
            0,
            -0.08459931346017877
           ],
           "z": [
            0,
            0.9952497510692642
           ]
          },
          {
           "anchor": "tip",
           "colorscale": [
            [
             0,
             "blue"
            ],
            [
             1,
             "blue"
            ]
           ],
           "showscale": false,
           "sizemode": "absolute",
           "sizeref": 0.3,
           "type": "cone",
           "u": [
            -0.04817560750664146
           ],
           "v": [
            -0.08459931346017877
           ],
           "w": [
            0.9952497510692642
           ],
           "x": [
            -0.04817560750664146
           ],
           "y": [
            -0.08459931346017877
           ],
           "z": [
            0.9952497510692642
           ]
          }
         ],
         "name": "frame720"
        },
        {
         "data": [
          {
           "line": {
            "color": "blue",
            "width": 5
           },
           "mode": "lines",
           "type": "scatter3d",
           "x": [
            0,
            -0.04817560750608734
           ],
           "y": [
            0,
            -0.08459931345996768
           ],
           "z": [
            0,
            0.9952497510693088
           ]
          },
          {
           "anchor": "tip",
           "colorscale": [
            [
             0,
             "blue"
            ],
            [
             1,
             "blue"
            ]
           ],
           "showscale": false,
           "sizemode": "absolute",
           "sizeref": 0.3,
           "type": "cone",
           "u": [
            -0.04817560750608734
           ],
           "v": [
            -0.08459931345996768
           ],
           "w": [
            0.9952497510693088
           ],
           "x": [
            -0.04817560750608734
           ],
           "y": [
            -0.08459931345996768
           ],
           "z": [
            0.9952497510693088
           ]
          }
         ],
         "name": "frame730"
        },
        {
         "data": [
          {
           "line": {
            "color": "blue",
            "width": 5
           },
           "mode": "lines",
           "type": "scatter3d",
           "x": [
            0,
            -0.04817560750608717
           ],
           "y": [
            0,
            -0.08459931345996691
           ],
           "z": [
            0,
            0.9952497510693089
           ]
          },
          {
           "anchor": "tip",
           "colorscale": [
            [
             0,
             "blue"
            ],
            [
             1,
             "blue"
            ]
           ],
           "showscale": false,
           "sizemode": "absolute",
           "sizeref": 0.3,
           "type": "cone",
           "u": [
            -0.04817560750608717
           ],
           "v": [
            -0.08459931345996691
           ],
           "w": [
            0.9952497510693089
           ],
           "x": [
            -0.04817560750608717
           ],
           "y": [
            -0.08459931345996691
           ],
           "z": [
            0.9952497510693089
           ]
          }
         ],
         "name": "frame740"
        },
        {
         "data": [
          {
           "line": {
            "color": "blue",
            "width": 5
           },
           "mode": "lines",
           "type": "scatter3d",
           "x": [
            0,
            -0.04817560750608754
           ],
           "y": [
            0,
            -0.08459931345996763
           ],
           "z": [
            0,
            0.9952497510693088
           ]
          },
          {
           "anchor": "tip",
           "colorscale": [
            [
             0,
             "blue"
            ],
            [
             1,
             "blue"
            ]
           ],
           "showscale": false,
           "sizemode": "absolute",
           "sizeref": 0.3,
           "type": "cone",
           "u": [
            -0.04817560750608754
           ],
           "v": [
            -0.08459931345996763
           ],
           "w": [
            0.9952497510693088
           ],
           "x": [
            -0.04817560750608754
           ],
           "y": [
            -0.08459931345996763
           ],
           "z": [
            0.9952497510693088
           ]
          }
         ],
         "name": "frame750"
        },
        {
         "data": [
          {
           "line": {
            "color": "blue",
            "width": 5
           },
           "mode": "lines",
           "type": "scatter3d",
           "x": [
            0,
            -0.047745659500939897
           ],
           "y": [
            0,
            -0.08468817197992146
           ],
           "z": [
            0,
            0.9952629127650239
           ]
          },
          {
           "anchor": "tip",
           "colorscale": [
            [
             0,
             "blue"
            ],
            [
             1,
             "blue"
            ]
           ],
           "showscale": false,
           "sizemode": "absolute",
           "sizeref": 0.3,
           "type": "cone",
           "u": [
            -0.047745659500939897
           ],
           "v": [
            -0.08468817197992146
           ],
           "w": [
            0.9952629127650239
           ],
           "x": [
            -0.047745659500939897
           ],
           "y": [
            -0.08468817197992146
           ],
           "z": [
            0.9952629127650239
           ]
          }
         ],
         "name": "frame760"
        },
        {
         "data": [
          {
           "line": {
            "color": "blue",
            "width": 5
           },
           "mode": "lines",
           "type": "scatter3d",
           "x": [
            0,
            -0.04773331694444127
           ],
           "y": [
            0,
            -0.08468783866004265
           ],
           "z": [
            0,
            0.9952635331592192
           ]
          },
          {
           "anchor": "tip",
           "colorscale": [
            [
             0,
             "blue"
            ],
            [
             1,
             "blue"
            ]
           ],
           "showscale": false,
           "sizemode": "absolute",
           "sizeref": 0.3,
           "type": "cone",
           "u": [
            -0.04773331694444127
           ],
           "v": [
            -0.08468783866004265
           ],
           "w": [
            0.9952635331592192
           ],
           "x": [
            -0.04773331694444127
           ],
           "y": [
            -0.08468783866004265
           ],
           "z": [
            0.9952635331592192
           ]
          }
         ],
         "name": "frame770"
        },
        {
         "data": [
          {
           "line": {
            "color": "blue",
            "width": 5
           },
           "mode": "lines",
           "type": "scatter3d",
           "x": [
            0,
            -0.047917461638349604
           ],
           "y": [
            0,
            -0.08468699165548253
           ],
           "z": [
            0,
            0.9952547564892524
           ]
          },
          {
           "anchor": "tip",
           "colorscale": [
            [
             0,
             "blue"
            ],
            [
             1,
             "blue"
            ]
           ],
           "showscale": false,
           "sizemode": "absolute",
           "sizeref": 0.3,
           "type": "cone",
           "u": [
            -0.047917461638349604
           ],
           "v": [
            -0.08468699165548253
           ],
           "w": [
            0.9952547564892524
           ],
           "x": [
            -0.047917461638349604
           ],
           "y": [
            -0.08468699165548253
           ],
           "z": [
            0.9952547564892524
           ]
          }
         ],
         "name": "frame780"
        },
        {
         "data": [
          {
           "line": {
            "color": "blue",
            "width": 5
           },
           "mode": "lines",
           "type": "scatter3d",
           "x": [
            0,
            -0.047917512856220076
           ],
           "y": [
            0,
            -0.08468700051865354
           ],
           "z": [
            0,
            0.9952547532691456
           ]
          },
          {
           "anchor": "tip",
           "colorscale": [
            [
             0,
             "blue"
            ],
            [
             1,
             "blue"
            ]
           ],
           "showscale": false,
           "sizemode": "absolute",
           "sizeref": 0.3,
           "type": "cone",
           "u": [
            -0.047917512856220076
           ],
           "v": [
            -0.08468700051865354
           ],
           "w": [
            0.9952547532691456
           ],
           "x": [
            -0.047917512856220076
           ],
           "y": [
            -0.08468700051865354
           ],
           "z": [
            0.9952547532691456
           ]
          }
         ],
         "name": "frame790"
        },
        {
         "data": [
          {
           "line": {
            "color": "blue",
            "width": 5
           },
           "mode": "lines",
           "type": "scatter3d",
           "x": [
            0,
            -0.04786463038776019
           ],
           "y": [
            0,
            -0.08480607926787052
           ],
           "z": [
            0,
            0.9952471582863498
           ]
          },
          {
           "anchor": "tip",
           "colorscale": [
            [
             0,
             "blue"
            ],
            [
             1,
             "blue"
            ]
           ],
           "showscale": false,
           "sizemode": "absolute",
           "sizeref": 0.3,
           "type": "cone",
           "u": [
            -0.04786463038776019
           ],
           "v": [
            -0.08480607926787052
           ],
           "w": [
            0.9952471582863498
           ],
           "x": [
            -0.04786463038776019
           ],
           "y": [
            -0.08480607926787052
           ],
           "z": [
            0.9952471582863498
           ]
          }
         ],
         "name": "frame800"
        },
        {
         "data": [
          {
           "line": {
            "color": "blue",
            "width": 5
           },
           "mode": "lines",
           "type": "scatter3d",
           "x": [
            0,
            -0.04774776608473612
           ],
           "y": [
            0,
            -0.08503099862201369
           ],
           "z": [
            0,
            0.9952335806770493
           ]
          },
          {
           "anchor": "tip",
           "colorscale": [
            [
             0,
             "blue"
            ],
            [
             1,
             "blue"
            ]
           ],
           "showscale": false,
           "sizemode": "absolute",
           "sizeref": 0.3,
           "type": "cone",
           "u": [
            -0.04774776608473612
           ],
           "v": [
            -0.08503099862201369
           ],
           "w": [
            0.9952335806770493
           ],
           "x": [
            -0.04774776608473612
           ],
           "y": [
            -0.08503099862201369
           ],
           "z": [
            0.9952335806770493
           ]
          }
         ],
         "name": "frame810"
        }
       ],
       "layout": {
        "scene": {
         "xaxis": {
          "range": [
           -1,
           1
          ],
          "title": {
           "text": "X"
          }
         },
         "yaxis": {
          "range": [
           -1,
           1
          ],
          "title": {
           "text": "Y"
          }
         },
         "zaxis": {
          "range": [
           -1,
           1
          ],
          "title": {
           "text": "Z"
          }
         }
        },
        "sliders": [
         {
          "currentvalue": {
           "font": {
            "size": 20
           },
           "prefix": "Time: "
          },
          "pad": {
           "t": 50
          },
          "steps": [
           {
            "args": [
             [
              "frame0"
             ],
             {
              "frame": {
               "duration": 50,
               "redraw": true
              },
              "mode": "immediate"
             }
            ],
            "method": "animate"
           },
           {
            "args": [
             [
              "frame10"
             ],
             {
              "frame": {
               "duration": 50,
               "redraw": true
              },
              "mode": "immediate"
             }
            ],
            "method": "animate"
           },
           {
            "args": [
             [
              "frame20"
             ],
             {
              "frame": {
               "duration": 50,
               "redraw": true
              },
              "mode": "immediate"
             }
            ],
            "method": "animate"
           },
           {
            "args": [
             [
              "frame30"
             ],
             {
              "frame": {
               "duration": 50,
               "redraw": true
              },
              "mode": "immediate"
             }
            ],
            "method": "animate"
           },
           {
            "args": [
             [
              "frame40"
             ],
             {
              "frame": {
               "duration": 50,
               "redraw": true
              },
              "mode": "immediate"
             }
            ],
            "method": "animate"
           },
           {
            "args": [
             [
              "frame50"
             ],
             {
              "frame": {
               "duration": 50,
               "redraw": true
              },
              "mode": "immediate"
             }
            ],
            "method": "animate"
           },
           {
            "args": [
             [
              "frame60"
             ],
             {
              "frame": {
               "duration": 50,
               "redraw": true
              },
              "mode": "immediate"
             }
            ],
            "method": "animate"
           },
           {
            "args": [
             [
              "frame70"
             ],
             {
              "frame": {
               "duration": 50,
               "redraw": true
              },
              "mode": "immediate"
             }
            ],
            "method": "animate"
           },
           {
            "args": [
             [
              "frame80"
             ],
             {
              "frame": {
               "duration": 50,
               "redraw": true
              },
              "mode": "immediate"
             }
            ],
            "method": "animate"
           },
           {
            "args": [
             [
              "frame90"
             ],
             {
              "frame": {
               "duration": 50,
               "redraw": true
              },
              "mode": "immediate"
             }
            ],
            "method": "animate"
           },
           {
            "args": [
             [
              "frame100"
             ],
             {
              "frame": {
               "duration": 50,
               "redraw": true
              },
              "mode": "immediate"
             }
            ],
            "method": "animate"
           },
           {
            "args": [
             [
              "frame110"
             ],
             {
              "frame": {
               "duration": 50,
               "redraw": true
              },
              "mode": "immediate"
             }
            ],
            "method": "animate"
           },
           {
            "args": [
             [
              "frame120"
             ],
             {
              "frame": {
               "duration": 50,
               "redraw": true
              },
              "mode": "immediate"
             }
            ],
            "method": "animate"
           },
           {
            "args": [
             [
              "frame130"
             ],
             {
              "frame": {
               "duration": 50,
               "redraw": true
              },
              "mode": "immediate"
             }
            ],
            "method": "animate"
           },
           {
            "args": [
             [
              "frame140"
             ],
             {
              "frame": {
               "duration": 50,
               "redraw": true
              },
              "mode": "immediate"
             }
            ],
            "method": "animate"
           },
           {
            "args": [
             [
              "frame150"
             ],
             {
              "frame": {
               "duration": 50,
               "redraw": true
              },
              "mode": "immediate"
             }
            ],
            "method": "animate"
           },
           {
            "args": [
             [
              "frame160"
             ],
             {
              "frame": {
               "duration": 50,
               "redraw": true
              },
              "mode": "immediate"
             }
            ],
            "method": "animate"
           },
           {
            "args": [
             [
              "frame170"
             ],
             {
              "frame": {
               "duration": 50,
               "redraw": true
              },
              "mode": "immediate"
             }
            ],
            "method": "animate"
           },
           {
            "args": [
             [
              "frame180"
             ],
             {
              "frame": {
               "duration": 50,
               "redraw": true
              },
              "mode": "immediate"
             }
            ],
            "method": "animate"
           },
           {
            "args": [
             [
              "frame190"
             ],
             {
              "frame": {
               "duration": 50,
               "redraw": true
              },
              "mode": "immediate"
             }
            ],
            "method": "animate"
           },
           {
            "args": [
             [
              "frame200"
             ],
             {
              "frame": {
               "duration": 50,
               "redraw": true
              },
              "mode": "immediate"
             }
            ],
            "method": "animate"
           },
           {
            "args": [
             [
              "frame210"
             ],
             {
              "frame": {
               "duration": 50,
               "redraw": true
              },
              "mode": "immediate"
             }
            ],
            "method": "animate"
           },
           {
            "args": [
             [
              "frame220"
             ],
             {
              "frame": {
               "duration": 50,
               "redraw": true
              },
              "mode": "immediate"
             }
            ],
            "method": "animate"
           },
           {
            "args": [
             [
              "frame230"
             ],
             {
              "frame": {
               "duration": 50,
               "redraw": true
              },
              "mode": "immediate"
             }
            ],
            "method": "animate"
           },
           {
            "args": [
             [
              "frame240"
             ],
             {
              "frame": {
               "duration": 50,
               "redraw": true
              },
              "mode": "immediate"
             }
            ],
            "method": "animate"
           },
           {
            "args": [
             [
              "frame250"
             ],
             {
              "frame": {
               "duration": 50,
               "redraw": true
              },
              "mode": "immediate"
             }
            ],
            "method": "animate"
           },
           {
            "args": [
             [
              "frame260"
             ],
             {
              "frame": {
               "duration": 50,
               "redraw": true
              },
              "mode": "immediate"
             }
            ],
            "method": "animate"
           },
           {
            "args": [
             [
              "frame270"
             ],
             {
              "frame": {
               "duration": 50,
               "redraw": true
              },
              "mode": "immediate"
             }
            ],
            "method": "animate"
           },
           {
            "args": [
             [
              "frame280"
             ],
             {
              "frame": {
               "duration": 50,
               "redraw": true
              },
              "mode": "immediate"
             }
            ],
            "method": "animate"
           },
           {
            "args": [
             [
              "frame290"
             ],
             {
              "frame": {
               "duration": 50,
               "redraw": true
              },
              "mode": "immediate"
             }
            ],
            "method": "animate"
           },
           {
            "args": [
             [
              "frame300"
             ],
             {
              "frame": {
               "duration": 50,
               "redraw": true
              },
              "mode": "immediate"
             }
            ],
            "method": "animate"
           },
           {
            "args": [
             [
              "frame310"
             ],
             {
              "frame": {
               "duration": 50,
               "redraw": true
              },
              "mode": "immediate"
             }
            ],
            "method": "animate"
           },
           {
            "args": [
             [
              "frame320"
             ],
             {
              "frame": {
               "duration": 50,
               "redraw": true
              },
              "mode": "immediate"
             }
            ],
            "method": "animate"
           },
           {
            "args": [
             [
              "frame330"
             ],
             {
              "frame": {
               "duration": 50,
               "redraw": true
              },
              "mode": "immediate"
             }
            ],
            "method": "animate"
           },
           {
            "args": [
             [
              "frame340"
             ],
             {
              "frame": {
               "duration": 50,
               "redraw": true
              },
              "mode": "immediate"
             }
            ],
            "method": "animate"
           },
           {
            "args": [
             [
              "frame350"
             ],
             {
              "frame": {
               "duration": 50,
               "redraw": true
              },
              "mode": "immediate"
             }
            ],
            "method": "animate"
           },
           {
            "args": [
             [
              "frame360"
             ],
             {
              "frame": {
               "duration": 50,
               "redraw": true
              },
              "mode": "immediate"
             }
            ],
            "method": "animate"
           },
           {
            "args": [
             [
              "frame370"
             ],
             {
              "frame": {
               "duration": 50,
               "redraw": true
              },
              "mode": "immediate"
             }
            ],
            "method": "animate"
           },
           {
            "args": [
             [
              "frame380"
             ],
             {
              "frame": {
               "duration": 50,
               "redraw": true
              },
              "mode": "immediate"
             }
            ],
            "method": "animate"
           },
           {
            "args": [
             [
              "frame390"
             ],
             {
              "frame": {
               "duration": 50,
               "redraw": true
              },
              "mode": "immediate"
             }
            ],
            "method": "animate"
           },
           {
            "args": [
             [
              "frame400"
             ],
             {
              "frame": {
               "duration": 50,
               "redraw": true
              },
              "mode": "immediate"
             }
            ],
            "method": "animate"
           },
           {
            "args": [
             [
              "frame410"
             ],
             {
              "frame": {
               "duration": 50,
               "redraw": true
              },
              "mode": "immediate"
             }
            ],
            "method": "animate"
           },
           {
            "args": [
             [
              "frame420"
             ],
             {
              "frame": {
               "duration": 50,
               "redraw": true
              },
              "mode": "immediate"
             }
            ],
            "method": "animate"
           },
           {
            "args": [
             [
              "frame430"
             ],
             {
              "frame": {
               "duration": 50,
               "redraw": true
              },
              "mode": "immediate"
             }
            ],
            "method": "animate"
           },
           {
            "args": [
             [
              "frame440"
             ],
             {
              "frame": {
               "duration": 50,
               "redraw": true
              },
              "mode": "immediate"
             }
            ],
            "method": "animate"
           },
           {
            "args": [
             [
              "frame450"
             ],
             {
              "frame": {
               "duration": 50,
               "redraw": true
              },
              "mode": "immediate"
             }
            ],
            "method": "animate"
           },
           {
            "args": [
             [
              "frame460"
             ],
             {
              "frame": {
               "duration": 50,
               "redraw": true
              },
              "mode": "immediate"
             }
            ],
            "method": "animate"
           },
           {
            "args": [
             [
              "frame470"
             ],
             {
              "frame": {
               "duration": 50,
               "redraw": true
              },
              "mode": "immediate"
             }
            ],
            "method": "animate"
           },
           {
            "args": [
             [
              "frame480"
             ],
             {
              "frame": {
               "duration": 50,
               "redraw": true
              },
              "mode": "immediate"
             }
            ],
            "method": "animate"
           },
           {
            "args": [
             [
              "frame490"
             ],
             {
              "frame": {
               "duration": 50,
               "redraw": true
              },
              "mode": "immediate"
             }
            ],
            "method": "animate"
           },
           {
            "args": [
             [
              "frame500"
             ],
             {
              "frame": {
               "duration": 50,
               "redraw": true
              },
              "mode": "immediate"
             }
            ],
            "method": "animate"
           },
           {
            "args": [
             [
              "frame510"
             ],
             {
              "frame": {
               "duration": 50,
               "redraw": true
              },
              "mode": "immediate"
             }
            ],
            "method": "animate"
           },
           {
            "args": [
             [
              "frame520"
             ],
             {
              "frame": {
               "duration": 50,
               "redraw": true
              },
              "mode": "immediate"
             }
            ],
            "method": "animate"
           },
           {
            "args": [
             [
              "frame530"
             ],
             {
              "frame": {
               "duration": 50,
               "redraw": true
              },
              "mode": "immediate"
             }
            ],
            "method": "animate"
           },
           {
            "args": [
             [
              "frame540"
             ],
             {
              "frame": {
               "duration": 50,
               "redraw": true
              },
              "mode": "immediate"
             }
            ],
            "method": "animate"
           },
           {
            "args": [
             [
              "frame550"
             ],
             {
              "frame": {
               "duration": 50,
               "redraw": true
              },
              "mode": "immediate"
             }
            ],
            "method": "animate"
           },
           {
            "args": [
             [
              "frame560"
             ],
             {
              "frame": {
               "duration": 50,
               "redraw": true
              },
              "mode": "immediate"
             }
            ],
            "method": "animate"
           },
           {
            "args": [
             [
              "frame570"
             ],
             {
              "frame": {
               "duration": 50,
               "redraw": true
              },
              "mode": "immediate"
             }
            ],
            "method": "animate"
           },
           {
            "args": [
             [
              "frame580"
             ],
             {
              "frame": {
               "duration": 50,
               "redraw": true
              },
              "mode": "immediate"
             }
            ],
            "method": "animate"
           },
           {
            "args": [
             [
              "frame590"
             ],
             {
              "frame": {
               "duration": 50,
               "redraw": true
              },
              "mode": "immediate"
             }
            ],
            "method": "animate"
           },
           {
            "args": [
             [
              "frame600"
             ],
             {
              "frame": {
               "duration": 50,
               "redraw": true
              },
              "mode": "immediate"
             }
            ],
            "method": "animate"
           },
           {
            "args": [
             [
              "frame610"
             ],
             {
              "frame": {
               "duration": 50,
               "redraw": true
              },
              "mode": "immediate"
             }
            ],
            "method": "animate"
           },
           {
            "args": [
             [
              "frame620"
             ],
             {
              "frame": {
               "duration": 50,
               "redraw": true
              },
              "mode": "immediate"
             }
            ],
            "method": "animate"
           },
           {
            "args": [
             [
              "frame630"
             ],
             {
              "frame": {
               "duration": 50,
               "redraw": true
              },
              "mode": "immediate"
             }
            ],
            "method": "animate"
           },
           {
            "args": [
             [
              "frame640"
             ],
             {
              "frame": {
               "duration": 50,
               "redraw": true
              },
              "mode": "immediate"
             }
            ],
            "method": "animate"
           },
           {
            "args": [
             [
              "frame650"
             ],
             {
              "frame": {
               "duration": 50,
               "redraw": true
              },
              "mode": "immediate"
             }
            ],
            "method": "animate"
           },
           {
            "args": [
             [
              "frame660"
             ],
             {
              "frame": {
               "duration": 50,
               "redraw": true
              },
              "mode": "immediate"
             }
            ],
            "method": "animate"
           },
           {
            "args": [
             [
              "frame670"
             ],
             {
              "frame": {
               "duration": 50,
               "redraw": true
              },
              "mode": "immediate"
             }
            ],
            "method": "animate"
           },
           {
            "args": [
             [
              "frame680"
             ],
             {
              "frame": {
               "duration": 50,
               "redraw": true
              },
              "mode": "immediate"
             }
            ],
            "method": "animate"
           },
           {
            "args": [
             [
              "frame690"
             ],
             {
              "frame": {
               "duration": 50,
               "redraw": true
              },
              "mode": "immediate"
             }
            ],
            "method": "animate"
           },
           {
            "args": [
             [
              "frame700"
             ],
             {
              "frame": {
               "duration": 50,
               "redraw": true
              },
              "mode": "immediate"
             }
            ],
            "method": "animate"
           },
           {
            "args": [
             [
              "frame710"
             ],
             {
              "frame": {
               "duration": 50,
               "redraw": true
              },
              "mode": "immediate"
             }
            ],
            "method": "animate"
           },
           {
            "args": [
             [
              "frame720"
             ],
             {
              "frame": {
               "duration": 50,
               "redraw": true
              },
              "mode": "immediate"
             }
            ],
            "method": "animate"
           },
           {
            "args": [
             [
              "frame730"
             ],
             {
              "frame": {
               "duration": 50,
               "redraw": true
              },
              "mode": "immediate"
             }
            ],
            "method": "animate"
           },
           {
            "args": [
             [
              "frame740"
             ],
             {
              "frame": {
               "duration": 50,
               "redraw": true
              },
              "mode": "immediate"
             }
            ],
            "method": "animate"
           },
           {
            "args": [
             [
              "frame750"
             ],
             {
              "frame": {
               "duration": 50,
               "redraw": true
              },
              "mode": "immediate"
             }
            ],
            "method": "animate"
           },
           {
            "args": [
             [
              "frame760"
             ],
             {
              "frame": {
               "duration": 50,
               "redraw": true
              },
              "mode": "immediate"
             }
            ],
            "method": "animate"
           },
           {
            "args": [
             [
              "frame770"
             ],
             {
              "frame": {
               "duration": 50,
               "redraw": true
              },
              "mode": "immediate"
             }
            ],
            "method": "animate"
           },
           {
            "args": [
             [
              "frame780"
             ],
             {
              "frame": {
               "duration": 50,
               "redraw": true
              },
              "mode": "immediate"
             }
            ],
            "method": "animate"
           },
           {
            "args": [
             [
              "frame790"
             ],
             {
              "frame": {
               "duration": 50,
               "redraw": true
              },
              "mode": "immediate"
             }
            ],
            "method": "animate"
           },
           {
            "args": [
             [
              "frame800"
             ],
             {
              "frame": {
               "duration": 50,
               "redraw": true
              },
              "mode": "immediate"
             }
            ],
            "method": "animate"
           },
           {
            "args": [
             [
              "frame810"
             ],
             {
              "frame": {
               "duration": 50,
               "redraw": true
              },
              "mode": "immediate"
             }
            ],
            "method": "animate"
           }
          ]
         }
        ],
        "template": {
         "data": {
          "candlestick": [
           {
            "decreasing": {
             "line": {
              "color": "#000033"
             }
            },
            "increasing": {
             "line": {
              "color": "#000032"
             }
            },
            "type": "candlestick"
           }
          ],
          "contour": [
           {
            "colorscale": [
             [
              0,
              "#000011"
             ],
             [
              0.1111111111111111,
              "#000012"
             ],
             [
              0.2222222222222222,
              "#000013"
             ],
             [
              0.3333333333333333,
              "#000014"
             ],
             [
              0.4444444444444444,
              "#000015"
             ],
             [
              0.5555555555555556,
              "#000016"
             ],
             [
              0.6666666666666666,
              "#000017"
             ],
             [
              0.7777777777777778,
              "#000018"
             ],
             [
              0.8888888888888888,
              "#000019"
             ],
             [
              1,
              "#000020"
             ]
            ],
            "type": "contour"
           }
          ],
          "contourcarpet": [
           {
            "colorscale": [
             [
              0,
              "#000011"
             ],
             [
              0.1111111111111111,
              "#000012"
             ],
             [
              0.2222222222222222,
              "#000013"
             ],
             [
              0.3333333333333333,
              "#000014"
             ],
             [
              0.4444444444444444,
              "#000015"
             ],
             [
              0.5555555555555556,
              "#000016"
             ],
             [
              0.6666666666666666,
              "#000017"
             ],
             [
              0.7777777777777778,
              "#000018"
             ],
             [
              0.8888888888888888,
              "#000019"
             ],
             [
              1,
              "#000020"
             ]
            ],
            "type": "contourcarpet"
           }
          ],
          "heatmap": [
           {
            "colorscale": [
             [
              0,
              "#000011"
             ],
             [
              0.1111111111111111,
              "#000012"
             ],
             [
              0.2222222222222222,
              "#000013"
             ],
             [
              0.3333333333333333,
              "#000014"
             ],
             [
              0.4444444444444444,
              "#000015"
             ],
             [
              0.5555555555555556,
              "#000016"
             ],
             [
              0.6666666666666666,
              "#000017"
             ],
             [
              0.7777777777777778,
              "#000018"
             ],
             [
              0.8888888888888888,
              "#000019"
             ],
             [
              1,
              "#000020"
             ]
            ],
            "type": "heatmap"
           }
          ],
          "histogram2d": [
           {
            "colorscale": [
             [
              0,
              "#000011"
             ],
             [
              0.1111111111111111,
              "#000012"
             ],
             [
              0.2222222222222222,
              "#000013"
             ],
             [
              0.3333333333333333,
              "#000014"
             ],
             [
              0.4444444444444444,
              "#000015"
             ],
             [
              0.5555555555555556,
              "#000016"
             ],
             [
              0.6666666666666666,
              "#000017"
             ],
             [
              0.7777777777777778,
              "#000018"
             ],
             [
              0.8888888888888888,
              "#000019"
             ],
             [
              1,
              "#000020"
             ]
            ],
            "type": "histogram2d"
           }
          ],
          "icicle": [
           {
            "textfont": {
             "color": "white"
            },
            "type": "icicle"
           }
          ],
          "sankey": [
           {
            "textfont": {
             "color": "#000036"
            },
            "type": "sankey"
           }
          ],
          "scatter": [
           {
            "marker": {
             "line": {
              "width": 0
             }
            },
            "type": "scatter"
           }
          ],
          "table": [
           {
            "cells": {
             "fill": {
              "color": "#000038"
             },
             "font": {
              "color": "#000037"
             },
             "line": {
              "color": "#000039"
             }
            },
            "header": {
             "fill": {
              "color": "#000040"
             },
             "font": {
              "color": "#000036"
             },
             "line": {
              "color": "#000039"
             }
            },
            "type": "table"
           }
          ],
          "waterfall": [
           {
            "connector": {
             "line": {
              "color": "#000036",
              "width": 2
             }
            },
            "decreasing": {
             "marker": {
              "color": "#000033"
             }
            },
            "increasing": {
             "marker": {
              "color": "#000032"
             }
            },
            "totals": {
             "marker": {
              "color": "#000034"
             }
            },
            "type": "waterfall"
           }
          ]
         },
         "layout": {
          "coloraxis": {
           "colorscale": [
            [
             0,
             "#000011"
            ],
            [
             0.1111111111111111,
             "#000012"
            ],
            [
             0.2222222222222222,
             "#000013"
            ],
            [
             0.3333333333333333,
             "#000014"
            ],
            [
             0.4444444444444444,
             "#000015"
            ],
            [
             0.5555555555555556,
             "#000016"
            ],
            [
             0.6666666666666666,
             "#000017"
            ],
            [
             0.7777777777777778,
             "#000018"
            ],
            [
             0.8888888888888888,
             "#000019"
            ],
            [
             1,
             "#000020"
            ]
           ]
          },
          "colorscale": {
           "diverging": [
            [
             0,
             "#000021"
            ],
            [
             0.1,
             "#000022"
            ],
            [
             0.2,
             "#000023"
            ],
            [
             0.3,
             "#000024"
            ],
            [
             0.4,
             "#000025"
            ],
            [
             0.5,
             "#000026"
            ],
            [
             0.6,
             "#000027"
            ],
            [
             0.7,
             "#000028"
            ],
            [
             0.8,
             "#000029"
            ],
            [
             0.9,
             "#000030"
            ],
            [
             1,
             "#000031"
            ]
           ],
           "sequential": [
            [
             0,
             "#000011"
            ],
            [
             0.1111111111111111,
             "#000012"
            ],
            [
             0.2222222222222222,
             "#000013"
            ],
            [
             0.3333333333333333,
             "#000014"
            ],
            [
             0.4444444444444444,
             "#000015"
            ],
            [
             0.5555555555555556,
             "#000016"
            ],
            [
             0.6666666666666666,
             "#000017"
            ],
            [
             0.7777777777777778,
             "#000018"
            ],
            [
             0.8888888888888888,
             "#000019"
            ],
            [
             1,
             "#000020"
            ]
           ],
           "sequentialminus": [
            [
             0,
             "#000011"
            ],
            [
             0.1111111111111111,
             "#000012"
            ],
            [
             0.2222222222222222,
             "#000013"
            ],
            [
             0.3333333333333333,
             "#000014"
            ],
            [
             0.4444444444444444,
             "#000015"
            ],
            [
             0.5555555555555556,
             "#000016"
            ],
            [
             0.6666666666666666,
             "#000017"
            ],
            [
             0.7777777777777778,
             "#000018"
            ],
            [
             0.8888888888888888,
             "#000019"
            ],
            [
             1,
             "#000020"
            ]
           ]
          },
          "colorway": [
           "#000001",
           "#000002",
           "#000003",
           "#000004",
           "#000005",
           "#000006",
           "#000007",
           "#000008",
           "#000009",
           "#000010"
          ]
         }
        },
        "updatemenus": [
         {
          "buttons": [
           {
            "args": [
             null,
             {
              "frame": {
               "duration": 50,
               "redraw": true
              },
              "fromcurrent": true
             }
            ],
            "label": "Play",
            "method": "animate"
           },
           {
            "args": [
             [
              null
             ],
             {
              "frame": {
               "duration": 0,
               "redraw": false
              },
              "mode": "immediate"
             }
            ],
            "label": "Pause",
            "method": "animate"
           }
          ],
          "showactive": false,
          "type": "buttons"
         }
        ]
       }
      }
     },
     "metadata": {},
     "output_type": "display_data"
    }
   ],
   "source": [
    "\n",
    "quaternion_data = read_csv(full_data_file_path_z)\n",
    "# Predict states with UKF\n",
    "predicted_states = []\n",
    "\n",
    "for q in quaternion_data:\n",
    "    q = q / np.linalg.norm(q)\n",
    "    ukf.predict()\n",
    "    ukf.update(q)\n",
    "    predicted_states.append(ukf.x)\n",
    "predicted_states = np.array(predicted_states)\n",
    "\n",
    "\n",
    "plot_euler_angles_3d(predicted_states,10)\n",
    "\n"
   ]
  },
  {
   "cell_type": "code",
   "execution_count": 239,
   "metadata": {},
   "outputs": [
    {
     "data": {
      "image/png": "[encoded data removed]",
      "text/plain": [
       "<Figure size 1000x600 with 1 Axes>"
      ]
     },
     "metadata": {},
     "output_type": "display_data"
    }
   ],
   "source": [
    "\n",
    "# plot_euler_angles_over_time(quaternion_data, predicted_states)\n",
    "\n",
    "time_steps = np.arange(0, 760)\n",
    "increments = np.arange(0, 91, 5)\n",
    "rise_values = np.concatenate([np.repeat(increments[i], 14.2) for i in range(len(increments))])\n",
    "fall_values = np.concatenate([np.repeat(increments[i], 14.2) for i in range(len(increments)-1, -1, -1)])\n",
    "\n",
    "pitch_values = np.concatenate([np.ones(114) * 90, fall_values, np.ones(14) * 0, rise_values, np.ones(100) * 90])\n",
    "\n",
    "time_steps = np.arange(len(pitch_values))\n",
    "\n",
    "\n",
    "rolls = []\n",
    "pitches = []\n",
    "yaws = []\n",
    "\n",
    "raw_rolls = []\n",
    "raw_pitches = []\n",
    "raw_yaws = []\n",
    "\n",
    "for q in predicted_states:\n",
    "    roll, pitch, yaw = quaternion_to_euler_angles(q)\n",
    "    rolls.append(np.degrees(roll))\n",
    "    pitches.append(np.degrees(pitch))\n",
    "    yaws.append(np.degrees(yaw))\n",
    "\n",
    "for q in quaternion_data:\n",
    "    roll, pitch, yaw = quaternion_to_euler_angles(q)\n",
    "    raw_rolls.append(np.degrees(roll))\n",
    "    raw_pitches.append(np.degrees(pitch))\n",
    "    raw_yaws.append(np.degrees(yaw))\n",
    "\n",
    "\n",
    "\n",
    "# Define parameters\n",
    "step_width = 12.5  # Horizontal step size\n",
    "step_height = 5  # Vertical step size\n",
    "slope = 5/2.1  # Slope for the \"vertical\" segment\n",
    "x_start = 111\n",
    "x_end1 = x_start + 14.6*18\n",
    "x_end2 = x_end1*2 - x_start + step_width*2\n",
    "\n",
    "# Generate the stepped line coordinates\n",
    "x_values = [0]\n",
    "y_values = [90]  # Starting y value\n",
    "\n",
    "x_current = 0\n",
    "y_current = 90\n",
    "\n",
    "x_current += x_start\n",
    "x_values.append(x_current)\n",
    "y_values.append(y_current)\n",
    "\n",
    "while x_current < x_end1:\n",
    "    # Add the horizontal step\n",
    "    x_values.append(x_current + step_width)\n",
    "    y_values.append(y_current)\n",
    "\n",
    "    # Add the sloped \"vertical\" segment\n",
    "    x_current += step_width + step_height / slope\n",
    "    y_current -= step_height\n",
    "    x_values.append(x_current)\n",
    "    y_values.append(y_current)\n",
    "\n",
    "\n",
    "x_current += 2*step_width\n",
    "x_values.append(x_current)\n",
    "y_values.append(y_current)\n",
    "\n",
    "while x_current < x_end2:\n",
    "    # Add the horizontal step\n",
    "    x_values.append(x_current + step_width)\n",
    "    y_values.append(y_current)\n",
    "\n",
    "    # Add the sloped \"vertical\" segment\n",
    "    x_current += step_width + step_height / slope\n",
    "    y_current += step_height\n",
    "    x_values.append(x_current)\n",
    "    y_values.append(y_current)\n",
    "\n",
    "x_values.append(x_current + 50)\n",
    "y_values.append(y_current)\n",
    "# Plot the stepped line\n",
    "plt.figure(figsize=(10, 6))\n",
    "plt.plot(x_values, y_values, label=\"Custom Steps (Slope 5/2.1)\")\n",
    "\n",
    "plt.plot(raw_yaws[15:], label='Measured Yaw', color='c')\n",
    "plt.plot(yaws[15:], label='Filtered Yaw', color='b')\n",
    "plt.axhline(y=90, color='k', linestyle='-', label='y=90')\n",
    "\n",
    "plt.title('Yaw Over Time')\n",
    "plt.xlabel('Time Step')\n",
    "plt.ylabel('Angle (°)')\n",
    "plt.grid(True)\n",
    "plt.legend()\n",
    "plt.show()\n",
    "\n",
    "\n",
    "# plt.figure(figsize=(10, 6))\n",
    "# plt.step(time_steps, pitch_values, where='mid', label='Ground Truth')\n",
    "# plt.plot(raw_yaws[15:], label='Measured Yaw', color='c')\n",
    "# plt.plot(yaws[15:], label='Filtered Yaw', color='b')\n",
    "# plt.axhline(y=90, color='k', linestyle='-', label='y=90')\n",
    "# plt.axvline(x=370, color='k', linestyle='-')\n",
    "# plt.title('Yaw Over Time')\n",
    "# plt.xlabel('Time Step')\n",
    "# plt.ylabel('Angle (°)')\n",
    "# plt.legend()\n",
    "# plt.grid(True)\n",
    "# plt.show()\n",
    "\n",
    "\n",
    "# z_step starts at sample 136"
   ]
  },
  {
   "cell_type": "code",
   "execution_count": null,
   "metadata": {},
   "outputs": [],
   "source": []
  }
 ],
 "metadata": {
  "kernelspec": {
   "display_name": "SPAI",
   "language": "python",
   "name": "python3"
  },
  "language_info": {
   "codemirror_mode": {
    "name": "ipython",
    "version": 3
   },
   "file_extension": ".py",
   "mimetype": "text/x-python",
   "name": "python",
   "nbconvert_exporter": "python",
   "pygments_lexer": "ipython3",
   "version": "3.9.20"
  }
 },
 "nbformat": 4,
 "nbformat_minor": 2
}
